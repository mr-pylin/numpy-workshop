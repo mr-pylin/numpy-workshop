{
 "cells": [
  {
   "cell_type": "markdown",
   "metadata": {},
   "source": [
    "📝 **Author:** Amirhossein Heydari - 📧 **Email:** <amirhosseinheydari78@gmail.com> - 📍 **Origin:** [mr-pylin/numpy-workshop](https://github.com/mr-pylin/numpy-workshop)\n",
    "\n",
    "---\n"
   ]
  },
  {
   "cell_type": "markdown",
   "metadata": {},
   "source": [
    "**Table of contents**<a id='toc0_'></a>    \n",
    "- [Dependencies](#toc1_)    \n",
    "- [NumPy - Axes](#toc2_)    \n",
    "  - [1-dimensional array](#toc2_1_)    \n",
    "  - [2-dimensional array](#toc2_2_)    \n",
    "  - [3-dimensional array](#toc2_3_)    \n",
    "  - [4-dimensional array](#toc2_4_)    \n",
    "  - [Operations on different axes](#toc2_5_)    \n",
    "\n",
    "<!-- vscode-jupyter-toc-config\n",
    "\tnumbering=false\n",
    "\tanchor=true\n",
    "\tflat=false\n",
    "\tminLevel=1\n",
    "\tmaxLevel=6\n",
    "\t/vscode-jupyter-toc-config -->\n",
    "<!-- THIS CELL WILL BE REPLACED ON TOC UPDATE. DO NOT WRITE YOUR TEXT IN THIS CELL -->"
   ]
  },
  {
   "cell_type": "markdown",
   "metadata": {},
   "source": [
    "# <a id='toc1_'></a>[Dependencies](#toc0_)\n"
   ]
  },
  {
   "cell_type": "code",
   "execution_count": null,
   "metadata": {},
   "outputs": [],
   "source": [
    "import numpy as np"
   ]
  },
  {
   "cell_type": "markdown",
   "metadata": {},
   "source": [
    "# <a id='toc2_'></a>[NumPy - Axes](#toc0_)\n",
    "\n",
    "- **axes** are a fundamental concept that refers to the dimensions of an array.\n",
    "- Many NumPy functions accept the `axis` parameter to perform operations along a specific axis.\n",
    "- Understanding how axes work is crucial for efficiently manipulating arrays.\n",
    "\n",
    "✍️ **Key Concepts**\n",
    "\n",
    "- 0th axis (`axis=0`): Refers to the **rows** in a 2D array or the **first** dimension in higher-dimensional arrays.\n",
    "- 1st axis (`axis=1`): Refers to the **columns** in a 2D array or the **second** dimension in higher-dimensional arrays.\n",
    "- Higher dimensions: In multi-dimensional arrays (e.g., 3D, 4D), each axis corresponds to a specific dimension. For example, in a 3D array with shape `(3, 4, 5)`:\n",
    "  - Axis 0: has 3 elements (along the first dimension),\n",
    "  - Axis 1: has 4 elements (along the second dimension),\n",
    "  - Axis 2: has 5 elements (along the third dimension).\n",
    "\n",
    "✍️ **axis Parameter**:\n",
    "\n",
    "- Functions like `np.sum()`, `np.mean()`, `np.max()`, and many others have an axis parameter to specify the axis along which to perform the operation.\n",
    "- If `axis=0`: The operation is applied across **rows** (reducing the **first** dimension).\n",
    "- If `axis=1`: The operation is applied across **columns** (reducing the **second** dimension).\n",
    "- If `axis=None`: The operation is applied across **all axes**, effectively reducing the entire array to a single value.\n",
    "\n",
    "📝 Doc:\n",
    "\n",
    "- `axis`: [numpy.org/doc/stable/glossary.html#term-axis](https://numpy.org/doc/stable/glossary.html#term-axis)\n"
   ]
  },
  {
   "cell_type": "markdown",
   "metadata": {},
   "source": [
    "## <a id='toc2_1_'></a>[1-dimensional array](#toc0_)\n"
   ]
  },
  {
   "cell_type": "code",
   "execution_count": null,
   "metadata": {},
   "outputs": [],
   "source": [
    "# The 1st axis has 8 elements\n",
    "arr_1d_1 = np.array([15, 13, 20, 19, 0, 11, 18, 15])\n",
    "\n",
    "# log\n",
    "print(f\"arr_1d_1.shape : {arr_1d_1.shape}\")\n",
    "print(f\"arr_1d_1.ndim  : {arr_1d_1.ndim}\")"
   ]
  },
  {
   "cell_type": "code",
   "execution_count": null,
   "metadata": {},
   "outputs": [],
   "source": [
    "# The 1st axis has 8 elements\n",
    "arr_1d_2 = np.array([15, 13, 20, 19, 0, 11, 18, 15])\n",
    "\n",
    "# log\n",
    "print(f\"arr_1d_2.shape : {arr_1d_2.shape}\")\n",
    "print(f\"arr_1d_2.ndim  : {arr_1d_2.ndim}\")"
   ]
  },
  {
   "cell_type": "markdown",
   "metadata": {},
   "source": [
    "## <a id='toc2_2_'></a>[2-dimensional array](#toc0_)\n"
   ]
  },
  {
   "cell_type": "code",
   "execution_count": null,
   "metadata": {},
   "outputs": [],
   "source": [
    "# The 1st axis has 3 elements\n",
    "# The 2nd axis has 4 elements\n",
    "arr_2d_1 = np.array([[1, 2, 3, 4], [5, 6, 7, 8], [9, 10, 11, 12]])\n",
    "\n",
    "# log\n",
    "print(f\"arr_2d_1.shape : {arr_2d_1.shape}\")\n",
    "print(f\"arr_2d_1.ndim  : {arr_2d_1.ndim}\")"
   ]
  },
  {
   "cell_type": "code",
   "execution_count": null,
   "metadata": {},
   "outputs": [],
   "source": [
    "# The 1st axis has 3 elements\n",
    "# The 2nd axis has 4 elements\n",
    "arr_2d_2 = np.array([[1, 2, 3, 4], [5, 6, 7, 8], [9, 10, 11, 12]])\n",
    "\n",
    "# log\n",
    "print(f\"arr_2d_2.shape : {arr_2d_2.shape}\")\n",
    "print(f\"arr_2d_2.ndim  : {arr_2d_2.ndim}\")"
   ]
  },
  {
   "cell_type": "markdown",
   "metadata": {},
   "source": [
    "## <a id='toc2_3_'></a>[3-dimensional array](#toc0_)\n"
   ]
  },
  {
   "cell_type": "code",
   "execution_count": null,
   "metadata": {},
   "outputs": [],
   "source": [
    "# The 1st axis has 2 elements\n",
    "# The 2nd axis has 2 elements\n",
    "# The 3rd axis has 3 elements\n",
    "arr_3d_1 = np.array([[[255, 129, 255], [249, 230, 115]], [[255, 79, 79], [104, 203, 248]]])\n",
    "\n",
    "# log\n",
    "print(f\"arr_3d_1.shape : {arr_3d_1.shape}\")\n",
    "print(f\"arr_3d_1.ndim  : {arr_3d_1.ndim}\")"
   ]
  },
  {
   "cell_type": "code",
   "execution_count": null,
   "metadata": {},
   "outputs": [],
   "source": [
    "# The 1st axis has 2 elements\n",
    "# The 2nd axis has 2 elements\n",
    "# The 3rd axis has 3 elements\n",
    "arr_3d_2 = np.array([[[255, 129, 255], [249, 230, 115]], [[255, 79, 79], [104, 203, 248]]])\n",
    "\n",
    "# log\n",
    "print(f\"arr_3d_2.shape : {arr_3d_2.shape}\")\n",
    "print(f\"arr_3d_2.ndim  : {arr_3d_2.ndim}\")"
   ]
  },
  {
   "cell_type": "markdown",
   "metadata": {},
   "source": [
    "## <a id='toc2_4_'></a>[4-dimensional array](#toc0_)\n"
   ]
  },
  {
   "cell_type": "code",
   "execution_count": null,
   "metadata": {},
   "outputs": [],
   "source": [
    "# The 1st axis has 2 elements\n",
    "# The 2nd axis has 2 elements\n",
    "# The 3rd axis has 2 elements\n",
    "# The 4th axis has 2 elements\n",
    "arr_4d_1 = np.array([[[[1, 2], [3, 4]], [[5, 6], [7, 8]]], [[[9, 10], [11, 12]], [[13, 14], [15, 16]]]])\n",
    "\n",
    "# log\n",
    "print(f\"arr_4d_1.shape : {arr_4d_1.shape}\")\n",
    "print(f\"arr_4d_1.ndim  : {arr_4d_1.ndim}\")"
   ]
  },
  {
   "cell_type": "code",
   "execution_count": null,
   "metadata": {},
   "outputs": [],
   "source": [
    "# The 1st axis has 2 elements\n",
    "# The 2nd axis has 2 elements\n",
    "# The 3rd axis has 2 elements\n",
    "# The 4th axis has 2 elements\n",
    "arr_4d_2 = np.array([[[[1, 2], [3, 4]], [[5, 6], [7, 8]]], [[[9, 10], [11, 12]], [[13, 14], [15, 16]]]])\n",
    "\n",
    "# log\n",
    "print(f\"arr_4d_2.shape : {arr_4d_2.shape}\")\n",
    "print(f\"arr_4d_2.ndim  : {arr_4d_2.ndim}\")"
   ]
  },
  {
   "cell_type": "markdown",
   "metadata": {},
   "source": [
    "## <a id='toc2_5_'></a>[Operations on different axes](#toc0_)\n"
   ]
  },
  {
   "cell_type": "code",
   "execution_count": null,
   "metadata": {},
   "outputs": [],
   "source": [
    "arr_3d_3 = np.array([[[255, 129, 255], [249, 230, 115]], [[255, 79, 79], [104, 203, 248]]])\n",
    "\n",
    "# np.array(\n",
    "#     [\n",
    "#         [\n",
    "#             [255, 129, 255],\n",
    "#             [249, 230, 115]\n",
    "#         ],\n",
    "#         [\n",
    "#             [255, 79, 79],\n",
    "#             [104, 203, 248]\n",
    "#         ]\n",
    "#     ]\n",
    "# )\n",
    "\n",
    "# sum\n",
    "sres_1 = arr_3d_3.sum()  # arr_3d_3.sum(axis=None)\n",
    "sres_2 = arr_3d_3.sum(axis=0)\n",
    "sres_3 = arr_3d_3.sum(axis=1)\n",
    "sres_4 = arr_3d_3.sum(axis=2)\n",
    "\n",
    "# log\n",
    "print(f\"arr_3d_3.sum():\\n{sres_1}\", end=f\"\\n{'-' * 50}\\n\")\n",
    "print(f\"arr_3d_3.sum(axis=0):\\n{sres_2}\", end=f\"\\n{'-' * 50}\\n\")\n",
    "print(f\"arr_3d_3.sum(axis=1):\\n{sres_3}\", end=f\"\\n{'-' * 50}\\n\")\n",
    "print(f\"arr_3d_3.sum(axis=2):\\n{sres_4}\")"
   ]
  }
 ],
 "metadata": {
  "author_email": "AmirhosseinHeydari78@gmail.com",
  "author_github": "https://github.com/mr-pylin",
  "author_name": "Amirhossein Heydari",
  "kernelspec": {
   "display_name": "numpy-workshop (3.13.7)",
   "language": "python",
   "name": "python3"
  },
  "language_info": {
   "codemirror_mode": {
    "name": "ipython",
    "version": 3
   },
   "file_extension": ".py",
   "mimetype": "text/x-python",
   "name": "python",
   "nbconvert_exporter": "python",
   "pygments_lexer": "ipython3",
   "version": "3.13.7"
  },
  "origin_repo": "https://github.com/mr-pylin/numpy-workshop"
 },
 "nbformat": 4,
 "nbformat_minor": 2
}