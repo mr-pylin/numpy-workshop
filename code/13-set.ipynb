{
 "cells": [
  {
   "cell_type": "markdown",
   "metadata": {},
   "source": [
    "📝 **Author:** Amirhossein Heydari - 📧 **Email:** <amirhosseinheydari78@gmail.com> - 📍 **Origin:** [mr-pylin/numpy-workshop](https://github.com/mr-pylin/numpy-workshop)\n",
    "\n",
    "---\n"
   ]
  },
  {
   "cell_type": "markdown",
   "metadata": {},
   "source": [
    "**Table of contents**<a id='toc0_'></a>    \n",
    "- [Dependencies](#toc1_)    \n",
    "- [NumPy - Set](#toc2_)    \n",
    "  - [Making proper sets](#toc2_1_)    \n",
    "  - [Boolean operations](#toc2_2_)    \n",
    "\n",
    "<!-- vscode-jupyter-toc-config\n",
    "\tnumbering=false\n",
    "\tanchor=true\n",
    "\tflat=false\n",
    "\tminLevel=1\n",
    "\tmaxLevel=6\n",
    "\t/vscode-jupyter-toc-config -->\n",
    "<!-- THIS CELL WILL BE REPLACED ON TOC UPDATE. DO NOT WRITE YOUR TEXT IN THIS CELL -->"
   ]
  },
  {
   "cell_type": "markdown",
   "metadata": {},
   "source": [
    "# <a id='toc1_'></a>[Dependencies](#toc0_)\n"
   ]
  },
  {
   "cell_type": "code",
   "execution_count": null,
   "metadata": {},
   "outputs": [],
   "source": [
    "import numpy as np"
   ]
  },
  {
   "cell_type": "code",
   "execution_count": null,
   "metadata": {},
   "outputs": [],
   "source": [
    "rng = np.random.default_rng(seed=42)"
   ]
  },
  {
   "cell_type": "markdown",
   "metadata": {},
   "source": [
    "# <a id='toc2_'></a>[NumPy - Set](#toc0_)\n",
    "\n",
    "📝 Doc:\n",
    "\n",
    "- Set routines: [numpy.org/doc/stable/reference/routines.set.html](https://numpy.org/doc/stable/reference/routines.set.html)\n"
   ]
  },
  {
   "cell_type": "markdown",
   "metadata": {},
   "source": [
    "## <a id='toc2_1_'></a>[Making proper sets](#toc0_)\n",
    "\n",
    "<table style=\"margin: 0 auto;\">\n",
    "  <thead>\n",
    "    <tr>\n",
    "      <th style=\"text-align: center;\">Function</th>\n",
    "      <th style=\"text-align: center;\">Description</th>\n",
    "      <th style=\"text-align: center;\">Details</th>\n",
    "    </tr>\n",
    "  </thead>\n",
    "  <tbody>\n",
    "    <tr>\n",
    "      <td><code>np.unique</code></td>\n",
    "      <td>Find the unique elements of an array</td>\n",
    "      <td style=\"text-align: center;\"><a href=\"https://numpy.org/doc/stable/reference/generated/numpy.unique.html\">link</a></td>\n",
    "    </tr>\n",
    "    <tr>\n",
    "      <td><code>np.unique_all</code></td>\n",
    "      <td>Find the unique elements of an array, and counts, inverse and indices</td>\n",
    "      <td style=\"text-align: center;\"><a href=\"https://numpy.org/doc/stable/reference/generated/numpy.unique_all.html\">link</a></td>\n",
    "    </tr>\n",
    "    <tr>\n",
    "      <td><code>np.unique_counts</code></td>\n",
    "      <td>Find the unique elements and counts of an input array <em>x</em></td>\n",
    "      <td style=\"text-align: center;\"><a href=\"https://numpy.org/doc/stable/reference/generated/numpy.unique_counts.html\">link</a></td>\n",
    "    </tr>\n",
    "    <tr>\n",
    "      <td><code>np.unique_inverse</code></td>\n",
    "      <td>Find the unique elements of <em>x</em> and indices to reconstruct <em>x</em></td>\n",
    "      <td style=\"text-align: center;\"><a href=\"https://numpy.org/doc/stable/reference/generated/numpy.unique_inverse.html\">link</a></td>\n",
    "    </tr>\n",
    "    <tr>\n",
    "      <td><code>np.unique_values</code></td>\n",
    "      <td>Returns the unique elements of an input array <em>x</em></td>\n",
    "      <td style=\"text-align: center;\"><a href=\"https://numpy.org/doc/stable/reference/generated/numpy.unique_values.html\">link</a></td>\n",
    "    </tr>\n",
    "  </tbody>\n",
    "</table>\n"
   ]
  },
  {
   "cell_type": "code",
   "execution_count": null,
   "metadata": {},
   "outputs": [],
   "source": [
    "arr_1d_1 = rng.integers(low=3, high=6, size=10)\n",
    "\n",
    "# unique\n",
    "unique_1 = np.unique(arr_1d_1)\n",
    "unique_2 = np.unique(arr_1d_1, return_index=True)\n",
    "unique_3 = np.unique(arr_1d_1, return_inverse=True)\n",
    "unique_4 = np.unique(arr_1d_1, return_counts=True)\n",
    "\n",
    "# log\n",
    "print(f\"arr_1d_1: {arr_1d_1}\")\n",
    "print(\"-\" * 50)\n",
    "print(f\"unique_1: {unique_1}\")\n",
    "print(f\"unique_2: {unique_2}\")\n",
    "print(f\"unique_3: {unique_3}\")\n",
    "print(f\"unique_4: {unique_4}\")"
   ]
  },
  {
   "cell_type": "code",
   "execution_count": null,
   "metadata": {},
   "outputs": [],
   "source": [
    "arr_1d_2 = rng.integers(low=3, high=6, size=10)\n",
    "\n",
    "# unique_counts [new in v2.0]\n",
    "unique_counts_1 = np.unique_counts(arr_1d_1)\n",
    "\n",
    "# unique_inverse [new in v2.0]\n",
    "unique_inverse_1 = np.unique_inverse(arr_1d_1)\n",
    "\n",
    "# unique_values [new in v2.0]\n",
    "unique_values_1 = np.unique_values(arr_1d_1)\n",
    "\n",
    "# unique_all [new in v2.0]\n",
    "unique_all_1 = np.unique_all(arr_1d_1)\n",
    "\n",
    "# log\n",
    "print(f\"arr_1d_1: {arr_1d_1}\")\n",
    "print(\"-\" * 50)\n",
    "print(f\"unique_counts_1  : {unique_counts_1}\")\n",
    "print(f\"unique_inverse_1 : {unique_inverse_1}\")\n",
    "print(f\"unique_values_1  : {unique_values_1}\")\n",
    "print(f\"unique_all_1     : {unique_all_1}\")"
   ]
  },
  {
   "cell_type": "markdown",
   "metadata": {},
   "source": [
    "## <a id='toc2_2_'></a>[Boolean operations](#toc0_)\n",
    "\n",
    "<table style=\"margin: 0 auto;\">\n",
    "  <thead>\n",
    "    <tr>\n",
    "      <th style=\"text-align: center;\">Function</th>\n",
    "      <th style=\"text-align: center;\">Description</th>\n",
    "      <th style=\"text-align: center;\">Details</th>\n",
    "    </tr>\n",
    "  </thead>\n",
    "  <tbody>\n",
    "    <tr>\n",
    "      <td><code>np.intersect1d</code></td>\n",
    "      <td>Find the intersection of two arrays</td>\n",
    "      <td style=\"text-align: center;\"><a href=\"https://numpy.org/doc/stable/reference/generated/numpy.intersect1d.html\">link</a></td>\n",
    "    </tr>\n",
    "    <tr>\n",
    "      <td><code>np.isin</code></td>\n",
    "      <td>Calculates <code>element in test_elements</code>, broadcasting over element only</td>\n",
    "      <td style=\"text-align: center;\"><a href=\"https://numpy.org/doc/stable/reference/generated/numpy.isin.html\">link</a></td>\n",
    "    </tr>\n",
    "    <tr>\n",
    "      <td><code>np.setdiff1d</code></td>\n",
    "      <td>Find the set difference of two arrays.</td>\n",
    "      <td style=\"text-align: center;\"><a href=\"https://numpy.org/doc/stable/reference/generated/numpy.setdiff1d.html\">link</a></td>\n",
    "    </tr>\n",
    "    <tr>\n",
    "      <td><code>np.setxor1d</code></td>\n",
    "      <td>Find the set exclusive-or of two arrays</td>\n",
    "      <td style=\"text-align: center;\"><a href=\"https://numpy.org/doc/stable/reference/generated/numpy.setxor1d.html\">link</a></td>\n",
    "    </tr>\n",
    "    <tr>\n",
    "      <td><code>np.union1d</code></td>\n",
    "      <td>Find the union of two arrays</td>\n",
    "      <td style=\"text-align: center;\"><a href=\"https://numpy.org/doc/stable/reference/generated/numpy.union1d.html\">link</a></td>\n",
    "    </tr>\n",
    "  </tbody>\n",
    "</table>\n"
   ]
  },
  {
   "cell_type": "code",
   "execution_count": null,
   "metadata": {},
   "outputs": [],
   "source": [
    "arr_1d_3 = np.array([1, 6, 3, 2, 1, 1])\n",
    "arr_1d_4 = np.array([4, 5, 2, 1, 6, 1])\n",
    "\n",
    "# isin [np.in1d is deprecated]\n",
    "isin_1 = np.isin(arr_1d_3, arr_1d_4)\n",
    "isin_2 = np.isin(arr_1d_4, arr_1d_3)\n",
    "\n",
    "# intersect1d\n",
    "intersect1d_1 = np.intersect1d(arr_1d_3, arr_1d_4)\n",
    "\n",
    "# setdiff1d\n",
    "setdiff1d_1 = np.setdiff1d(arr_1d_3, arr_1d_4)\n",
    "\n",
    "# setxor1d\n",
    "setxor1d_1 = np.setxor1d(arr_1d_3, arr_1d_4)\n",
    "\n",
    "# union1d\n",
    "union1d_1 = np.union1d(arr_1d_3, arr_1d_4)\n",
    "\n",
    "# log\n",
    "print(f\"isin_1        : {isin_1}\")\n",
    "print(f\"isin_2        : {isin_2}\")\n",
    "print(f\"intersect1d_1 : {intersect1d_1}\")\n",
    "print(f\"setdiff1d_1   : {setdiff1d_1}\")\n",
    "print(f\"setxor1d_1    : {setxor1d_1}\")\n",
    "print(f\"union1d_1     : {union1d_1    }\")"
   ]
  }
 ],
 "metadata": {
  "author_email": "AmirhosseinHeydari78@gmail.com",
  "author_github": "https://github.com/mr-pylin",
  "author_name": "Amirhossein Heydari",
  "kernelspec": {
   "display_name": "numpy-workshop (3.13.7)",
   "language": "python",
   "name": "python3"
  },
  "language_info": {
   "codemirror_mode": {
    "name": "ipython",
    "version": 3
   },
   "file_extension": ".py",
   "mimetype": "text/x-python",
   "name": "python",
   "nbconvert_exporter": "python",
   "pygments_lexer": "ipython3",
   "version": "3.13.7"
  },
  "origin_repo": "https://github.com/mr-pylin/numpy-workshop"
 },
 "nbformat": 4,
 "nbformat_minor": 2
}