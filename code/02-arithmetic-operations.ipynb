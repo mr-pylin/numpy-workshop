{
 "cells": [
  {
   "cell_type": "markdown",
   "metadata": {},
   "source": [
    "📝 **Author:** Amirhossein Heydari - 📧 **Email:** <amirhosseinheydari78@gmail.com> - 📍 **Origin:** [mr-pylin/numpy-workshop](https://github.com/mr-pylin/numpy-workshop)\n",
    "\n",
    "---\n"
   ]
  },
  {
   "cell_type": "markdown",
   "metadata": {},
   "source": [
    "**Table of contents**<a id='toc0_'></a>    \n",
    "- [Dependencies](#toc1_)    \n",
    "- [NumPy - Arithmetic Operations](#toc2_)    \n",
    "  - [Array & Scalar](#toc2_1_)    \n",
    "  - [Array & Array](#toc2_2_)    \n",
    "  - [Broadcasting](#toc2_3_)    \n",
    "\n",
    "<!-- vscode-jupyter-toc-config\n",
    "\tnumbering=false\n",
    "\tanchor=true\n",
    "\tflat=false\n",
    "\tminLevel=1\n",
    "\tmaxLevel=6\n",
    "\t/vscode-jupyter-toc-config -->\n",
    "<!-- THIS CELL WILL BE REPLACED ON TOC UPDATE. DO NOT WRITE YOUR TEXT IN THIS CELL -->"
   ]
  },
  {
   "cell_type": "markdown",
   "metadata": {},
   "source": [
    "# <a id='toc1_'></a>[Dependencies](#toc0_)\n"
   ]
  },
  {
   "cell_type": "code",
   "execution_count": null,
   "metadata": {},
   "outputs": [],
   "source": [
    "import numpy as np"
   ]
  },
  {
   "cell_type": "markdown",
   "metadata": {},
   "source": [
    "# <a id='toc2_'></a>[NumPy - Arithmetic Operations](#toc0_)\n",
    "\n",
    "- **Scalar and Array Operations**:\n",
    "  - Demonstrates adding, subtracting, multiplying, dividing, and performing other arithmetic operations between a NumPy array and a scalar.\n",
    "- **Array-to-Array Operations**:\n",
    "  - Explores <u>element-wise</u> arithmetic operations between arrays of compatible shapes.\n",
    "- **Broadcasting**:\n",
    "  - Explains how smaller arrays can be “broadcasted” to perform operations with larger arrays by aligning shapes.\n",
    "\n",
    "📝 Docs:\n",
    "\n",
    "- Arithmetic operations: [numpy.org/doc/stable/reference/routines.math.html#arithmetic-operations](https://numpy.org/doc/stable/reference/routines.math.html#arithmetic-operations)\n",
    "- Broadcasting: [numpy.org/doc/stable/user/basics.broadcasting.html](https://numpy.org/doc/stable/user/basics.broadcasting.html)\n"
   ]
  },
  {
   "cell_type": "markdown",
   "metadata": {},
   "source": [
    "## <a id='toc2_1_'></a>[Array & Scalar](#toc0_)\n"
   ]
  },
  {
   "cell_type": "code",
   "execution_count": null,
   "metadata": {},
   "outputs": [],
   "source": [
    "arr_1d_1 = np.array([1, 2, 3, 4])\n",
    "\n",
    "aso_1 = arr_1d_1 + 2  # np.add\n",
    "aso_2 = arr_1d_1 - 1  # np.subtract\n",
    "aso_3 = arr_1d_1 * 2  # np.multiply\n",
    "aso_4 = arr_1d_1 / 2  # np.divide\n",
    "aso_5 = arr_1d_1 // 2  # np.floor_divide\n",
    "aso_6 = arr_1d_1**2  # np.power\n",
    "aso_7 = arr_1d_1 % 2  # np.mod | np.remainder\n",
    "\n",
    "# log\n",
    "for i in range(1, 8):\n",
    "    print(f\"aso_{i} : {eval(f'aso_{i}')}\", end=\"\\n\")"
   ]
  },
  {
   "cell_type": "code",
   "execution_count": null,
   "metadata": {},
   "outputs": [],
   "source": [
    "arr_2d_1 = np.array([[1, 2], [3, 4]])\n",
    "\n",
    "aso_8 = arr_2d_1 + 2\n",
    "aso_9 = arr_2d_1 - 1\n",
    "aso_10 = arr_2d_1 * 2\n",
    "aso_11 = arr_2d_1 / 2\n",
    "aso_12 = arr_2d_1 // 2\n",
    "aso_13 = arr_2d_1**2\n",
    "aso_14 = arr_2d_1 % 2\n",
    "\n",
    "# log\n",
    "for i in range(8, 15):\n",
    "    print(f\"aso_{i} :\\n{eval(f'aso_{i}')}\", end=f\"\\n{'-' * 50}\\n\")"
   ]
  },
  {
   "cell_type": "markdown",
   "metadata": {},
   "source": [
    "## <a id='toc2_2_'></a>[Array & Array](#toc0_)\n"
   ]
  },
  {
   "cell_type": "code",
   "execution_count": null,
   "metadata": {},
   "outputs": [],
   "source": [
    "arr_1d_2 = np.array([1, 2, 3, 4])\n",
    "arr_1d_3 = np.array([4, 1, 2, 3])\n",
    "\n",
    "aao_1 = arr_1d_2 + arr_1d_3\n",
    "aao_2 = arr_1d_2 - arr_1d_3\n",
    "aao_3 = arr_1d_2 * arr_1d_3\n",
    "aao_4 = arr_1d_2 / arr_1d_3\n",
    "aao_5 = arr_1d_2 // arr_1d_3\n",
    "aao_6 = arr_1d_2**arr_1d_3\n",
    "aao_7 = arr_1d_2 % arr_1d_3\n",
    "\n",
    "# log\n",
    "for i in range(1, 8):\n",
    "    print(f\"aao_{i} : {eval(f'aao_{i}')}\", end=\"\\n\")"
   ]
  },
  {
   "cell_type": "code",
   "execution_count": null,
   "metadata": {},
   "outputs": [],
   "source": [
    "arr_2d_2 = np.array([[1, 2], [3, 4]])\n",
    "arr_2d_3 = np.array([[2, 2], [3, 3]])\n",
    "\n",
    "aao_8 = arr_2d_2 + arr_2d_3\n",
    "aao_9 = arr_2d_2 - arr_2d_3\n",
    "aao_10 = arr_2d_2 * arr_2d_3\n",
    "aao_11 = arr_2d_2 / arr_2d_3\n",
    "aao_12 = arr_2d_2 // arr_2d_3\n",
    "aao_13 = arr_2d_2**arr_2d_3\n",
    "aao_14 = arr_2d_2 % arr_2d_3\n",
    "\n",
    "# log\n",
    "for i in range(8, 15):\n",
    "    print(f\"aao_{i} :\\n{eval(f'aao_{i}')}\", end=\"\\n\\n\")"
   ]
  },
  {
   "cell_type": "markdown",
   "metadata": {},
   "source": [
    "## <a id='toc2_3_'></a>[Broadcasting](#toc0_)\n",
    "\n",
    "- It allows arrays of different shapes to be used together in different operations.\n",
    "- The **smaller** array is “broadcasted” across the **larger** array so that they have compatible shapes.\n"
   ]
  },
  {
   "cell_type": "code",
   "execution_count": null,
   "metadata": {},
   "outputs": [],
   "source": [
    "arr_1d_4 = np.array([1, 2, 3, 4, 5])\n",
    "scalar_1 = 2\n",
    "\n",
    "# scalar_1 will be broadcasted to shape (5,) to match with arr_1d_4\n",
    "result_1 = arr_1d_4 + scalar_1\n",
    "\n",
    "# log\n",
    "print(f\"result_1 : {result_1}\")"
   ]
  },
  {
   "cell_type": "code",
   "execution_count": null,
   "metadata": {},
   "outputs": [],
   "source": [
    "arr_2d_4 = np.array([[1, 2, 3], [4, 5, 6]])  # shape: (2, 3)\n",
    "arr_2d_5 = np.array([[4], [1]])  # shape: (2, 1)\n",
    "\n",
    "# arr_2d_5 will be broadcasted to shape (2, 3) to match with arr_2d_4\n",
    "result_2 = arr_2d_4 + arr_2d_5\n",
    "\n",
    "# log\n",
    "print(f\"result_2:\\n{result_2}\")"
   ]
  }
 ],
 "metadata": {
  "author_email": "AmirhosseinHeydari78@gmail.com",
  "author_github": "https://github.com/mr-pylin",
  "author_name": "Amirhossein Heydari",
  "kernelspec": {
   "display_name": "numpy-workshop-0psJcWas-py3.12",
   "language": "python",
   "name": "python3"
  },
  "language_info": {
   "codemirror_mode": {
    "name": "ipython",
    "version": 3
   },
   "file_extension": ".py",
   "mimetype": "text/x-python",
   "name": "python",
   "nbconvert_exporter": "python",
   "pygments_lexer": "ipython3",
   "version": "3.12.8"
  },
  "origin_repo": "https://github.com/mr-pylin/numpy-workshop"
 },
 "nbformat": 4,
 "nbformat_minor": 2
}
