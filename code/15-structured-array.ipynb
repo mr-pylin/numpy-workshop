{
 "cells": [
  {
   "cell_type": "markdown",
   "metadata": {},
   "source": [
    "📝 **Author:** Amirhossein Heydari - 📧 **Email:** <amirhosseinheydari78@gmail.com> - 📍 **Origin:** [mr-pylin/numpy-workshop](https://github.com/mr-pylin/numpy-workshop)\n",
    "\n",
    "---\n"
   ]
  },
  {
   "cell_type": "markdown",
   "metadata": {},
   "source": [
    "**Table of contents**<a id='toc0_'></a>    \n",
    "- [Dependencies](#toc1_)    \n",
    "- [NumPy - Structured Array](#toc2_)    \n",
    "  - [Creating Structured Arrays](#toc2_1_)    \n",
    "  - [Accessing Data](#toc2_2_)    \n",
    "  - [Filtering Structured Arrays](#toc2_3_)    \n",
    "  - [Modifying Structured Arrays](#toc2_4_)    \n",
    "  - [Combining Structured Arrays](#toc2_5_)    \n",
    "  - [Using Structured Arrays with NumPy Functions](#toc2_6_)    \n",
    "\n",
    "<!-- vscode-jupyter-toc-config\n",
    "\tnumbering=false\n",
    "\tanchor=true\n",
    "\tflat=false\n",
    "\tminLevel=1\n",
    "\tmaxLevel=6\n",
    "\t/vscode-jupyter-toc-config -->\n",
    "<!-- THIS CELL WILL BE REPLACED ON TOC UPDATE. DO NOT WRITE YOUR TEXT IN THIS CELL -->"
   ]
  },
  {
   "cell_type": "markdown",
   "metadata": {},
   "source": [
    "# <a id='toc1_'></a>[Dependencies](#toc0_)\n"
   ]
  },
  {
   "cell_type": "code",
   "execution_count": 1,
   "metadata": {},
   "outputs": [],
   "source": [
    "import numpy as np"
   ]
  },
  {
   "cell_type": "markdown",
   "metadata": {},
   "source": [
    "# <a id='toc2_'></a>[NumPy - Structured Array](#toc0_)\n",
    "\n",
    "📝 Doc:\n",
    "\n",
    "- Structured arrays: [numpy.org/doc/stable/user/basics.rec.html](https://numpy.org/doc/stable/user/basics.rec.html)\n"
   ]
  },
  {
   "cell_type": "markdown",
   "metadata": {},
   "source": [
    "## <a id='toc2_1_'></a>[Creating Structured Arrays](#toc0_)\n",
    "\n",
    "Data Types:\n",
    "<table style=\"width: 48%; float: left; margin-right: 2%;\">\n",
    "  <tr>\n",
    "    <th style=\"width: 15%;\">Code</th>\n",
    "    <th style=\"width: 60%;\">Description</th>\n",
    "    <th style=\"width: 25%;\">Size (Bytes)</th>\n",
    "  </tr>\n",
    "  <tr>\n",
    "    <td>b</td>\n",
    "    <td>Boolean</td>\n",
    "    <td>1</td>\n",
    "  </tr>\n",
    "  <tr>\n",
    "    <td>i1</td>\n",
    "    <td>Integer</td>\n",
    "    <td>1</td>\n",
    "  </tr>\n",
    "  <tr>\n",
    "    <td>i2</td>\n",
    "    <td>Integer</td>\n",
    "    <td>2</td>\n",
    "  </tr>\n",
    "  <tr>\n",
    "    <td>i4</td>\n",
    "    <td>Integer</td>\n",
    "    <td>4</td>\n",
    "  </tr>\n",
    "  <tr>\n",
    "    <td>i8</td>\n",
    "    <td>Integer</td>\n",
    "    <td>8</td>\n",
    "  </tr>\n",
    "  <tr>\n",
    "    <td>u1</td>\n",
    "    <td>Unsigned Integer</td>\n",
    "    <td>1</td>\n",
    "  </tr>\n",
    "  <tr>\n",
    "    <td>u2</td>\n",
    "    <td>Unsigned Integer</td>\n",
    "    <td>2</td>\n",
    "  </tr>\n",
    "  <tr>\n",
    "    <td>u4</td>\n",
    "    <td>Unsigned Integer</td>\n",
    "    <td>4</td>\n",
    "  </tr>\n",
    "  <tr>\n",
    "    <td>u8</td>\n",
    "    <td>Unsigned Integer</td>\n",
    "    <td>8</td>\n",
    "  </tr>\n",
    "</table>\n",
    "\n",
    "<table style=\"width: 48%; float: left;\">\n",
    "  <tr>\n",
    "    <th style=\"width: 15%;\">Code</th>\n",
    "    <th style=\"width: 60%;\">Description</th>\n",
    "    <th style=\"width: 25%;\">Size (Bytes)</th>\n",
    "  </tr>\n",
    "  <tr>\n",
    "    <td>f4</td>\n",
    "    <td>Floating-Point</td>\n",
    "    <td>4</td>\n",
    "  </tr>\n",
    "  <tr>\n",
    "    <td>f8</td>\n",
    "    <td>Floating-Point</td>\n",
    "    <td>8</td>\n",
    "  </tr>\n",
    "  <tr>\n",
    "    <td>c8</td>\n",
    "    <td>Complex Floating-Point</td>\n",
    "    <td>8</td>\n",
    "  </tr>\n",
    "  <tr>\n",
    "    <td>c16</td>\n",
    "    <td>Complex Floating-Point</td>\n",
    "    <td>16</td>\n",
    "  </tr>\n",
    "  <tr>\n",
    "    <td>S</td>\n",
    "    <td>String (fixed-length)</td>\n",
    "    <td>n</td>\n",
    "  </tr>\n",
    "  <tr>\n",
    "    <td>U</td>\n",
    "    <td>Unicode String (fixed-length)</td>\n",
    "    <td>4 * n</td>\n",
    "  </tr>\n",
    "  <tr>\n",
    "    <td>O</td>\n",
    "    <td>Object (Python objects)</td>\n",
    "    <td>Variable</td>\n",
    "  </tr>\n",
    "  <tr>\n",
    "    <td>M</td>\n",
    "    <td>Date-time</td>\n",
    "    <td>8</td>\n",
    "  </tr>\n",
    "  <tr>\n",
    "    <td>m</td>\n",
    "    <td>Time delta</td>\n",
    "    <td>8</td>\n",
    "  </tr>\n",
    "</table>\n"
   ]
  },
  {
   "cell_type": "code",
   "execution_count": 2,
   "metadata": {},
   "outputs": [
    {
     "name": "stdout",
     "output_type": "stream",
     "text": [
      "sa_1          : [('Alice', 30) ('Bob', 25)]\n",
      "type(sa_1)    : <class 'numpy.ndarray'>\n",
      "sa_1.dtype    : [('name', '<U10'), ('age', '<i4')]\n",
      "sa_1.shape    : (2,)\n",
      "sa_1.ndim     : 1\n",
      "sa_1.nbytes   : 88\n",
      "sa_1.size     : 2\n",
      "sa_1.tolist() : [('Alice', 30), ('Bob', 25)]\n"
     ]
    }
   ],
   "source": [
    "sa_1 = np.array([(\"Alice\", 30), (\"Bob\", 25)], dtype=[(\"name\", \"U10\"), (\"age\", \"i4\")])\n",
    "\n",
    "# log\n",
    "print(f\"sa_1          : {sa_1}\")\n",
    "print(f\"type(sa_1)    : {type(sa_1)}\")\n",
    "print(f\"sa_1.dtype    : {sa_1.dtype}\")\n",
    "print(f\"sa_1.shape    : {sa_1.shape}\")\n",
    "print(f\"sa_1.ndim     : {sa_1.ndim}\")\n",
    "print(f\"sa_1.nbytes   : {sa_1.nbytes}\")\n",
    "print(f\"sa_1.size     : {sa_1.size}\")\n",
    "print(f\"sa_1.tolist() : {sa_1.tolist()}\")"
   ]
  },
  {
   "cell_type": "code",
   "execution_count": 3,
   "metadata": {},
   "outputs": [
    {
     "name": "stdout",
     "output_type": "stream",
     "text": [
      "sa_2 : [('Alice', 30) ('Bob', 25)]\n",
      "sa_3 : [('Alice', 30) ('Bob', 25)]\n",
      "sa_4 : [('Alice', 30) ('Bob', 25)]\n"
     ]
    }
   ],
   "source": [
    "# several dtypes to be considered\n",
    "dtype_1 = [(\"name\", \"U10\"), (\"age\", \"i4\")]\n",
    "sa_2 = np.array([(\"Alice\", 30), (\"Bob\", 25)], dtype=dtype_1)\n",
    "\n",
    "dtype_2 = \"U10,i4\"  # default fields are [f0, f1, ...]\n",
    "sa_3 = np.array([(\"Alice\", 30), (\"Bob\", 25)], dtype=dtype_2)\n",
    "\n",
    "\n",
    "dtype_3 = {\"names\": [\"name\", \"age\"], \"formats\": [\"U10\", \"i4\"]}\n",
    "sa_4 = np.array([(\"Alice\", 30), (\"Bob\", 25)], dtype=dtype_3)\n",
    "\n",
    "# log\n",
    "print(f\"sa_2 : {sa_2}\")\n",
    "print(f\"sa_3 : {sa_3}\")\n",
    "print(f\"sa_4 : {sa_4}\")"
   ]
  },
  {
   "cell_type": "markdown",
   "metadata": {},
   "source": [
    "## <a id='toc2_2_'></a>[Accessing Data](#toc0_)\n"
   ]
  },
  {
   "cell_type": "code",
   "execution_count": 4,
   "metadata": {},
   "outputs": [],
   "source": [
    "sa_5 = np.array([(\"Alice\", 30), (\"Bob\", 25)], dtype=[(\"name\", \"U10\"), (\"age\", \"i4\")])"
   ]
  },
  {
   "cell_type": "code",
   "execution_count": 5,
   "metadata": {},
   "outputs": [
    {
     "name": "stdout",
     "output_type": "stream",
     "text": [
      "index_1: ('Alice', 30)\n",
      "index_2: ('Bob', 25)\n"
     ]
    }
   ],
   "source": [
    "# index\n",
    "index_1 = sa_5[0]\n",
    "index_2 = sa_5[1]\n",
    "\n",
    "# log\n",
    "print(f\"index_1: {index_1}\")\n",
    "print(f\"index_2: {index_2}\")"
   ]
  },
  {
   "cell_type": "code",
   "execution_count": 6,
   "metadata": {},
   "outputs": [
    {
     "name": "stdout",
     "output_type": "stream",
     "text": [
      "field_1: ['Alice' 'Bob']\n",
      "field_2: [30 25]\n"
     ]
    }
   ],
   "source": [
    "# fields\n",
    "field_1 = sa_5[\"name\"]\n",
    "field_2 = sa_5[\"age\"]\n",
    "\n",
    "# log\n",
    "print(f\"field_1: {field_1}\")\n",
    "print(f\"field_2: {field_2}\")"
   ]
  },
  {
   "cell_type": "markdown",
   "metadata": {},
   "source": [
    "## <a id='toc2_3_'></a>[Filtering Structured Arrays](#toc0_)\n"
   ]
  },
  {
   "cell_type": "code",
   "execution_count": 7,
   "metadata": {},
   "outputs": [
    {
     "name": "stdout",
     "output_type": "stream",
     "text": [
      "sa_7: [('Charlie', 35)]\n"
     ]
    }
   ],
   "source": [
    "sa_6 = np.array([(\"Alice\", 30), (\"Bob\", 25), (\"Charlie\", 35)], dtype=[(\"name\", \"U10\"), (\"age\", \"i4\")])\n",
    "\n",
    "# filter\n",
    "sa_7 = sa_6[sa_6[\"age\"] > 30]\n",
    "\n",
    "# log\n",
    "print(f\"sa_7: {sa_7}\")"
   ]
  },
  {
   "cell_type": "markdown",
   "metadata": {},
   "source": [
    "## <a id='toc2_4_'></a>[Modifying Structured Arrays](#toc0_)\n"
   ]
  },
  {
   "cell_type": "code",
   "execution_count": 8,
   "metadata": {},
   "outputs": [
    {
     "name": "stdout",
     "output_type": "stream",
     "text": [
      "sa_8: [('Alice', 31) ('Sarah', 25)]\n"
     ]
    }
   ],
   "source": [
    "sa_8 = np.array([(\"Alice\", 30), (\"Bob\", 25)], dtype=[(\"name\", \"U10\"), (\"age\", \"i4\")])\n",
    "\n",
    "# modify\n",
    "sa_8[0][\"age\"] = 31\n",
    "sa_8[1][\"name\"] = \"Sarah\"\n",
    "\n",
    "# log\n",
    "print(f\"sa_8: {sa_8}\")"
   ]
  },
  {
   "cell_type": "markdown",
   "metadata": {},
   "source": [
    "## <a id='toc2_5_'></a>[Combining Structured Arrays](#toc0_)\n"
   ]
  },
  {
   "cell_type": "code",
   "execution_count": 9,
   "metadata": {},
   "outputs": [
    {
     "name": "stdout",
     "output_type": "stream",
     "text": [
      "sa_11: [('Alice', 30) ('Bob', 25)]\n"
     ]
    }
   ],
   "source": [
    "dtype = [(\"name\", \"U10\"), (\"age\", \"i4\")]\n",
    "sa_9 = np.array([(\"Alice\", 30)], dtype=dtype)\n",
    "sa_10 = np.array([(\"Bob\", 25)], dtype=dtype)\n",
    "\n",
    "# combine\n",
    "sa_11 = np.concatenate((sa_9, sa_10))\n",
    "\n",
    "# log\n",
    "print(f\"sa_11: {sa_11}\")"
   ]
  },
  {
   "cell_type": "markdown",
   "metadata": {},
   "source": [
    "## <a id='toc2_6_'></a>[Using Structured Arrays with NumPy Functions](#toc0_)\n"
   ]
  },
  {
   "cell_type": "code",
   "execution_count": 10,
   "metadata": {},
   "outputs": [
    {
     "name": "stdout",
     "output_type": "stream",
     "text": [
      "mean_1: 27.5\n",
      "sum_1 : 55\n"
     ]
    }
   ],
   "source": [
    "dtype = [(\"name\", \"U10\"), (\"age\", \"i4\")]\n",
    "sa_12 = np.array([(\"Alice\", 30), (\"Bob\", 25)], dtype=dtype)\n",
    "\n",
    "# numpy functions\n",
    "mean_1 = np.mean(sa_12[\"age\"])\n",
    "sum_1 = np.sum(sa_12[\"age\"])\n",
    "\n",
    "# log\n",
    "print(f\"mean_1: {mean_1}\")\n",
    "print(f\"sum_1 : {sum_1}\")"
   ]
  }
 ],
 "metadata": {
  "author_email": "AmirhosseinHeydari78@gmail.com",
  "author_github": "https://github.com/mr-pylin",
  "author_name": "Amirhossein Heydari",
  "kernelspec": {
   "display_name": "numpy-workshop-0psJcWas-py3.12",
   "language": "python",
   "name": "python3"
  },
  "language_info": {
   "codemirror_mode": {
    "name": "ipython",
    "version": 3
   },
   "file_extension": ".py",
   "mimetype": "text/x-python",
   "name": "python",
   "nbconvert_exporter": "python",
   "pygments_lexer": "ipython3",
   "version": "3.12.8"
  },
  "origin_repo": "https://github.com/mr-pylin/numpy-workshop"
 },
 "nbformat": 4,
 "nbformat_minor": 2
}
