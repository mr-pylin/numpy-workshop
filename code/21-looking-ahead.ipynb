{
 "cells": [
  {
   "cell_type": "markdown",
   "metadata": {},
   "source": [
    "📝 **Author:** Amirhossein Heydari - 📧 **Email:** <amirhosseinheydari78@gmail.com> - 📍 **Origin:** [mr-pylin/numpy-workshop](https://github.com/mr-pylin/numpy-workshop)\n",
    "\n",
    "---\n"
   ]
  },
  {
   "cell_type": "markdown",
   "metadata": {},
   "source": [
    "**Table of contents**<a id='toc0_'></a>    \n",
    "- [Dependencies](#toc1_)    \n",
    "- [Looking ahead](#toc2_)    \n",
    "  - [Pandas](#toc2_1_)    \n",
    "    - [Create a data-frame](#toc2_1_1_)    \n",
    "    - [Reading a csv file](#toc2_1_2_)    \n",
    "    - [DataFrame Operations](#toc2_1_3_)    \n",
    "  - [Matplotlib](#toc2_2_)    \n",
    "    - [Basic Line Plot](#toc2_2_1_)    \n",
    "    - [Bar Chart](#toc2_2_2_)    \n",
    "    - [Scatter Plot](#toc2_2_3_)    \n",
    "    - [Plotting Data from a DataFrame](#toc2_2_4_)    \n",
    "\n",
    "<!-- vscode-jupyter-toc-config\n",
    "\tnumbering=false\n",
    "\tanchor=true\n",
    "\tflat=false\n",
    "\tminLevel=1\n",
    "\tmaxLevel=6\n",
    "\t/vscode-jupyter-toc-config -->\n",
    "<!-- THIS CELL WILL BE REPLACED ON TOC UPDATE. DO NOT WRITE YOUR TEXT IN THIS CELL -->"
   ]
  },
  {
   "cell_type": "markdown",
   "metadata": {},
   "source": [
    "# <a id='toc1_'></a>[Dependencies](#toc0_)\n"
   ]
  },
  {
   "cell_type": "code",
   "execution_count": 1,
   "metadata": {},
   "outputs": [],
   "source": [
    "import numpy as np"
   ]
  },
  {
   "cell_type": "markdown",
   "metadata": {},
   "source": [
    "# <a id='toc2_'></a>[Looking ahead](#toc0_)\n"
   ]
  },
  {
   "cell_type": "markdown",
   "metadata": {},
   "source": [
    "## <a id='toc2_1_'></a>[Pandas](#toc0_)\n",
    "\n",
    "**Key Features:**\n",
    "\n",
    "   1. **DataFrame and Series Structures**\n",
    "      - `DataFrame`: Two-dimensional labeled data structure with columns of potentially different types.\n",
    "      - `Series`: One-dimensional labeled array capable of holding any data type.\n",
    "\n",
    "   2. **Data Manipulation**\n",
    "      - Easy handling of missing data.\n",
    "      - Label-based slicing, indexing, and subsetting of large datasets.\n",
    "\n",
    "   3. **Data Cleaning**\n",
    "      - Handling missing values with functions like `dropna`, `fillna`\n",
    "      - Duplicate removal with `drop_duplicates`\n",
    "      - Data type conversions with `astype`\n",
    "\n",
    "   4. **Data Aggregation and Grouping**\n",
    "      - Grouping data using groupby for split-apply-combine operations.\n",
    "      - Aggregation methods like sum, mean, count, etc.\n",
    "\n",
    "   5. **Merging and Joining**\n",
    "      - Combine datasets using `merge`, `join`, `concat`\n",
    "\n",
    "   6. **Input and Output**\n",
    "      - Reading from and writing to various file formats: CSV, Excel, SQL, JSON, etc.\n",
    "\n",
    "📝 Doc:\n",
    "\n",
    "- pandas documentation: [pandas.pydata.org/docs](https://pandas.pydata.org/docs/)\n"
   ]
  },
  {
   "cell_type": "code",
   "execution_count": 2,
   "metadata": {},
   "outputs": [],
   "source": [
    "import pandas as pd"
   ]
  },
  {
   "cell_type": "markdown",
   "metadata": {},
   "source": [
    "### <a id='toc2_1_1_'></a>[Create a data-frame](#toc0_)\n"
   ]
  },
  {
   "cell_type": "code",
   "execution_count": 3,
   "metadata": {},
   "outputs": [
    {
     "name": "stdout",
     "output_type": "stream",
     "text": [
      "      Name  Age         City\n",
      "0    Alice   25     New York\n",
      "1      Bob   30  Los Angeles\n",
      "2  Charlie   35      Chicago\n",
      "3    David   40      Houston\n"
     ]
    }
   ],
   "source": [
    "data_1 = {\"Name\": [\"Alice\", \"Bob\", \"Charlie\", \"David\"], \"Age\": [25, 30, 35, 40], \"City\": [\"New York\", \"Los Angeles\", \"Chicago\", \"Houston\"]}\n",
    "\n",
    "# data-frame\n",
    "df_1 = pd.DataFrame(data_1)\n",
    "\n",
    "# log\n",
    "print(df_1)"
   ]
  },
  {
   "cell_type": "markdown",
   "metadata": {},
   "source": [
    "### <a id='toc2_1_2_'></a>[Reading a csv file](#toc0_)\n"
   ]
  },
  {
   "cell_type": "code",
   "execution_count": 4,
   "metadata": {},
   "outputs": [
    {
     "name": "stdout",
     "output_type": "stream",
     "text": [
      "    A   B   C\n",
      "0   1   2   3\n",
      "1   4   5   6\n",
      "2   7   8   9\n",
      "3  10  11  12\n"
     ]
    }
   ],
   "source": [
    "df_2 = pd.read_csv(\"../assets/txtfiles/file_1.csv\")\n",
    "\n",
    "# log\n",
    "print(df_2.head())"
   ]
  },
  {
   "cell_type": "markdown",
   "metadata": {},
   "source": [
    "### <a id='toc2_1_3_'></a>[DataFrame Operations](#toc0_)\n"
   ]
  },
  {
   "cell_type": "code",
   "execution_count": 5,
   "metadata": {},
   "outputs": [],
   "source": [
    "data_2 = {\"Name\": [\"Alice\", \"Bob\", \"Charlie\", \"David\"], \"Age\": [25, 30, 35, 40], \"City\": [\"New York\", \"Los Angeles\", \"New York\", \"Houston\"]}\n",
    "\n",
    "# data-frame\n",
    "df_3 = pd.DataFrame(data_2)"
   ]
  },
  {
   "cell_type": "code",
   "execution_count": 6,
   "metadata": {},
   "outputs": [
    {
     "name": "stdout",
     "output_type": "stream",
     "text": [
      "      Name  Age         City\n",
      "1      Bob   30  Los Angeles\n",
      "2  Charlie   35     New York\n",
      "3    David   40      Houston\n"
     ]
    }
   ],
   "source": [
    "# filtering data\n",
    "filter_1 = df_3[df_3[\"Age\"] >= 30]\n",
    "\n",
    "# log\n",
    "print(filter_1)"
   ]
  },
  {
   "cell_type": "code",
   "execution_count": 7,
   "metadata": {},
   "outputs": [
    {
     "name": "stdout",
     "output_type": "stream",
     "text": [
      "City\n",
      "Houston        40.0\n",
      "Los Angeles    30.0\n",
      "New York       30.0\n",
      "Name: Age, dtype: float64\n"
     ]
    }
   ],
   "source": [
    "# grouping data\n",
    "group_1 = df_3.groupby(\"City\")[\"Age\"].mean()\n",
    "\n",
    "# log\n",
    "print(group_1)"
   ]
  },
  {
   "cell_type": "code",
   "execution_count": 8,
   "metadata": {},
   "outputs": [
    {
     "name": "stdout",
     "output_type": "stream",
     "text": [
      "      Name  Age         City  Age in 5 Years\n",
      "0    Alice   25     New York              30\n",
      "1      Bob   30  Los Angeles              35\n",
      "2  Charlie   35     New York              40\n",
      "3    David   40      Houston              45\n"
     ]
    }
   ],
   "source": [
    "# adding a new column\n",
    "df_3[\"Age in 5 Years\"] = df_3[\"Age\"] + 5\n",
    "\n",
    "# log\n",
    "print(df_3)"
   ]
  },
  {
   "cell_type": "markdown",
   "metadata": {},
   "source": [
    "## <a id='toc2_2_'></a>[Matplotlib](#toc0_)\n",
    "\n",
    "**Key Features:**\n",
    "\n",
    "1. **Various Plot Types:**\n",
    "   - Line plots, scatter plots, bar charts, histograms, pie charts, etc.\n",
    "   - Customizable plot types and easy creation of complex visualizations.\n",
    "\n",
    "2. **Customization:**\n",
    "   - Extensive customization options for plots (colors, labels, legends, etc.).\n",
    "   - Control over every aspect of a figure, including lines, markers, fonts, and more.\n",
    "\n",
    "3. **Interactive Plots:**\n",
    "   - Interactive figures with zooming, panning, and updating capabilities.\n",
    "   - Integration with Jupyter Notebooks for interactive data exploration.\n",
    "\n",
    "4. **Subplots:**\n",
    "   - Create multiple plots in a single figure using `subplot` and `subplots`.\n",
    "   - Grid layout management for complex visualizations.\n",
    "\n",
    "5. **Integration with NumPy and Pandas:**\n",
    "   - Direct plotting from NumPy arrays and pandas DataFrames.\n",
    "   - Seamless integration with other scientific libraries like SciPy.\n",
    "\n",
    "6. **Saving Figures:**\n",
    "   - Export plots to various file formats: PNG, PDF, SVG, etc.\n",
    "   - Customization of figure size, resolution, and quality for publication-ready outputs.\n",
    "\n",
    "7. **3D Plotting:**\n",
    "   - Support for 3D plotting using `mpl_toolkits.mplot3d`.\n",
    "   - Creation of 3D line plots, surface plots, and scatter plots.\n",
    "\n",
    "**Doc:**\n",
    "\n",
    "- Matplotlib documentation: [matplotlib.org/stable/index.html](https://matplotlib.org/stable/index.html)\n"
   ]
  },
  {
   "cell_type": "code",
   "execution_count": 9,
   "metadata": {},
   "outputs": [],
   "source": [
    "import matplotlib.pyplot as plt"
   ]
  },
  {
   "cell_type": "markdown",
   "metadata": {},
   "source": [
    "### <a id='toc2_2_1_'></a>[Basic Line Plot](#toc0_)\n"
   ]
  },
  {
   "cell_type": "code",
   "execution_count": null,
   "metadata": {},
   "outputs": [],
   "source": [
    "# sample data\n",
    "x = [0, 1, 2, 3, 4]\n",
    "y = [0, 1, 4, 9, 16]\n",
    "\n",
    "# creating a line plot\n",
    "plt.plot(x, y)\n",
    "plt.xlabel(\"X-axis\")\n",
    "plt.ylabel(\"Y-axis\")\n",
    "plt.title(\"Basic Line Plot\")\n",
    "plt.show()"
   ]
  },
  {
   "cell_type": "markdown",
   "metadata": {},
   "source": [
    "### <a id='toc2_2_2_'></a>[Bar Chart](#toc0_)\n"
   ]
  },
  {
   "cell_type": "code",
   "execution_count": null,
   "metadata": {},
   "outputs": [],
   "source": [
    "# sample data\n",
    "categories = [\"A\", \"B\", \"C\", \"D\"]\n",
    "values = [3, 7, 5, 4]\n",
    "\n",
    "# creating a bar chart\n",
    "plt.bar(categories, values)\n",
    "plt.xlabel(\"Categories\")\n",
    "plt.ylabel(\"Values\")\n",
    "plt.title(\"Bar Chart\")\n",
    "plt.show()"
   ]
  },
  {
   "cell_type": "markdown",
   "metadata": {},
   "source": [
    "### <a id='toc2_2_3_'></a>[Scatter Plot](#toc0_)\n"
   ]
  },
  {
   "cell_type": "code",
   "execution_count": null,
   "metadata": {},
   "outputs": [],
   "source": [
    "# sample data\n",
    "x = np.random.rand(50)\n",
    "y = np.random.rand(50)\n",
    "\n",
    "# creating a scatter plot\n",
    "plt.scatter(x, y)\n",
    "plt.xlabel(\"X-axis\")\n",
    "plt.ylabel(\"Y-axis\")\n",
    "plt.title(\"Scatter Plot\")\n",
    "plt.show()"
   ]
  },
  {
   "cell_type": "markdown",
   "metadata": {},
   "source": [
    "### <a id='toc2_2_4_'></a>[Plotting Data from a DataFrame](#toc0_)\n"
   ]
  },
  {
   "cell_type": "code",
   "execution_count": null,
   "metadata": {},
   "outputs": [],
   "source": [
    "# creating a DataFrame\n",
    "data_3 = {\"Year\": [2010, 2011, 2012, 2013, 2014], \"Sales\": [100, 120, 150, 180, 200]}\n",
    "df_4 = pd.DataFrame(data_3)\n",
    "\n",
    "# plotting data from the DataFrame\n",
    "plt.plot(df_4[\"Year\"], df_4[\"Sales\"])\n",
    "plt.xlabel(\"Year\")\n",
    "plt.ylabel(\"Sales\")\n",
    "plt.title(\"Yearly Sales\")\n",
    "plt.show()"
   ]
  }
 ],
 "metadata": {
  "author_email": "AmirhosseinHeydari78@gmail.com",
  "author_github": "https://github.com/mr-pylin",
  "author_name": "Amirhossein Heydari",
  "kernelspec": {
   "display_name": "numpy-workshop-0psJcWas-py3.12",
   "language": "python",
   "name": "python3"
  },
  "language_info": {
   "codemirror_mode": {
    "name": "ipython",
    "version": 3
   },
   "file_extension": ".py",
   "mimetype": "text/x-python",
   "name": "python",
   "nbconvert_exporter": "python",
   "pygments_lexer": "ipython3",
   "version": "3.12.8"
  },
  "origin_repo": "https://github.com/mr-pylin/numpy-workshop"
 },
 "nbformat": 4,
 "nbformat_minor": 2
}
