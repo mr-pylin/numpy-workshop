{
 "cells": [
  {
   "cell_type": "markdown",
   "metadata": {},
   "source": [
    "📝 **Author:** Amirhossein Heydari - 📧 **Email:** <amirhosseinheydari78@gmail.com> - 📍 **Origin:** [mr-pylin/numpy-workshop](https://github.com/mr-pylin/numpy-workshop)\n",
    "\n",
    "---\n"
   ]
  },
  {
   "cell_type": "markdown",
   "metadata": {},
   "source": [
    "**Table of contents**<a id='toc0_'></a>    \n",
    "- [Dependencies](#toc1_)    \n",
    "- [NumPy Basics](#toc2_)    \n",
    "  - [0D Array (Known as Scalar)](#toc2_1_)    \n",
    "  - [1D Array (Known as Vector)](#toc2_2_)    \n",
    "  - [2D Array (known as Matrix)](#toc2_3_)    \n",
    "  - [3D Array](#toc2_4_)    \n",
    "  - [4D Array](#toc2_5_)    \n",
    "\n",
    "<!-- vscode-jupyter-toc-config\n",
    "\tnumbering=false\n",
    "\tanchor=true\n",
    "\tflat=false\n",
    "\tminLevel=1\n",
    "\tmaxLevel=6\n",
    "\t/vscode-jupyter-toc-config -->\n",
    "<!-- THIS CELL WILL BE REPLACED ON TOC UPDATE. DO NOT WRITE YOUR TEXT IN THIS CELL -->"
   ]
  },
  {
   "cell_type": "markdown",
   "metadata": {},
   "source": [
    "# <a id='toc1_'></a>[Dependencies](#toc0_)\n"
   ]
  },
  {
   "cell_type": "code",
   "execution_count": 1,
   "metadata": {},
   "outputs": [],
   "source": [
    "import numpy as np"
   ]
  },
  {
   "cell_type": "markdown",
   "metadata": {},
   "source": [
    "# <a id='toc2_'></a>[NumPy Basics](#toc0_)\n",
    "\n",
    "- **NumPy** is a powerful library for numerical computing in Python, optimized for high-performance array operations.\n",
    "- **Arrays** in NumPy provide efficient storage and are the primary data structure, supporting fast mathematical computations over large datasets.\n",
    "\n",
    "📝 **Docs**:\n",
    "\n",
    "- NumPy Overview: [numpy.org/doc/stable/user/quickstart.html](https://numpy.org/doc/stable/user/quickstart.html)\n",
    "- Array creation routines: [numpy.org/doc/stable/reference/routines.array-creation.html](https://numpy.org/doc/stable/reference/routines.array-creation.html)\n",
    "- `numpy.array`: [numpy.org/doc/stable/reference/generated/numpy.array.html#numpy.array](https://numpy.org/doc/stable/reference/generated/numpy.array.html)\n",
    "- Data type objects (`dtype`): [numpy.org/doc/stable/reference/arrays.dtypes.html](https://numpy.org/doc/stable/reference/arrays.dtypes.html)\n"
   ]
  },
  {
   "cell_type": "markdown",
   "metadata": {},
   "source": [
    "## <a id='toc2_1_'></a>[0D Array (Known as Scalar)](#toc0_)\n"
   ]
  },
  {
   "cell_type": "code",
   "execution_count": null,
   "metadata": {},
   "outputs": [
    {
     "name": "stdout",
     "output_type": "stream",
     "text": [
      "arr_0d_1        : 2\n",
      "arr_0d_1.shape  : ()\n",
      "arr_0d_1.dtype  : int64\n",
      "arr_0d_1.nbytes : 8\n",
      "type(arr_0d_1)  : <class 'numpy.ndarray'>\n"
     ]
    }
   ],
   "source": [
    "arr_0d_1 = np.array(2)\n",
    "\n",
    "# log\n",
    "print(f\"arr_0d_1        : {arr_0d_1}\")\n",
    "print(f\"arr_0d_1.shape  : {arr_0d_1.shape}\")\n",
    "print(f\"arr_0d_1.dtype  : {arr_0d_1.dtype}\")\n",
    "print(f\"arr_0d_1.nbytes : {arr_0d_1.nbytes}\")\n",
    "print(f\"type(arr_0d_1)  : {type(arr_0d_1)}\")"
   ]
  },
  {
   "cell_type": "code",
   "execution_count": null,
   "metadata": {},
   "outputs": [
    {
     "name": "stdout",
     "output_type": "stream",
     "text": [
      "arr_0d_2        : 0.1\n",
      "arr_0d_2.shape  : ()\n",
      "arr_0d_2.dtype  : float64\n",
      "arr_0d_2.nbytes : 8\n",
      "type(arr_0d_2)  : <class 'numpy.ndarray'>\n"
     ]
    }
   ],
   "source": [
    "arr_0d_2 = np.array(0.1)\n",
    "\n",
    "# log\n",
    "print(f\"arr_0d_2        : {arr_0d_2}\")\n",
    "print(f\"arr_0d_2.shape  : {arr_0d_2.shape}\")\n",
    "print(f\"arr_0d_2.dtype  : {arr_0d_2.dtype}\")\n",
    "print(f\"arr_0d_2.nbytes : {arr_0d_2.nbytes}\")\n",
    "print(f\"type(arr_0d_2)  : {type(arr_0d_2)}\")"
   ]
  },
  {
   "cell_type": "markdown",
   "metadata": {},
   "source": [
    "## <a id='toc2_2_'></a>[1D Array (Known as Vector)](#toc0_)\n"
   ]
  },
  {
   "cell_type": "code",
   "execution_count": null,
   "metadata": {},
   "outputs": [
    {
     "name": "stdout",
     "output_type": "stream",
     "text": [
      "arr_1d_1        : [15 13 20 19  0 11 18 15]\n",
      "arr_1d_1.shape  : (8,)\n",
      "arr_1d_1.dtype  : int64\n",
      "arr_1d_1.nbytes : 64\n",
      "type(arr_1d_1)  : <class 'numpy.ndarray'>\n"
     ]
    }
   ],
   "source": [
    "arr_1d_1 = np.array([15, 13, 20, 19, 0, 11, 18, 15])\n",
    "\n",
    "# log\n",
    "print(f\"arr_1d_1        : {arr_1d_1}\")\n",
    "print(f\"arr_1d_1.shape  : {arr_1d_1.shape}\")\n",
    "print(f\"arr_1d_1.dtype  : {arr_1d_1.dtype}\")\n",
    "print(f\"arr_1d_1.nbytes : {arr_1d_1.nbytes}\")\n",
    "print(f\"type(arr_1d_1)  : {type(arr_1d_1)}\")"
   ]
  },
  {
   "cell_type": "code",
   "execution_count": null,
   "metadata": {},
   "outputs": [
    {
     "name": "stdout",
     "output_type": "stream",
     "text": [
      "arr_1d_2        : [3.0517578e-05 3.1726351e-05 2.1638528e-02 4.8217773e-03]\n",
      "arr_1d_2.shape  : (4,)\n",
      "arr_1d_2.dtype  : float64\n",
      "mono_audio.nbytes : 32\n",
      "type(arr_1d_2)  : <class 'numpy.ndarray'>\n"
     ]
    }
   ],
   "source": [
    "tuple_1 = (3.0517578e-05, 3.1726351e-05, 2.1638528e-02, 4.8217773e-03)\n",
    "arr_1d_2 = np.array(tuple_1)\n",
    "\n",
    "# log\n",
    "print(f\"arr_1d_2        : {arr_1d_2}\")\n",
    "print(f\"arr_1d_2.shape  : {arr_1d_2.shape}\")\n",
    "print(f\"arr_1d_2.dtype  : {arr_1d_2.dtype}\")\n",
    "print(f\"mono_audio.nbytes : {arr_1d_2.nbytes}\")\n",
    "print(f\"type(arr_1d_2)  : {type(arr_1d_2)}\")"
   ]
  },
  {
   "cell_type": "markdown",
   "metadata": {},
   "source": [
    "## <a id='toc2_3_'></a>[2D Array (known as Matrix)](#toc0_)\n"
   ]
  },
  {
   "cell_type": "code",
   "execution_count": null,
   "metadata": {},
   "outputs": [
    {
     "name": "stdout",
     "output_type": "stream",
     "text": [
      "arr_2d_1 :\n",
      "[[0.        0.0001831]\n",
      " [0.0003051 0.       ]\n",
      " [0.0002441 0.       ]]\n",
      "\n",
      "arr_2d_1.shape  : (3, 2)\n",
      "arr_2d_1.dtype  : float64\n",
      "arr_2d_1.nbytes : 48\n",
      "type(arr_2d_1)  : <class 'numpy.ndarray'>\n"
     ]
    }
   ],
   "source": [
    "arr_2d_1 = np.array([[0.000e0, 1.831e-4], [3.051e-4, 0.000e0], [2.441e-4, 0.000e0]])\n",
    "\n",
    "# log\n",
    "print(f\"arr_2d_1 :\\n{arr_2d_1}\", end=\"\\n\\n\")\n",
    "print(f\"arr_2d_1.shape  : {arr_2d_1.shape}\")\n",
    "print(f\"arr_2d_1.dtype  : {arr_2d_1.dtype}\")\n",
    "print(f\"arr_2d_1.nbytes : {arr_2d_1.nbytes}\")\n",
    "print(f\"type(arr_2d_1)  : {type(arr_2d_1)}\")"
   ]
  },
  {
   "cell_type": "code",
   "execution_count": null,
   "metadata": {},
   "outputs": [
    {
     "name": "stdout",
     "output_type": "stream",
     "text": [
      "arr_2d_2 :\n",
      "[[ 1  2  3  4]\n",
      " [ 5  6  7  8]\n",
      " [ 9 10 11 12]\n",
      " [13 14 15 16]]\n",
      "\n",
      "arr_2d_2.shape  : (4, 4)\n",
      "arr_2d_2.dtype  : int64\n",
      "arr_2d_2.nbytes : 128\n",
      "type(arr_2d_2)  : <class 'numpy.ndarray'>\n"
     ]
    }
   ],
   "source": [
    "arr_2d_2 = np.array([[1, 2, 3, 4], [5, 6, 7, 8], [9, 10, 11, 12], [13, 14, 15, 16]])\n",
    "\n",
    "# log\n",
    "print(f\"arr_2d_2 :\\n{arr_2d_2}\", end=\"\\n\\n\")\n",
    "print(f\"arr_2d_2.shape  : {arr_2d_2.shape}\")\n",
    "print(f\"arr_2d_2.dtype  : {arr_2d_2.dtype}\")\n",
    "print(f\"arr_2d_2.nbytes : {arr_2d_2.nbytes}\")\n",
    "print(f\"type(arr_2d_2)  : {type(arr_2d_2)}\")"
   ]
  },
  {
   "cell_type": "markdown",
   "metadata": {},
   "source": [
    "## <a id='toc2_4_'></a>[3D Array](#toc0_)\n"
   ]
  },
  {
   "cell_type": "code",
   "execution_count": null,
   "metadata": {},
   "outputs": [
    {
     "name": "stdout",
     "output_type": "stream",
     "text": [
      "arr_3d_1 :\n",
      "[[[255 129 255]\n",
      "  [249 230 115]]\n",
      "\n",
      " [[255  79  79]\n",
      "  [104 203 248]]]\n",
      "\n",
      "arr_3d_1.shape  : (2, 2, 3)\n",
      "arr_3d_1.dtype  : int64\n",
      "arr_3d_1.nbytes : 96\n",
      "type(arr_3d_1)  : <class 'numpy.ndarray'>\n"
     ]
    }
   ],
   "source": [
    "arr_3d_1 = np.array([[[255, 129, 255], [249, 230, 115]], [[255, 79, 79], [104, 203, 248]]])\n",
    "\n",
    "# print\n",
    "print(f\"arr_3d_1 :\\n{arr_3d_1}\", end=\"\\n\\n\")\n",
    "print(f\"arr_3d_1.shape  : {arr_3d_1.shape}\")\n",
    "print(f\"arr_3d_1.dtype  : {arr_3d_1.dtype}\")\n",
    "print(f\"arr_3d_1.nbytes : {arr_3d_1.nbytes}\")\n",
    "print(f\"type(arr_3d_1)  : {type(arr_3d_1)}\")"
   ]
  },
  {
   "cell_type": "code",
   "execution_count": null,
   "metadata": {},
   "outputs": [
    {
     "name": "stdout",
     "output_type": "stream",
     "text": [
      "arr_3d_2 :\n",
      "[[[203  28  91]\n",
      "  [ 47 124  40]\n",
      "  [ 19 250  51]]\n",
      "\n",
      " [[174  87  89]\n",
      "  [ 15  71 231]\n",
      "  [ 10  12 121]]\n",
      "\n",
      " [[193  55  81]\n",
      "  [173  19  76]\n",
      "  [  1 134 250]]\n",
      "\n",
      " [[210  50  80]\n",
      "  [180  40  60]\n",
      "  [111  32  57]]]\n",
      "\n",
      "arr_3d_2.shape  : (4, 3, 3)\n",
      "arr_3d_2.dtype  : int64\n",
      "arr_3d_2.nbytes : 288\n",
      "type(arr_3d_2)  : <class 'numpy.ndarray'>\n"
     ]
    }
   ],
   "source": [
    "arr_3d_2 = np.array(\n",
    "    [\n",
    "        [[203, 28, 91], [47, 124, 40], [19, 250, 51]],\n",
    "        [[174, 87, 89], [15, 71, 231], [10, 12, 121]],\n",
    "        [[193, 55, 81], [173, 19, 76], [1, 134, 250]],\n",
    "        [[210, 50, 80], [180, 40, 60], [111, 32, 57]],\n",
    "    ]\n",
    ")\n",
    "\n",
    "# log\n",
    "print(f\"arr_3d_2 :\\n{arr_3d_2}\", end=\"\\n\\n\")\n",
    "print(f\"arr_3d_2.shape  : {arr_3d_2.shape}\")\n",
    "print(f\"arr_3d_2.dtype  : {arr_3d_2.dtype}\")\n",
    "print(f\"arr_3d_2.nbytes : {arr_3d_2.nbytes}\")\n",
    "print(f\"type(arr_3d_2)  : {type(arr_3d_2)}\")"
   ]
  },
  {
   "cell_type": "markdown",
   "metadata": {},
   "source": [
    "## <a id='toc2_5_'></a>[4D Array](#toc0_)\n"
   ]
  },
  {
   "cell_type": "code",
   "execution_count": null,
   "metadata": {},
   "outputs": [
    {
     "name": "stdout",
     "output_type": "stream",
     "text": [
      "arr_4d_1 :\n",
      "[[[[ 1  2]\n",
      "   [ 3  4]]\n",
      "\n",
      "  [[ 5  6]\n",
      "   [ 7  8]]]\n",
      "\n",
      "\n",
      " [[[ 9 10]\n",
      "   [11 12]]\n",
      "\n",
      "  [[13 14]\n",
      "   [15 16]]]]\n",
      "\n",
      "arr_4d_1.shape  : (2, 2, 2, 2)\n",
      "arr_4d_1.dtype  : int64\n",
      "arr_4d_1.nbytes : 128\n",
      "type(arr_4d_1)  : <class 'numpy.ndarray'>\n"
     ]
    }
   ],
   "source": [
    "arr_4d_1 = np.array([[[[1, 2], [3, 4]], [[5, 6], [7, 8]]], [[[9, 10], [11, 12]], [[13, 14], [15, 16]]]])\n",
    "\n",
    "# print\n",
    "print(f\"arr_4d_1 :\\n{arr_4d_1}\", end=\"\\n\\n\")\n",
    "print(f\"arr_4d_1.shape  : {arr_4d_1.shape}\")\n",
    "print(f\"arr_4d_1.dtype  : {arr_4d_1.dtype}\")\n",
    "print(f\"arr_4d_1.nbytes : {arr_4d_1.nbytes}\")\n",
    "print(f\"type(arr_4d_1)  : {type(arr_4d_1)}\")"
   ]
  }
 ],
 "metadata": {
  "author_email": "AmirhosseinHeydari78@gmail.com",
  "author_github": "https://github.com/mr-pylin",
  "author_name": "Amirhossein Heydari",
  "kernelspec": {
   "display_name": "numpy-workshop-0psJcWas-py3.12",
   "language": "python",
   "name": "python3"
  },
  "language_info": {
   "codemirror_mode": {
    "name": "ipython",
    "version": 3
   },
   "file_extension": ".py",
   "mimetype": "text/x-python",
   "name": "python",
   "nbconvert_exporter": "python",
   "pygments_lexer": "ipython3",
   "version": "3.12.8"
  },
  "origin_repo": "https://github.com/mr-pylin/numpy-workshop"
 },
 "nbformat": 4,
 "nbformat_minor": 2
}
