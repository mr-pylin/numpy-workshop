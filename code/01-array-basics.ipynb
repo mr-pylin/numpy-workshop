{
 "cells": [
  {
   "cell_type": "markdown",
   "metadata": {},
   "source": [
    "<div style=\"display: flex; justify-content: space-between; align-items: center;\">\n",
    "    <div style=\"text-align: left; flex: 4\">\n",
    "        <strong>Author:</strong> Amirhossein Heydari — \n",
    "        📧 <a href=\"mailto:amirhosseinheydari78@gmail.com\">amirhosseinheydari78@gmail.com</a> — \n",
    "        🐙 <a href=\"https://github.com/mr-pylin/numpy-workshop\" target=\"_blank\" rel=\"noopener\">github.com/mr-pylin</a>\n",
    "    </div>\n",
    "    <div style=\"text-align: right; flex: 1;\">\n",
    "        <a href=\"https://numpy.org/\" target=\"_blank\" rel=\"noopener noreferrer\">\n",
    "            <img src=\"../assets/images/numpy/logo/numpylogo.svg\" \n",
    "                 alt=\"NumPy Logo\"\n",
    "                 style=\"max-height: 48px; width: auto;\">\n",
    "        </a>\n",
    "    </div>\n",
    "</div>\n",
    "<hr>\n"
   ]
  },
  {
   "cell_type": "markdown",
   "metadata": {},
   "source": [
    "**Table of contents**<a id='toc0_'></a>    \n",
    "- [Dependencies](#toc1_)    \n",
    "- [NumPy Basics](#toc2_)    \n",
    "  - [0D Array (Known as Scalar)](#toc2_1_)    \n",
    "  - [1D Array (Known as Vector)](#toc2_2_)    \n",
    "  - [2D Array (known as Matrix)](#toc2_3_)    \n",
    "  - [3D Array](#toc2_4_)    \n",
    "  - [4D Array](#toc2_5_)    \n",
    "\n",
    "<!-- vscode-jupyter-toc-config\n",
    "\tnumbering=false\n",
    "\tanchor=true\n",
    "\tflat=false\n",
    "\tminLevel=1\n",
    "\tmaxLevel=6\n",
    "\t/vscode-jupyter-toc-config -->\n",
    "<!-- THIS CELL WILL BE REPLACED ON TOC UPDATE. DO NOT WRITE YOUR TEXT IN THIS CELL -->"
   ]
  },
  {
   "cell_type": "markdown",
   "metadata": {},
   "source": [
    "# <a id='toc1_'></a>[Dependencies](#toc0_)\n"
   ]
  },
  {
   "cell_type": "code",
   "execution_count": null,
   "metadata": {},
   "outputs": [],
   "source": [
    "import numpy as np"
   ]
  },
  {
   "cell_type": "markdown",
   "metadata": {},
   "source": [
    "# <a id='toc2_'></a>[NumPy Basics](#toc0_)\n",
    "\n",
    "- **NumPy** is a powerful library for numerical computing in Python, optimized for high-performance array operations.\n",
    "- **Arrays** in NumPy provide efficient storage and are the primary data structure, supporting fast mathematical computations over large datasets.\n",
    "\n",
    "📝 **Docs**:\n",
    "\n",
    "- NumPy Overview: [numpy.org/doc/stable/user/quickstart.html](https://numpy.org/doc/stable/user/quickstart.html)\n",
    "- Array creation routines: [numpy.org/doc/stable/reference/routines.array-creation.html](https://numpy.org/doc/stable/reference/routines.array-creation.html)\n",
    "- `numpy.array`: [numpy.org/doc/stable/reference/generated/numpy.array.html#numpy.array](https://numpy.org/doc/stable/reference/generated/numpy.array.html)\n",
    "- Data type objects (`dtype`): [numpy.org/doc/stable/reference/arrays.dtypes.html](https://numpy.org/doc/stable/reference/arrays.dtypes.html)\n"
   ]
  },
  {
   "cell_type": "markdown",
   "metadata": {},
   "source": [
    "## <a id='toc2_1_'></a>[0D Array (Known as Scalar)](#toc0_)\n"
   ]
  },
  {
   "cell_type": "code",
   "execution_count": null,
   "metadata": {},
   "outputs": [],
   "source": [
    "arr_0d_1 = np.array(2)\n",
    "\n",
    "# log\n",
    "print(f\"arr_0d_1        : {arr_0d_1}\")\n",
    "print(f\"arr_0d_1.shape  : {arr_0d_1.shape}\")\n",
    "print(f\"arr_0d_1.dtype  : {arr_0d_1.dtype}\")\n",
    "print(f\"arr_0d_1.nbytes : {arr_0d_1.nbytes}\")\n",
    "print(f\"type(arr_0d_1)  : {type(arr_0d_1)}\")"
   ]
  },
  {
   "cell_type": "code",
   "execution_count": null,
   "metadata": {},
   "outputs": [],
   "source": [
    "arr_0d_2 = np.array(0.1)\n",
    "\n",
    "# log\n",
    "print(f\"arr_0d_2        : {arr_0d_2}\")\n",
    "print(f\"arr_0d_2.shape  : {arr_0d_2.shape}\")\n",
    "print(f\"arr_0d_2.dtype  : {arr_0d_2.dtype}\")\n",
    "print(f\"arr_0d_2.nbytes : {arr_0d_2.nbytes}\")\n",
    "print(f\"type(arr_0d_2)  : {type(arr_0d_2)}\")"
   ]
  },
  {
   "cell_type": "markdown",
   "metadata": {},
   "source": [
    "## <a id='toc2_2_'></a>[1D Array (Known as Vector)](#toc0_)\n"
   ]
  },
  {
   "cell_type": "code",
   "execution_count": null,
   "metadata": {},
   "outputs": [],
   "source": [
    "arr_1d_1 = np.array([15, 13, 20, 19, 0, 11, 18, 15])\n",
    "\n",
    "# log\n",
    "print(f\"arr_1d_1        : {arr_1d_1}\")\n",
    "print(f\"arr_1d_1.shape  : {arr_1d_1.shape}\")\n",
    "print(f\"arr_1d_1.dtype  : {arr_1d_1.dtype}\")\n",
    "print(f\"arr_1d_1.nbytes : {arr_1d_1.nbytes}\")\n",
    "print(f\"type(arr_1d_1)  : {type(arr_1d_1)}\")"
   ]
  },
  {
   "cell_type": "code",
   "execution_count": null,
   "metadata": {},
   "outputs": [],
   "source": [
    "tuple_1 = (3.0517578e-05, 3.1726351e-05, 2.1638528e-02, 4.8217773e-03)\n",
    "arr_1d_2 = np.array(tuple_1)\n",
    "\n",
    "# log\n",
    "print(f\"arr_1d_2        : {arr_1d_2}\")\n",
    "print(f\"arr_1d_2.shape  : {arr_1d_2.shape}\")\n",
    "print(f\"arr_1d_2.dtype  : {arr_1d_2.dtype}\")\n",
    "print(f\"mono_audio.nbytes : {arr_1d_2.nbytes}\")\n",
    "print(f\"type(arr_1d_2)  : {type(arr_1d_2)}\")"
   ]
  },
  {
   "cell_type": "markdown",
   "metadata": {},
   "source": [
    "## <a id='toc2_3_'></a>[2D Array (known as Matrix)](#toc0_)\n"
   ]
  },
  {
   "cell_type": "code",
   "execution_count": null,
   "metadata": {},
   "outputs": [],
   "source": [
    "arr_2d_1 = np.array([[0.000e0, 1.831e-4], [3.051e-4, 0.000e0], [2.441e-4, 0.000e0]])\n",
    "\n",
    "# log\n",
    "print(f\"arr_2d_1 :\\n{arr_2d_1}\", end=\"\\n\\n\")\n",
    "print(f\"arr_2d_1.shape  : {arr_2d_1.shape}\")\n",
    "print(f\"arr_2d_1.dtype  : {arr_2d_1.dtype}\")\n",
    "print(f\"arr_2d_1.nbytes : {arr_2d_1.nbytes}\")\n",
    "print(f\"type(arr_2d_1)  : {type(arr_2d_1)}\")"
   ]
  },
  {
   "cell_type": "code",
   "execution_count": null,
   "metadata": {},
   "outputs": [],
   "source": [
    "arr_2d_2 = np.array([[1, 2, 3, 4], [5, 6, 7, 8], [9, 10, 11, 12], [13, 14, 15, 16]])\n",
    "\n",
    "# log\n",
    "print(f\"arr_2d_2 :\\n{arr_2d_2}\", end=\"\\n\\n\")\n",
    "print(f\"arr_2d_2.shape  : {arr_2d_2.shape}\")\n",
    "print(f\"arr_2d_2.dtype  : {arr_2d_2.dtype}\")\n",
    "print(f\"arr_2d_2.nbytes : {arr_2d_2.nbytes}\")\n",
    "print(f\"type(arr_2d_2)  : {type(arr_2d_2)}\")"
   ]
  },
  {
   "cell_type": "markdown",
   "metadata": {},
   "source": [
    "## <a id='toc2_4_'></a>[3D Array](#toc0_)\n"
   ]
  },
  {
   "cell_type": "code",
   "execution_count": null,
   "metadata": {},
   "outputs": [],
   "source": [
    "arr_3d_1 = np.array([[[255, 129, 255], [249, 230, 115]], [[255, 79, 79], [104, 203, 248]]])\n",
    "\n",
    "# print\n",
    "print(f\"arr_3d_1 :\\n{arr_3d_1}\", end=\"\\n\\n\")\n",
    "print(f\"arr_3d_1.shape  : {arr_3d_1.shape}\")\n",
    "print(f\"arr_3d_1.dtype  : {arr_3d_1.dtype}\")\n",
    "print(f\"arr_3d_1.nbytes : {arr_3d_1.nbytes}\")\n",
    "print(f\"type(arr_3d_1)  : {type(arr_3d_1)}\")"
   ]
  },
  {
   "cell_type": "code",
   "execution_count": null,
   "metadata": {},
   "outputs": [],
   "source": [
    "arr_3d_2 = np.array(\n",
    "    [\n",
    "        [[203, 28, 91], [47, 124, 40], [19, 250, 51]],\n",
    "        [[174, 87, 89], [15, 71, 231], [10, 12, 121]],\n",
    "        [[193, 55, 81], [173, 19, 76], [1, 134, 250]],\n",
    "        [[210, 50, 80], [180, 40, 60], [111, 32, 57]],\n",
    "    ]\n",
    ")\n",
    "\n",
    "# log\n",
    "print(f\"arr_3d_2 :\\n{arr_3d_2}\", end=\"\\n\\n\")\n",
    "print(f\"arr_3d_2.shape  : {arr_3d_2.shape}\")\n",
    "print(f\"arr_3d_2.dtype  : {arr_3d_2.dtype}\")\n",
    "print(f\"arr_3d_2.nbytes : {arr_3d_2.nbytes}\")\n",
    "print(f\"type(arr_3d_2)  : {type(arr_3d_2)}\")"
   ]
  },
  {
   "cell_type": "markdown",
   "metadata": {},
   "source": [
    "## <a id='toc2_5_'></a>[4D Array](#toc0_)\n"
   ]
  },
  {
   "cell_type": "code",
   "execution_count": null,
   "metadata": {},
   "outputs": [],
   "source": [
    "arr_4d_1 = np.array([[[[1, 2], [3, 4]], [[5, 6], [7, 8]]], [[[9, 10], [11, 12]], [[13, 14], [15, 16]]]])\n",
    "\n",
    "# print\n",
    "print(f\"arr_4d_1 :\\n{arr_4d_1}\", end=\"\\n\\n\")\n",
    "print(f\"arr_4d_1.shape  : {arr_4d_1.shape}\")\n",
    "print(f\"arr_4d_1.dtype  : {arr_4d_1.dtype}\")\n",
    "print(f\"arr_4d_1.nbytes : {arr_4d_1.nbytes}\")\n",
    "print(f\"type(arr_4d_1)  : {type(arr_4d_1)}\")"
   ]
  }
 ],
 "metadata": {
  "author_email": "AmirhosseinHeydari78@gmail.com",
  "author_github": "https://github.com/mr-pylin",
  "author_name": "Amirhossein Heydari",
  "kernelspec": {
   "display_name": "numpy-workshop (3.13.7)",
   "language": "python",
   "name": "python3"
  },
  "language_info": {
   "codemirror_mode": {
    "name": "ipython",
    "version": 3
   },
   "file_extension": ".py",
   "mimetype": "text/x-python",
   "name": "python",
   "nbconvert_exporter": "python",
   "pygments_lexer": "ipython3",
   "version": "3.13.7"
  },
  "origin_repo": "https://github.com/mr-pylin/numpy-workshop"
 },
 "nbformat": 4,
 "nbformat_minor": 2
}
