{
 "cells": [
  {
   "cell_type": "markdown",
   "metadata": {},
   "source": [
    "📝 **Author:** Amirhossein Heydari - 📧 **Email:** <amirhosseinheydari78@gmail.com> - 📍 **Origin:** [mr-pylin/numpy-workshop](https://github.com/mr-pylin/numpy-workshop)\n",
    "\n",
    "---\n"
   ]
  },
  {
   "cell_type": "markdown",
   "metadata": {},
   "source": [
    "**Table of contents**<a id='toc0_'></a>    \n",
    "- [Dependencies](#toc1_)    \n",
    "- [NumPy - Manipulation](#toc2_)    \n",
    "  - [Changing array shape](#toc2_1_)    \n",
    "    - [numpy.reshape](#toc2_1_1_)    \n",
    "    - [numpy.ravel](#toc2_1_2_)    \n",
    "    - [numpy.ndarray.flatten](#toc2_1_3_)    \n",
    "  - [Transpose-like operations](#toc2_2_)    \n",
    "    - [numpy.moveaxis](#toc2_2_1_)    \n",
    "    - [numpy.swapaxes](#toc2_2_2_)    \n",
    "    - [numpy.ndarray.T](#toc2_2_3_)    \n",
    "    - [numpy.transpose (numpy.permute_dims)](#toc2_2_4_)    \n",
    "  - [Changing number of dimensions](#toc2_3_)    \n",
    "    - [numpy.newaxis](#toc2_3_1_)    \n",
    "    - [numpy.expand_dims](#toc2_3_2_)    \n",
    "    - [numpy.squeeze](#toc2_3_3_)    \n",
    "  - [Joining arrays](#toc2_4_)    \n",
    "    - [numpy.concatenate](#toc2_4_1_)    \n",
    "    - [numpy.stack](#toc2_4_2_)    \n",
    "      - [numpy.vstack](#toc2_4_2_1_)    \n",
    "      - [numpy.hstack](#toc2_4_2_2_)    \n",
    "      - [numpy.dstack](#toc2_4_2_3_)    \n",
    "  - [Splitting arrays](#toc2_5_)    \n",
    "    - [numpy.split](#toc2_5_1_)    \n",
    "      - [numpy.vsplit](#toc2_5_1_1_)    \n",
    "      - [numpy.hsplit](#toc2_5_1_2_)    \n",
    "      - [numpy.dsplit](#toc2_5_1_3_)    \n",
    "  - [Tiling arrays](#toc2_6_)    \n",
    "    - [numpy.tile](#toc2_6_1_)    \n",
    "    - [numpy.repeat](#toc2_6_2_)    \n",
    "  - [Adding and removing elements](#toc2_7_)    \n",
    "    - [numpy.append](#toc2_7_1_)    \n",
    "    - [numpy.insert](#toc2_7_2_)    \n",
    "    - [numpy.delete](#toc2_7_3_)    \n",
    "      - [Delete by index](#toc2_7_3_1_)    \n",
    "      - [Delete by value using numpy.argwhere](#toc2_7_3_2_)    \n",
    "    - [numpy.resize](#toc2_7_4_)    \n",
    "    - [numpy.unique](#toc2_7_5_)    \n",
    "    - [numpy.pad](#toc2_7_6_)    \n",
    "  - [Rearranging elements](#toc2_8_)    \n",
    "    - [numpy.flip](#toc2_8_1_)    \n",
    "    - [numpy.roll](#toc2_8_2_)    \n",
    "    - [numpy.rot90](#toc2_8_3_)    \n",
    "\n",
    "<!-- vscode-jupyter-toc-config\n",
    "\tnumbering=false\n",
    "\tanchor=true\n",
    "\tflat=false\n",
    "\tminLevel=1\n",
    "\tmaxLevel=6\n",
    "\t/vscode-jupyter-toc-config -->\n",
    "<!-- THIS CELL WILL BE REPLACED ON TOC UPDATE. DO NOT WRITE YOUR TEXT IN THIS CELL -->"
   ]
  },
  {
   "cell_type": "markdown",
   "metadata": {},
   "source": [
    "# <a id='toc1_'></a>[Dependencies](#toc0_)\n"
   ]
  },
  {
   "cell_type": "code",
   "execution_count": null,
   "metadata": {},
   "outputs": [],
   "source": [
    "import numpy as np"
   ]
  },
  {
   "cell_type": "markdown",
   "metadata": {},
   "source": [
    "# <a id='toc2_'></a>[NumPy - Manipulation](#toc0_)\n",
    "\n",
    "- A comprehensive details on functions for reshaping, joining, splitting, and modifying arrays.\n",
    "\n",
    "📝 Doc:\n",
    "\n",
    "- Array manipulation routines: [numpy.org/doc/stable/reference/routines.array-manipulation.html](https://numpy.org/doc/stable/reference/routines.array-manipulation.html)\n"
   ]
  },
  {
   "cell_type": "markdown",
   "metadata": {},
   "source": [
    "## <a id='toc2_1_'></a>[Changing array shape](#toc0_)\n",
    "\n",
    "<table style=\"margin: 0 auto;\">\n",
    "  <thead>\n",
    "    <tr>\n",
    "      <th style=\"text-align: center;\">Command</th>\n",
    "      <th style=\"text-align: center;\">Description</th>\n",
    "      <th style=\"text-align: center;\">Details</th>\n",
    "    </tr>\n",
    "  </thead>\n",
    "  <tbody>\n",
    "    <tr>\n",
    "      <td><code>np.reshape(...)</code></td>\n",
    "      <td>Gives a new shape to an array without changing its data</td>\n",
    "      <td style=\"text-align: center;\"><a href=\"https://numpy.org/doc/stable/reference/generated/numpy.reshape.html\">link</a></td>\n",
    "    </tr>\n",
    "    <tr>\n",
    "      <td><code>np.ravel(...)</code></td>\n",
    "      <td>Return a contiguous flattened array</td>\n",
    "      <td style=\"text-align: center;\"><a href=\"https://numpy.org/doc/stable/reference/generated/numpy.ravel.html\">link</a></td>\n",
    "    </tr>\n",
    "    <tr>\n",
    "      <td><code>ndarray.flatten(...)</code></td>\n",
    "      <td>Return a copy of the array collapsed into one dimension</td>\n",
    "      <td style=\"text-align: center;\"><a href=\"https://numpy.org/doc/stable/reference/generated/numpy.ndarray.flatten.html\">link</a></td>\n",
    "    </tr>\n",
    "  </tbody>\n",
    "</table>\n"
   ]
  },
  {
   "cell_type": "markdown",
   "metadata": {},
   "source": [
    "### <a id='toc2_1_1_'></a>[numpy.reshape](#toc0_)\n",
    "\n",
    "- Changes the shape of an array without altering its data.\n",
    "- It returns a new view of the original array if possible, otherwise a copy.\n",
    "- The total number of elements must remain the same\n"
   ]
  },
  {
   "cell_type": "code",
   "execution_count": null,
   "metadata": {},
   "outputs": [],
   "source": [
    "arr_1d_1 = np.array([8, 9, 0, 3, 1, 6, 4, 2])\n",
    "\n",
    "# reshape\n",
    "reshape_1 = np.reshape(arr_1d_1, (2, 4))\n",
    "reshape_2 = np.reshape(arr_1d_1, (2, 2, 2))\n",
    "reshape_3 = np.reshape(arr_1d_1, shape=(4, 2))\n",
    "\n",
    "# log\n",
    "print(f\"reshape_1 :\\n{reshape_1}\")\n",
    "print(f\"reshape_1.ndim: {reshape_1.ndim}\")\n",
    "print(f\"reshape_1.shape: {reshape_1.shape}\", end=f\"\\n{'-' * 50}\\n\")\n",
    "print(f\"reshape_2 :\\n{reshape_2}\")\n",
    "print(f\"reshape_2.ndim: {reshape_2.ndim}\")\n",
    "print(f\"reshape_2.shape: {reshape_2.shape}\", end=f\"\\n{'-' * 50}\\n\")\n",
    "print(f\"reshape_3 :\\n{reshape_3}\")\n",
    "print(f\"reshape_3.ndim: {reshape_3.ndim}\")\n",
    "print(f\"reshape_3.shape: {reshape_3.shape}\")"
   ]
  },
  {
   "cell_type": "code",
   "execution_count": null,
   "metadata": {},
   "outputs": [],
   "source": [
    "arr_2d_1 = np.array([[2, 3, 4], [7, 8, 9], [6, 5, 0]])\n",
    "\n",
    "# reshape\n",
    "reshape_4 = np.reshape(arr_2d_1, (9))\n",
    "reshape_5 = np.reshape(arr_2d_1, (1, 9))\n",
    "\n",
    "# log\n",
    "print(f\"reshape_4 :\\n{reshape_4}\")\n",
    "print(f\"reshape_4.ndim: {reshape_4.ndim}\")\n",
    "print(f\"reshape_4.shape: {reshape_4.shape}\", end=f\"\\n{'-' * 50}\\n\")\n",
    "print(f\"reshape_5 :\\n{reshape_5}\")\n",
    "print(f\"reshape_5.ndim: {reshape_5.ndim}\")\n",
    "print(f\"reshape_5.shape: {reshape_5.shape}\")"
   ]
  },
  {
   "cell_type": "code",
   "execution_count": null,
   "metadata": {},
   "outputs": [],
   "source": [
    "arr_3d_1 = np.array([[[2, 3], [0, 4]], [[7, 4], [4, 2]]])\n",
    "\n",
    "# reshape\n",
    "reshape_6 = np.reshape(arr_3d_1, (8))\n",
    "reshape_7 = np.reshape(arr_3d_1, (2, 4))\n",
    "\n",
    "# log\n",
    "print(f\"reshape_6 :\\n{reshape_6}\")\n",
    "print(f\"reshape_6.ndim: {reshape_6.ndim}\")\n",
    "print(f\"reshape_6.shape: {reshape_6.shape}\", end=f\"\\n{'-' * 50}\\n\")\n",
    "print(f\"reshape_7 :\\n{reshape_7}\")\n",
    "print(f\"reshape_7.ndim: {reshape_7.ndim}\")\n",
    "print(f\"reshape_7.shape: {reshape_7.shape}\")"
   ]
  },
  {
   "cell_type": "markdown",
   "metadata": {},
   "source": [
    "### <a id='toc2_1_2_'></a>[numpy.ravel](#toc0_)\n",
    "\n",
    "- Returns a flattened view of the array if possible, otherwise returns a copy.\n"
   ]
  },
  {
   "cell_type": "code",
   "execution_count": null,
   "metadata": {},
   "outputs": [],
   "source": [
    "arr_2d_2 = np.array([[2, 3, 4], [7, 8, 9], [6, 5, 0]])\n",
    "\n",
    "# ravel\n",
    "ravel_1 = np.ravel(arr_2d_2)\n",
    "ravel_2 = np.ravel(arr_2d_2, order=\"F\")\n",
    "\n",
    "# log\n",
    "print(f\"ravel_1 :\\n{ravel_1}\")\n",
    "print(f\"ravel_1.ndim: {ravel_1.ndim}\")\n",
    "print(f\"ravel_1.shape: {ravel_1.shape}\", end=f\"\\n{'-' * 50}\\n\")\n",
    "print(f\"ravel_2 :\\n{ravel_2}\")\n",
    "print(f\"ravel_2.ndim: {ravel_2.ndim}\")\n",
    "print(f\"ravel_2.shape: {ravel_2.shape}\")"
   ]
  },
  {
   "cell_type": "code",
   "execution_count": null,
   "metadata": {},
   "outputs": [],
   "source": [
    "arr_3d_2 = np.array([[[2, 3], [0, 4]], [[7, 4], [4, 2]]])\n",
    "\n",
    "# ravel\n",
    "ravel_3 = np.ravel(arr_3d_2)\n",
    "\n",
    "# log\n",
    "print(f\"ravel_3 :\\n{ravel_3}\")\n",
    "print(f\"ravel_3.ndim: {ravel_3.ndim}\")\n",
    "print(f\"ravel_3.shape: {ravel_3.shape}\")"
   ]
  },
  {
   "cell_type": "markdown",
   "metadata": {},
   "source": [
    "### <a id='toc2_1_3_'></a>[numpy.ndarray.flatten](#toc0_)\n",
    "\n",
    "- Always returns a copy of the array, ensuring a new, independent one-dimensional array\n"
   ]
  },
  {
   "cell_type": "code",
   "execution_count": null,
   "metadata": {},
   "outputs": [],
   "source": [
    "arr_2d_3 = np.array([[2, 3, 4], [7, 8, 9], [6, 5, 0]])\n",
    "\n",
    "# ravel\n",
    "flatten_1 = arr_2d_3.flatten()\n",
    "flatten_2 = arr_2d_3.flatten(order=\"F\")\n",
    "\n",
    "# log\n",
    "print(f\"flatten_1 :\\n{flatten_1}\")\n",
    "print(f\"flatten_1.ndim: {flatten_1.ndim}\")\n",
    "print(f\"flatten_1.shape: {flatten_1.shape}\", end=f\"\\n{'-' * 50}\\n\")\n",
    "print(f\"flatten_2 :\\n{flatten_2}\")\n",
    "print(f\"flatten_2.ndim: {flatten_2.ndim}\")\n",
    "print(f\"flatten_2.shape: {flatten_2.shape}\")"
   ]
  },
  {
   "cell_type": "markdown",
   "metadata": {},
   "source": [
    "## <a id='toc2_2_'></a>[Transpose-like operations](#toc0_)\n",
    "\n",
    "<table style=\"margin: 0 auto;\">\n",
    "  <thead>\n",
    "    <tr>\n",
    "      <th style=\"text-align: center;\">Command</th>\n",
    "      <th style=\"text-align: center;\">Alias</th>\n",
    "      <th style=\"text-align: center;\">Description</th>\n",
    "      <th style=\"text-align: center;\">Details</th>\n",
    "    </tr>\n",
    "  </thead>\n",
    "  <tbody>\n",
    "    <tr>\n",
    "      <td><code>np.moveaxis(...)</code></td>\n",
    "      <td><code>-</code></td>\n",
    "      <td>Move axes of an array to new positions</td>\n",
    "      <td style=\"text-align: center;\"><a href=\"https://numpy.org/doc/stable/reference/generated/numpy.moveaxis.html\">link</a></td>\n",
    "    </tr>\n",
    "    <tr>\n",
    "      <td><code>np.swapaxis(...)</code></td>\n",
    "      <td><code>-</code></td>\n",
    "      <td>Interchange two axes of an array</td>\n",
    "      <td style=\"text-align: center;\"><a href=\"https://numpy.org/doc/stable/reference/generated/numpy.swapaxes.html\">link</a></td>\n",
    "    </tr>\n",
    "    <tr>\n",
    "      <td><code>ndarray.T</code></td>\n",
    "      <td><code>-</code></td>\n",
    "      <td>View of the transposed array</td>\n",
    "      <td style=\"text-align: center;\"><a href=\"https://numpy.org/doc/stable/reference/generated/numpy.ndarray.T.html\">link</a></td>\n",
    "    </tr>\n",
    "    <tr>\n",
    "      <td><code>np.transpose(...)</code></td>\n",
    "      <td><code>np.permute_dims(...)</code></td>\n",
    "      <td>Returns an array with axes transposed</td>\n",
    "      <td style=\"text-align: center;\"><a href=\"https://numpy.org/doc/stable/reference/generated/numpy.transpose.html\">link</a></td>\n",
    "    </tr>\n",
    "  </tbody>\n",
    "</table>\n"
   ]
  },
  {
   "cell_type": "markdown",
   "metadata": {},
   "source": [
    "### <a id='toc2_2_1_'></a>[numpy.moveaxis](#toc0_)\n"
   ]
  },
  {
   "cell_type": "code",
   "execution_count": null,
   "metadata": {},
   "outputs": [],
   "source": [
    "arr_3d_3 = np.array([[[1, 2, 3], [4, 5, 6]]])\n",
    "\n",
    "# moveaxis\n",
    "moveaxis_1 = np.moveaxis(arr_3d_3, 0, 1)\n",
    "moveaxis_2 = np.moveaxis(arr_3d_3, 0, 2)\n",
    "moveaxis_3 = np.moveaxis(arr_3d_3, [1, 0], [2, 1])\n",
    "\n",
    "# log\n",
    "print(f\"arr_3d_3:\\n{arr_3d_3}\")\n",
    "print(f\"arr_3d_3.shape: {arr_3d_3.shape}\", end=f\"\\n{'-' * 50}\\n\")\n",
    "print(f\"moveaxis_1:\\n{moveaxis_1}\")\n",
    "print(f\"moveaxis_1.shape: {moveaxis_1.shape}\", end=f\"\\n{'-' * 50}\\n\")\n",
    "print(f\"moveaxis_2:\\n{moveaxis_2}\")\n",
    "print(f\"moveaxis_2.shape: {moveaxis_2.shape}\", end=f\"\\n{'-' * 50}\\n\")\n",
    "print(f\"moveaxis_3:\\n{moveaxis_3}\")\n",
    "print(f\"moveaxis_3.shape: {moveaxis_3.shape}\")"
   ]
  },
  {
   "cell_type": "markdown",
   "metadata": {},
   "source": [
    "### <a id='toc2_2_2_'></a>[numpy.swapaxes](#toc0_)\n"
   ]
  },
  {
   "cell_type": "code",
   "execution_count": null,
   "metadata": {},
   "outputs": [],
   "source": [
    "arr_2d_4 = np.array([[1, 2, 3], [4, 5, 6]])\n",
    "\n",
    "# swapaxes\n",
    "swapaxes_1 = np.swapaxes(arr_2d_4, 0, 1)\n",
    "\n",
    "# log\n",
    "print(f\"swapaxes_1:\\n{swapaxes_1}\")\n",
    "print(f\"swapaxes_1.shape: {swapaxes_1.shape}\")"
   ]
  },
  {
   "cell_type": "code",
   "execution_count": null,
   "metadata": {},
   "outputs": [],
   "source": [
    "arr_3d_4 = np.array([[[1, 5], [2, 6]], [[3, 7], [4, 8]]])\n",
    "\n",
    "# swapaxes\n",
    "swapaxes_2 = np.swapaxes(arr_3d_4, 0, 1)\n",
    "swapaxes_3 = np.swapaxes(arr_3d_4, 0, 2)\n",
    "swapaxes_4 = np.swapaxes(arr_3d_4, 1, 2)\n",
    "\n",
    "# log\n",
    "print(f\"swapaxes_2:\\n{swapaxes_2}\")\n",
    "print(f\"swapaxes_2.shape: {swapaxes_2.shape}\", end=f\"\\n{'-' * 50}\\n\")\n",
    "print(f\"swapaxes_3:\\n{swapaxes_3}\")\n",
    "print(f\"swapaxes_3.shape: {swapaxes_3.shape}\", end=f\"\\n{'-' * 50}\\n\")\n",
    "print(f\"swapaxes_4:\\n{swapaxes_4}\")\n",
    "print(f\"swapaxes_4.shape: {swapaxes_4.shape}\")"
   ]
  },
  {
   "cell_type": "markdown",
   "metadata": {},
   "source": [
    "### <a id='toc2_2_3_'></a>[numpy.ndarray.T](#toc0_)\n"
   ]
  },
  {
   "cell_type": "code",
   "execution_count": null,
   "metadata": {},
   "outputs": [],
   "source": [
    "arr_2d_5 = np.array([[1, 2, 3], [4, 5, 6]])\n",
    "\n",
    "# ndarray.T\n",
    "ndarray_t_1 = arr_2d_5.T\n",
    "\n",
    "# log\n",
    "print(f\"ndarray_t_1:\\n{ndarray_t_1}\")\n",
    "print(f\"ndarray_t_1.shape: {ndarray_t_1.shape}\")"
   ]
  },
  {
   "cell_type": "markdown",
   "metadata": {},
   "source": [
    "### <a id='toc2_2_4_'></a>[numpy.transpose (numpy.permute_dims)](#toc0_)\n"
   ]
  },
  {
   "cell_type": "code",
   "execution_count": null,
   "metadata": {},
   "outputs": [],
   "source": [
    "arr_3d_5 = np.array([[[1, 2, 3], [4, 5, 6]]])\n",
    "\n",
    "# transpose\n",
    "transpose_1 = np.transpose(arr_3d_5, [0, 1, 2])\n",
    "transpose_2 = np.transpose(arr_3d_5, [2, 1, 0])\n",
    "transpose_3 = np.transpose(arr_3d_5, [1, 2, 0])\n",
    "\n",
    "# log\n",
    "print(f\"arr_3d_5:\\n{arr_3d_5}\")\n",
    "print(f\"arr_3d_5.shape: {arr_3d_5.shape}\", end=f\"\\n{'-' * 50}\\n\")\n",
    "print(f\"transpose_1:\\n{transpose_1}\")\n",
    "print(f\"transpose_1.shape: {transpose_1.shape}\", end=f\"\\n{'-' * 50}\\n\")\n",
    "print(f\"transpose_2:\\n{transpose_2}\")\n",
    "print(f\"transpose_2.shape: {transpose_2.shape}\", end=f\"\\n{'-' * 50}\\n\")\n",
    "print(f\"transpose_3:\\n{transpose_3}\")\n",
    "print(f\"transpose_3.shape: {transpose_3.shape}\")"
   ]
  },
  {
   "cell_type": "markdown",
   "metadata": {},
   "source": [
    "## <a id='toc2_3_'></a>[Changing number of dimensions](#toc0_)\n",
    "\n",
    "<table style=\"margin: 0 auto;\">\n",
    "  <thead>\n",
    "    <tr>\n",
    "      <th style=\"text-align: center;\">Command</th>\n",
    "      <th style=\"text-align: center;\">Description</th>\n",
    "      <th style=\"text-align: center;\">Details</th>\n",
    "    </tr>\n",
    "  </thead>\n",
    "  <tbody>\n",
    "    <tr>\n",
    "      <td><code>np.newaxis</code></td>\n",
    "      <td>A convenient alias for <code>None</code>, useful for indexing arrays</td>\n",
    "      <td style=\"text-align: center;\"><a href=\"https://numpy.org/doc/2.1/reference/constants.html#numpy.newaxis\">link</a></td>\n",
    "    </tr>\n",
    "    <tr>\n",
    "      <td><code>np.expand_dims(...)</code></td>\n",
    "      <td>Expand the shape of an array</td>\n",
    "      <td style=\"text-align: center;\"><a href=\"https://numpy.org/doc/stable/reference/generated/numpy.expand_dims.html\">link</a></td>\n",
    "    </tr>\n",
    "    <tr>\n",
    "      <td><code>np.squeeze(...)</code></td>\n",
    "      <td>Remove axes of length one from a</td>\n",
    "      <td style=\"text-align: center;\"><a href=\"https://numpy.org/doc/stable/reference/generated/numpy.squeeze.html\">link</a></td>\n",
    "    </tr>\n",
    "  </tbody>\n",
    "</table>\n"
   ]
  },
  {
   "cell_type": "markdown",
   "metadata": {},
   "source": [
    "### <a id='toc2_3_1_'></a>[numpy.newaxis](#toc0_)\n"
   ]
  },
  {
   "cell_type": "code",
   "execution_count": null,
   "metadata": {},
   "outputs": [],
   "source": [
    "arr_1d_2 = np.array([1, 2, 3])\n",
    "\n",
    "# newaxis\n",
    "newaxis_1 = arr_1d_2[:, np.newaxis]\n",
    "newaxis_2 = arr_1d_2[..., np.newaxis]\n",
    "newaxis_3 = arr_1d_2[:, None]\n",
    "newaxis_4 = arr_1d_2[..., None]\n",
    "\n",
    "# log\n",
    "print(f\"newaxis_1 :\\n{newaxis_1}\", end=f\"\\n{'-' * 50}\\n\")\n",
    "print(f\"newaxis_2 :\\n{newaxis_2}\", end=f\"\\n{'-' * 50}\\n\")\n",
    "print(f\"newaxis_3 :\\n{newaxis_3}\", end=f\"\\n{'-' * 50}\\n\")\n",
    "print(f\"newaxis_4 :\\n{newaxis_4}\")"
   ]
  },
  {
   "cell_type": "code",
   "execution_count": null,
   "metadata": {},
   "outputs": [],
   "source": [
    "arr_2d_6 = np.array([[1, 2, 3], [4, 5, 6]])\n",
    "\n",
    "# newaxis\n",
    "newaxis_5 = arr_2d_6[:, np.newaxis, :]\n",
    "newaxis_6 = arr_2d_6[..., None, :]\n",
    "newaxis_7 = arr_2d_6[..., np.newaxis, :]\n",
    "newaxis_8 = arr_2d_6[:, None, ...]\n",
    "\n",
    "# log\n",
    "print(f\"newaxis_5 :\\n{newaxis_5}\", end=f\"\\n{'-' * 50}\\n\")\n",
    "print(f\"newaxis_6 :\\n{newaxis_6}\", end=f\"\\n{'-' * 50}\\n\")\n",
    "print(f\"newaxis_7 :\\n{newaxis_7}\", end=f\"\\n{'-' * 50}\\n\")\n",
    "print(f\"newaxis_8 :\\n{newaxis_8}\")"
   ]
  },
  {
   "cell_type": "markdown",
   "metadata": {},
   "source": [
    "### <a id='toc2_3_2_'></a>[numpy.expand_dims](#toc0_)\n"
   ]
  },
  {
   "cell_type": "code",
   "execution_count": null,
   "metadata": {},
   "outputs": [],
   "source": [
    "arr_1d_3 = np.array([1, 2, 3])\n",
    "\n",
    "# expand_dim\n",
    "expand_dim_1 = np.expand_dims(arr_1d_3, axis=1)\n",
    "expand_dim_2 = np.expand_dims(arr_1d_3, axis=0)\n",
    "\n",
    "# log\n",
    "print(f\"expand_dim_1:\\n{expand_dim_1}\")\n",
    "print(f\"expand_dim_1.shape: {expand_dim_1.shape}\", end=f\"\\n{'-' * 50}\\n\")\n",
    "print(f\"expand_dim_2:\\n{expand_dim_2}\")\n",
    "print(f\"expand_dim_2.shape: {expand_dim_2.shape}\")"
   ]
  },
  {
   "cell_type": "markdown",
   "metadata": {},
   "source": [
    "### <a id='toc2_3_3_'></a>[numpy.squeeze](#toc0_)\n"
   ]
  },
  {
   "cell_type": "code",
   "execution_count": null,
   "metadata": {},
   "outputs": [],
   "source": [
    "arr_3d_6 = np.array([[[0], [1], [2], [3]]])\n",
    "\n",
    "# squeeze\n",
    "squeeze_1 = np.squeeze(arr_3d_6)\n",
    "\n",
    "# log\n",
    "print(f\"squeeze_1       : {squeeze_1}\")\n",
    "print(f\"squeeze_1.shape : {squeeze_1.shape}\")"
   ]
  },
  {
   "cell_type": "markdown",
   "metadata": {},
   "source": [
    "## <a id='toc2_4_'></a>[Joining arrays](#toc0_)\n",
    "\n",
    "<table style=\"margin: 0 auto;\">\n",
    "  <thead>\n",
    "    <tr>\n",
    "      <th style=\"text-align: center;\">Command</th>\n",
    "      <th style=\"text-align: center;\">Alias</th>\n",
    "      <th style=\"text-align: center;\">Description</th>\n",
    "      <th style=\"text-align: center;\">Details</th>\n",
    "    </tr>\n",
    "  </thead>\n",
    "  <tbody>\n",
    "    <tr>\n",
    "      <td><code>np.concatenate(...)</code></td>\n",
    "      <td><code>np.concat(...)</code></td>\n",
    "      <td>Join a sequence of arrays along an existing axis</td>\n",
    "      <td style=\"text-align: center;\"><a href=\"https://numpy.org/doc/stable/reference/generated/numpy.concatenate.html\">link</a></td>\n",
    "    </tr>\n",
    "    <tr>\n",
    "      <td><code>np.stack(...)</code></td>\n",
    "      <td><code>-</code></td>\n",
    "      <td>Join a sequence of arrays along a new axis</td>\n",
    "      <td style=\"text-align: center;\"><a href=\"https://numpy.org/doc/stable/reference/generated/numpy.stack.html\">link</a></td>\n",
    "    </tr>\n",
    "    <tr>\n",
    "      <td><code>np.vstack(...)</code></td>\n",
    "      <td><code>-</code></td>\n",
    "      <td>Stack arrays in sequence vertically (row wise)</td>\n",
    "      <td style=\"text-align: center;\"><a href=\"https://numpy.org/doc/stable/reference/generated/numpy.vstack.html\">link</a></td>\n",
    "    </tr>\n",
    "    <tr>\n",
    "      <td><code>np.hstack(...)</code></td>\n",
    "      <td><code>-</code></td>\n",
    "      <td>Stack arrays in sequence horizontally (column wise)</td>\n",
    "      <td style=\"text-align: center;\"><a href=\"https://numpy.org/doc/stable/reference/generated/numpy.hstack.html\">link</a></td>\n",
    "    </tr>\n",
    "    <tr>\n",
    "      <td><code>np.dstack(...)</code></td>\n",
    "      <td><code>-</code></td>\n",
    "      <td>Stack arrays in sequence depth wise (along third axis)</td>\n",
    "      <td style=\"text-align: center;\"><a href=\"https://numpy.org/doc/stable/reference/generated/numpy.dstack.html\">link</a></td>\n",
    "    </tr>\n",
    "  </tbody>\n",
    "</table>\n"
   ]
  },
  {
   "cell_type": "markdown",
   "metadata": {},
   "source": [
    "### <a id='toc2_4_1_'></a>[numpy.concatenate](#toc0_)\n"
   ]
  },
  {
   "cell_type": "code",
   "execution_count": null,
   "metadata": {},
   "outputs": [],
   "source": [
    "arr_1d_4 = np.array([1, 2, 3])\n",
    "arr_1d_5 = np.array([4, 5, 6])\n",
    "arr_2d_7 = np.array([[0, 1]])\n",
    "arr_2d_8 = np.array([[4, 5], [6, 7]])\n",
    "arr_2d_9 = np.array([[8, 9], [1, 2]])\n",
    "\n",
    "# concatenate\n",
    "concat_1 = np.concatenate((arr_1d_4, arr_1d_5))\n",
    "concat_2 = np.concatenate((arr_1d_5, arr_1d_4))\n",
    "concat_3 = np.concatenate((arr_1d_4, arr_1d_5, arr_1d_4))\n",
    "concat_4 = np.concatenate((arr_2d_7, arr_2d_8))\n",
    "concat_5 = np.concatenate((arr_2d_8, arr_2d_9))\n",
    "concat_6 = np.concatenate((arr_2d_8, arr_2d_9), axis=0)\n",
    "concat_7 = np.concatenate((arr_2d_8, arr_2d_9), axis=1)\n",
    "\n",
    "# log\n",
    "print(f\"concat_1 :\\n{concat_1}\", end=f\"\\n{'-' * 50}\\n\")\n",
    "print(f\"concat_2 :\\n{concat_2}\", end=f\"\\n{'-' * 50}\\n\")\n",
    "print(f\"concat_3 :\\n{concat_3}\", end=f\"\\n{'-' * 50}\\n\")\n",
    "print(f\"concat_4 :\\n{concat_4}\", end=f\"\\n{'-' * 50}\\n\")\n",
    "print(f\"concat_5 :\\n{concat_5}\", end=f\"\\n{'-' * 50}\\n\")\n",
    "print(f\"concat_6 :\\n{concat_6}\", end=f\"\\n{'-' * 50}\\n\")\n",
    "print(f\"concat_7 :\\n{concat_7}\")"
   ]
  },
  {
   "cell_type": "markdown",
   "metadata": {},
   "source": [
    "### <a id='toc2_4_2_'></a>[numpy.stack](#toc0_)\n"
   ]
  },
  {
   "cell_type": "code",
   "execution_count": null,
   "metadata": {},
   "outputs": [],
   "source": [
    "arr_2d_10 = np.array([[4, 5], [6, 7]])\n",
    "arr_2d_11 = np.array([[8, 9], [1, 2]])\n",
    "arr_2d_12 = np.array([[3, 3], [4, 4]])\n",
    "\n",
    "# stack\n",
    "stack_1 = np.stack((arr_2d_10, arr_2d_11, arr_2d_12), axis=0)\n",
    "stack_2 = np.stack((arr_2d_10, arr_2d_11, arr_2d_12), axis=1)\n",
    "\n",
    "# log\n",
    "print(f\"stack_1:\\n{stack_1}\")\n",
    "print(f\"stack_1.shape: {stack_1.shape}\", end=f\"\\n{'-' * 50}\\n\")\n",
    "print(f\"stack_2:\\n{stack_2}\")\n",
    "print(f\"stack_2.shape: {stack_2.shape}\")"
   ]
  },
  {
   "cell_type": "markdown",
   "metadata": {},
   "source": [
    "#### <a id='toc2_4_2_1_'></a>[numpy.vstack](#toc0_)\n"
   ]
  },
  {
   "cell_type": "code",
   "execution_count": null,
   "metadata": {},
   "outputs": [],
   "source": [
    "arr_2d_10 = np.array([[4, 5], [6, 7]])\n",
    "arr_2d_11 = np.array([[8, 9], [1, 2]])\n",
    "arr_2d_12 = np.array([[3, 3], [4, 4]])\n",
    "\n",
    "# vstack\n",
    "vstack_1 = np.vstack((arr_2d_10, arr_2d_11, arr_2d_12))\n",
    "\n",
    "# log\n",
    "print(f\"vstack_1:\\n{vstack_1}\")\n",
    "print(f\"vstack_1.shape: {vstack_1.shape}\")"
   ]
  },
  {
   "cell_type": "markdown",
   "metadata": {},
   "source": [
    "#### <a id='toc2_4_2_2_'></a>[numpy.hstack](#toc0_)\n"
   ]
  },
  {
   "cell_type": "code",
   "execution_count": null,
   "metadata": {},
   "outputs": [],
   "source": [
    "arr_2d_10 = np.array([[4, 5], [6, 7]])\n",
    "arr_2d_11 = np.array([[8, 9], [1, 2]])\n",
    "arr_2d_12 = np.array([[3, 3], [4, 4]])\n",
    "\n",
    "# hstack\n",
    "hstack_1 = np.hstack((arr_2d_10, arr_2d_11, arr_2d_12))\n",
    "\n",
    "# log\n",
    "print(f\"hstack_1:\\n{hstack_1}\")\n",
    "print(f\"hstack_1.shape: {hstack_1.shape}\")"
   ]
  },
  {
   "cell_type": "markdown",
   "metadata": {},
   "source": [
    "#### <a id='toc2_4_2_3_'></a>[numpy.dstack](#toc0_)\n"
   ]
  },
  {
   "cell_type": "code",
   "execution_count": null,
   "metadata": {},
   "outputs": [],
   "source": [
    "arr_2d_10 = np.array([[4, 5], [6, 7]])\n",
    "arr_2d_11 = np.array([[8, 9], [1, 2]])\n",
    "arr_2d_12 = np.array([[3, 3], [4, 4]])\n",
    "\n",
    "# vstack\n",
    "dstack_1 = np.dstack((arr_2d_10, arr_2d_11, arr_2d_12))\n",
    "\n",
    "# log\n",
    "print(f\"dstack_1:\\n{dstack_1}\")\n",
    "print(f\"dstack_1.shape: {dstack_1.shape}\")"
   ]
  },
  {
   "cell_type": "markdown",
   "metadata": {},
   "source": [
    "## <a id='toc2_5_'></a>[Splitting arrays](#toc0_)\n",
    "\n",
    "<table style=\"margin: 0 auto;\">\n",
    "  <thead>\n",
    "    <tr>\n",
    "      <th style=\"text-align: center;\">Command</th>\n",
    "      <th style=\"text-align: center;\">Description</th>\n",
    "      <th style=\"text-align: center;\">Details</th>\n",
    "    </tr>\n",
    "  </thead>\n",
    "  <tbody>\n",
    "    <tr>\n",
    "      <td><code>np.split(...)</code></td>\n",
    "      <td>Split an array into multiple sub-arrays as views into ary</td>\n",
    "      <td style=\"text-align: center;\"><a href=\"https://numpy.org/doc/stable/reference/generated/numpy.split.html\">link</a></td>\n",
    "    </tr>\n",
    "    <tr>\n",
    "      <td><code>np.vsplit(...)</code></td>\n",
    "      <td>Split an array into multiple sub-arrays vertically (row-wise)</td>\n",
    "      <td style=\"text-align: center;\"><a href=\"https://numpy.org/doc/stable/reference/generated/numpy.vsplit.html\">link</a></td>\n",
    "    </tr>\n",
    "    <tr>\n",
    "      <td><code>np.hsplit(...)</code></td>\n",
    "      <td>Split an array into multiple sub-arrays horizontally (column-wise)</td>\n",
    "      <td style=\"text-align: center;\"><a href=\"https://numpy.org/doc/stable/reference/generated/numpy.hsplit.html\">link</a></td>\n",
    "    </tr>\n",
    "    <tr>\n",
    "      <td><code>np.dsplit(...)</code></td>\n",
    "      <td>Split array into multiple sub-arrays along the 3rd axis (depth)</td>\n",
    "      <td style=\"text-align: center;\"><a href=\"https://numpy.org/doc/stable/reference/generated/numpy.dsplit.html\">link</a></td>\n",
    "    </tr>\n",
    "  </tbody>\n",
    "</table>\n"
   ]
  },
  {
   "cell_type": "markdown",
   "metadata": {},
   "source": [
    "### <a id='toc2_5_1_'></a>[numpy.split](#toc0_)\n"
   ]
  },
  {
   "cell_type": "code",
   "execution_count": null,
   "metadata": {},
   "outputs": [],
   "source": [
    "arr_2d_13 = np.array([[1, 2, 3, 4], [5, 6, 7, 8], [9, 10, 11, 12], [13, 14, 15, 16]])\n",
    "\n",
    "# split\n",
    "split_1 = np.split(arr_2d_13, 2, 0)\n",
    "split_2 = np.split(arr_2d_13, 2, 1)\n",
    "\n",
    "# log\n",
    "print(f\"split_1: {split_1}\", end=f\"\\n{'-' * 50}\\n\")\n",
    "print(f\"split_2: {split_2}\")"
   ]
  },
  {
   "cell_type": "markdown",
   "metadata": {},
   "source": [
    "#### <a id='toc2_5_1_1_'></a>[numpy.vsplit](#toc0_)\n"
   ]
  },
  {
   "cell_type": "code",
   "execution_count": null,
   "metadata": {},
   "outputs": [],
   "source": [
    "arr_2d_13 = np.array([[1, 2, 3, 4], [5, 6, 7, 8], [9, 10, 11, 12], [13, 14, 15, 16]])\n",
    "\n",
    "# vsplit\n",
    "vsplit_1 = np.vsplit(arr_2d_13, 2)\n",
    "\n",
    "# log\n",
    "print(f\"vsplit_1:\\n{vsplit_1}\")"
   ]
  },
  {
   "cell_type": "markdown",
   "metadata": {},
   "source": [
    "#### <a id='toc2_5_1_2_'></a>[numpy.hsplit](#toc0_)\n"
   ]
  },
  {
   "cell_type": "code",
   "execution_count": null,
   "metadata": {},
   "outputs": [],
   "source": [
    "arr_2d_13 = np.array([[1, 2, 3, 4], [5, 6, 7, 8], [9, 10, 11, 12], [13, 14, 15, 16]])\n",
    "\n",
    "# vsplit\n",
    "hsplit_1 = np.hsplit(arr_2d_13, 2)\n",
    "\n",
    "# log\n",
    "print(f\"hsplit_1:\\n{hsplit_1}\")"
   ]
  },
  {
   "cell_type": "markdown",
   "metadata": {},
   "source": [
    "#### <a id='toc2_5_1_3_'></a>[numpy.dsplit](#toc0_)\n"
   ]
  },
  {
   "cell_type": "code",
   "execution_count": null,
   "metadata": {},
   "outputs": [],
   "source": [
    "arr_3d_7 = np.array([[[1, 2], [3, 4]], [[5, 6], [7, 8]], [[9, 10], [11, 12]]])\n",
    "dsplit_1 = np.dsplit(arr_3d_7, 2)\n",
    "\n",
    "# log\n",
    "print(f\"dsplit_1:\\n{dsplit_1}\")"
   ]
  },
  {
   "cell_type": "markdown",
   "metadata": {},
   "source": [
    "## <a id='toc2_6_'></a>[Tiling arrays](#toc0_)\n",
    "\n",
    "<table style=\"margin: 0 auto;\">\n",
    "  <thead>\n",
    "    <tr>\n",
    "      <th style=\"text-align: center;\">Command</th>\n",
    "      <th style=\"text-align: center;\">Description</th>\n",
    "      <th style=\"text-align: center;\">Details</th>\n",
    "    </tr>\n",
    "  </thead>\n",
    "  <tbody>\n",
    "    <tr>\n",
    "      <td><code>np.tile(...)</code></td>\n",
    "      <td>Construct an array by repeating A the number of times given by reps</td>\n",
    "      <td style=\"text-align: center;\"><a href=\"https://numpy.org/doc/stable/reference/generated/numpy.tile.html\">link</a></td>\n",
    "    </tr>\n",
    "    <tr>\n",
    "      <td><code>np.repeat(...)</code></td>\n",
    "      <td>Repeat each element of an array after themselves</td>\n",
    "      <td style=\"text-align: center;\"><a href=\"https://numpy.org/doc/stable/reference/generated/numpy.repeat.html\">link</a></td>\n",
    "    </tr>\n",
    "  </tbody>\n",
    "</table>\n"
   ]
  },
  {
   "cell_type": "markdown",
   "metadata": {},
   "source": [
    "### <a id='toc2_6_1_'></a>[numpy.tile](#toc0_)\n"
   ]
  },
  {
   "cell_type": "code",
   "execution_count": null,
   "metadata": {},
   "outputs": [],
   "source": [
    "arr_1d_6 = np.array([1, 2, 3])\n",
    "arr_2d_14 = np.array([[4, 2], [5, 1]])\n",
    "\n",
    "# tile\n",
    "tile_1 = np.tile(arr_1d_6, reps=2)\n",
    "tile_2 = np.tile(arr_1d_6, (3, 2))\n",
    "tile_3 = np.tile(arr_2d_14, 2)\n",
    "tile_4 = np.tile(arr_2d_14, (2, 3))\n",
    "\n",
    "# log\n",
    "print(f\"tile_1 :\\n{tile_1}\", end=f\"\\n{'-' * 50}\\n\")\n",
    "print(f\"tile_2 :\\n{tile_2}\", end=f\"\\n{'-' * 50}\\n\")\n",
    "print(f\"tile_3 :\\n{tile_3}\", end=f\"\\n{'-' * 50}\\n\")\n",
    "print(f\"tile_4 :\\n{tile_4}\")"
   ]
  },
  {
   "cell_type": "markdown",
   "metadata": {},
   "source": [
    "### <a id='toc2_6_2_'></a>[numpy.repeat](#toc0_)\n"
   ]
  },
  {
   "cell_type": "code",
   "execution_count": null,
   "metadata": {},
   "outputs": [],
   "source": [
    "arr_1d_7 = np.array([1, 2, 3])\n",
    "arr_2d_15 = np.array([[4, 2], [5, 1]])\n",
    "\n",
    "# repeat\n",
    "repeat_1 = np.repeat(arr_1d_7, repeats=2)\n",
    "repeat_2 = np.repeat(arr_2d_15, 2)\n",
    "repeat_3 = np.repeat(arr_2d_15, 2, axis=0)\n",
    "repeat_4 = np.repeat(arr_2d_15, 3, axis=1)\n",
    "\n",
    "# log\n",
    "print(f\"repeat_1 :\\n{repeat_1}\", end=f\"\\n{'-' * 50}\\n\")\n",
    "print(f\"repeat_2 :\\n{repeat_2}\", end=f\"\\n{'-' * 50}\\n\")\n",
    "print(f\"repeat_3 :\\n{repeat_3}\", end=f\"\\n{'-' * 50}\\n\")\n",
    "print(f\"repeat_4 :\\n{repeat_4}\")"
   ]
  },
  {
   "cell_type": "markdown",
   "metadata": {},
   "source": [
    "## <a id='toc2_7_'></a>[Adding and removing elements](#toc0_)\n",
    "\n",
    "<table style=\"margin: 0 auto;\">\n",
    "  <thead>\n",
    "    <tr>\n",
    "      <th style=\"text-align: center;\">Command</th>\n",
    "      <th style=\"text-align: center;\">Description</th>\n",
    "      <th style=\"text-align: center;\">Details</th>\n",
    "    </tr>\n",
    "  </thead>\n",
    "  <tbody>\n",
    "    <tr>\n",
    "      <td><code>np.delete(...)</code></td>\n",
    "      <td>Return a new array with sub-arrays along an axis deleted</td>\n",
    "      <td style=\"text-align: center;\"><a href=\"https://numpy.org/doc/stable/reference/generated/numpy.delete.html\">link</a></td>\n",
    "    </tr>\n",
    "    <tr>\n",
    "      <td><code>np.insert(...)</code></td>\n",
    "      <td>Insert values along the given axis before the given indices</td>\n",
    "      <td style=\"text-align: center;\"><a href=\"https://numpy.org/doc/stable/reference/generated/numpy.insert.html\">link</a></td>\n",
    "    </tr>\n",
    "    <tr>\n",
    "      <td><code>np.append(...)</code></td>\n",
    "      <td>Append values to the end of an array</td>\n",
    "      <td style=\"text-align: center;\"><a href=\"https://numpy.org/doc/stable/reference/generated/numpy.append.html\">link</a></td>\n",
    "    </tr>\n",
    "    <tr>\n",
    "      <td><code>np.resize(...)</code></td>\n",
    "      <td>Return a new array with the specified shape</td>\n",
    "      <td style=\"text-align: center;\"><a href=\"https://numpy.org/doc/stable/reference/generated/numpy.resize.html\">link</a></td>\n",
    "    </tr>\n",
    "    <tr>\n",
    "      <td><code>np.unique(...)</code></td>\n",
    "      <td>Find the unique elements of an array</td>\n",
    "      <td style=\"text-align: center;\"><a href=\"https://numpy.org/doc/stable/reference/generated/numpy.unique.html\">link</a></td>\n",
    "    </tr>\n",
    "    <tr>\n",
    "      <td><code>np.pad(...)</code></td>\n",
    "      <td>Pad an array</td>\n",
    "      <td style=\"text-align: center;\"><a href=\"https://numpy.org/doc/stable/reference/generated/numpy.pad.html\">link</a></td>\n",
    "    </tr>\n",
    "  </tbody>\n",
    "</table>\n"
   ]
  },
  {
   "cell_type": "markdown",
   "metadata": {},
   "source": [
    "### <a id='toc2_7_1_'></a>[numpy.append](#toc0_)\n"
   ]
  },
  {
   "cell_type": "code",
   "execution_count": null,
   "metadata": {},
   "outputs": [],
   "source": [
    "arr_1d_8 = np.array([0, 0, 0])\n",
    "\n",
    "# append\n",
    "append_1 = np.append(arr_1d_8, 1)\n",
    "append_2 = np.append(arr_1d_8, [3, 2])\n",
    "append_3 = np.append(arr_1d_8, [1, 1, 1])\n",
    "\n",
    "# log\n",
    "print(f\"append_1 : {append_1}\")\n",
    "print(f\"append_2 : {append_2}\")\n",
    "print(f\"append_3 : {append_3}\")"
   ]
  },
  {
   "cell_type": "code",
   "execution_count": null,
   "metadata": {},
   "outputs": [],
   "source": [
    "arr_2d_16 = np.array([[0, 0], [1, 1]])\n",
    "\n",
    "# append\n",
    "append_4 = np.append(arr_2d_16, 2)\n",
    "append_5 = np.append(arr_2d_16, [2, 2])\n",
    "append_6 = np.append(arr_2d_16, [[2, 2]], axis=0)\n",
    "append_7 = np.append(arr_2d_16, values=[[2], [3]], axis=1)\n",
    "\n",
    "# log\n",
    "print(f\"append_4 :\\n{append_4}\", end=f\"\\n{'-' * 50}\\n\")\n",
    "print(f\"append_5 :\\n{append_5}\", end=f\"\\n{'-' * 50}\\n\")\n",
    "print(f\"append_6 :\\n{append_6}\", end=f\"\\n{'-' * 50}\\n\")\n",
    "print(f\"append_7 :\\n{append_7}\")"
   ]
  },
  {
   "cell_type": "markdown",
   "metadata": {},
   "source": [
    "### <a id='toc2_7_2_'></a>[numpy.insert](#toc0_)\n"
   ]
  },
  {
   "cell_type": "code",
   "execution_count": null,
   "metadata": {},
   "outputs": [],
   "source": [
    "arr_1d_9 = np.array([0, 0, 0])\n",
    "\n",
    "# insert\n",
    "insert_1 = np.insert(arr_1d_9, 0, 5)\n",
    "insert_2 = np.insert(arr_1d_9, 1, [1, 1])\n",
    "insert_3 = np.insert(arr_1d_9, 3, [1, 1])\n",
    "\n",
    "# log\n",
    "print(f\"insert_1: {insert_1}\")\n",
    "print(f\"insert_2: {insert_2}\")\n",
    "print(f\"insert_3: {insert_3}\")"
   ]
  },
  {
   "cell_type": "code",
   "execution_count": null,
   "metadata": {},
   "outputs": [],
   "source": [
    "arr_2d_17 = np.array([[0, 0], [1, 1]])\n",
    "\n",
    "# insert\n",
    "insert_4 = np.insert(arr_2d_17, 0, 2)\n",
    "insert_5 = np.insert(arr_2d_17, 0, [2, 2])\n",
    "insert_6 = np.insert(arr_2d_17, obj=4, values=[2, 2])\n",
    "insert_7 = np.insert(arr_2d_17, obj=0, values=[[2, 2]], axis=0)\n",
    "insert_8 = np.insert(arr_2d_17, obj=2, values=[[2, 2]], axis=0)\n",
    "insert_9 = np.insert(arr_2d_17, obj=0, values=[[2, 3]], axis=1)\n",
    "insert_10 = np.insert(arr_2d_17, obj=2, values=[[2, 3]], axis=1)\n",
    "\n",
    "# log\n",
    "print(f\"insert_4 :\\n{insert_4}\", end=f\"\\n{'-' * 50}\\n\")\n",
    "print(f\"insert_5 :\\n{insert_5}\", end=f\"\\n{'-' * 50}\\n\")\n",
    "print(f\"insert_6 :\\n{insert_6}\", end=f\"\\n{'-' * 50}\\n\")\n",
    "print(f\"insert_7 :\\n{insert_7}\", end=f\"\\n{'-' * 50}\\n\")\n",
    "print(f\"insert_8 :\\n{insert_8}\", end=f\"\\n{'-' * 50}\\n\")\n",
    "print(f\"insert_9 :\\n{insert_9}\", end=f\"\\n{'-' * 50}\\n\")\n",
    "print(f\"insert_10 :\\n{insert_10}\")"
   ]
  },
  {
   "cell_type": "markdown",
   "metadata": {},
   "source": [
    "### <a id='toc2_7_3_'></a>[numpy.delete](#toc0_)\n",
    "\n",
    "📝 Docs:\n",
    "\n",
    "- [numpy.org/doc/stable/reference/generated/numpy.delete.html](https://numpy.org/doc/stable/reference/generated/numpy.delete.html)\n",
    "- [numpy.org/doc/stable/reference/generated/numpy.argwhere.html](https://numpy.org/doc/stable/reference/generated/numpy.argwhere.html)\n"
   ]
  },
  {
   "cell_type": "markdown",
   "metadata": {},
   "source": [
    "#### <a id='toc2_7_3_1_'></a>[Delete by index](#toc0_)\n"
   ]
  },
  {
   "cell_type": "code",
   "execution_count": null,
   "metadata": {},
   "outputs": [],
   "source": [
    "arr_1d_10 = np.array([1, 2, 3])\n",
    "\n",
    "# delete\n",
    "delete_1 = np.delete(arr_1d_10, 0)\n",
    "delete_2 = np.delete(arr_1d_10, obj=2)\n",
    "\n",
    "# log\n",
    "print(f\"delete_1: {delete_1}\")\n",
    "print(f\"delete_2: {delete_2}\")"
   ]
  },
  {
   "cell_type": "code",
   "execution_count": null,
   "metadata": {},
   "outputs": [],
   "source": [
    "arr_2d_18 = np.array([[1, 2, 3], [4, 5, 6]])\n",
    "\n",
    "# delete\n",
    "delete_3 = np.delete(arr_2d_18, 0)\n",
    "delete_4 = np.delete(arr_2d_18, obj=1)\n",
    "delete_5 = np.delete(arr_2d_18, obj=0, axis=0)\n",
    "delete_6 = np.delete(arr_2d_18, obj=1, axis=0)\n",
    "delete_7 = np.delete(arr_2d_18, obj=0, axis=1)\n",
    "delete_8 = np.delete(arr_2d_18, obj=2, axis=1)\n",
    "\n",
    "# log\n",
    "print(f\"delete_3:\\n{delete_3}\", end=f\"\\n{'-' * 50}\\n\")\n",
    "print(f\"delete_4:\\n{delete_4}\", end=f\"\\n{'-' * 50}\\n\")\n",
    "print(f\"delete_5:\\n{delete_5}\", end=f\"\\n{'-' * 50}\\n\")\n",
    "print(f\"delete_6:\\n{delete_6}\", end=f\"\\n{'-' * 50}\\n\")\n",
    "print(f\"delete_7:\\n{delete_7}\", end=f\"\\n{'-' * 50}\\n\")\n",
    "print(f\"delete_8:\\n{delete_8}\")"
   ]
  },
  {
   "cell_type": "markdown",
   "metadata": {},
   "source": [
    "#### <a id='toc2_7_3_2_'></a>[Delete by value using numpy.argwhere](#toc0_)\n"
   ]
  },
  {
   "cell_type": "code",
   "execution_count": null,
   "metadata": {},
   "outputs": [],
   "source": [
    "arr_1d_11 = np.array([1, 2, 3])"
   ]
  },
  {
   "cell_type": "code",
   "execution_count": null,
   "metadata": {},
   "outputs": [],
   "source": [
    "# find index\n",
    "idx_1 = np.argwhere(arr_1d_11 == 2)\n",
    "\n",
    "# delete\n",
    "delete_9 = np.delete(arr_1d_11, idx_1)\n",
    "\n",
    "# log\n",
    "print(f\"delete_9: {delete_9}\")"
   ]
  },
  {
   "cell_type": "code",
   "execution_count": null,
   "metadata": {},
   "outputs": [],
   "source": [
    "# find index\n",
    "idx_2 = np.argwhere(arr_1d_11 == 3)\n",
    "\n",
    "# delete\n",
    "delete_10 = np.delete(arr_1d_11, idx_2)\n",
    "\n",
    "# log\n",
    "print(f\"delete_10: {delete_10}\")"
   ]
  },
  {
   "cell_type": "markdown",
   "metadata": {},
   "source": [
    "### <a id='toc2_7_4_'></a>[numpy.resize](#toc0_)\n"
   ]
  },
  {
   "cell_type": "code",
   "execution_count": null,
   "metadata": {},
   "outputs": [],
   "source": [
    "arr_1d_12 = np.array([8, 9, 0, 3, 1, 6, 4, 2])\n",
    "\n",
    "# resize\n",
    "resize_1 = np.resize(arr_1d_12, (2, 3))\n",
    "resize_2 = np.resize(arr_1d_12, (2, 2, 2))\n",
    "resize_3 = np.resize(arr_1d_12, (4, 3))\n",
    "\n",
    "# log\n",
    "print(f\"resize_1 :\\n{resize_1}\")\n",
    "print(f\"resize_1.ndim: {resize_1.ndim}\")\n",
    "print(f\"resize_1.shape: {resize_1.shape}\", end=f\"\\n{'-' * 50}\\n\")\n",
    "print(f\"resize_2 :\\n{resize_2}\")\n",
    "print(f\"resize_2.ndim: {resize_2.ndim}\")\n",
    "print(f\"resize_2.shape: {resize_2.shape}\", end=f\"\\n{'-' * 50}\\n\")\n",
    "print(f\"resize_3 :\\n{resize_3}\")\n",
    "print(f\"resize_3.ndim: {resize_3.ndim}\")\n",
    "print(f\"resize_3.shape: {resize_3.shape}\")"
   ]
  },
  {
   "cell_type": "markdown",
   "metadata": {},
   "source": [
    "### <a id='toc2_7_5_'></a>[numpy.unique](#toc0_)\n"
   ]
  },
  {
   "cell_type": "code",
   "execution_count": null,
   "metadata": {},
   "outputs": [],
   "source": [
    "arr_1d_13 = np.array([1, 2, 2, 3, 4, 4, 4, 5])\n",
    "\n",
    "# unique\n",
    "unique_elements = np.unique(arr_1d_13)\n",
    "unique_elements_with_indices = np.unique(arr_1d_13, return_index=True)\n",
    "unique_elements_with_counts = np.unique(arr_1d_13, return_counts=True)\n",
    "\n",
    "# log\n",
    "print(f\"unique_elements              : {unique_elements}\")\n",
    "print(f\"unique_elements_with_indices : {unique_elements_with_indices}\")\n",
    "print(f\"unique_elements_with_counts  : {unique_elements_with_counts}\")"
   ]
  },
  {
   "cell_type": "markdown",
   "metadata": {},
   "source": [
    "### <a id='toc2_7_6_'></a>[numpy.pad](#toc0_)\n"
   ]
  },
  {
   "cell_type": "code",
   "execution_count": null,
   "metadata": {},
   "outputs": [],
   "source": [
    "# Example array\n",
    "arr_2d_19 = np.array([[1, 2], [3, 4]])\n",
    "\n",
    "# pad with constant value\n",
    "padded_constant = np.pad(arr_2d_19, pad_width=1, mode=\"constant\", constant_values=0)\n",
    "\n",
    "# pad with edge values\n",
    "padded_edge = np.pad(arr_2d_19, pad_width=1, mode=\"edge\")\n",
    "\n",
    "# pad with linear ramp\n",
    "padded_linear_ramp = np.pad(arr_2d_19, pad_width=1, mode=\"linear_ramp\", end_values=10)\n",
    "\n",
    "# log\n",
    "print(f\"padded_constant:\\n{padded_constant}\", end=f\"\\n{'-' * 50}\\n\")\n",
    "print(f\"padded_edge:\\n{padded_edge}\", end=f\"\\n{'-' * 50}\\n\")\n",
    "print(f\"padded_linear_ramp:\\n{padded_linear_ramp}\")"
   ]
  },
  {
   "cell_type": "markdown",
   "metadata": {},
   "source": [
    "## <a id='toc2_8_'></a>[Rearranging elements](#toc0_)\n",
    "\n",
    "<table style=\"margin: 0 auto;\">\n",
    "  <thead>\n",
    "    <tr>\n",
    "      <th style=\"text-align: center;\">Command</th>\n",
    "      <th style=\"text-align: center;\">Description</th>\n",
    "      <th style=\"text-align: center;\">Details</th>\n",
    "    </tr>\n",
    "  </thead>\n",
    "  <tbody>\n",
    "    <tr>\n",
    "      <td><code>np.flip(...)</code></td>\n",
    "      <td>Reverse the order of elements in an array along the given axis</td>\n",
    "      <td style=\"text-align: center;\"><a href=\"https://numpy.org/doc/stable/reference/generated/numpy.flip.html\">link</a></td>\n",
    "    </tr>\n",
    "    <tr>\n",
    "      <td><code>np.reshape(...)</code></td>\n",
    "      <td>Gives a new shape to an array without changing its data</td>\n",
    "      <td style=\"text-align: center;\"><a href=\"https://numpy.org/doc/stable/reference/generated/numpy.reshape.html\">link</a></td>\n",
    "    </tr>\n",
    "    <tr>\n",
    "      <td><code>np.roll(...)</code></td>\n",
    "      <td>Roll array elements along a given axis</td>\n",
    "      <td style=\"text-align: center;\"><a href=\"https://numpy.org/doc/stable/reference/generated/numpy.roll.html\">link</a></td>\n",
    "    </tr>\n",
    "    <tr>\n",
    "      <td><code>np.rot90(...)</code></td>\n",
    "      <td>Rotate an array by 90 degrees in the plane specified by axes</td>\n",
    "      <td style=\"text-align: center;\"><a href=\"https://numpy.org/doc/stable/reference/generated/numpy.rot90.html\">link</a></td>\n",
    "    </tr>\n",
    "  </tbody>\n",
    "</table>\n"
   ]
  },
  {
   "cell_type": "markdown",
   "metadata": {},
   "source": [
    "### <a id='toc2_8_1_'></a>[numpy.flip](#toc0_)\n"
   ]
  },
  {
   "cell_type": "code",
   "execution_count": null,
   "metadata": {},
   "outputs": [],
   "source": [
    "arr_2d_20 = np.array([[1, 2, 3], [4, 5, 6], [7, 8, 9]])\n",
    "\n",
    "# flip\n",
    "flip_1 = np.flip(arr_2d_20, axis=0)\n",
    "flip_2 = np.flip(arr_2d_20, axis=1)\n",
    "\n",
    "# log\n",
    "print(f\"flip_1:\\n{flip_1}\", end=f\"\\n{'-' * 50}\\n\")\n",
    "print(f\"flip_2:\\n{flip_2}\")"
   ]
  },
  {
   "cell_type": "markdown",
   "metadata": {},
   "source": [
    "### <a id='toc2_8_2_'></a>[numpy.roll](#toc0_)\n"
   ]
  },
  {
   "cell_type": "code",
   "execution_count": null,
   "metadata": {},
   "outputs": [],
   "source": [
    "arr_2d_20 = np.array([[1, 2, 3], [4, 5, 6], [7, 8, 9]])\n",
    "\n",
    "# roll\n",
    "roll_1 = np.roll(arr_2d_20, shift=2, axis=0)\n",
    "roll_2 = np.roll(arr_2d_20, shift=-1, axis=1)\n",
    "\n",
    "# log\n",
    "print(f\"roll_1:\\n{roll_1}\", end=f\"\\n{'-' * 50}\\n\")\n",
    "print(f\"roll_2:\\n{roll_2}\")"
   ]
  },
  {
   "cell_type": "markdown",
   "metadata": {},
   "source": [
    "### <a id='toc2_8_3_'></a>[numpy.rot90](#toc0_)\n"
   ]
  },
  {
   "cell_type": "code",
   "execution_count": null,
   "metadata": {},
   "outputs": [],
   "source": [
    "arr_2d_20 = np.array([[1, 2, 3], [4, 5, 6], [7, 8, 9]])\n",
    "\n",
    "# rotate 90\n",
    "rot90_1 = np.rot90(arr_2d_20)\n",
    "rot90_2 = np.rot90(arr_2d_20, k=-1)\n",
    "\n",
    "# log\n",
    "print(f\"rot90_1:\\n{rot90_1}\", end=f\"\\n{'-' * 50}\\n\")\n",
    "print(f\"rot90_2:\\n{rot90_2}\")"
   ]
  }
 ],
 "metadata": {
  "author_email": "AmirhosseinHeydari78@gmail.com",
  "author_github": "https://github.com/mr-pylin",
  "author_name": "Amirhossein Heydari",
  "kernelspec": {
   "display_name": "numpy-workshop (3.13.7)",
   "language": "python",
   "name": "python3"
  },
  "language_info": {
   "codemirror_mode": {
    "name": "ipython",
    "version": 3
   },
   "file_extension": ".py",
   "mimetype": "text/x-python",
   "name": "python",
   "nbconvert_exporter": "python",
   "pygments_lexer": "ipython3",
   "version": "3.13.7"
  },
  "origin_repo": "https://github.com/mr-pylin/numpy-workshop"
 },
 "nbformat": 4,
 "nbformat_minor": 2
}