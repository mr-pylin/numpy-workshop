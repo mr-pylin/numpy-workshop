{
 "cells": [
  {
   "cell_type": "markdown",
   "metadata": {},
   "source": [
    "📝 **Author:** Amirhossein Heydari - 📧 **Email:** <amirhosseinheydari78@gmail.com> - 📍 **Origin:** [mr-pylin/numpy-workshop](https://github.com/mr-pylin/numpy-workshop)\n",
    "\n",
    "---\n"
   ]
  },
  {
   "cell_type": "markdown",
   "metadata": {},
   "source": [
    "**Table of contents**<a id='toc0_'></a>    \n",
    "- [Dependencies](#toc1_)    \n",
    "- [NumPy - Index](#toc2_)    \n",
    "  - [Update values by index](#toc2_1_)    \n",
    "- [NumPy - Slice](#toc3_)    \n",
    "  - [Update values by slice](#toc3_1_)    \n",
    "- [NumPy - Mask & Filter](#toc4_)    \n",
    "- [NumPy - Advanced index & Slice](#toc5_)    \n",
    "  - [Integer array indexing](#toc5_1_)    \n",
    "  - [Boolean array indexing](#toc5_2_)    \n",
    "\n",
    "<!-- vscode-jupyter-toc-config\n",
    "\tnumbering=false\n",
    "\tanchor=true\n",
    "\tflat=false\n",
    "\tminLevel=1\n",
    "\tmaxLevel=6\n",
    "\t/vscode-jupyter-toc-config -->\n",
    "<!-- THIS CELL WILL BE REPLACED ON TOC UPDATE. DO NOT WRITE YOUR TEXT IN THIS CELL -->"
   ]
  },
  {
   "cell_type": "markdown",
   "metadata": {},
   "source": [
    "# <a id='toc1_'></a>[Dependencies](#toc0_)\n"
   ]
  },
  {
   "cell_type": "code",
   "execution_count": null,
   "metadata": {},
   "outputs": [],
   "source": [
    "import numpy as np"
   ]
  },
  {
   "cell_type": "markdown",
   "metadata": {},
   "source": [
    "# <a id='toc2_'></a>[NumPy - Index](#toc0_)\n",
    "\n",
    "- Accesses individual elements or subsets within an array by specifying positions.\n",
    "- Uses square brackets, e.g., `array[0]` for the first element.\n",
    "- Supports advanced indexing like boolean and fancy indexing (using arrays as indices).\n",
    "\n",
    "📝 Docs:\n",
    "\n",
    "- Indexing on `ndarrays`: [numpy.org/doc/stable/user/basics.indexing.html](https://numpy.org/doc/stable/user/basics.indexing.html)\n",
    "- Indexing routines: [numpy.org/doc/stable/reference/routines.indexing.html](https://numpy.org/doc/stable/reference/routines.indexing.html)\n"
   ]
  },
  {
   "cell_type": "code",
   "execution_count": null,
   "metadata": {},
   "outputs": [],
   "source": [
    "arr_1d_1 = np.array([8, 9, 0, 3, 1, 6, 4, 2])\n",
    "\n",
    "idx_1 = arr_1d_1[0]  # 8\n",
    "idx_2 = arr_1d_1[2]  # 0\n",
    "idx_3 = arr_1d_1[4]  # 1\n",
    "idx_4 = arr_1d_1[7]  # 2\n",
    "idx_5 = arr_1d_1[-8]  # 8\n",
    "idx_6 = arr_1d_1[-6]  # 0\n",
    "idx_7 = arr_1d_1[-4]  # 1\n",
    "idx_8 = arr_1d_1[-1]  # 2\n",
    "\n",
    "# log\n",
    "print(f\"arr_1d_1[0]  : {idx_1}\")\n",
    "print(f\"arr_1d_1[2]  : {idx_2}\")\n",
    "print(f\"arr_1d_1[4]  : {idx_3}\")\n",
    "print(f\"arr_1d_1[7]  : {idx_4}\")\n",
    "print(f\"arr_1d_1[-8] : {idx_5}\")\n",
    "print(f\"arr_1d_1[-6] : {idx_6}\")\n",
    "print(f\"arr_1d_1[-4] : {idx_7}\")\n",
    "print(f\"arr_1d_1[-1] : {idx_8}\")"
   ]
  },
  {
   "cell_type": "code",
   "execution_count": null,
   "metadata": {},
   "outputs": [],
   "source": [
    "arr_2d_1 = np.array([[2, 3, 4], [7, 9, 8], [6, 5, 0]])\n",
    "\n",
    "idx_9 = arr_2d_1[0]  # [2 3 4]\n",
    "idx_10 = arr_2d_1[1]  # [7 9 8]\n",
    "idx_11 = arr_2d_1[2]  # [6 5 0]\n",
    "idx_12 = arr_2d_1[0, 1]  # 3\n",
    "idx_13 = arr_2d_1[1, 1]  # 9\n",
    "idx_14 = arr_2d_1[-1, 0]  # 6\n",
    "\n",
    "# log\n",
    "print(f\"arr_2d_1[0]     : {idx_9}\")\n",
    "print(f\"arr_2d_1[1]     : {idx_10}\")\n",
    "print(f\"arr_2d_1[2]     : {idx_11}\")\n",
    "print(f\"arr_2d_1[0, 1]  : {idx_12}\")\n",
    "print(f\"arr_2d_1[1, 1]  : {idx_13}\")\n",
    "print(f\"arr_2d_1[-1, 0] : {idx_14}\")"
   ]
  },
  {
   "cell_type": "code",
   "execution_count": null,
   "metadata": {},
   "outputs": [],
   "source": [
    "arr_3d_1 = np.array([[[2, 3], [0, 4]], [[7, 8], [4, 2]]])\n",
    "\n",
    "idx_15 = arr_3d_1[0]  # [[2 3] [0 4]]\n",
    "idx_16 = arr_3d_1[-1]  # [[7 8] [4 2]]\n",
    "idx_17 = arr_3d_1[0, 0]  # [2 3]\n",
    "idx_18 = arr_3d_1[0, -1]  # [0 4]\n",
    "idx_19 = arr_3d_1[-1, 1]  # [4 2]\n",
    "idx_20 = arr_3d_1[0, 0, 0]  # 2\n",
    "idx_21 = arr_3d_1[1, 0, 1]  # 8\n",
    "\n",
    "# log\n",
    "print(f\"arr_3d_1[0] :\\n{idx_15}\", end=f\"\\n{'-' * 50}\\n\")\n",
    "print(f\"arr_3d_1[-1] :\\n{idx_16}\", end=f\"\\n{'-' * 50}\\n\")\n",
    "print(f\"arr_3d_1[0, 0] :\\n{idx_17}\", end=f\"\\n{'-' * 50}\\n\")\n",
    "print(f\"arr_3d_1[0, -1] :\\n{idx_18}\", end=f\"\\n{'-' * 50}\\n\")\n",
    "print(f\"arr_3d_1[-1, 1] :\\n{idx_19}\", end=f\"\\n{'-' * 50}\\n\")\n",
    "print(f\"arr_3d_1[0, 0, 0] :\\n{idx_20}\", end=f\"\\n{'-' * 50}\\n\")\n",
    "print(f\"arr_3d_1[1, 0, 1] :\\n{idx_21}\")"
   ]
  },
  {
   "cell_type": "markdown",
   "metadata": {},
   "source": [
    "## <a id='toc2_1_'></a>[Update values by index](#toc0_)\n"
   ]
  },
  {
   "cell_type": "code",
   "execution_count": null,
   "metadata": {},
   "outputs": [],
   "source": [
    "arr_1d_2 = np.array([0, 0, 0, 0])\n",
    "arr_1d_3 = arr_1d_1  # this is not a `copy` of <arr>!\n",
    "\n",
    "# update values by index\n",
    "arr_1d_2[0] = 1\n",
    "arr_1d_2[-3] = 2\n",
    "arr_1d_2[2] = 3\n",
    "arr_1d_2[-1] = 4\n",
    "\n",
    "# log\n",
    "print(f\"arr_1d_2 : {arr_1d_2}\")\n",
    "print(f\"arr_1d_3 : {arr_1d_3}\")"
   ]
  },
  {
   "cell_type": "code",
   "execution_count": null,
   "metadata": {},
   "outputs": [],
   "source": [
    "arr_2d_2 = np.array([[1, 2, 3], [4, 5, 6]])\n",
    "\n",
    "# update values by index\n",
    "arr_2d_2[0, 0] = 0\n",
    "arr_2d_2[0, -1] = 5\n",
    "arr_2d_2[1, 1] = 7\n",
    "\n",
    "# log\n",
    "print(f\"arr_2d_2:\\n{arr_2d_2}\")"
   ]
  },
  {
   "cell_type": "markdown",
   "metadata": {},
   "source": [
    "# <a id='toc3_'></a>[NumPy - Slice](#toc0_)\n",
    "\n",
    "- Extracts portions of an array by specifying a range of indices.\n",
    "- Uses the format `array[start:stop:step]`, where:\n",
    "  - `start`: starting index (inclusive),\n",
    "  - `stop`: ending index (exclusive),\n",
    "  - `step`: interval between indices.\n",
    "- Creates views instead of copies, meaning changes affect the original array.\n",
    "\n",
    "📝 Docs:\n",
    "\n",
    "- Indexing on `ndarrays`: [numpy.org/doc/stable/user/basics.indexing.html](https://numpy.org/doc/stable/user/basics.indexing.html)\n",
    "- Indexing routines: [numpy.org/doc/stable/reference/routines.indexing.html](https://numpy.org/doc/stable/reference/routines.indexing.html)\n"
   ]
  },
  {
   "cell_type": "code",
   "execution_count": null,
   "metadata": {},
   "outputs": [],
   "source": [
    "arr_1d_4 = np.array([8, 9, 0, 3, 1, 6, 4, 2])\n",
    "\n",
    "slc_1 = arr_1d_4[0:3]  # [8 9 0]\n",
    "slc_2 = arr_1d_4[:3]  # [8 9 0]\n",
    "slc_3 = arr_1d_4[:3:]  # [8 9 0]\n",
    "slc_4 = arr_1d_4[:3:1]  # [8 9 0]\n",
    "slc_5 = arr_1d_4[0:3:1]  # [8 9 0]\n",
    "slc_6 = arr_1d_4[5:8]  # [6 4 2]\n",
    "slc_7 = arr_1d_4[5:]  # [6 4 2]\n",
    "slc_8 = arr_1d_4[5:8:]  # [6 4 2]\n",
    "slc_9 = arr_1d_4[5::]  # [6 4 2]\n",
    "slc_10 = arr_1d_4[5::1]  # [6 4 2]\n",
    "slc_11 = arr_1d_4[5:1000]  # [6 4 2]\n",
    "\n",
    "# log\n",
    "print(f\"arr_1d_4[0:3]    : {slc_1}\")\n",
    "print(f\"arr_1d_4[:3]     : {slc_2}\")\n",
    "print(f\"arr_1d_4[:3:]    : {slc_3}\")\n",
    "print(f\"arr_1d_4[:3:1]   : {slc_4}\")\n",
    "print(f\"arr_1d_4[0:3:1]  : {slc_5}\")\n",
    "print(f\"arr_1d_4[5:8]    : {slc_6}\")\n",
    "print(f\"arr_1d_4[5:]     : {slc_7}\")\n",
    "print(f\"arr_1d_4[5:8:]   : {slc_8}\")\n",
    "print(f\"arr_1d_4[5::]    : {slc_9}\")\n",
    "print(f\"arr_1d_4[5::1]   : {slc_10}\")\n",
    "print(f\"arr_1d_4[5:1000] : {slc_11}\")"
   ]
  },
  {
   "cell_type": "code",
   "execution_count": null,
   "metadata": {},
   "outputs": [],
   "source": [
    "arr_2d_3 = np.array([[2, 3, 4], [7, 9, 8], [6, 5, 0]])\n",
    "\n",
    "slc_12 = arr_2d_3[0, 0:2]  # [2 3]\n",
    "slc_13 = arr_2d_3[0, :2]  # [2 3]\n",
    "slc_14 = arr_2d_3[0:2, 1:3]  # [[3 4] [9 8]]\n",
    "slc_15 = arr_2d_3[:2, 1:]  # [[3 4] [9 8]]\n",
    "slc_16 = arr_2d_3[0:3, 1]  # [3 9 5]\n",
    "slc_17 = arr_2d_3[:3, 1]  # [3 9 5]\n",
    "slc_18 = arr_2d_3[0:, 1]  # [3 9 5]\n",
    "slc_19 = arr_2d_3[:, 1]  # [3 9 5]\n",
    "\n",
    "# log\n",
    "print(f\"arr_2d_3[0, 0:2] :\\n{slc_12}\", end=f\"\\n{'-' * 50}\\n\")\n",
    "print(f\"arr_2d_3[0, :2] :\\n{slc_13}\", end=f\"\\n{'-' * 50}\\n\")\n",
    "print(f\"arr_2d_3[0:2, 1:3] :\\n{slc_14}\", end=f\"\\n{'-' * 50}\\n\")\n",
    "print(f\"arr_2d_3[:2, 1:] :\\n{slc_15}\", end=f\"\\n{'-' * 50}\\n\")\n",
    "print(f\"arr_2d_3[0:3, 1] :\\n{slc_16}\", end=f\"\\n{'-' * 50}\\n\")\n",
    "print(f\"arr_2d_3[:3, 1] :\\n{slc_17}\", end=f\"\\n{'-' * 50}\\n\")\n",
    "print(f\"arr_2d_3[0:, 1] :\\n{slc_18}\", end=f\"\\n{'-' * 50}\\n\")\n",
    "print(f\"arr_2d_3[:, 1] :\\n{slc_19}\")"
   ]
  },
  {
   "cell_type": "code",
   "execution_count": null,
   "metadata": {},
   "outputs": [],
   "source": [
    "arr_3d_2 = np.array([[[2, 3], [0, 4]], [[7, 8], [4, 2]]])\n",
    "\n",
    "slc_20 = arr_3d_2[0, 0, 0:2]  # [2 3]\n",
    "slc_21 = arr_3d_2[0, 0, 0:]  # [2 3]\n",
    "slc_22 = arr_3d_2[0, 0, :2]  # [2 3]\n",
    "slc_23 = arr_3d_2[0, 0, :]  # [2 3]\n",
    "slc_24 = arr_3d_2[0, 0:2, 1]  # [3 4]\n",
    "slc_25 = arr_3d_2[0, :, 1]  # [3 4]\n",
    "slc_26 = arr_3d_2[0, :, :]  # [[2 3] [0 4]]  /  Same as <arr_3d[0, ...]>\n",
    "slc_27 = arr_3d_2[0]  # [[2 3] [0 4]]\n",
    "slc_28 = arr_3d_2[0:2, 0, 0:2]  # [[2 3] [7 8]]\n",
    "slc_29 = arr_3d_2[:, 0, :]  # [[2 3] [7 8]]\n",
    "\n",
    "# log\n",
    "print(f\"arr_3d_2[0, 0, 0:2] :\\n{slc_20}\", end=f\"\\n{'-' * 50}\\n\")\n",
    "print(f\"arr_3d_2[0, 0, 0:] :\\n{slc_21}\", end=f\"\\n{'-' * 50}\\n\")\n",
    "print(f\"arr_3d_2[0, 0, :2] :\\n{slc_22}\", end=f\"\\n{'-' * 50}\\n\")\n",
    "print(f\"arr_3d_2[0, 0, :] :\\n{slc_23}\", end=f\"\\n{'-' * 50}\\n\")\n",
    "print(f\"arr_3d_2[0, 0:2, 1] :\\n{slc_24}\", end=f\"\\n{'-' * 50}\\n\")\n",
    "print(f\"arr_3d_2[0, :, 1] :\\n{slc_25}\", end=f\"\\n{'-' * 50}\\n\")\n",
    "print(f\"arr_3d_2[0, :, :] :\\n{slc_26}\", end=f\"\\n{'-' * 50}\\n\")\n",
    "print(f\"arr_3d_2[0] :\\n{slc_27}\", end=f\"\\n{'-' * 50}\\n\")\n",
    "print(f\"arr_3d_2[0:2, 0, 0:2] :\\n{slc_28}\", end=f\"\\n{'-' * 50}\\n\")\n",
    "print(f\"arr_3d_2[:, 0, :] :\\n{slc_29}\")"
   ]
  },
  {
   "cell_type": "markdown",
   "metadata": {},
   "source": [
    "## <a id='toc3_1_'></a>[Update values by slice](#toc0_)\n"
   ]
  },
  {
   "cell_type": "code",
   "execution_count": null,
   "metadata": {},
   "outputs": [],
   "source": [
    "arr_1d_5 = np.array([0, 0, 0, 0])\n",
    "\n",
    "# update values by index\n",
    "arr_1d_5[1:] = 1\n",
    "arr_1d_5[:3] = 2\n",
    "arr_1d_5[1:3] = [3, 4]\n",
    "\n",
    "# log\n",
    "print(f\"arr_1d_5 : {arr_1d_5}\")"
   ]
  },
  {
   "cell_type": "code",
   "execution_count": null,
   "metadata": {},
   "outputs": [],
   "source": [
    "arr_2d_4 = np.array([[1, 2, 3], [4, 5, 6]])\n",
    "\n",
    "# update values by index\n",
    "arr_2d_4[0] = 0\n",
    "arr_2d_4[1] = 1\n",
    "arr_2d_4[0, 1:] = 2\n",
    "arr_2d_4[1, 1:] = 3\n",
    "arr_2d_4[:, 2] = 4\n",
    "\n",
    "# log\n",
    "print(f\"arr_2d_4:\\n{arr_2d_4}\")"
   ]
  },
  {
   "cell_type": "markdown",
   "metadata": {},
   "source": [
    "# <a id='toc4_'></a>[NumPy - Mask & Filter](#toc0_)\n"
   ]
  },
  {
   "cell_type": "code",
   "execution_count": null,
   "metadata": {},
   "outputs": [],
   "source": [
    "arr_1d_6 = np.array([1, 5, 2, 4, 2])\n",
    "arr_2d_5 = np.array([[1, 2, 3], [4, 5, 6], [7, 8, 9]])"
   ]
  },
  {
   "cell_type": "code",
   "execution_count": null,
   "metadata": {},
   "outputs": [],
   "source": [
    "# mask and filter (python method)\n",
    "filtered_1 = list(filter(lambda v: v > 2, arr_1d_6))\n",
    "filtered_2 = list(filter(lambda v: v % 2 == 0, arr_2d_5.ravel()))\n",
    "\n",
    "# log\n",
    "print(f\"filtered_1 : {filtered_1}\")\n",
    "print(f\"filtered_2 : {filtered_2}\")"
   ]
  },
  {
   "cell_type": "code",
   "execution_count": null,
   "metadata": {},
   "outputs": [],
   "source": [
    "# mask and filter (NumPy method)\n",
    "filtered_3 = arr_1d_6[arr_1d_6 > 2]\n",
    "filtered_4 = arr_2d_5[arr_2d_5 % 2 == 0]\n",
    "\n",
    "# log\n",
    "print(f\"filtered_3 : {filtered_3}\")\n",
    "print(f\"filtered_4 : {filtered_4}\")"
   ]
  },
  {
   "cell_type": "markdown",
   "metadata": {},
   "source": [
    "# <a id='toc5_'></a>[NumPy - Advanced index & Slice](#toc0_)\n",
    "\n",
    "📝 Docs:\n",
    "\n",
    "- Indexing on `ndarrays`: [numpy.org/doc/stable/user/basics.indexing.html](https://numpy.org/doc/stable/user/basics.indexing.html)\n",
    "- Indexing routines: [numpy.org/doc/stable/reference/routines.indexing.html](https://numpy.org/doc/stable/reference/routines.indexing.html)\n"
   ]
  },
  {
   "cell_type": "markdown",
   "metadata": {},
   "source": [
    "## <a id='toc5_1_'></a>[Integer array indexing](#toc0_)\n"
   ]
  },
  {
   "cell_type": "code",
   "execution_count": null,
   "metadata": {},
   "outputs": [],
   "source": [
    "arr_1d_7 = np.array([1, 2, 3, 4, 5, 6, 7, 8, 9])\n",
    "\n",
    "iai_1 = arr_1d_7[[0, 1, 2]]  # [1 2 3]\n",
    "iai_2 = arr_1d_7[np.array([0, 1, 2])]  # [1 2 3]\n",
    "iai_3 = arr_1d_7[[0, 4, 7]]  # [1 5 8]\n",
    "iai_4 = arr_1d_7[[-1, -2, -3]]  # [9 8 7]\n",
    "\n",
    "# log\n",
    "print(f\"arr_1d_7[[0, 1, 2]]           : {iai_1}\")\n",
    "print(f\"arr_1d_7[np.array([0, 1, 2])] : {iai_2}\")\n",
    "print(f\"arr_1d_7[[0, 4, 7]]           : {iai_3}\")\n",
    "print(f\"arr_1d_7[[-1, -2, -3]]        : {iai_4}\")"
   ]
  },
  {
   "cell_type": "code",
   "execution_count": null,
   "metadata": {},
   "outputs": [],
   "source": [
    "arr_2d_6 = np.array([[1, 2, 3], [4, 5, 6], [7, 8, 9]])\n",
    "\n",
    "iai_5 = arr_2d_6[[0, 2]]  # [[1 2 3] [7 8 9]]\n",
    "iai_6 = arr_2d_6[[0, 2], 0]  # [1 7]\n",
    "iai_7 = arr_2d_6[[0, 2], [1, 2]]  # [2 9]\n",
    "iai_8 = arr_2d_6[1, [0, 2]]  # [4 6]\n",
    "iai_9 = arr_2d_6[[[0, 0], [2, 2]], [[0, 2], [0, 2]]]  # [[1 3] [7 9]]\n",
    "\n",
    "# log\n",
    "print(f\"arr_2d_6[[0, 2]] :\\n{iai_5}\", end=f\"\\n{'-' * 50}\\n\")\n",
    "print(f\"arr_2d_6[[0, 2], 0] :\\n{iai_6}\", end=f\"\\n{'-' * 50}\\n\")\n",
    "print(f\"arr_2d_6[[0, 2], [1, 2]] :\\n{iai_7}\", end=f\"\\n{'-' * 50}\\n\")\n",
    "print(f\"arr_2d_6[1, [0, 2]] :\\n{iai_8}\", end=f\"\\n{'-' * 50}\\n\")\n",
    "print(f\"arr_2d_6[[[0, 0], [2, 2]], [[0, 2], [0, 2]]] :\\n{iai_9}\")"
   ]
  },
  {
   "cell_type": "markdown",
   "metadata": {},
   "source": [
    "## <a id='toc5_2_'></a>[Boolean array indexing](#toc0_)\n"
   ]
  },
  {
   "cell_type": "code",
   "execution_count": null,
   "metadata": {},
   "outputs": [],
   "source": [
    "arr_1d_8 = np.array([1, 2, 3, 4, 5, 6, 7, 8, 9])\n",
    "\n",
    "# boolean indexing\n",
    "boolean_idx_1 = arr_1d_8 % 2 == 0  # [False True False True False True False True False]\n",
    "boolean_idx_2 = arr_1d_8 > 5  # [False False False False False True True True True]\n",
    "boolean_idx_3 = [True, True, False, False, True, True, False, False, True]\n",
    "\n",
    "# indexing\n",
    "bai_1 = arr_1d_8[boolean_idx_1]  # [2 4 6 8]\n",
    "bai_2 = arr_1d_8[boolean_idx_2]  # [6 7 8 9]\n",
    "bai_3 = arr_1d_8[boolean_idx_3]  # [1 2 5 6 9]\n",
    "\n",
    "# log\n",
    "print(f\"arr_1d_8[boolean_idx_1] : {bai_1}\")\n",
    "print(f\"arr_1d_8[boolean_idx_2] : {bai_2}\")\n",
    "print(f\"arr_1d_8[boolean_idx_3] : {bai_3}\")"
   ]
  },
  {
   "cell_type": "code",
   "execution_count": null,
   "metadata": {},
   "outputs": [],
   "source": [
    "arr_2d_7 = np.array([[1, 2, 3], [4, 5, 6], [7, 8, 9]])\n",
    "\n",
    "# boolean indexing\n",
    "boolean_idx_4 = arr_2d_7 > 3  # [False False False True True True True True True]\n",
    "boolean_idx_5 = np.sum(arr_2d_7, axis=1) < 15  # [True False False]\n",
    "boolean_idx_6 = np.sum(arr_2d_7, axis=0) < 16  # [True True  False]\n",
    "\n",
    "# indexing\n",
    "bai_4 = arr_2d_7[boolean_idx_4]\n",
    "bai_5 = arr_2d_7[boolean_idx_5, boolean_idx_6]\n",
    "\n",
    "# log\n",
    "print(f\"arr_2d_7[boolean_idx_4]                : {bai_4}\")\n",
    "print(f\"arr_2d_7[boolean_idx_5, boolean_idx_6] : {bai_5}\")"
   ]
  }
 ],
 "metadata": {
  "author_email": "AmirhosseinHeydari78@gmail.com",
  "author_github": "https://github.com/mr-pylin",
  "author_name": "Amirhossein Heydari",
  "kernelspec": {
   "display_name": "numpy-workshop (3.13.7)",
   "language": "python",
   "name": "python3"
  },
  "language_info": {
   "codemirror_mode": {
    "name": "ipython",
    "version": 3
   },
   "file_extension": ".py",
   "mimetype": "text/x-python",
   "name": "python",
   "nbconvert_exporter": "python",
   "pygments_lexer": "ipython3",
   "version": "3.13.7"
  },
  "origin_repo": "https://github.com/mr-pylin/numpy-workshop"
 },
 "nbformat": 4,
 "nbformat_minor": 2
}