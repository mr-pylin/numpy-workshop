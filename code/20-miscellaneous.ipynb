{
 "cells": [
  {
   "cell_type": "markdown",
   "metadata": {},
   "source": [
    "📝 **Author:** Amirhossein Heydari - 📧 **Email:** <amirhosseinheydari78@gmail.com> - 📍 **Origin:** [mr-pylin/numpy-workshop](https://github.com/mr-pylin/numpy-workshop)\n",
    "\n",
    "---\n"
   ]
  },
  {
   "cell_type": "markdown",
   "metadata": {},
   "source": [
    "**Table of contents**<a id='toc0_'></a>    \n",
    "- [Dependencies](#toc1_)    \n",
    "- [NumPy - Miscellaneous](#toc2_)    \n",
    "  - [Common Bugs](#toc2_1_)    \n",
    "    - [Data Type is Important](#toc2_1_1_)    \n",
    "    - [NDArray to Python List](#toc2_1_2_)    \n",
    "    - [Soft Copy vs Hard Copy](#toc2_1_3_)    \n",
    "\n",
    "<!-- vscode-jupyter-toc-config\n",
    "\tnumbering=false\n",
    "\tanchor=true\n",
    "\tflat=false\n",
    "\tminLevel=1\n",
    "\tmaxLevel=6\n",
    "\t/vscode-jupyter-toc-config -->\n",
    "<!-- THIS CELL WILL BE REPLACED ON TOC UPDATE. DO NOT WRITE YOUR TEXT IN THIS CELL -->"
   ]
  },
  {
   "cell_type": "markdown",
   "metadata": {},
   "source": [
    "# <a id='toc1_'></a>[Dependencies](#toc0_)\n"
   ]
  },
  {
   "cell_type": "code",
   "execution_count": null,
   "metadata": {},
   "outputs": [],
   "source": [
    "import numpy as np"
   ]
  },
  {
   "cell_type": "markdown",
   "metadata": {},
   "source": [
    "# <a id='toc2_'></a>[NumPy - Miscellaneous](#toc0_)\n"
   ]
  },
  {
   "cell_type": "markdown",
   "metadata": {},
   "source": [
    "## <a id='toc2_1_'></a>[Common Bugs](#toc0_)\n"
   ]
  },
  {
   "cell_type": "markdown",
   "metadata": {},
   "source": [
    "### <a id='toc2_1_1_'></a>[Data Type is Important](#toc0_)\n"
   ]
  },
  {
   "cell_type": "code",
   "execution_count": null,
   "metadata": {},
   "outputs": [],
   "source": [
    "arr_1d_1 = np.array([\"a\", \"b\", \"c\"])  # 1 Byte per element\n",
    "\n",
    "# log\n",
    "print(f\"arr_1d_1.dtype  : {arr_1d_1.dtype}\")\n",
    "print(f\"arr_1d_1.nbytes : {arr_1d_1.nbytes}\")"
   ]
  },
  {
   "cell_type": "code",
   "execution_count": null,
   "metadata": {},
   "outputs": [],
   "source": [
    "arr_1d_1[2] = \"de\"  # 2 Bytes!\n",
    "\n",
    "# log\n",
    "print(f\"arr_1d_1 : {arr_1d_1}\")"
   ]
  },
  {
   "cell_type": "markdown",
   "metadata": {},
   "source": [
    "### <a id='toc2_1_2_'></a>[NDArray to Python List](#toc0_)\n"
   ]
  },
  {
   "cell_type": "code",
   "execution_count": null,
   "metadata": {},
   "outputs": [],
   "source": [
    "arr_1d_2 = np.array([1, 2, 3, 4, 5])"
   ]
  },
  {
   "cell_type": "code",
   "execution_count": null,
   "metadata": {},
   "outputs": [],
   "source": [
    "# wrong conversion\n",
    "list_1 = list(arr_1d_2)\n",
    "\n",
    "# log\n",
    "print(f\"list_1          : {list_1}\")\n",
    "print(f\"type(list_1)    : {type(list_1)}\")\n",
    "print(f\"type(list_1[0]) : {type(list_1[0])}\")"
   ]
  },
  {
   "cell_type": "code",
   "execution_count": null,
   "metadata": {},
   "outputs": [],
   "source": [
    "# correct conversion\n",
    "list_2 = arr_1d_2.tolist()\n",
    "\n",
    "# log\n",
    "print(f\"list_2          : {list_2}\")\n",
    "print(f\"type(list_2)    : {type(list_2)}\")\n",
    "print(f\"type(list_2[0]) : {type(list_2[0])}\")"
   ]
  },
  {
   "cell_type": "markdown",
   "metadata": {},
   "source": [
    "### <a id='toc2_1_3_'></a>[Soft Copy vs Hard Copy](#toc0_)\n",
    "\n",
    "- Soft/Shallow Copy\n",
    "  - A new object that references the original data\n",
    "- Hard/Deep Copy\n",
    "  - A completely independent copy of the original data\n"
   ]
  },
  {
   "cell_type": "code",
   "execution_count": null,
   "metadata": {},
   "outputs": [],
   "source": [
    "arr_2d_1 = np.array([[1, 2], [3, 4]])\n",
    "\n",
    "# a pointer/referencce to the original array\n",
    "arr_2d_2 = arr_2d_1\n",
    "\n",
    "# assignment\n",
    "arr_2d_2[0] = [5, 6]\n",
    "arr_2d_2[1, 0] = 0\n",
    "\n",
    "# log\n",
    "print(f\"arr_2d_1:\\n{arr_2d_1}\", end=f\"\\n{'-' * 50}\\n\")\n",
    "print(f\"arr_2d_2:\\n{arr_2d_2}\")"
   ]
  },
  {
   "cell_type": "code",
   "execution_count": null,
   "metadata": {},
   "outputs": [],
   "source": [
    "arr_2d_3 = np.array([[1, 2], [3, 4]])\n",
    "\n",
    "# soft/shallow copy\n",
    "arr_2d_4 = arr_2d_3[:]  # also arr_2d_3.view()\n",
    "\n",
    "# assignment\n",
    "arr_2d_4[0] = [5, 6]\n",
    "arr_2d_4[1, 0] = 0\n",
    "\n",
    "# log\n",
    "print(f\"arr_2d_3:\\n{arr_2d_3}\", end=f\"\\n{'-' * 50}\\n\")\n",
    "print(f\"arr_2d_4:\\n{arr_2d_4}\")"
   ]
  },
  {
   "cell_type": "code",
   "execution_count": null,
   "metadata": {},
   "outputs": [],
   "source": [
    "arr_2d_5 = np.array([[1, 2], [3, 4]])\n",
    "\n",
    "# hard/deep copy\n",
    "arr_2d_6 = arr_2d_5.copy()\n",
    "\n",
    "# assignment\n",
    "arr_2d_6[0] = [5, 6]\n",
    "arr_2d_6[1, 0] = 0\n",
    "\n",
    "# log\n",
    "print(f\"arr_2d_5:\\n{arr_2d_5}\", end=f\"\\n{'-' * 50}\\n\")\n",
    "print(f\"arr_2d_6:\\n{arr_2d_6}\")"
   ]
  }
 ],
 "metadata": {
  "author_email": "AmirhosseinHeydari78@gmail.com",
  "author_github": "https://github.com/mr-pylin",
  "author_name": "Amirhossein Heydari",
  "kernelspec": {
   "display_name": "numpy-workshop-0psJcWas-py3.12",
   "language": "python",
   "name": "python3"
  },
  "language_info": {
   "codemirror_mode": {
    "name": "ipython",
    "version": 3
   },
   "file_extension": ".py",
   "mimetype": "text/x-python",
   "name": "python",
   "nbconvert_exporter": "python",
   "pygments_lexer": "ipython3",
   "version": "3.12.8"
  },
  "origin_repo": "https://github.com/mr-pylin/numpy-workshop"
 },
 "nbformat": 4,
 "nbformat_minor": 2
}
