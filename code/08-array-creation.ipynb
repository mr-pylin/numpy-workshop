{
 "cells": [
  {
   "cell_type": "markdown",
   "metadata": {},
   "source": [
    "📝 **Author:** Amirhossein Heydari - 📧 **Email:** <amirhosseinheydari78@gmail.com> - 📍 **Origin:** [mr-pylin/numpy-workshop](https://github.com/mr-pylin/numpy-workshop)\n",
    "\n",
    "---\n"
   ]
  },
  {
   "cell_type": "markdown",
   "metadata": {},
   "source": [
    "**Table of contents**<a id='toc0_'></a>    \n",
    "- [Dependencies](#toc1_)    \n",
    "- [NumPy - Array Creation](#toc2_)    \n",
    "  - [From Shape or Value](#toc2_1_)    \n",
    "    - [numpy.zeros](#toc2_1_1_)    \n",
    "    - [numpy.zeros_like](#toc2_1_2_)    \n",
    "    - [numpy.ones](#toc2_1_3_)    \n",
    "    - [numpy.ones_like](#toc2_1_4_)    \n",
    "    - [numpy.full](#toc2_1_5_)    \n",
    "    - [numpy.full_like](#toc2_1_6_)    \n",
    "    - [numpy.empty](#toc2_1_7_)    \n",
    "    - [numpy.empty_like](#toc2_1_8_)    \n",
    "    - [numpy.eye](#toc2_1_9_)    \n",
    "  - [From Existing Data](#toc2_2_)    \n",
    "    - [numpy.array](#toc2_2_1_)    \n",
    "    - [numpy.asarray](#toc2_2_2_)    \n",
    "    - [numpy.copy](#toc2_2_3_)    \n",
    "  - [Numerical Ranges](#toc2_3_)    \n",
    "    - [numpy.arange](#toc2_3_1_)    \n",
    "    - [numpy.linspace](#toc2_3_2_)    \n",
    "    - [numpy.meshgrid](#toc2_3_3_)    \n",
    "\n",
    "<!-- vscode-jupyter-toc-config\n",
    "\tnumbering=false\n",
    "\tanchor=true\n",
    "\tflat=false\n",
    "\tminLevel=1\n",
    "\tmaxLevel=6\n",
    "\t/vscode-jupyter-toc-config -->\n",
    "<!-- THIS CELL WILL BE REPLACED ON TOC UPDATE. DO NOT WRITE YOUR TEXT IN THIS CELL -->"
   ]
  },
  {
   "cell_type": "markdown",
   "metadata": {},
   "source": [
    "# <a id='toc1_'></a>[Dependencies](#toc0_)\n"
   ]
  },
  {
   "cell_type": "code",
   "execution_count": null,
   "metadata": {},
   "outputs": [],
   "source": [
    "import numpy as np"
   ]
  },
  {
   "cell_type": "markdown",
   "metadata": {},
   "source": [
    "# <a id='toc2_'></a>[NumPy - Array Creation](#toc0_)\n",
    "\n",
    "- Array creation routines in NumPy provide various methods to create arrays with different properties and initial values.\n",
    "\n",
    "📝 Doc:\n",
    "\n",
    "- Array creation routines: [numpy.org/doc/stable/reference/routines.array-creation.html](https://numpy.org/doc/stable/reference/routines.array-creation.html)\n"
   ]
  },
  {
   "cell_type": "markdown",
   "metadata": {},
   "source": [
    "## <a id='toc2_1_'></a>[From Shape or Value](#toc0_)\n",
    "\n",
    "<table style=\"margin: 0 auto;\">\n",
    "  <thead>\n",
    "    <tr>\n",
    "      <th style=\"text-align: center;\">Function</th>\n",
    "      <th style=\"text-align: center;\">Description</th>\n",
    "      <th style=\"text-align: center;\">Details</th>\n",
    "    </tr>\n",
    "  </thead>\n",
    "  <tbody>\n",
    "    <tr>\n",
    "      <td><code>np.zeros</code></td>\n",
    "      <td>Return a new array of given shape and type, filled with zeros</td>\n",
    "      <td style=\"text-align: center;\"><a href=\"https://numpy.org/doc/stable/reference/generated/numpy.zeros.html\">link</a></td>\n",
    "    </tr>\n",
    "    <tr>\n",
    "      <td><code>np.zeros_like</code></td>\n",
    "      <td>Return an array of zeros with the same shape and type as a given array</td>\n",
    "      <td style=\"text-align: center;\"><a href=\"https://numpy.org/doc/stable/reference/generated/numpy.zeros_like.html\">link</a></td>\n",
    "    </tr>\n",
    "    <tr>\n",
    "      <td><code>np.ones</code></td>\n",
    "      <td>Return a new array of given shape and type, filled with ones</td>\n",
    "      <td style=\"text-align: center;\"><a href=\"https://numpy.org/doc/stable/reference/generated/numpy.ones.html\">link</a></td>\n",
    "    </tr>\n",
    "    <tr>\n",
    "      <td><code>np.ones_like</code></td>\n",
    "      <td>Return an array of ones with the same shape and type as a given array</td>\n",
    "      <td style=\"text-align: center;\"><a href=\"https://numpy.org/doc/stable/reference/generated/numpy.ones_like.html\">link</a></td>\n",
    "    </tr>\n",
    "    <tr>\n",
    "      <td><code>np.full</code></td>\n",
    "      <td>Return a new array of given shape and type, filled with fill_value</td>\n",
    "      <td style=\"text-align: center;\"><a href=\"https://numpy.org/doc/stable/reference/generated/numpy.full.html\">link</a></td>\n",
    "    </tr>\n",
    "    <tr>\n",
    "      <td><code>np.full_like</code></td>\n",
    "      <td>Return a full array with the same shape and type as a given array</td>\n",
    "      <td style=\"text-align: center;\"><a href=\"https://numpy.org/doc/stable/reference/generated/numpy.full_like.html\">link</a></td>\n",
    "    </tr>\n",
    "    <tr>\n",
    "      <td><code>np.empty</code></td>\n",
    "      <td>Return a new array of given shape and type, without initializing entries</td>\n",
    "      <td style=\"text-align: center;\"><a href=\"https://numpy.org/doc/stable/reference/generated/numpy.empty.html\">link</a></td>\n",
    "    </tr>\n",
    "    <tr>\n",
    "      <td><code>np.empty_like</code></td>\n",
    "      <td>Return a new array with the same shape and type as a given array</td>\n",
    "      <td style=\"text-align: center;\"><a href=\"https://numpy.org/doc/stable/reference/generated/numpy.empty_like.html\">link</a></td>\n",
    "    </tr>\n",
    "    <tr>\n",
    "      <td><code>np.eye</code></td>\n",
    "      <td>Return a 2-D array with ones on the diagonal and zeros elsewhere</td>\n",
    "      <td style=\"text-align: center;\"><a href=\"https://numpy.org/doc/stable/reference/generated/numpy.eye.html\">link</a></td>\n",
    "    </tr>\n",
    "  </tbody>\n",
    "</table>\n"
   ]
  },
  {
   "cell_type": "markdown",
   "metadata": {},
   "source": [
    "### <a id='toc2_1_1_'></a>[numpy.zeros](#toc0_)\n"
   ]
  },
  {
   "cell_type": "code",
   "execution_count": null,
   "metadata": {},
   "outputs": [],
   "source": [
    "zeros_1 = np.zeros(4)\n",
    "zeros_2 = np.zeros((2, 3))\n",
    "zeros_3 = np.zeros(shape=(2, 3, 2), dtype=np.int_)\n",
    "\n",
    "# log\n",
    "print(f\"zeros_1 :\\n{zeros_1}\", end=f\"\\n{'-' * 50}\\n\")\n",
    "print(f\"zeros_2 :\\n{zeros_2}\", end=f\"\\n{'-' * 50}\\n\")\n",
    "print(f\"zeros_3 :\\n{zeros_3}\")"
   ]
  },
  {
   "cell_type": "markdown",
   "metadata": {},
   "source": [
    "### <a id='toc2_1_2_'></a>[numpy.zeros_like](#toc0_)\n"
   ]
  },
  {
   "cell_type": "code",
   "execution_count": null,
   "metadata": {},
   "outputs": [],
   "source": [
    "zeros_like_1 = np.zeros_like(zeros_1)\n",
    "zeros_like_2 = np.zeros_like(zeros_2, bool, shape=(2, 2))\n",
    "zeros_like_3 = np.zeros_like(a=zeros_3, dtype=int)\n",
    "\n",
    "# log\n",
    "print(f\"zeros_like_1 :\\n{zeros_like_1}\", end=f\"\\n{'-' * 50}\\n\")\n",
    "print(f\"zeros_like_2 :\\n{zeros_like_2}\", end=f\"\\n{'-' * 50}\\n\")\n",
    "print(f\"zeros_like_3 :\\n{zeros_like_3}\")"
   ]
  },
  {
   "cell_type": "markdown",
   "metadata": {},
   "source": [
    "### <a id='toc2_1_3_'></a>[numpy.ones](#toc0_)\n"
   ]
  },
  {
   "cell_type": "code",
   "execution_count": null,
   "metadata": {},
   "outputs": [],
   "source": [
    "ones_1 = np.ones(4)\n",
    "ones_2 = np.ones((2, 3))\n",
    "ones_3 = np.ones(shape=(2, 3, 2), dtype=np.int_)\n",
    "\n",
    "\n",
    "# log\n",
    "print(f\"ones_1 :\\n{ones_1}\", end=f\"\\n{'-' * 50}\\n\")\n",
    "print(f\"ones_2 :\\n{ones_2}\", end=f\"\\n{'-' * 50}\\n\")\n",
    "print(f\"ones_3 :\\n{ones_3}\")"
   ]
  },
  {
   "cell_type": "markdown",
   "metadata": {},
   "source": [
    "### <a id='toc2_1_4_'></a>[numpy.ones_like](#toc0_)\n"
   ]
  },
  {
   "cell_type": "code",
   "execution_count": null,
   "metadata": {},
   "outputs": [],
   "source": [
    "ones_like_1 = np.ones_like(ones_1)\n",
    "ones_like_2 = np.ones_like(ones_2, bool, shape=3)\n",
    "ones_like_3 = np.ones_like(a=ones_3, dtype=int)\n",
    "\n",
    "# log\n",
    "print(f\"ones_like_1 :\\n{ones_like_1}\", end=f\"\\n{'-' * 50}\\n\")\n",
    "print(f\"ones_like_2 :\\n{ones_like_2}\", end=f\"\\n{'-' * 50}\\n\")\n",
    "print(f\"ones_like_3 :\\n{ones_like_3}\")"
   ]
  },
  {
   "cell_type": "markdown",
   "metadata": {},
   "source": [
    "### <a id='toc2_1_5_'></a>[numpy.full](#toc0_)\n"
   ]
  },
  {
   "cell_type": "code",
   "execution_count": null,
   "metadata": {},
   "outputs": [],
   "source": [
    "full_1 = np.full(4, 0)\n",
    "full_2 = np.full((2, 3), 1)\n",
    "full_3 = np.full((2, 3, 2), fill_value=2)\n",
    "\n",
    "# log\n",
    "print(f\"full_1 :\\n{full_1}\", end=f\"\\n{'-' * 50}\\n\")\n",
    "print(f\"full_2 :\\n{full_2}\", end=f\"\\n{'-' * 50}\\n\")\n",
    "print(f\"full_3 :\\n{full_3}\")"
   ]
  },
  {
   "cell_type": "markdown",
   "metadata": {},
   "source": [
    "### <a id='toc2_1_6_'></a>[numpy.full_like](#toc0_)\n"
   ]
  },
  {
   "cell_type": "code",
   "execution_count": null,
   "metadata": {},
   "outputs": [],
   "source": [
    "full_like_1 = np.full_like(full_1, 2)\n",
    "full_like_2 = np.full_like(full_2, 1)\n",
    "full_like_3 = np.full_like(full_3, 0, dtype=float)\n",
    "\n",
    "# log\n",
    "print(f\"full_like_1 :\\n{full_like_1}\", end=f\"\\n{'-' * 50}\\n\")\n",
    "print(f\"full_like_2 :\\n{full_like_2}\", end=f\"\\n{'-' * 50}\\n\")\n",
    "print(f\"full_like_3 :\\n{full_like_3}\")"
   ]
  },
  {
   "cell_type": "markdown",
   "metadata": {},
   "source": [
    "### <a id='toc2_1_7_'></a>[numpy.empty](#toc0_)\n"
   ]
  },
  {
   "cell_type": "code",
   "execution_count": null,
   "metadata": {},
   "outputs": [],
   "source": [
    "empty_1 = np.empty(4)\n",
    "empty_2 = np.empty((2, 3))\n",
    "empty_3 = np.empty(shape=(2, 3, 2), dtype=np.int_)\n",
    "\n",
    "# log\n",
    "print(f\"empty_1 :\\n{empty_1}\", end=f\"\\n{'-' * 50}\\n\")\n",
    "print(f\"empty_2 :\\n{empty_2}\", end=f\"\\n{'-' * 50}\\n\")\n",
    "print(f\"empty_3 :\\n{empty_3}\")"
   ]
  },
  {
   "cell_type": "markdown",
   "metadata": {},
   "source": [
    "### <a id='toc2_1_8_'></a>[numpy.empty_like](#toc0_)\n"
   ]
  },
  {
   "cell_type": "code",
   "execution_count": null,
   "metadata": {},
   "outputs": [],
   "source": [
    "empty_like_1 = np.empty_like(empty_1)\n",
    "empty_like_2 = np.empty_like(empty_2, float)\n",
    "empty_like_3 = np.empty_like(prototype=empty_3, shape=(2, 3))\n",
    "\n",
    "# log\n",
    "print(f\"empty_like_1 :\\n{empty_like_1}\", end=f\"\\n{'-' * 50}\\n\")\n",
    "print(f\"empty_like_2 :\\n{empty_like_2}\", end=f\"\\n{'-' * 50}\\n\")\n",
    "print(f\"empty_like_3 :\\n{empty_like_3}\")"
   ]
  },
  {
   "cell_type": "markdown",
   "metadata": {},
   "source": [
    "### <a id='toc2_1_9_'></a>[numpy.eye](#toc0_)\n"
   ]
  },
  {
   "cell_type": "code",
   "execution_count": null,
   "metadata": {},
   "outputs": [],
   "source": [
    "eye_1 = np.eye(3)\n",
    "eye_2 = np.eye(3, 4)\n",
    "eye_3 = np.eye(N=2, M=3)\n",
    "eye_4 = np.eye(3, 3, 0)\n",
    "eye_5 = np.eye(3, 3, 1)\n",
    "eye_6 = np.eye(3, 3, -1)\n",
    "\n",
    "# log\n",
    "print(f\"eye_1 :\\n{eye_1}\", end=f\"\\n{'-' * 50}\\n\")\n",
    "print(f\"eye_2 :\\n{eye_2}\", end=f\"\\n{'-' * 50}\\n\")\n",
    "print(f\"eye_3 :\\n{eye_3}\", end=f\"\\n{'-' * 50}\\n\")\n",
    "print(f\"eye_4 :\\n{eye_4}\", end=f\"\\n{'-' * 50}\\n\")\n",
    "print(f\"eye_5 :\\n{eye_5}\")"
   ]
  },
  {
   "cell_type": "markdown",
   "metadata": {},
   "source": [
    "## <a id='toc2_2_'></a>[From Existing Data](#toc0_)\n",
    "\n",
    "<table style=\"margin: 0 auto;\">\n",
    "  <thead>\n",
    "    <tr>\n",
    "      <th style=\"text-align: center;\">Function</th>\n",
    "      <th style=\"text-align: center;\">Description</th>\n",
    "      <th style=\"text-align: center;\">Details</th>\n",
    "    </tr>\n",
    "  </thead>\n",
    "  <tbody>\n",
    "    <tr>\n",
    "      <td><code>np.array</code></td>\n",
    "      <td>Create an array</td>\n",
    "      <td style=\"text-align: center;\"><a href=\"https://numpy.org/doc/stable/reference/generated/numpy.array.html\">link</a></td>\n",
    "    </tr>\n",
    "    <tr>\n",
    "      <td><code>np.asarray</code></td>\n",
    "      <td>Convert the input to an array</td>\n",
    "      <td style=\"text-align: center;\"><a href=\"https://numpy.org/doc/stable/reference/generated/numpy.asarray.html\">link</a></td>\n",
    "    </tr>\n",
    "    <tr>\n",
    "      <td><code>np.astype</code></td>\n",
    "      <td>Copies an array to a specified data type</td>\n",
    "      <td style=\"text-align: center;\"><a href=\"https://numpy.org/doc/stable/reference/generated/numpy.astype.html\">link</a></td>\n",
    "    </tr>\n",
    "    <tr>\n",
    "      <td><code>np.copy</code></td>\n",
    "      <td>Return an array copy of the given object</td>\n",
    "      <td style=\"text-align: center;\"><a href=\"https://numpy.org/doc/stable/reference/generated/numpy.copy.html\">link</a></td>\n",
    "    </tr>\n",
    "    <tr>\n",
    "      <td><code>np.fromfile</code></td>\n",
    "      <td>Construct an array from data in a text or binary file</td>\n",
    "      <td style=\"text-align: center;\"><a href=\"https://numpy.org/doc/stable/reference/generated/numpy.fromfile.html\">link</a></td>\n",
    "    </tr>\n",
    "    <tr>\n",
    "      <td><code>np.loadtxt</code></td>\n",
    "      <td>Load data from a text file</td>\n",
    "      <td style=\"text-align: center;\"><a href=\"https://numpy.org/doc/stable/reference/generated/numpy.loadtxt.html\">link</a></td>\n",
    "    </tr>\n",
    "  </tbody>\n",
    "</table>\n"
   ]
  },
  {
   "cell_type": "markdown",
   "metadata": {},
   "source": [
    "### <a id='toc2_2_1_'></a>[numpy.array](#toc0_)\n",
    "\n",
    "- Always creates a new array, even if the input is already a NumPy array.\n",
    "- It's useful when you need a new array that is independent of the original data.\n"
   ]
  },
  {
   "cell_type": "code",
   "execution_count": null,
   "metadata": {},
   "outputs": [],
   "source": [
    "arr_1d_1 = np.array([1, 2, 3, 4])\n",
    "arr_2d_1 = np.array([[1, 2, 3], [4, 5, 6]])\n",
    "arr_3d_1 = np.array([[[1, 2], [3, 4]], [[5, 6], [7, 8]]])\n",
    "\n",
    "# log\n",
    "print(f\"arr_1d_1 :\\n{arr_1d_1}\", end=f\"\\n{'-' * 50}\\n\")\n",
    "print(f\"arr_2d_1 :\\n{arr_2d_1}\", end=f\"\\n{'-' * 50}\\n\")\n",
    "print(f\"arr_3d_1 :\\n{arr_3d_1}\")"
   ]
  },
  {
   "cell_type": "markdown",
   "metadata": {},
   "source": [
    "### <a id='toc2_2_2_'></a>[numpy.asarray](#toc0_)\n",
    "\n",
    "- Converts the input to an array, but does not create a copy if the input is already a NumPy array with the same dtype.\n",
    "- It's useful when you want to avoid unnecessary copies and work directly with the original data.\n"
   ]
  },
  {
   "cell_type": "code",
   "execution_count": null,
   "metadata": {},
   "outputs": [],
   "source": [
    "list_1d_1 = [1, 2, 3, 4]\n",
    "arr_1d_2 = np.array([1, 2, 3, 4])\n",
    "\n",
    "# asarray\n",
    "asarr_1d_1 = np.asarray(list_1d_1)\n",
    "asarr_1d_2 = np.asarray(arr_1d_2)\n",
    "\n",
    "# index assignment\n",
    "list_1d_1[0] = 0\n",
    "arr_1d_2[0] = 0\n",
    "\n",
    "# log\n",
    "print(f\"asarr_1d_1: {asarr_1d_1}\")\n",
    "print(f\"asarr_1d_2: {asarr_1d_2}\")"
   ]
  },
  {
   "cell_type": "markdown",
   "metadata": {},
   "source": [
    "### <a id='toc2_2_3_'></a>[numpy.copy](#toc0_)\n"
   ]
  },
  {
   "cell_type": "code",
   "execution_count": null,
   "metadata": {},
   "outputs": [],
   "source": [
    "arr_2d_2 = np.array([[1, 2, 3], [4, 5, 6]])\n",
    "arr_2d_3 = arr_2d_2\n",
    "\n",
    "# index assignment\n",
    "arr_2d_2[1, 0] = -1\n",
    "arr_2d_3[0] = [3, 2, 1]\n",
    "\n",
    "# log\n",
    "print(f\"arr_2d_2 :\\n{arr_2d_2}\", end=f\"\\n{'-' * 50}\\n\")\n",
    "print(f\"arr_2d_3 :\\n{arr_2d_3}\", end=f\"\\n{'-' * 50}\\n\")"
   ]
  },
  {
   "cell_type": "code",
   "execution_count": null,
   "metadata": {},
   "outputs": [],
   "source": [
    "arr_2d_4 = np.array([[1, 2, 3], [4, 5, 6]])\n",
    "arr_2d_5 = np.copy(arr_2d_4)\n",
    "\n",
    "# index assignment\n",
    "arr_2d_4[1, 0] = 0\n",
    "arr_2d_5[0] = [3, 2, 1]\n",
    "\n",
    "# log\n",
    "print(f\"arr_2d_4 :\\n{arr_2d_4}\", end=f\"\\n{'-' * 50}\\n\")\n",
    "print(f\"arr_2d_5 :\\n{arr_2d_5}\", end=f\"\\n{'-' * 50}\\n\")"
   ]
  },
  {
   "cell_type": "markdown",
   "metadata": {},
   "source": [
    "## <a id='toc2_3_'></a>[Numerical Ranges](#toc0_)\n",
    "\n",
    "<table style=\"margin: 0 auto;\">\n",
    "  <thead>\n",
    "    <tr>\n",
    "      <th style=\"text-align: center;\">Function</th>\n",
    "      <th style=\"text-align: center;\">Description</th>\n",
    "      <th style=\"text-align: center;\">Details</th>\n",
    "    </tr>\n",
    "  </thead>\n",
    "  <tbody>\n",
    "    <tr>\n",
    "      <td><code>np.arange</code></td>\n",
    "      <td>Return evenly spaced values within a given interval</td>\n",
    "      <td style=\"text-align: center;\"><a href=\"https://numpy.org/doc/stable/reference/generated/numpy.arange.html\">link</a></td>\n",
    "    </tr>\n",
    "    <tr>\n",
    "      <td><code>np.linspace</code></td>\n",
    "      <td>Return evenly spaced numbers over a specified interval</td>\n",
    "      <td style=\"text-align: center;\"><a href=\"https://numpy.org/doc/stable/reference/generated/numpy.linspace.html\">link</a></td>\n",
    "    </tr>\n",
    "    <tr>\n",
    "      <td><code>np.meshgrid</code></td>\n",
    "      <td>Return a tuple of coordinate matrices from coordinate vectors</td>\n",
    "      <td style=\"text-align: center;\"><a href=\"https://numpy.org/doc/stable/reference/generated/numpy.meshgrid.html\">link</a></td>\n",
    "    </tr>\n",
    "  </tbody>\n",
    "</table>\n"
   ]
  },
  {
   "cell_type": "markdown",
   "metadata": {},
   "source": [
    "### <a id='toc2_3_1_'></a>[numpy.arange](#toc0_)\n"
   ]
  },
  {
   "cell_type": "code",
   "execution_count": null,
   "metadata": {},
   "outputs": [],
   "source": [
    "arange_1 = np.arange(3)\n",
    "arange_2 = np.arange(5)\n",
    "arange_3 = np.arange(2, 5)\n",
    "arange_4 = np.arange(0, 7, 2)\n",
    "arange_5 = np.arange(0, 1, 0.1)\n",
    "\n",
    "# log\n",
    "print(f\"arange_1: {arange_1}\")\n",
    "print(f\"arange_2: {arange_2}\")\n",
    "print(f\"arange_3: {arange_3}\")\n",
    "print(f\"arange_4: {arange_4}\")\n",
    "print(f\"arange_5: {arange_5}\")"
   ]
  },
  {
   "cell_type": "markdown",
   "metadata": {},
   "source": [
    "### <a id='toc2_3_2_'></a>[numpy.linspace](#toc0_)\n"
   ]
  },
  {
   "cell_type": "code",
   "execution_count": null,
   "metadata": {},
   "outputs": [],
   "source": [
    "linspace_1 = np.linspace(0, 2, 3)\n",
    "linspace_2 = np.linspace(0, 1, 5)\n",
    "linspace_3 = np.linspace(0, 2, 3, dtype=int)\n",
    "linspace_4 = np.linspace((0, 3), (2, 5), 3, axis=0)\n",
    "linspace_5 = np.linspace((0, 3), (2, 5), 3, axis=1)\n",
    "\n",
    "# log\n",
    "print(f\"linspace_1 :\\n{linspace_1}\", end=f\"\\n{'-' * 50}\\n\")\n",
    "print(f\"linspace_2 :\\n{linspace_2}\", end=f\"\\n{'-' * 50}\\n\")\n",
    "print(f\"linspace_3 :\\n{linspace_3}\", end=f\"\\n{'-' * 50}\\n\")\n",
    "print(f\"linspace_4 :\\n{linspace_4}\", end=f\"\\n{'-' * 50}\\n\")\n",
    "print(f\"linspace_5 :\\n{linspace_5}\")"
   ]
  },
  {
   "cell_type": "markdown",
   "metadata": {},
   "source": [
    "### <a id='toc2_3_3_'></a>[numpy.meshgrid](#toc0_)\n",
    "\n",
    "- It is primarily used to create coordinate grids for vectorized evaluations of functions over a grid.\n"
   ]
  },
  {
   "cell_type": "code",
   "execution_count": null,
   "metadata": {},
   "outputs": [],
   "source": [
    "# define the coordinate arrays\n",
    "x = np.linspace(0, 2, 3)\n",
    "y = np.linspace(0, 1, 5)\n",
    "\n",
    "# create the meshgrid\n",
    "X, Y = np.meshgrid(x, y)\n",
    "\n",
    "# log\n",
    "print(f\"X :\\n{X}\", end=f\"\\n{'-' * 50}\\n\")\n",
    "print(f\"Y :\\n{Y}\", end=f\"\\n{'-' * 50}\\n\")\n",
    "\n",
    "# example of using the meshgrid to evaluate a function\n",
    "Z = np.sin(X) + np.cos(Y)\n",
    "print(f\"Z :\\n{Z}\")"
   ]
  }
 ],
 "metadata": {
  "author_email": "AmirhosseinHeydari78@gmail.com",
  "author_github": "https://github.com/mr-pylin",
  "author_name": "Amirhossein Heydari",
  "kernelspec": {
   "display_name": "numpy-workshop (3.13.7)",
   "language": "python",
   "name": "python3"
  },
  "language_info": {
   "codemirror_mode": {
    "name": "ipython",
    "version": 3
   },
   "file_extension": ".py",
   "mimetype": "text/x-python",
   "name": "python",
   "nbconvert_exporter": "python",
   "pygments_lexer": "ipython3",
   "version": "3.13.7"
  },
  "origin_repo": "https://github.com/mr-pylin/numpy-workshop"
 },
 "nbformat": 4,
 "nbformat_minor": 2
}