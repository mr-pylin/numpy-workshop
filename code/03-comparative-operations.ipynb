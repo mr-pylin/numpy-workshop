{
 "cells": [
  {
   "cell_type": "markdown",
   "metadata": {},
   "source": [
    "📝 **Author:** Amirhossein Heydari - 📧 **Email:** <amirhosseinheydari78@gmail.com> - 📍 **Origin:** [mr-pylin/numpy-workshop](https://github.com/mr-pylin/numpy-workshop)\n",
    "\n",
    "---\n"
   ]
  },
  {
   "cell_type": "markdown",
   "metadata": {},
   "source": [
    "**Table of contents**<a id='toc0_'></a>    \n",
    "- [Dependencies](#toc1_)    \n",
    "- [NumPy - Comparative Operations](#toc2_)    \n",
    "  - [Array & Scalar](#toc2_1_)    \n",
    "  - [Array & Array](#toc2_2_)    \n",
    "  - [Broadcasting](#toc2_3_)    \n",
    "\n",
    "<!-- vscode-jupyter-toc-config\n",
    "\tnumbering=false\n",
    "\tanchor=true\n",
    "\tflat=false\n",
    "\tminLevel=1\n",
    "\tmaxLevel=6\n",
    "\t/vscode-jupyter-toc-config -->\n",
    "<!-- THIS CELL WILL BE REPLACED ON TOC UPDATE. DO NOT WRITE YOUR TEXT IN THIS CELL -->"
   ]
  },
  {
   "cell_type": "markdown",
   "metadata": {},
   "source": [
    "# <a id='toc1_'></a>[Dependencies](#toc0_)\n"
   ]
  },
  {
   "cell_type": "code",
   "execution_count": 1,
   "metadata": {},
   "outputs": [],
   "source": [
    "import numpy as np"
   ]
  },
  {
   "cell_type": "markdown",
   "metadata": {},
   "source": [
    "# <a id='toc2_'></a>[NumPy - Comparative Operations](#toc0_)\n",
    "\n",
    "- **Scalar and Array Operations**:\n",
    "  - Compares arrays with scalar values using operators like `==`, `!=`, `<`, `>`, `<=`, and `>=`..\n",
    "- **Array-to-Array Operations**:\n",
    "  - Conducts <u>element-wise</u> comparisons between arrays of compatible shapes.\n",
    "- **Broadcasting**:\n",
    "  - Explains how smaller arrays can be “broadcasted” to perform operations with larger arrays by aligning shapes.\n",
    "\n",
    "📝 Docs:\n",
    "\n",
    "- Comparison operations: [numpy.org/doc/stable/reference/routines.logic.html#comparison](https://numpy.org/doc/stable/reference/routines.logic.html#comparison)\n",
    "- Broadcasting: [numpy.org/doc/stable/user/basics.broadcasting.html](https://numpy.org/doc/stable/user/basics.broadcasting.html)\n"
   ]
  },
  {
   "cell_type": "markdown",
   "metadata": {},
   "source": [
    "## <a id='toc2_1_'></a>[Array & Scalar](#toc0_)\n"
   ]
  },
  {
   "cell_type": "code",
   "execution_count": 2,
   "metadata": {},
   "outputs": [
    {
     "name": "stdout",
     "output_type": "stream",
     "text": [
      "cso_1 : [False  True False False]\n",
      "cso_2 : [ True False  True  True]\n",
      "cso_3 : [False False  True  True]\n",
      "cso_4 : [ True False False False]\n",
      "cso_5 : [False  True  True  True]\n",
      "cso_6 : [ True  True False False]\n"
     ]
    }
   ],
   "source": [
    "arr_1d_1 = np.array([1, 2, 3, 4])\n",
    "\n",
    "cso_1 = arr_1d_1 == 2  # np.equal\n",
    "cso_2 = arr_1d_1 != 2  # np.not_equal\n",
    "cso_3 = arr_1d_1 > 2  # np.greater\n",
    "cso_4 = arr_1d_1 < 2  # np.less\n",
    "cso_5 = arr_1d_1 >= 2  # np.greater_equal\n",
    "cso_6 = arr_1d_1 <= 2  # np.less_equal\n",
    "\n",
    "# log\n",
    "for i in range(1, 7):\n",
    "    print(f\"cso_{i} : {eval(f'cso_{i}')}\", end=\"\\n\")"
   ]
  },
  {
   "cell_type": "code",
   "execution_count": 3,
   "metadata": {},
   "outputs": [
    {
     "name": "stdout",
     "output_type": "stream",
     "text": [
      "cso_7 :\n",
      "[[False  True]\n",
      " [False False]]\n",
      "--------------------------------------------------\n",
      "cso_8 :\n",
      "[[ True False]\n",
      " [ True  True]]\n",
      "--------------------------------------------------\n",
      "cso_9 :\n",
      "[[False False]\n",
      " [ True  True]]\n",
      "--------------------------------------------------\n",
      "cso_10 :\n",
      "[[ True False]\n",
      " [False False]]\n",
      "--------------------------------------------------\n",
      "cso_11 :\n",
      "[[False  True]\n",
      " [ True  True]]\n",
      "--------------------------------------------------\n",
      "cso_12 :\n",
      "[[ True  True]\n",
      " [False False]]\n",
      "--------------------------------------------------\n"
     ]
    }
   ],
   "source": [
    "arr_2d_1 = np.array([[1, 2], [3, 4]])\n",
    "\n",
    "cso_7 = arr_2d_1 == 2\n",
    "cso_8 = arr_2d_1 != 2\n",
    "cso_9 = arr_2d_1 > 2\n",
    "cso_10 = arr_2d_1 < 2\n",
    "cso_11 = arr_2d_1 >= 2\n",
    "cso_12 = arr_2d_1 <= 2\n",
    "\n",
    "# log\n",
    "for i in range(7, 13):\n",
    "    print(f\"cso_{i} :\\n{eval(f'cso_{i}')}\", end=f\"\\n{'-' * 50}\\n\")"
   ]
  },
  {
   "cell_type": "markdown",
   "metadata": {},
   "source": [
    "## <a id='toc2_2_'></a>[Array & Array](#toc0_)\n"
   ]
  },
  {
   "cell_type": "code",
   "execution_count": 4,
   "metadata": {},
   "outputs": [
    {
     "name": "stdout",
     "output_type": "stream",
     "text": [
      "cao_1 : [False False False False]\n",
      "cao_2 : [ True  True  True  True]\n",
      "cao_3 : [False  True  True  True]\n",
      "cao_4 : [ True False False False]\n",
      "cao_5 : [False  True  True  True]\n",
      "cao_6 : [ True False False False]\n"
     ]
    }
   ],
   "source": [
    "arr_1d_2 = np.array([1, 2, 3, 4])\n",
    "arr_1d_3 = np.array([4, 1, 2, 3])\n",
    "\n",
    "cao_1 = arr_1d_2 == arr_1d_3\n",
    "cao_2 = arr_1d_2 != arr_1d_3\n",
    "cao_3 = arr_1d_2 > arr_1d_3\n",
    "cao_4 = arr_1d_2 < arr_1d_3\n",
    "cao_5 = arr_1d_2 >= arr_1d_3\n",
    "cao_6 = arr_1d_2 <= arr_1d_3\n",
    "\n",
    "# log\n",
    "for i in range(1, 7):\n",
    "    print(f\"cao_{i} : {eval(f'cao_{i}')}\", end=\"\\n\")"
   ]
  },
  {
   "cell_type": "code",
   "execution_count": 5,
   "metadata": {},
   "outputs": [
    {
     "name": "stdout",
     "output_type": "stream",
     "text": [
      "cao_7 :\n",
      "[[False  True]\n",
      " [ True False]]\n",
      "--------------------------------------------------\n",
      "cao_8 :\n",
      "[[ True False]\n",
      " [False  True]]\n",
      "--------------------------------------------------\n",
      "cao_9 :\n",
      "[[False False]\n",
      " [False  True]]\n",
      "--------------------------------------------------\n",
      "cao_10 :\n",
      "[[ True False]\n",
      " [False False]]\n",
      "--------------------------------------------------\n",
      "cao_11 :\n",
      "[[False  True]\n",
      " [ True  True]]\n",
      "--------------------------------------------------\n",
      "cao_12 :\n",
      "[[ True  True]\n",
      " [ True False]]\n",
      "--------------------------------------------------\n"
     ]
    }
   ],
   "source": [
    "arr_2d_2 = np.array([[1, 2], [3, 4]])\n",
    "arr_2d_3 = np.array([[2, 2], [3, 3]])\n",
    "\n",
    "cao_7 = arr_2d_2 == arr_2d_3\n",
    "cao_8 = arr_2d_2 != arr_2d_3\n",
    "cao_9 = arr_2d_2 > arr_2d_3\n",
    "cao_10 = arr_2d_2 < arr_2d_3\n",
    "cao_11 = arr_2d_2 >= arr_2d_3\n",
    "cao_12 = arr_2d_2 <= arr_2d_3\n",
    "\n",
    "# log\n",
    "for i in range(7, 13):\n",
    "    print(f\"cao_{i} :\\n{eval(f'cao_{i}')}\", end=f\"\\n{'-' * 50}\\n\")"
   ]
  },
  {
   "cell_type": "markdown",
   "metadata": {},
   "source": [
    "## <a id='toc2_3_'></a>[Broadcasting](#toc0_)\n",
    "\n",
    "- It allows arrays of different shapes to be used together in different operations.\n",
    "- The **smaller** array is “broadcasted” across the **larger** array so that they have compatible shapes.\n"
   ]
  },
  {
   "cell_type": "code",
   "execution_count": 6,
   "metadata": {},
   "outputs": [
    {
     "name": "stdout",
     "output_type": "stream",
     "text": [
      "result_1 : [False  True False False False]\n"
     ]
    }
   ],
   "source": [
    "arr_1d_4 = np.array([1, 2, 3, 4, 5])\n",
    "scalar_1 = 2\n",
    "\n",
    "# scalar_1 will be broadcasted to shape (5,) to match with arr_1d_4\n",
    "result_1 = arr_1d_4 == scalar_1\n",
    "\n",
    "# log\n",
    "print(f\"result_1 : {result_1}\")"
   ]
  },
  {
   "cell_type": "code",
   "execution_count": 7,
   "metadata": {},
   "outputs": [
    {
     "name": "stdout",
     "output_type": "stream",
     "text": [
      "result_2:\n",
      "[[False  True  True]\n",
      " [False  True False]]\n"
     ]
    }
   ],
   "source": [
    "arr_2d_4 = np.array([[1, 2, 2], [4, 1, 6]])  # shape: (2, 3)\n",
    "arr_2d_5 = np.array([[2], [1]])  # shape: (2, 1)\n",
    "\n",
    "# arr_2d_5 will be broadcasted to shape (2, 3) to match with arr_2d_4\n",
    "result_2 = arr_2d_4 == arr_2d_5\n",
    "\n",
    "# log\n",
    "print(f\"result_2:\\n{result_2}\")"
   ]
  }
 ],
 "metadata": {
  "author_email": "AmirhosseinHeydari78@gmail.com",
  "author_github": "https://github.com/mr-pylin",
  "author_name": "Amirhossein Heydari",
  "kernelspec": {
   "display_name": "numpy-workshop-0psJcWas-py3.12",
   "language": "python",
   "name": "python3"
  },
  "language_info": {
   "codemirror_mode": {
    "name": "ipython",
    "version": 3
   },
   "file_extension": ".py",
   "mimetype": "text/x-python",
   "name": "python",
   "nbconvert_exporter": "python",
   "pygments_lexer": "ipython3",
   "version": "3.12.8"
  },
  "origin_repo": "https://github.com/mr-pylin/numpy-workshop"
 },
 "nbformat": 4,
 "nbformat_minor": 2
}
