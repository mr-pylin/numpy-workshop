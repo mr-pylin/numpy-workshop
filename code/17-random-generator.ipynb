{
 "cells": [
  {
   "cell_type": "markdown",
   "metadata": {},
   "source": [
    "<div style=\"display: flex; justify-content: space-between; align-items: center;\">\n",
    "    <div style=\"text-align: left; flex: 4\">\n",
    "        <strong>Author:</strong> Amirhossein Heydari — \n",
    "        📧 <a href=\"mailto:amirhosseinheydari78@gmail.com\">amirhosseinheydari78@gmail.com</a> — \n",
    "        🐙 <a href=\"https://github.com/mr-pylin/numpy-workshop\" target=\"_blank\" rel=\"noopener\">github.com/mr-pylin</a>\n",
    "    </div>\n",
    "    <div style=\"text-align: right; flex: 1;\">\n",
    "        <a href=\"https://numpy.org/\" target=\"_blank\" rel=\"noopener noreferrer\">\n",
    "            <img src=\"../assets/images/numpy/logo/numpylogo.svg\" \n",
    "                 alt=\"NumPy Logo\"\n",
    "                 style=\"max-height: 48px; width: auto;\">\n",
    "        </a>\n",
    "    </div>\n",
    "</div>\n",
    "<hr>\n"
   ]
  },
  {
   "cell_type": "markdown",
   "metadata": {},
   "source": [
    "**Table of contents**<a id='toc0_'></a>    \n",
    "- [Dependencies](#toc1_)    \n",
    "- [NumPy - Random Generator](#toc2_)    \n",
    "  - [np.random.default_rng](#toc2_1_)    \n",
    "  - [Simple random data](#toc2_2_)    \n",
    "  - [Permutations](#toc2_3_)    \n",
    "    - [Shuffling non-NumPy sequences](#toc2_3_1_)    \n",
    "  - [Distributions](#toc2_4_)    \n",
    "\n",
    "<!-- vscode-jupyter-toc-config\n",
    "\tnumbering=false\n",
    "\tanchor=true\n",
    "\tflat=false\n",
    "\tminLevel=1\n",
    "\tmaxLevel=6\n",
    "\t/vscode-jupyter-toc-config -->\n",
    "<!-- THIS CELL WILL BE REPLACED ON TOC UPDATE. DO NOT WRITE YOUR TEXT IN THIS CELL -->"
   ]
  },
  {
   "cell_type": "markdown",
   "metadata": {},
   "source": [
    "# <a id='toc1_'></a>[Dependencies](#toc0_)\n"
   ]
  },
  {
   "cell_type": "code",
   "execution_count": null,
   "metadata": {},
   "outputs": [],
   "source": [
    "import numpy as np"
   ]
  },
  {
   "cell_type": "markdown",
   "metadata": {},
   "source": [
    "# <a id='toc2_'></a>[NumPy - Random Generator](#toc0_)\n",
    "\n",
    "📝 Docs:\n",
    "\n",
    "- Random `Generator`: [numpy.org/doc/stable/reference/random/generator.html](https://numpy.org/doc/stable/reference/random/generator.html)\n",
    "- Legacy random generation: [numpy.org/doc/stable/reference/random/legacy.html](https://numpy.org/doc/stable/reference/random/legacy.html)\n"
   ]
  },
  {
   "cell_type": "markdown",
   "metadata": {},
   "source": [
    "## <a id='toc2_1_'></a>[np.random.default_rng](#toc0_)\n",
    "\n",
    "<table style=\"margin: 0 auto;\">\n",
    "  <thead>\n",
    "    <tr>\n",
    "      <th style=\"text-align: center;\">Function</th>\n",
    "      <th style=\"text-align: center;\">Description</th>\n",
    "      <th style=\"text-align: center;\">Details</th>\n",
    "    </tr>\n",
    "  </thead>\n",
    "  <tbody>\n",
    "    <tr>\n",
    "      <td><code>np.random.default_rng</code></td>\n",
    "      <td>Construct a new Generator with the default BitGenerator (PCG64)</td>\n",
    "      <td style=\"text-align: center;\"><a href=\"https://numpy.org/doc/stable/reference/random/generator.html#numpy.random.default_rng\">link</a></td>\n",
    "    </tr>\n",
    "  </tbody>\n",
    "</table>\n",
    "\n",
    "- Definition\n",
    "  - It is a function in NumPy that provides a new, more flexible random number generator (RNG) system introduced in NumPy 1.17\n",
    "  - It is designed to replace the older `np.random` module functions with a more modern and user-friendly interface\n",
    "- Key Features\n",
    "    1. Modern RNG Algorithms\n",
    "      - It uses the PCG64 (Permuted Congruential Generator with 64-bit state) RNG, which is a high-quality, fast, and robust algorithm\n",
    "    1. Separate State\n",
    "      - Each instance of the RNG has its own internal state, making it easier to manage and seed different instances independently\n",
    "    1. Enhanced Flexibility\n",
    "      - The RNG instance (`Generator` object) provides a wide range of methods for generating random numbers, including integers, floats, and more complex distributions\n",
    "    1. Better Performance\n",
    "      - The new RNG is generally faster and provides better statistical properties compared to the older `np.random` methods"
   ]
  },
  {
   "cell_type": "code",
   "execution_count": null,
   "metadata": {},
   "outputs": [],
   "source": [
    "# set the seed for reproducibility\n",
    "seed = 42\n",
    "rng = np.random.default_rng(seed)\n",
    "\n",
    "# bit_generator\n",
    "seed_seq = rng.bit_generator.seed_seq\n",
    "state = rng.bit_generator.state\n",
    "\n",
    "# log\n",
    "print(f\"seed_seq : {seed_seq}\")\n",
    "print(f\"state    : {state}\")"
   ]
  },
  {
   "cell_type": "markdown",
   "metadata": {},
   "source": [
    "## <a id='toc2_2_'></a>[Simple random data](#toc0_)\n",
    "\n",
    "<table style=\"margin: 0 auto;\">\n",
    "  <thead>\n",
    "    <tr>\n",
    "      <th style=\"text-align: center;\">Function</th>\n",
    "      <th style=\"text-align: center;\">Description</th>\n",
    "      <th style=\"text-align: center;\">Details</th>\n",
    "    </tr>\n",
    "  </thead>\n",
    "  <tbody>\n",
    "    <tr>\n",
    "      <td><code>np.integers</code></td>\n",
    "      <td>Return random integers from low (inclusive) to high (exclusive), or if <code>endpoint=True</code>, low (inclusive) to high (inclusive)</td>\n",
    "      <td style=\"text-align: center;\"><a href=\"https://numpy.org/doc/stable/reference/random/generated/numpy.random.Generator.integers.html\">link</a></td>\n",
    "    </tr>\n",
    "    <tr>\n",
    "      <td><code>np.random</code></td>\n",
    "      <td>Return random floats in the half-open interval <code>[0.0, 1.0)</code></td>\n",
    "      <td style=\"text-align: center;\"><a href=\"https://numpy.org/doc/stable/reference/random/generated/numpy.random.Generator.random.html\">link</a></td>\n",
    "    </tr>\n",
    "    <tr>\n",
    "      <td><code>np.choice</code></td>\n",
    "      <td>Generates a random sample from a given array</td>\n",
    "      <td style=\"text-align: center;\"><a href=\"https://numpy.org/doc/stable/reference/random/generated/numpy.random.Generator.choice.html\">link</a></td>\n",
    "    </tr>\n",
    "  </tbody>\n",
    "</table>\n"
   ]
  },
  {
   "cell_type": "code",
   "execution_count": null,
   "metadata": {},
   "outputs": [],
   "source": [
    "# random integers : [low, high)\n",
    "random_integers_1 = rng.integers(low=0, high=10, size=5)\n",
    "random_integers_2 = rng.integers(low=0, high=10, size=(2, 3))\n",
    "\n",
    "# log\n",
    "print(f\"random_integers_1:\\n{random_integers_1}\", end=f\"\\n{'-' * 50}\\n\")\n",
    "print(f\"random_integers_2:\\n{random_integers_2}\")"
   ]
  },
  {
   "cell_type": "code",
   "execution_count": null,
   "metadata": {},
   "outputs": [],
   "source": [
    "# random floats : [0.0, 1.0)\n",
    "random_floats_1 = rng.random(size=5)\n",
    "random_floats_2 = rng.random(size=(2, 3))\n",
    "\n",
    "# log\n",
    "print(f\"random_floats_1:\\n{random_floats_1}\", end=f\"\\n{'-' * 50}\\n\")\n",
    "print(f\"random_floats_2:\\n{random_floats_2}\")"
   ]
  },
  {
   "cell_type": "code",
   "execution_count": null,
   "metadata": {},
   "outputs": [],
   "source": [
    "arr_1d_1 = np.array([1, 2, 3, 4, 5, 6, 7, 8, 9])\n",
    "\n",
    "# generate a random sample from a given array\n",
    "choice_1 = rng.choice(arr_1d_1, size=5, replace=True)\n",
    "choice_2 = rng.choice(arr_1d_1, size=5, replace=False)\n",
    "choice_3 = rng.choice(arr_1d_1, size=5, replace=True, p=[0.7, 0.1, 0.2, 0, 0, 0, 0, 0, 0])\n",
    "choice_4 = rng.choice(arr_1d_1, size=5, replace=False, shuffle=True)\n",
    "\n",
    "# log\n",
    "print(f\"choice_1: {choice_1}\")\n",
    "print(f\"choice_2: {choice_2}\")\n",
    "print(f\"choice_3: {choice_3}\")\n",
    "print(f\"choice_4: {choice_4}\")"
   ]
  },
  {
   "cell_type": "markdown",
   "metadata": {},
   "source": [
    "## <a id='toc2_3_'></a>[Permutations](#toc0_)\n",
    "\n",
    "<table style=\"margin: 0 auto;\">\n",
    "  <thead>\n",
    "    <tr>\n",
    "      <th style=\"text-align: center;\">Function</th>\n",
    "      <th style=\"text-align: center;\">Description</th>\n",
    "      <th style=\"text-align: center;\">Details</th>\n",
    "    </tr>\n",
    "  </thead>\n",
    "  <tbody>\n",
    "    <tr>\n",
    "      <td><code>np.shuffle</code></td>\n",
    "      <td>Modify an array or sequence in-place by shuffling its contents</td>\n",
    "      <td style=\"text-align: center;\"><a href=\"https://numpy.org/doc/stable/reference/random/generated/numpy.random.Generator.shuffle.html\">link</a></td>\n",
    "    </tr>\n",
    "    <tr>\n",
    "      <td><code>np.permutation</code></td>\n",
    "      <td>Randomly permute a sequence, or return a permuted range</td>\n",
    "      <td style=\"text-align: center;\"><a href=\"https://numpy.org/doc/stable/reference/random/generated/numpy.random.Generator.permutation.html\">link</a></td>\n",
    "    </tr>\n",
    "  </tbody>\n",
    "</table>\n"
   ]
  },
  {
   "cell_type": "code",
   "execution_count": null,
   "metadata": {},
   "outputs": [],
   "source": [
    "arr_1d_2 = np.array([1, 2, 3, 4, 5, 6, 7, 8, 9])\n",
    "arr_2d_1 = np.array([[1, 2, 5], [4, 5, 6]])\n",
    "arr_2d_2 = np.array([[1, 2, 3], [4, 5, 6]])\n",
    "\n",
    "# shuffle\n",
    "shuffle_1 = rng.shuffle(arr_1d_2)\n",
    "shuffle_2 = rng.shuffle(arr_2d_1, axis=0)\n",
    "shuffle_3 = rng.shuffle(arr_2d_2, axis=1)\n",
    "\n",
    "# log\n",
    "print(f\"arr_1d_2:\\n{arr_1d_2}\", end=f\"\\n{'-' * 50}\\n\")\n",
    "print(f\"arr_2d_1:\\n{arr_2d_1}\", end=f\"\\n{'-' * 50}\\n\")\n",
    "print(f\"arr_2d_2:\\n{arr_2d_2}\")"
   ]
  },
  {
   "cell_type": "code",
   "execution_count": null,
   "metadata": {},
   "outputs": [],
   "source": [
    "arr_1d_4 = np.array([1, 2, 3, 4, 5, 6, 7, 8, 9])\n",
    "\n",
    "# premutation\n",
    "permutation_1 = rng.permutation(arr_1d_4)\n",
    "\n",
    "# log\n",
    "print(f\"permutation_1 : {permutation_1}\")"
   ]
  },
  {
   "cell_type": "markdown",
   "metadata": {},
   "source": [
    "### <a id='toc2_3_1_'></a>[Shuffling non-NumPy sequences](#toc0_)\n"
   ]
  },
  {
   "cell_type": "code",
   "execution_count": null,
   "metadata": {},
   "outputs": [],
   "source": [
    "list_1 = [\"A\", \"B\", \"C\", \"D\", \"E\"]\n",
    "\n",
    "# shuffle\n",
    "rng.shuffle(list_1)  # in-place operation\n",
    "\n",
    "# log\n",
    "print(f\"list_1: {list_1}\")"
   ]
  },
  {
   "cell_type": "markdown",
   "metadata": {},
   "source": [
    "## <a id='toc2_4_'></a>[Distributions](#toc0_)\n",
    "\n",
    "<table style=\"margin: 0 auto;\">\n",
    "  <thead>\n",
    "    <tr>\n",
    "      <th style=\"text-align: center;\">Function</th>\n",
    "      <th style=\"text-align: center;\">Description</th>\n",
    "      <th style=\"text-align: center;\">Details</th>\n",
    "    </tr>\n",
    "  </thead>\n",
    "  <tbody>\n",
    "    <tr>\n",
    "      <td><code>np.binomial</code></td>\n",
    "      <td>Draw samples from a binomial distribution</td>\n",
    "      <td style=\"text-align: center;\"><a href=\"https://numpy.org/doc/stable/reference/random/generated/numpy.random.Generator.binomial.html\">link</a></td>\n",
    "    </tr>\n",
    "    <tr>\n",
    "      <td><code>np.chisquare</code></td>\n",
    "      <td>Draw samples from a chi-square distribution</td>\n",
    "      <td style=\"text-align: center;\"><a href=\"https://numpy.org/doc/stable/reference/random/generated/numpy.random.Generator.chisquare.html\">link</a></td>\n",
    "    </tr>\n",
    "    <tr>\n",
    "      <td><code>np.exponential</code></td>\n",
    "      <td>Draw samples from an exponential distribution</td>\n",
    "      <td style=\"text-align: center;\"><a href=\"https://numpy.org/doc/stable/reference/random/generated/numpy.random.Generator.exponential.html\">link</a></td>\n",
    "    </tr>\n",
    "    <tr>\n",
    "      <td><code>np.gamma</code></td>\n",
    "      <td>Draw samples from a Gamma distribution</td>\n",
    "      <td style=\"text-align: center;\"><a href=\"https://numpy.org/doc/stable/reference/random/generated/numpy.random.Generator.gamma.html\">link</a></td>\n",
    "    </tr>\n",
    "    <tr>\n",
    "      <td><code>np.geometric</code></td>\n",
    "      <td>Draw samples from the geometric distribution</td>\n",
    "      <td style=\"text-align: center;\"><a href=\"https://numpy.org/doc/stable/reference/random/generated/numpy.random.Generator.geometric.html\">link</a></td>\n",
    "    </tr>\n",
    "    <tr>\n",
    "      <td><code>np.normal</code></td>\n",
    "      <td>Draw random samples from a normal (Gaussian) distribution</td>\n",
    "      <td style=\"text-align: center;\"><a href=\"https://numpy.org/doc/stable/reference/random/generated/numpy.random.Generator.normal.html\">link</a></td>\n",
    "    </tr>\n",
    "    <tr>\n",
    "      <td><code>np.poisson</code></td>\n",
    "      <td>Draw samples from a Poisson distribution</td>\n",
    "      <td style=\"text-align: center;\"><a href=\"https://numpy.org/doc/stable/reference/random/generated/numpy.random.Generator.poisson.html\">link</a></td>\n",
    "    </tr>\n",
    "    <tr>\n",
    "      <td><code>np.power</code></td>\n",
    "      <td>Draws samples in [0, 1] from a power distribution with positive exponent a - 1</td>\n",
    "      <td style=\"text-align: center;\"><a href=\"https://numpy.org/doc/stable/reference/random/generated/numpy.random.Generator.power.html\">link</a></td>\n",
    "    </tr>\n",
    "    <tr>\n",
    "      <td><code>np.rayleigh</code></td>\n",
    "      <td>Draw samples from a Rayleigh distribution</td>\n",
    "      <td style=\"text-align: center;\"><a href=\"https://numpy.org/doc/stable/reference/random/generated/numpy.random.Generator.rayleigh.html\">link</a></td>\n",
    "    </tr>\n",
    "    <tr>\n",
    "      <td><code>np.standard_normal</code></td>\n",
    "      <td>Draw samples from a standard Normal distribution (mean=0, stdev=1)</td>\n",
    "      <td style=\"text-align: center;\"><a href=\"https://numpy.org/doc/stable/reference/random/generated/numpy.random.Generator.standard_normal.html\">link</a></td>\n",
    "    </tr>\n",
    "    <tr>\n",
    "      <td><code>np.uniform</code></td>\n",
    "      <td>Draw samples from a uniform distribution</td>\n",
    "      <td style=\"text-align: center;\"><a href=\"https://numpy.org/doc/stable/reference/random/generated/numpy.random.Generator.uniform.html\">link</a></td>\n",
    "    </tr>\n",
    "  </tbody>\n",
    "</table>\n"
   ]
  },
  {
   "cell_type": "code",
   "execution_count": null,
   "metadata": {},
   "outputs": [],
   "source": [
    "# normal\n",
    "normal_samples_1 = rng.normal(loc=0, scale=1, size=5)\n",
    "\n",
    "# log\n",
    "print(f\"normal_samples_1: {normal_samples_1}\")"
   ]
  },
  {
   "cell_type": "code",
   "execution_count": null,
   "metadata": {},
   "outputs": [],
   "source": [
    "# uniform\n",
    "uniform_samples_1 = rng.uniform(low=0, high=10, size=5)\n",
    "\n",
    "# log\n",
    "print(f\"uniform_samples_1: {uniform_samples_1}\")"
   ]
  },
  {
   "cell_type": "code",
   "execution_count": null,
   "metadata": {},
   "outputs": [],
   "source": [
    "# binomial\n",
    "binomial_samples_1 = rng.binomial(n=10, p=0.5, size=5)\n",
    "\n",
    "# log\n",
    "print(f\"binomial_samples_1: {binomial_samples_1}\")"
   ]
  },
  {
   "cell_type": "code",
   "execution_count": null,
   "metadata": {},
   "outputs": [],
   "source": [
    "# exponential\n",
    "exponential_samples_1 = rng.exponential(scale=1.0, size=5)\n",
    "\n",
    "# log\n",
    "print(f\"exponential_samples_1: {exponential_samples_1}\")"
   ]
  },
  {
   "cell_type": "code",
   "execution_count": null,
   "metadata": {},
   "outputs": [],
   "source": [
    "# geometric\n",
    "geometric_samples_1 = rng.geometric(p=0.5, size=5)\n",
    "\n",
    "# log\n",
    "print(f\"geometric_samples_1: {geometric_samples_1}\")"
   ]
  },
  {
   "cell_type": "code",
   "execution_count": null,
   "metadata": {},
   "outputs": [],
   "source": [
    "# poisson\n",
    "poisson_samples_1 = rng.poisson(lam=3.0, size=5)\n",
    "\n",
    "# log\n",
    "print(f\"poisson_samples_1: {poisson_samples_1}\")"
   ]
  },
  {
   "cell_type": "code",
   "execution_count": null,
   "metadata": {},
   "outputs": [],
   "source": [
    "# rayleigh\n",
    "rayleigh_samples_1 = rng.rayleigh(scale=1.0, size=5)\n",
    "\n",
    "# log\n",
    "print(f\"rayleigh_samples_1: {rayleigh_samples_1}\")"
   ]
  }
 ],
 "metadata": {
  "author_email": "AmirhosseinHeydari78@gmail.com",
  "author_github": "https://github.com/mr-pylin",
  "author_name": "Amirhossein Heydari",
  "kernelspec": {
   "display_name": "numpy-workshop (3.13.7)",
   "language": "python",
   "name": "python3"
  },
  "language_info": {
   "codemirror_mode": {
    "name": "ipython",
    "version": 3
   },
   "file_extension": ".py",
   "mimetype": "text/x-python",
   "name": "python",
   "nbconvert_exporter": "python",
   "pygments_lexer": "ipython3",
   "version": "3.13.7"
  },
  "origin_repo": "https://github.com/mr-pylin/numpy-workshop"
 },
 "nbformat": 4,
 "nbformat_minor": 2
}
