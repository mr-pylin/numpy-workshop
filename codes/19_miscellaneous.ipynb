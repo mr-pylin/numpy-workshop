{
  "cells": [
    {
      "cell_type": "markdown",
      "metadata": {},
      "source": [
        "\ud83d\udcdd **Author:** Amirhossein Heydari - \ud83d\udce7 **Email:** AmirhosseinHeydari78@gmail.com - \ud83d\udccd **Linktree:** [linktr.ee/mr_pylin](https://linktr.ee/mr_pylin)\n",
        "\n",
        "---"
      ]
    },
    {
      "cell_type": "markdown",
      "metadata": {},
      "source": [
        "# Dependencies"
      ]
    },
    {
      "cell_type": "code",
      "execution_count": 1,
      "metadata": {},
      "outputs": [],
      "source": [
        "import numpy as np"
      ]
    },
    {
      "cell_type": "markdown",
      "metadata": {},
      "source": [
        "# NumPy - Miscellaneous\n",
        "Doc:\n",
        "   - [numpy.org/doc/stable/reference/routines.fft.html](https://numpy.org/doc/stable/reference/routines.fft.html)"
      ]
    },
    {
      "cell_type": "markdown",
      "metadata": {},
      "source": [
        "## Common Bugs"
      ]
    },
    {
      "cell_type": "markdown",
      "metadata": {},
      "source": [
        "### NumPy needs to know how many bytes to consider for array elements"
      ]
    },
    {
      "cell_type": "code",
      "execution_count": 2,
      "metadata": {},
      "outputs": [
        {
          "name": "stdout",
          "output_type": "stream",
          "text": [
            "arr_1d_1.dtype  : <U1\n",
            "arr_1d_1.nbytes : 12\n"
          ]
        }
      ],
      "source": [
        "arr_1d_1 = np.array(['a', 'b', 'c'])  # 1 Byte per element\n",
        "\n",
        "# log\n",
        "print(f\"arr_1d_1.dtype  : {arr_1d_1.dtype}\")\n",
        "print(f\"arr_1d_1.nbytes : {arr_1d_1.nbytes}\")"
      ]
    },
    {
      "cell_type": "code",
      "execution_count": 3,
      "metadata": {},
      "outputs": [
        {
          "name": "stdout",
          "output_type": "stream",
          "text": [
            "arr_1d_1 : ['a' 'b' 'd']\n"
          ]
        }
      ],
      "source": [
        "arr_1d_1[2] = 'de'  # 2 Bytes!\n",
        "\n",
        "# log\n",
        "print(f\"arr_1d_1 : {arr_1d_1}\")"
      ]
    },
    {
      "cell_type": "markdown",
      "metadata": {},
      "source": [
        "### NDArray to Python List"
      ]
    },
    {
      "cell_type": "code",
      "execution_count": 4,
      "metadata": {},
      "outputs": [],
      "source": [
        "arr_1d_2 = np.array([1, 2, 3, 4, 5])"
      ]
    },
    {
      "cell_type": "code",
      "execution_count": 5,
      "metadata": {},
      "outputs": [
        {
          "name": "stdout",
          "output_type": "stream",
          "text": [
            "list_1          : [np.int64(1), np.int64(2), np.int64(3), np.int64(4), np.int64(5)]\n",
            "type(list_1)    : <class 'list'>\n",
            "type(list_1[0]) : <class 'numpy.int64'>\n"
          ]
        }
      ],
      "source": [
        "# wrong conversion\n",
        "list_1 = list(arr_1d_2)\n",
        "\n",
        "# log\n",
        "print(f\"list_1          : {list_1}\")\n",
        "print(f\"type(list_1)    : {type(list_1)}\")\n",
        "print(f\"type(list_1[0]) : {type(list_1[0])}\")"
      ]
    },
    {
      "cell_type": "code",
      "execution_count": 6,
      "metadata": {},
      "outputs": [
        {
          "name": "stdout",
          "output_type": "stream",
          "text": [
            "list_2          : [1, 2, 3, 4, 5]\n",
            "type(list_2)    : <class 'list'>\n",
            "type(list_2[0]) : <class 'int'>\n"
          ]
        }
      ],
      "source": [
        "# correct conversion\n",
        "list_2 = arr_1d_2.tolist()\n",
        "\n",
        "# log\n",
        "print(f\"list_2          : {list_2}\")\n",
        "print(f\"type(list_2)    : {type(list_2)}\")\n",
        "print(f\"type(list_2[0]) : {type(list_2[0])}\")"
      ]
    },
    {
      "cell_type": "markdown",
      "metadata": {},
      "source": [
        "### Soft Copy vs Hard Copy\n",
        "   - Soft/Shallow Copy\n",
        "      - A new object that references the original data\n",
        "   - Hard/Deep Copy\n",
        "      - A completely independent copy of the original data"
      ]
    },
    {
      "cell_type": "code",
      "execution_count": 7,
      "metadata": {},
      "outputs": [
        {
          "name": "stdout",
          "output_type": "stream",
          "text": [
            "arr_2d_1:\n",
            "[[5 6]\n",
            " [0 4]]\n",
            "\n",
            "arr_2d_2:\n",
            "[[5 6]\n",
            " [0 4]]\n"
          ]
        }
      ],
      "source": [
        "arr_2d_1 = np.array([[1, 2], [3, 4]])\n",
        "\n",
        "# a pointer/referencce to the original array\n",
        "arr_2d_2 = arr_2d_1\n",
        "\n",
        "# assignment\n",
        "arr_2d_2[0] = [5, 6]\n",
        "arr_2d_2[1, 0] = 0\n",
        "\n",
        "# log\n",
        "print(f\"arr_2d_1:\\n{arr_2d_1}\\n\")\n",
        "print(f\"arr_2d_2:\\n{arr_2d_2}\")"
      ]
    },
    {
      "cell_type": "code",
      "execution_count": 8,
      "metadata": {},
      "outputs": [
        {
          "name": "stdout",
          "output_type": "stream",
          "text": [
            "arr_2d_3:\n",
            "[[5 6]\n",
            " [0 4]]\n",
            "\n",
            "arr_2d_4:\n",
            "[[5 6]\n",
            " [0 4]]\n"
          ]
        }
      ],
      "source": [
        "arr_2d_3 = np.array([[1, 2], [3, 4]])\n",
        "\n",
        "# soft/shallow copy\n",
        "arr_2d_4 = arr_2d_3[:]  # also arr_2d_3.view()\n",
        "\n",
        "# assignment\n",
        "arr_2d_4[0] = [5, 6]\n",
        "arr_2d_4[1, 0] = 0\n",
        "\n",
        "# log\n",
        "print(f\"arr_2d_3:\\n{arr_2d_3}\\n\")\n",
        "print(f\"arr_2d_4:\\n{arr_2d_4}\")"
      ]
    },
    {
      "cell_type": "code",
      "execution_count": 9,
      "metadata": {},
      "outputs": [
        {
          "name": "stdout",
          "output_type": "stream",
          "text": [
            "arr_2d_5:\n",
            "[[1 2]\n",
            " [3 4]]\n",
            "\n",
            "arr_2d_6:\n",
            "[[5 6]\n",
            " [0 4]]\n"
          ]
        }
      ],
      "source": [
        "arr_2d_5 = np.array([[1, 2], [3, 4]])\n",
        "\n",
        "# hard/deep copy\n",
        "arr_2d_6 = arr_2d_5.copy()\n",
        "\n",
        "# assignment\n",
        "arr_2d_6[0] = [5, 6]\n",
        "arr_2d_6[1, 0] = 0\n",
        "\n",
        "# log\n",
        "print(f\"arr_2d_5:\\n{arr_2d_5}\\n\")\n",
        "print(f\"arr_2d_6:\\n{arr_2d_6}\")"
      ]
    }
  ],
  "metadata": {
    "kernelspec": {
      "display_name": "Python 3",
      "language": "python",
      "name": "python3"
    },
    "language_info": {
      "codemirror_mode": {
        "name": "ipython",
        "version": 3
      },
      "file_extension": ".py",
      "mimetype": "text/x-python",
      "name": "python",
      "nbconvert_exporter": "python",
      "pygments_lexer": "ipython3",
      "version": "3.12.3"
    },
    "author_name": "Amirhossein Heydari",
    "author_email": "AmirhosseinHeydari78@gmail.com",
    "author_github": "https://github.com/mr-pylin",
    "origin_repo": "https://github.com/mr-pylin/numpy-workshop"
  },
  "nbformat": 4,
  "nbformat_minor": 2
}