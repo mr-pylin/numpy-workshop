{
 "cells": [
  {
   "cell_type": "markdown",
   "metadata": {},
   "source": [
    "# Dependencies"
   ]
  },
  {
   "cell_type": "code",
   "execution_count": 3,
   "metadata": {},
   "outputs": [],
   "source": [
    "import numpy as np"
   ]
  },
  {
   "cell_type": "code",
   "execution_count": 4,
   "metadata": {},
   "outputs": [],
   "source": [
    "# prevent printing the returned object in each cell\n",
    "from IPython.core.interactiveshell import InteractiveShell\n",
    "InteractiveShell.ast_node_interactivity = 'none'"
   ]
  },
  {
   "cell_type": "markdown",
   "metadata": {},
   "source": [
    "# NumPy - Array\n",
    "Docs:\n",
    "   - [numpy.org/doc/stable/reference/routines.array-creation.html](https://numpy.org/doc/stable/reference/routines.array-creation.html)\n",
    "   - [numpy.org/doc/stable/reference/arrays.dtypes.html](https://numpy.org/doc/stable/reference/arrays.dtypes.html)"
   ]
  },
  {
   "cell_type": "markdown",
   "metadata": {},
   "source": [
    "## 0D array (Known as scalar)"
   ]
  },
  {
   "cell_type": "code",
   "execution_count": 61,
   "metadata": {},
   "outputs": [
    {
     "name": "stdout",
     "output_type": "stream",
     "text": [
      "arr_1        : 2\n",
      "arr_1.shape  : ()\n",
      "arr_1.dtype  : int32\n",
      "arr_1.nbytes : 4\n",
      "type(arr_1)  : <class 'numpy.ndarray'>\n"
     ]
    }
   ],
   "source": [
    "arr_1 = np.array(2)\n",
    "\n",
    "# log\n",
    "print(f\"arr_1        : {arr_1}\")\n",
    "print(f\"arr_1.shape  : {arr_1.shape}\")\n",
    "print(f\"arr_1.dtype  : {arr_1.dtype}\")\n",
    "print(f\"arr_1.nbytes : {arr_1.nbytes}\")\n",
    "print(f\"type(arr_1)  : {type(arr_1)}\")"
   ]
  },
  {
   "cell_type": "code",
   "execution_count": 60,
   "metadata": {},
   "outputs": [
    {
     "name": "stdout",
     "output_type": "stream",
     "text": [
      "arr_2        : 0.1\n",
      "arr_2.shape  : ()\n",
      "arr_2.dtype  : float64\n",
      "arr_2.nbytes : 8\n",
      "type(arr_2)  : <class 'numpy.ndarray'>\n"
     ]
    }
   ],
   "source": [
    "arr_2 = np.array(.1)\n",
    "\n",
    "# log\n",
    "print(f\"arr_2        : {arr_2}\")\n",
    "print(f\"arr_2.shape  : {arr_2.shape}\")\n",
    "print(f\"arr_2.dtype  : {arr_2.dtype}\")\n",
    "print(f\"arr_2.nbytes : {arr_2.nbytes}\")\n",
    "print(f\"type(arr_2)  : {type(arr_2)}\")"
   ]
  },
  {
   "cell_type": "markdown",
   "metadata": {},
   "source": [
    "## 1D array (Known as vector)"
   ]
  },
  {
   "cell_type": "code",
   "execution_count": 62,
   "metadata": {},
   "outputs": [
    {
     "name": "stdout",
     "output_type": "stream",
     "text": [
      "avg_scores        : [15 13 20 19  0 11 18 15]\n",
      "avg_scores.shape  : (8,)\n",
      "avg_scores.dtype  : int32\n",
      "avg_scores.nbytes : 32\n",
      "type(avg_scores)  : <class 'numpy.ndarray'>\n"
     ]
    }
   ],
   "source": [
    "avg_scores = np.array([15, 13, 20, 19, 0, 11, 18, 15])\n",
    "\n",
    "# log\n",
    "print(f\"avg_scores        : {avg_scores}\")\n",
    "print(f\"avg_scores.shape  : {avg_scores.shape}\")\n",
    "print(f\"avg_scores.dtype  : {avg_scores.dtype}\")\n",
    "print(f\"avg_scores.nbytes : {avg_scores.nbytes}\")\n",
    "print(f\"type(avg_scores)  : {type(avg_scores)}\")"
   ]
  },
  {
   "cell_type": "code",
   "execution_count": 63,
   "metadata": {},
   "outputs": [
    {
     "name": "stdout",
     "output_type": "stream",
     "text": [
      "mono_audio        : [3.0517578e-05 3.1726351e-05 2.1638528e-02 4.8217773e-03]\n",
      "mono_audio.shape  : (4,)\n",
      "mono_audio.dtype  : float64\n",
      "mono_audio.nbytes : 32\n",
      "type(mono_audio)  : <class 'numpy.ndarray'>\n"
     ]
    }
   ],
   "source": [
    "audio = (3.0517578e-05, 3.1726351e-05, 2.1638528e-02, 4.8217773e-03)  # tuple\n",
    "mono_audio = np.array(audio)\n",
    "\n",
    "# log\n",
    "print(f\"mono_audio        : {mono_audio}\")\n",
    "print(f\"mono_audio.shape  : {mono_audio.shape}\")\n",
    "print(f\"mono_audio.dtype  : {mono_audio.dtype}\")\n",
    "print(f\"mono_audio.nbytes : {mono_audio.nbytes}\")\n",
    "print(f\"type(mono_audio)  : {type(mono_audio)}\")"
   ]
  },
  {
   "cell_type": "markdown",
   "metadata": {},
   "source": [
    "## 2D array (known as matrix)"
   ]
  },
  {
   "cell_type": "code",
   "execution_count": 65,
   "metadata": {},
   "outputs": [
    {
     "name": "stdout",
     "output_type": "stream",
     "text": [
      "stereo_audio :\n",
      "[[0.        0.0001831]\n",
      " [0.0003051 0.       ]\n",
      " [0.0002441 0.       ]]\n",
      "\n",
      "stereo_audio.shape  : (3, 2)\n",
      "stereo_audio.dtype  : float64\n",
      "stereo_audio.nbytes : 48\n",
      "type(stereo_audio)  : <class 'numpy.ndarray'>\n"
     ]
    }
   ],
   "source": [
    "stereo_audio = np.array([[0.000e+0, 1.831e-4], [3.051e-4, 0.000e+0], [2.441e-4, 0.000e+0]])\n",
    "\n",
    "# log\n",
    "print(f\"stereo_audio :\\n{stereo_audio}\", end='\\n\\n')\n",
    "print(f\"stereo_audio.shape  : {stereo_audio.shape}\")\n",
    "print(f\"stereo_audio.dtype  : {stereo_audio.dtype}\")\n",
    "print(f\"stereo_audio.nbytes : {stereo_audio.nbytes}\")\n",
    "print(f\"type(stereo_audio)  : {type(stereo_audio)}\")"
   ]
  },
  {
   "cell_type": "code",
   "execution_count": 66,
   "metadata": {},
   "outputs": [
    {
     "name": "stdout",
     "output_type": "stream",
     "text": [
      "gs_img :\n",
      "[[ 1  2  3  4]\n",
      " [ 5  6  7  8]\n",
      " [ 9 10 11 12]\n",
      " [13 14 15 16]]\n",
      "\n",
      "gs_img.shape  : (4, 4)\n",
      "gs_img.dtype  : int32\n",
      "gs_img.nbytes : 64\n",
      "type(gs_img)  : <class 'numpy.ndarray'>\n"
     ]
    }
   ],
   "source": [
    "gs_img = np.array(\n",
    "    [\n",
    "        [1, 2, 3, 4],\n",
    "        [5, 6, 7, 8],\n",
    "        [9, 10, 11, 12],\n",
    "        [13, 14, 15, 16]\n",
    "    ]\n",
    ")\n",
    "\n",
    "# log\n",
    "print(f\"gs_img :\\n{gs_img}\", end='\\n\\n')\n",
    "print(f\"gs_img.shape  : {gs_img.shape}\")\n",
    "print(f\"gs_img.dtype  : {gs_img.dtype}\")\n",
    "print(f\"gs_img.nbytes : {gs_img.nbytes}\")\n",
    "print(f\"type(gs_img)  : {type(gs_img)}\")"
   ]
  },
  {
   "cell_type": "markdown",
   "metadata": {},
   "source": [
    "## 3D array"
   ]
  },
  {
   "cell_type": "code",
   "execution_count": 67,
   "metadata": {},
   "outputs": [
    {
     "name": "stdout",
     "output_type": "stream",
     "text": [
      "rgb_image :\n",
      "[[[255 129 255]\n",
      "  [249 230 115]]\n",
      "\n",
      " [[255  79  79]\n",
      "  [104 203 248]]]\n",
      "\n",
      "rgb_image.shape  : (2, 2, 3)\n",
      "rgb_image.dtype  : int32\n",
      "rgb_image.nbytes : 48\n",
      "type(rgb_image)  : <class 'numpy.ndarray'>\n"
     ]
    }
   ],
   "source": [
    "rgb_image = np.array([[[255, 129, 255], [249, 230, 115]], [[255, 79, 79], [104, 203, 248]]])\n",
    "\n",
    "# print\n",
    "print(f\"rgb_image :\\n{rgb_image}\", end=\"\\n\\n\")\n",
    "print(f\"rgb_image.shape  : {rgb_image.shape}\")\n",
    "print(f\"rgb_image.dtype  : {rgb_image.dtype}\")\n",
    "print(f\"rgb_image.nbytes : {rgb_image.nbytes}\")\n",
    "print(f\"type(rgb_image)  : {type(rgb_image)}\")"
   ]
  },
  {
   "cell_type": "code",
   "execution_count": 68,
   "metadata": {},
   "outputs": [
    {
     "name": "stdout",
     "output_type": "stream",
     "text": [
      "gs_video :\n",
      "[[[203  28  91]\n",
      "  [ 47 124  40]\n",
      "  [ 19 250  51]]\n",
      "\n",
      " [[174  87  89]\n",
      "  [ 15  71 231]\n",
      "  [ 10  12 121]]\n",
      "\n",
      " [[193  55  81]\n",
      "  [173  19  76]\n",
      "  [  1 134 250]]\n",
      "\n",
      " [[210  50  80]\n",
      "  [180  40  60]\n",
      "  [111  32  57]]]\n",
      "\n",
      "gs_video.shape  : (4, 3, 3)\n",
      "gs_video.dtype  : int32\n",
      "gs_video.nbytes : 144\n",
      "type(gs_video)  : <class 'numpy.ndarray'>\n"
     ]
    }
   ],
   "source": [
    "gs_video = np.array([\n",
    "    [[203, 28, 91], [47, 124, 40], [19, 250, 51]],\n",
    "    [[174, 87, 89], [15, 71, 231], [10, 12, 121]],\n",
    "    [[193, 55, 81], [173, 19, 76], [1, 134, 250]],\n",
    "    [[210, 50, 80], [180, 40, 60], [111, 32, 57]],\n",
    "])\n",
    "\n",
    "# log\n",
    "print(f\"gs_video :\\n{gs_video}\", end='\\n\\n')\n",
    "print(f\"gs_video.shape  : {gs_video.shape}\")\n",
    "print(f\"gs_video.dtype  : {gs_video.dtype}\")\n",
    "print(f\"gs_video.nbytes : {gs_video.nbytes}\")\n",
    "print(f\"type(gs_video)  : {type(gs_video)}\")"
   ]
  },
  {
   "cell_type": "markdown",
   "metadata": {},
   "source": [
    "## 4D array"
   ]
  },
  {
   "cell_type": "code",
   "execution_count": 69,
   "metadata": {},
   "outputs": [
    {
     "name": "stdout",
     "output_type": "stream",
     "text": [
      "rgb_image :\n",
      "[[[[ 1  2]\n",
      "   [ 3  4]]\n",
      "\n",
      "  [[ 5  6]\n",
      "   [ 7  8]]]\n",
      "\n",
      "\n",
      " [[[ 9 10]\n",
      "   [11 12]]\n",
      "\n",
      "  [[13 14]\n",
      "   [15 16]]]]\n",
      "\n",
      "rgb_image.shape  : (2, 2, 3)\n",
      "rgb_image.dtype  : int32\n",
      "rgb_image.nbytes : 48\n",
      "type(rgb_image)  : <class 'numpy.ndarray'>\n"
     ]
    }
   ],
   "source": [
    "arr = np.array([[[[1, 2], [3, 4]], [[5, 6], [7, 8]]], [[[9, 10], [11, 12]], [[13, 14], [15, 16]]]])\n",
    "\n",
    "# print\n",
    "print(f\"rgb_image :\\n{arr}\", end='\\n\\n')\n",
    "print(f\"rgb_image.shape  : {rgb_image.shape}\")\n",
    "print(f\"rgb_image.dtype  : {rgb_image.dtype}\")\n",
    "print(f\"rgb_image.nbytes : {rgb_image.nbytes}\")\n",
    "print(f\"type(rgb_image)  : {type(rgb_image)}\")"
   ]
  }
 ],
 "metadata": {
  "kernelspec": {
   "display_name": "Python 3",
   "language": "python",
   "name": "python3"
  },
  "language_info": {
   "codemirror_mode": {
    "name": "ipython",
    "version": 3
   },
   "file_extension": ".py",
   "mimetype": "text/x-python",
   "name": "python",
   "nbconvert_exporter": "python",
   "pygments_lexer": "ipython3",
   "version": "3.12.3"
  }
 },
 "nbformat": 4,
 "nbformat_minor": 2
}
