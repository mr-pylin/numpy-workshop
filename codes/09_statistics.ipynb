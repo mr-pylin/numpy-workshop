{
 "cells": [
  {
   "cell_type": "markdown",
   "metadata": {},
   "source": [
    "# Dependencies"
   ]
  },
  {
   "cell_type": "code",
   "execution_count": 1,
   "metadata": {},
   "outputs": [],
   "source": [
    "import numpy as np"
   ]
  },
  {
   "cell_type": "code",
   "execution_count": 2,
   "metadata": {},
   "outputs": [],
   "source": [
    "# prevent printing the returned object in each cell\n",
    "from IPython.core.interactiveshell import InteractiveShell\n",
    "InteractiveShell.ast_node_interactivity = 'none'"
   ]
  },
  {
   "cell_type": "markdown",
   "metadata": {},
   "source": [
    "# NumPy - Statistics\n",
    "Docs:\n",
    "   - [numpy.org/doc/stable/reference/routines.statistics.html](https://numpy.org/doc/stable/reference/routines.statistics.html)"
   ]
  },
  {
   "cell_type": "markdown",
   "metadata": {},
   "source": [
    "## Order statistics"
   ]
  },
  {
   "cell_type": "code",
   "execution_count": 3,
   "metadata": {},
   "outputs": [
    {
     "name": "stdout",
     "output_type": "stream",
     "text": [
      "ptp_1 : 7\n",
      "ptp_2 : 6\n",
      "ptp_3 : [1 3 4 3 1]\n",
      "ptp_4 : [5 5]\n",
      "ptp_5 : 5\n"
     ]
    }
   ],
   "source": [
    "arr_1d_1 = np.array([5, 1, 2, 0, 7, 4, 6, 2, 1, 5, 7, 2])\n",
    "arr_2d_1 = np.array([[5, 0, 1, 4, 2], [6, 3, 5, 1, 1]])\n",
    "arr_3d_1 = np.array([[[6, 2], [1, 2]], [[4, 2], [6, 4]]])\n",
    "\n",
    "# ptp (max - min)\n",
    "ptp_1 = np.ptp(arr_1d_1)\n",
    "ptp_2 = np.ptp(arr_2d_1)\n",
    "ptp_3 = np.ptp(arr_2d_1, axis=0)\n",
    "ptp_4 = np.ptp(arr_2d_1, axis=1)\n",
    "ptp_5 = np.ptp(arr_3d_1)\n",
    "\n",
    "# log\n",
    "print(f\"ptp_1 : {ptp_1}\")\n",
    "print(f\"ptp_2 : {ptp_2}\")\n",
    "print(f\"ptp_3 : {ptp_3}\")\n",
    "print(f\"ptp_4 : {ptp_4}\")\n",
    "print(f\"ptp_5 : {ptp_5}\")"
   ]
  },
  {
   "cell_type": "code",
   "execution_count": 4,
   "metadata": {},
   "outputs": [
    {
     "name": "stdout",
     "output_type": "stream",
     "text": [
      "percentile_1 : 1.75\n",
      "percentile_2 : 3.0\n",
      "percentile_3 : 2.5\n",
      "percentile_4 : 4.5\n",
      "percentile_5 :\n",
      "[[5.5  2.  ]\n",
      " [4.75 3.5 ]]\n",
      "\n",
      "quantile_1   : 1.75\n",
      "quantile_2   : 3.0\n",
      "quantile_3   : 2.5\n",
      "quantile_4   : 4.5\n",
      "quantile_5   :\n",
      "[[4.75 2.  ]\n",
      " [5.5  3.5 ]]\n"
     ]
    }
   ],
   "source": [
    "arr_1d_2 = np.array([5, 1, 2, 0, 7, 4, 6, 2, 1, 5, 7, 2])\n",
    "arr_2d_2 = np.array([[5, 0, 1, 4, 2], [6, 3, 5, 1, 1]])\n",
    "arr_3d_2 = np.array([[[6, 2], [1, 2]], [[4, 2], [6, 4]]])\n",
    "\n",
    "# percentile\n",
    "percentile_1 = np.percentile(arr_1d_2, q=25)  # first quarter\n",
    "percentile_2 = np.percentile(arr_1d_2, q=50)  # second quarter [median]\n",
    "percentile_3 = np.percentile(arr_2d_2, q=50)  # second quarter [median]\n",
    "percentile_4 = np.percentile(arr_3d_2, q=75)  # third quarter\n",
    "percentile_5 = np.percentile(arr_3d_2, q=75, axis=0)\n",
    "\n",
    "# quantile\n",
    "quantile_1 = np.quantile(arr_1d_2, q=.25)  # first quarter\n",
    "quantile_2 = np.quantile(arr_1d_2, q=.5)   # second quarter [median]\n",
    "quantile_3 = np.quantile(arr_2d_2, q=.5)   # second quarter [median]\n",
    "quantile_4 = np.quantile(arr_3d_2, q=.75)  # third quarter\n",
    "quantile_5 = np.quantile(arr_3d_2, q=.75, axis=1)\n",
    "\n",
    "# log\n",
    "print(f\"percentile_1 : {percentile_1}\")\n",
    "print(f\"percentile_2 : {percentile_2}\")\n",
    "print(f\"percentile_3 : {percentile_3}\")\n",
    "print(f\"percentile_4 : {percentile_4}\")\n",
    "print(f\"percentile_5 :\\n{percentile_5}\", end='\\n\\n')\n",
    "print(f\"quantile_1   : {quantile_1}\")\n",
    "print(f\"quantile_2   : {quantile_2}\")\n",
    "print(f\"quantile_3   : {quantile_3}\")\n",
    "print(f\"quantile_4   : {quantile_4}\")\n",
    "print(f\"quantile_5   :\\n{quantile_5}\")"
   ]
  },
  {
   "cell_type": "markdown",
   "metadata": {},
   "source": [
    "## Averages and variances"
   ]
  },
  {
   "cell_type": "code",
   "execution_count": 5,
   "metadata": {},
   "outputs": [
    {
     "name": "stdout",
     "output_type": "stream",
     "text": [
      "median_1  : 3.0\n",
      "median_2  : 2.5\n",
      "median_3  : [5.5 1.5 3.  2.5 1.5]\n",
      "median_4  : [2. 3.]\n",
      "median_5  : 3.0\n",
      "average_1 : 3.757575757575758\n",
      "average_2 : 2.8\n",
      "average_3 : [5.5 1.5 3.  2.5 1.5]\n",
      "average_4 : [2.4 3.2]\n",
      "average_5 : 3.375\n",
      "mean_1    : 3.5\n",
      "mean_2    : 2.8\n",
      "mean_3    : [5.5 1.5 3.  2.5 1.5]\n",
      "mean_4    : [2.4 3.2]\n",
      "mean_5    : 3.375\n",
      "std_1     : 2.362907813126304\n",
      "std_2     : 1.9899748742132402\n",
      "std_3     : [0.5 1.5 2.  1.5 0.5]\n",
      "std_4     : [1.8547237  2.03960781]\n",
      "std_5     : 1.79843682124227\n",
      "var_1     : 5.583333333333333\n",
      "var_2     : 3.960000000000001\n",
      "var_3     : [0.25 2.25 4.   2.25 0.25]\n",
      "var_4     : [3.44 4.16]\n",
      "var_5     : 3.234375\n"
     ]
    }
   ],
   "source": [
    "arr_1d_3 = np.array([5, 1, 2, 0, 7, 4, 6, 2, 1, 5, 7, 2])\n",
    "arr_2d_3 = np.array([[5, 0, 1, 4, 2], [6, 3, 5, 1, 1]])\n",
    "arr_3d_3 = np.array([[[6, 2], [1, 2]], [[4, 2], [6, 4]]])\n",
    "\n",
    "# median\n",
    "median_1 = np.median(arr_1d_3)\n",
    "median_2 = np.median(arr_2d_3)\n",
    "median_3 = np.median(arr_2d_3, axis=0)\n",
    "median_4 = np.median(arr_2d_3, axis=1)\n",
    "median_5 = np.median(arr_3d_3)\n",
    "\n",
    "# average (supports weights)\n",
    "average_1 = np.average(arr_1d_3, weights=np.arange(len(arr_1d_1)))\n",
    "average_2 = np.average(arr_2d_3)\n",
    "average_3 = np.average(arr_2d_3, axis=0)\n",
    "average_4 = np.average(arr_2d_3, axis=1)\n",
    "average_5 = np.average(arr_3d_3)\n",
    "\n",
    "# mean (doesn't support weights)\n",
    "mean_1 = np.mean(arr_1d_3)  # same as np.mean\n",
    "mean_2 = np.mean(arr_2d_3)\n",
    "mean_3 = np.mean(arr_2d_3, axis=0)\n",
    "mean_4 = np.mean(arr_2d_3, axis=1)\n",
    "mean_5 = np.mean(arr_3d_3)\n",
    "\n",
    "# std (standard deviation)\n",
    "std_1 = np.std(arr_1d_3)\n",
    "std_2 = np.std(arr_2d_3)\n",
    "std_3 = np.std(arr_2d_3, axis=0)\n",
    "std_4 = np.std(arr_2d_3, axis=1)\n",
    "std_5 = np.std(arr_3d_3)\n",
    "\n",
    "# var (variance)\n",
    "var_1 = np.var(arr_1d_3)\n",
    "var_2 = np.var(arr_2d_3)\n",
    "var_3 = np.var(arr_2d_3, axis=0)\n",
    "var_4 = np.var(arr_2d_3, axis=1)\n",
    "var_5 = np.var(arr_3d_3)\n",
    "\n",
    "# log\n",
    "print(f\"median_1  : {median_1}\")\n",
    "print(f\"median_2  : {median_2}\")\n",
    "print(f\"median_3  : {median_3}\")\n",
    "print(f\"median_4  : {median_4}\")\n",
    "print(f\"median_5  : {median_5}\")\n",
    "print(f\"average_1 : {average_1}\")\n",
    "print(f\"average_2 : {average_2}\")\n",
    "print(f\"average_3 : {average_3}\")\n",
    "print(f\"average_4 : {average_4}\")\n",
    "print(f\"average_5 : {average_5}\")\n",
    "print(f\"mean_1    : {mean_1}\")\n",
    "print(f\"mean_2    : {mean_2}\")\n",
    "print(f\"mean_3    : {mean_3}\")\n",
    "print(f\"mean_4    : {mean_4}\")\n",
    "print(f\"mean_5    : {mean_5}\")\n",
    "print(f\"std_1     : {std_1}\")\n",
    "print(f\"std_2     : {std_2}\")\n",
    "print(f\"std_3     : {std_3}\")\n",
    "print(f\"std_4     : {std_4}\")\n",
    "print(f\"std_5     : {std_5}\")\n",
    "print(f\"var_1     : {var_1}\")\n",
    "print(f\"var_2     : {var_2}\")\n",
    "print(f\"var_3     : {var_3}\")\n",
    "print(f\"var_4     : {var_4}\")\n",
    "print(f\"var_5     : {var_5}\")"
   ]
  },
  {
   "cell_type": "markdown",
   "metadata": {},
   "source": [
    "## Correlating\n",
    "   - corrcoef : Return Pearson product-moment correlation coefficients\n",
    "   - correlate : Cross-correlation of two 1-dimensional sequences\n",
    "   - cov : Estimate a covariance matrix, given data and weights"
   ]
  },
  {
   "cell_type": "code",
   "execution_count": 6,
   "metadata": {},
   "outputs": [
    {
     "name": "stdout",
     "output_type": "stream",
     "text": [
      "corrcoef_1 :\n",
      "[[ 1.          0.83862787  0.69337525 -0.89104211  0.99587059 -0.34995662]\n",
      " [ 0.83862787  1.          0.18898224 -0.5         0.78571429  0.21677749]\n",
      " [ 0.69337525  0.18898224  1.         -0.94491118  0.75592895 -0.91766294]\n",
      " [-0.89104211 -0.5        -0.94491118  1.         -0.92857143  0.73704347]\n",
      " [ 0.99587059  0.78571429  0.75592895 -0.92857143  1.         -0.43355498]\n",
      " [-0.34995662  0.21677749 -0.91766294  0.73704347 -0.43355498  1.        ]]\n",
      "\n",
      "corrcoef_2 :\n",
      "[[ 1.         -0.21483446  0.70849191]\n",
      " [-0.21483446  1.          0.33295605]\n",
      " [ 0.70849191  0.33295605  1.        ]]\n"
     ]
    }
   ],
   "source": [
    "arr_2d_4 = np.array(\n",
    "    [\n",
    "        [6, 2, 3],\n",
    "        [4, 2, 1],\n",
    "        [6, 5, 6],\n",
    "        [3, 6, 4],\n",
    "        [8, 5, 6],\n",
    "        [3, 6, 1],\n",
    "    ]\n",
    ")\n",
    "\n",
    "# corrcoef\n",
    "corrcoef_1 = np.corrcoef(arr_2d_4)  # find pearson correlation between samples (rows)\n",
    "corrcoef_2 = np.corrcoef(arr_2d_4, rowvar=False)  # find pearson correlation between features (columns)\n",
    "\n",
    "# log\n",
    "print(f\"corrcoef_1 :\\n{corrcoef_1}\", end='\\n\\n')\n",
    "print(f\"corrcoef_2 :\\n{corrcoef_2}\")"
   ]
  },
  {
   "cell_type": "code",
   "execution_count": 7,
   "metadata": {},
   "outputs": [
    {
     "name": "stdout",
     "output_type": "stream",
     "text": [
      "Fourier coefficients: [ 3.46410162+0.j  -0.8660254 -0.5j -0.8660254 +0.5j]\n"
     ]
    }
   ],
   "source": [
    "signal_1d_1 = np.array([1, 2, 3])\n",
    "\n",
    "# fourier basis vectors of length 3\n",
    "N = len(signal_1d_1)\n",
    "n = np.arange(N)\n",
    "basis_0 = (1 / np.sqrt(N)) * np.ones(N)\n",
    "basis_1 = (1 / np.sqrt(N)) * np.exp(-1j * (2 * np.pi / N) * 1 * n)\n",
    "basis_2 = (1 / np.sqrt(N)) * np.exp(-1j * (2 * np.pi / N) * 2 * n)\n",
    "\n",
    "# correlate\n",
    "coef_0 = np.correlate(signal_1d_1, basis_0, mode='valid')  # DC\n",
    "coef_1 = np.correlate(signal_1d_1, basis_1, mode='valid')  # AC\n",
    "coef_2 = np.correlate(signal_1d_1, basis_2, mode='valid')  # AC\n",
    "\n",
    "# log\n",
    "print(f\"Fourier coefficients: {np.concatenate([coef_0, coef_1, coef_2])}\")"
   ]
  },
  {
   "cell_type": "code",
   "execution_count": 8,
   "metadata": {},
   "outputs": [
    {
     "name": "stdout",
     "output_type": "stream",
     "text": [
      "cov_1 :\n",
      "[[ 4.33333333  2.66666667  0.83333333 -2.83333333  3.16666667 -1.83333333]\n",
      " [ 2.66666667  2.33333333  0.16666667 -1.16666667  1.83333333  0.83333333]\n",
      " [ 0.83333333  0.16666667  0.33333333 -0.83333333  0.66666667 -1.33333333]\n",
      " [-2.83333333 -1.16666667 -0.83333333  2.33333333 -2.16666667  2.83333333]\n",
      " [ 3.16666667  1.83333333  0.66666667 -2.16666667  2.33333333 -1.66666667]\n",
      " [-1.83333333  0.83333333 -1.33333333  2.83333333 -1.66666667  6.33333333]]\n",
      "\n",
      "cov_2 :\n",
      "[[ 4.         -0.8         3.2       ]\n",
      " [-0.8         3.46666667  1.4       ]\n",
      " [ 3.2         1.4         5.1       ]]\n"
     ]
    }
   ],
   "source": [
    "arr_2d_5 = np.array(\n",
    "    [\n",
    "        [6, 2, 3],\n",
    "        [4, 2, 1],\n",
    "        [6, 5, 6],\n",
    "        [3, 6, 4],\n",
    "        [8, 5, 6],\n",
    "        [3, 6, 1],\n",
    "    ]\n",
    ")\n",
    "\n",
    "# cov\n",
    "cov_1 = np.cov(arr_2d_5)  # find covariance between samples (rows)\n",
    "cov_2 = np.cov(arr_2d_5, rowvar=False)  # find covariance between features (rows)\n",
    "\n",
    "# log\n",
    "print(f\"cov_1 :\\n{cov_1}\", end='\\n\\n')\n",
    "print(f\"cov_2 :\\n{cov_2}\")"
   ]
  },
  {
   "cell_type": "markdown",
   "metadata": {},
   "source": [
    "## Histograms\n",
    "   - histogram : Compute the histogram of a dataset\n",
    "   - histogram2d : Compute the bi-dimensional histogram of two data samples\n",
    "   - histogramdd : Compute the multidimensional histogram of some data\n",
    "   - bincount : Count number of occurrences of each value in array of non-negative ints\n",
    "   - histogram_bin_edges : Function to calculate only the edges of the bins used by the `histogram` function\n",
    "   - digitize : Return the indices of the bins to which each value in input array belongs"
   ]
  },
  {
   "cell_type": "code",
   "execution_count": 9,
   "metadata": {},
   "outputs": [
    {
     "name": "stdout",
     "output_type": "stream",
     "text": [
      "histogram_1 : [5 1 2]\n",
      "bin_1       : [1.         2.33333333 3.66666667 5.        ]\n",
      "histogram_2 : [6 2 0]\n",
      "bin_2       : [1.         3.33333333 5.66666667 8.        ]\n",
      "histogram_3 : [0 3 2 1 1 1]\n",
      "bin_3       : [0 1 2 3 4 5 6]\n"
     ]
    }
   ],
   "source": [
    "arr_1d_4 = np.array([1, 2, 1, 3, 2, 5, 1, 4])\n",
    "\n",
    "# histogram\n",
    "histogram_1, bin_1 = np.histogram(arr_1d_4, bins=3)\n",
    "histogram_2, bin_2 = np.histogram(arr_1d_4, bins=3, range=(1, 8))\n",
    "histogram_3, bin_3 = np.histogram(arr_1d_4, bins=[0, 1, 2, 3, 4, 5, 6])\n",
    "\n",
    "# log\n",
    "print(f\"histogram_1 : {histogram_1}\")\n",
    "print(f\"bin_1       : {bin_1}\")\n",
    "print(f\"histogram_2 : {histogram_2}\")\n",
    "print(f\"bin_2       : {bin_2}\")\n",
    "print(f\"histogram_3 : {histogram_3}\")\n",
    "print(f\"bin_3       : {bin_3}\")"
   ]
  },
  {
   "cell_type": "code",
   "execution_count": 10,
   "metadata": {},
   "outputs": [
    {
     "name": "stdout",
     "output_type": "stream",
     "text": [
      "hist2d_1 :\n",
      "[[4. 1. 0.]\n",
      " [0. 1. 1.]\n",
      " [1. 0. 0.]]\n",
      "\n",
      "xedges_1 :\n",
      "[1.         3.33333333 5.66666667 8.        ]\n",
      "\n",
      "yedges_1 :\n",
      "[1.         3.33333333 5.66666667 8.        ]\n",
      "\n",
      "hist2d_2 :\n",
      "[[3. 1. 1. 0. 0.]\n",
      " [0. 0. 1. 0. 1.]\n",
      " [0. 1. 0. 0. 0.]]\n",
      "\n",
      "xedges_2 :\n",
      "[1.         3.33333333 5.66666667 8.        ]\n",
      "\n",
      "yedges_2 :\n",
      "[1.  2.4 3.8 5.2 6.6 8. ]\n"
     ]
    }
   ],
   "source": [
    "x = np.array([1, 2, 8, 3, 2, 5, 1, 4])\n",
    "y = np.array([2, 1, 3, 3, 4, 5, 2, 8])\n",
    "\n",
    "# histogram2d\n",
    "hist2d_1, xedges_1, yedges_1 = np.histogram2d(x, y, bins=3)\n",
    "hist2d_2, xedges_2, yedges_2 = np.histogram2d(x, y, bins=(3, 5))\n",
    "\n",
    "# log\n",
    "print(f\"hist2d_1 :\\n{hist2d_1}\", end='\\n\\n')\n",
    "print(f\"xedges_1 :\\n{xedges_1}\", end='\\n\\n')\n",
    "print(f\"yedges_1 :\\n{yedges_1}\", end='\\n\\n')\n",
    "print(f\"hist2d_2 :\\n{hist2d_2}\", end='\\n\\n')\n",
    "print(f\"xedges_2 :\\n{xedges_2}\", end='\\n\\n')\n",
    "print(f\"yedges_2 :\\n{yedges_2}\")"
   ]
  },
  {
   "cell_type": "code",
   "execution_count": 11,
   "metadata": {},
   "outputs": [
    {
     "name": "stdout",
     "output_type": "stream",
     "text": [
      "histdd_1 :\n",
      "[[[0. 0. 1.]\n",
      "  [0. 1. 0.]\n",
      "  [0. 0. 0.]]\n",
      "\n",
      " [[1. 0. 0.]\n",
      "  [0. 0. 0.]\n",
      "  [0. 0. 1.]]\n",
      "\n",
      " [[0. 0. 0.]\n",
      "  [0. 1. 0.]\n",
      "  [1. 0. 0.]]]\n",
      "\n",
      "Edges :\n",
      "[array([1., 2., 3., 4.]), array([1.        , 2.33333333, 3.66666667, 5.        ]), array([1., 2., 3., 4.])]\n"
     ]
    }
   ],
   "source": [
    "arr_2d_6 = np.array([[1, 2, 4], [2, 1, 1], [1, 3, 2], [3, 3, 2], [2, 4, 3], [4, 5, 1]])\n",
    "\n",
    "# histogramdd\n",
    "histdd_1, edges_1 = np.histogramdd(arr_2d_6, bins=(3, 3, 3))\n",
    "\n",
    "# log\n",
    "print(f\"histdd_1 :\\n{histdd_1}\", end='\\n\\n')\n",
    "print(f\"Edges :\\n{edges_1}\")"
   ]
  },
  {
   "cell_type": "code",
   "execution_count": 12,
   "metadata": {},
   "outputs": [
    {
     "name": "stdout",
     "output_type": "stream",
     "text": [
      "bincount_1: [0 3 2 1 1 1]\n"
     ]
    }
   ],
   "source": [
    "arr_1d_5 = np.array([1, 2, 1, 3, 2, 5, 1, 4])\n",
    "\n",
    "# bincount\n",
    "bincount_1 = np.bincount(arr_1d_5)\n",
    "\n",
    "# log\n",
    "print(f\"bincount_1: {bincount_1}\")"
   ]
  },
  {
   "cell_type": "code",
   "execution_count": 13,
   "metadata": {},
   "outputs": [
    {
     "name": "stdout",
     "output_type": "stream",
     "text": [
      "bin_edges_1: [1.         2.33333333 3.66666667 5.        ]\n",
      "bin_edges_2: [1.  1.8 2.6 3.4 4.2 5. ]\n"
     ]
    }
   ],
   "source": [
    "arr_1d_6 = np.array([1, 2, 1, 3, 2, 5, 1, 4])\n",
    "\n",
    "# histogram_bin_edges\n",
    "bin_edges_1 = np.histogram_bin_edges(arr_1d_6, bins=3)\n",
    "bin_edges_2 = np.histogram_bin_edges(arr_1d_6, bins=5)\n",
    "\n",
    "# log\n",
    "print(f\"bin_edges_1: {bin_edges_1}\")\n",
    "print(f\"bin_edges_2: {bin_edges_2}\")"
   ]
  },
  {
   "cell_type": "code",
   "execution_count": 14,
   "metadata": {},
   "outputs": [
    {
     "name": "stdout",
     "output_type": "stream",
     "text": [
      "digitize_1: [1 2 4 3 2 4 0 4]\n"
     ]
    }
   ],
   "source": [
    "arr_1d_7 = np.array([1, 2.5, 4.7, 3, 2, 11, -1.9, 4.3])\n",
    "bins = np.array([1, 2, 3, 4])\n",
    "\n",
    "# digitize\n",
    "digitize_1 = np.digitize(arr_1d_7, bins)\n",
    "\n",
    "# log\n",
    "print(f\"digitize_1: {digitize_1}\")"
   ]
  }
 ],
 "metadata": {
  "kernelspec": {
   "display_name": "Python 3",
   "language": "python",
   "name": "python3"
  },
  "language_info": {
   "codemirror_mode": {
    "name": "ipython",
    "version": 3
   },
   "file_extension": ".py",
   "mimetype": "text/x-python",
   "name": "python",
   "nbconvert_exporter": "python",
   "pygments_lexer": "ipython3",
   "version": "3.12.3"
  }
 },
 "nbformat": 4,
 "nbformat_minor": 2
}
