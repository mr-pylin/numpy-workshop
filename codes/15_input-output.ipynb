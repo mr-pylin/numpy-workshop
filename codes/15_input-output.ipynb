{
 "cells": [
  {
   "cell_type": "markdown",
   "metadata": {},
   "source": [
    "# Dependencies"
   ]
  },
  {
   "cell_type": "code",
   "execution_count": 1,
   "metadata": {},
   "outputs": [],
   "source": [
    "import sys\n",
    "\n",
    "import numpy as np"
   ]
  },
  {
   "cell_type": "code",
   "execution_count": 2,
   "metadata": {},
   "outputs": [],
   "source": [
    "rng = np.random.default_rng(seed=42)"
   ]
  },
  {
   "cell_type": "markdown",
   "metadata": {},
   "source": [
    "# NumPy - Input and output\n",
    "Doc:\n",
    "   - [numpy.org/doc/stable/reference/routines.io.html](https://numpy.org/doc/stable/reference/routines.io.html)"
   ]
  },
  {
   "cell_type": "markdown",
   "metadata": {},
   "source": [
    "## NumPy binary files (npy, npz)\n",
    "- npy\n",
    "   - Stores a single NumPy array in binary format\n",
    "   - Efficient for loading and saving large arrays\n",
    "   - Use `np.save` to save, `np.load` to load\n",
    "- npz\n",
    "   - Stores multiple NumPy arrays in a compressed archive\n",
    "   - Use `np.savez` or `np.savez_compressed` to save, `np.load` to load.\n",
    "   - Offers compression for smaller file size"
   ]
  },
  {
   "cell_type": "code",
   "execution_count": 3,
   "metadata": {},
   "outputs": [],
   "source": [
    "arr_1d_1 = np.array([1, 2, 3, 4, 5])\n",
    "\n",
    "# save\n",
    "np.save(\"../resources/binaries/binary_1.npy\", arr_1d_1)"
   ]
  },
  {
   "cell_type": "code",
   "execution_count": 4,
   "metadata": {},
   "outputs": [],
   "source": [
    "arr_1d_2 = np.array([1, 2, 3, 4, 5])\n",
    "arr_1d_3 = np.array([5, 4, 3, 2, 1])\n",
    "\n",
    "# savez\n",
    "np.savez(\"../resources/binaries/binary_2.npz\", arr_1d_2, arr_1d_3)"
   ]
  },
  {
   "cell_type": "code",
   "execution_count": 5,
   "metadata": {},
   "outputs": [],
   "source": [
    "arr_1d_4 = np.array([4, 5, 6, 7, 8])\n",
    "arr_1d_5 = np.array([8, 7, 6, 5, 4])\n",
    "\n",
    "# savez_compressed\n",
    "np.savez_compressed(\"../resources/binaries/binary_3.npz\", arr_1d_4, arr_1d_5)"
   ]
  },
  {
   "cell_type": "code",
   "execution_count": 6,
   "metadata": {},
   "outputs": [
    {
     "name": "stdout",
     "output_type": "stream",
     "text": [
      "arr_1d_6 : [1 2 3 4 5]\n",
      "arr_1d_7 : [1 2 3 4 5]\n",
      "arr_1d_8 : [5 4 3 2 1]\n",
      "arr_1d_9 : [4 5 6 7 8]\n",
      "arr_1d_10: [8 7 6 5 4]\n"
     ]
    }
   ],
   "source": [
    "# load .npy\n",
    "arr_1d_6 = np.load(\"../resources/binaries/binary_1.npy\")\n",
    "\n",
    "# load .npz\n",
    "load_1 = np.load(\"../resources/binaries/binary_2.npz\")\n",
    "arr_1d_7, arr_1d_8 = load_1['arr_0'], load_1['arr_1']\n",
    "\n",
    "# load .npz [compressed file]\n",
    "load_2 = np.load(\"../resources/binaries/binary_3.npz\")\n",
    "arr_1d_9, arr_1d_10 = load_2['arr_0'], load_2['arr_1']\n",
    "\n",
    "# log\n",
    "print(f\"arr_1d_6 : {arr_1d_6}\")\n",
    "print(f\"arr_1d_7 : {arr_1d_7}\")\n",
    "print(f\"arr_1d_8 : {arr_1d_8}\")\n",
    "print(f\"arr_1d_9 : {arr_1d_9}\")\n",
    "print(f\"arr_1d_10: {arr_1d_10}\")"
   ]
  },
  {
   "cell_type": "markdown",
   "metadata": {},
   "source": [
    "## Text files"
   ]
  },
  {
   "cell_type": "code",
   "execution_count": 7,
   "metadata": {},
   "outputs": [
    {
     "name": "stdout",
     "output_type": "stream",
     "text": [
      "arr_2d_2:\n",
      "[[ 1  2  3]\n",
      " [ 4  5  6]\n",
      " [ 7  8  9]\n",
      " [10 11 12]]\n"
     ]
    }
   ],
   "source": [
    "arr_2d_1 = np.array([[1.0, 2.0, 3.0], [4.0, 5.0, 6.0], [7.0, 8.0, 9.0], [10.0, 11.0, 12.0]])\n",
    "\n",
    "# savetxt\n",
    "np.savetxt(\"../resources/txtfiles/file_1.csv\", X=arr_2d_1, fmt='%i', delimiter=',', header=\"A, B, C\", comments=\"\")\n",
    "\n",
    "# load txt file\n",
    "arr_2d_2 = np.loadtxt(\n",
    "    fname=\"../resources/txtfiles/file_1.csv\",\n",
    "    dtype=np.int64,\n",
    "    delimiter=',',\n",
    "    skiprows=1,\n",
    ")\n",
    "\n",
    "# log\n",
    "print(f\"arr_2d_2:\\n{arr_2d_2}\")"
   ]
  },
  {
   "cell_type": "code",
   "execution_count": 8,
   "metadata": {},
   "outputs": [
    {
     "name": "stdout",
     "output_type": "stream",
     "text": [
      "arr_2d_3       : [( 1.,  2.,  3.) ( 4., nan,  6.) ( 7.,  8.,  9.) (10., 11., 12.)]\n",
      "arr_2d_3.dtype : [('A', '<f8'), ('B', '<f8'), ('C', '<f8')]\n"
     ]
    }
   ],
   "source": [
    "arr_2d_2 = np.array([[1.0, 2.0, 3.0], [4.0, None, 6.0], [7.0, 8.0, 9.0], [10.0, 11.0, 12.0]])\n",
    "arr_2d_2 = np.where(arr_2d_2 == None, np.nan, arr_2d_2)\n",
    "\n",
    "# savetxt [contains null values]\n",
    "np.savetxt(\"../resources/txtfiles/file_2.csv\", X=arr_2d_2, fmt='%.1f', delimiter=',', header=\"A, B, C\", comments=\"\")\n",
    "\n",
    "# load txt file [advancced]\n",
    "arr_2d_3 = np.genfromtxt(\n",
    "    fname=\"../resources/txtfiles/file_2.csv\",\n",
    "    dtype=np.float64,\n",
    "    delimiter=',',\n",
    "    names=True,\n",
    ")\n",
    "\n",
    "# log\n",
    "print(f\"arr_2d_3       : {arr_2d_3}\")\n",
    "print(f\"arr_2d_3.dtype : {arr_2d_3.dtype}\")"
   ]
  },
  {
   "cell_type": "code",
   "execution_count": 9,
   "metadata": {},
   "outputs": [
    {
     "name": "stdout",
     "output_type": "stream",
     "text": [
      "fromstring_1: [1. 2. 3. 4. 5.]\n"
     ]
    }
   ],
   "source": [
    "str_1 = \"1.0,2.0,3.0,4.0,5.0\"\n",
    "\n",
    "# fromstring\n",
    "fromstring_1 = np.fromstring(str_1, sep=',')\n",
    "\n",
    "# log\n",
    "print(f\"fromstring_1: {fromstring_1}\")"
   ]
  },
  {
   "cell_type": "markdown",
   "metadata": {},
   "source": [
    "## String formatting"
   ]
  },
  {
   "cell_type": "code",
   "execution_count": 10,
   "metadata": {},
   "outputs": [
    {
     "name": "stdout",
     "output_type": "stream",
     "text": [
      "type(array2string_1) : <class 'str'>\n",
      "array2string_1:\n",
      "[[1 2]\n",
      " [3 4]\n",
      " [5 6]]\n"
     ]
    }
   ],
   "source": [
    "arr_2d_4 = np.array([[1, 2], [3, 4], [5, 6]])\n",
    "\n",
    "# array2string\n",
    "array2string_1 = np.array2string(arr_2d_4)\n",
    "\n",
    "# log\n",
    "print(f\"type(array2string_1) : {type(array2string_1)}\")\n",
    "print(f\"array2string_1:\\n{array2string_1}\")"
   ]
  },
  {
   "cell_type": "markdown",
   "metadata": {},
   "source": [
    "## Memory mapping files\n",
    "   - It's used when datasets are too large to fit into RAM\n",
    "   - `np.memmap` allows you to work with them as if they were in memory, but without loading the entire dataset into RAM\n",
    "   - You can efficiently read and process only the parts of the data you need"
   ]
  },
  {
   "cell_type": "code",
   "execution_count": 11,
   "metadata": {},
   "outputs": [
    {
     "name": "stdout",
     "output_type": "stream",
     "text": [
      "memmap_arr_1  size : 160 bytes\n",
      "memmap_arr_2  size : 160 bytes\n",
      "random_data_1 size : 928 bytes\n"
     ]
    }
   ],
   "source": [
    "# create an empty memmap array\n",
    "memmap_arr_1 = np.memmap(\"../resources/memmaps/memmap_1.dat\", dtype=np.float32, mode='w+', shape=(10, 10))\n",
    "\n",
    "# fill the array with data\n",
    "random_data_1 = rng.random((10, 10))\n",
    "memmap_arr_1[:] = random_data_1\n",
    "\n",
    "# flush changes to disk\n",
    "memmap_arr_1.flush()\n",
    "\n",
    "# open the memory-mapped file in read mode\n",
    "memmap_arr_2 = np.memmap(\"../resources/memmaps/memmap_1.dat\", dtype=np.float32, mode='r', shape=(10, 10))\n",
    "\n",
    "# log\n",
    "print(f\"memmap_arr_1  size : {sys.getsizeof(memmap_arr_1)} bytes\")\n",
    "print(f\"memmap_arr_2  size : {sys.getsizeof(memmap_arr_2)} bytes\")\n",
    "print(f\"random_data_1 size : {sys.getsizeof(random_data_1)} bytes\")\n",
    "\n",
    "# when done, delete the reference to the memmap array\n",
    "del memmap_arr_1\n",
    "del memmap_arr_2"
   ]
  },
  {
   "cell_type": "markdown",
   "metadata": {},
   "source": [
    "## Text formatting options"
   ]
  },
  {
   "cell_type": "code",
   "execution_count": 12,
   "metadata": {},
   "outputs": [
    {
     "name": "stdout",
     "output_type": "stream",
     "text": [
      "arr_2d_5:\n",
      "[[1.12345679 2.98765432 3.23532788]\n",
      " [3.14159265 4.56789012 1.24612875]]\n"
     ]
    }
   ],
   "source": [
    "arr_2d_5 = np.array([[1.123456789, 2.987654321, 3.2353278765], [3.141592653, 4.567890123, 1.2461287468175]])\n",
    "\n",
    "# log\n",
    "print(f\"arr_2d_5:\\n{arr_2d_5}\")"
   ]
  },
  {
   "cell_type": "code",
   "execution_count": 13,
   "metadata": {},
   "outputs": [
    {
     "name": "stdout",
     "output_type": "stream",
     "text": [
      "print_options_1:\n",
      "{'edgeitems': 3, 'threshold': 1000, 'floatmode': 'maxprec', 'precision': 8, 'suppress': False, 'linewidth': 75, 'nanstr': 'nan', 'infstr': 'inf', 'sign': '-', 'formatter': None, 'legacy': False}\n"
     ]
    }
   ],
   "source": [
    "# retrieve the current print options\n",
    "print_options_1 = np.get_printoptions()\n",
    "\n",
    "# log\n",
    "print(f\"print_options_1:\\n{print_options_1}\")"
   ]
  },
  {
   "cell_type": "code",
   "execution_count": 14,
   "metadata": {},
   "outputs": [
    {
     "name": "stdout",
     "output_type": "stream",
     "text": [
      "arr_2d_5:\n",
      "[[1.12 2.99 3.24]\n",
      " [3.14 4.57 1.25]]\n",
      "arr_2d_5:\n",
      "[[1.12345679 2.98765432 3.23532788]\n",
      " [3.14159265 4.56789012 1.24612875]]\n"
     ]
    }
   ],
   "source": [
    "# use as a context manager to temporarily set print options within a specific block of code\n",
    "with np.printoptions(precision=2, suppress=True, linewidth=20):\n",
    "    print(f\"arr_2d_5:\\n{arr_2d_5}\")\n",
    "\n",
    "# log\n",
    "print(f\"arr_2d_5:\\n{arr_2d_5}\")"
   ]
  },
  {
   "cell_type": "code",
   "execution_count": 15,
   "metadata": {},
   "outputs": [
    {
     "name": "stdout",
     "output_type": "stream",
     "text": [
      "arr_2d_5:\n",
      "[[1.12 2.99 3.24]\n",
      " [3.14 4.57 1.25]]\n"
     ]
    }
   ],
   "source": [
    "# set global print options for NumPy arrays\n",
    "np.set_printoptions(precision=2, suppress=True, linewidth=20)\n",
    "\n",
    "# log\n",
    "print(f\"arr_2d_5:\\n{arr_2d_5}\")\n",
    "\n",
    "# reset to default settings according to the docs [but it's not!!] [tested on v2.0]\n",
    "np.set_printoptions()"
   ]
  }
 ],
 "metadata": {
  "kernelspec": {
   "display_name": "Python 3",
   "language": "python",
   "name": "python3"
  },
  "language_info": {
   "codemirror_mode": {
    "name": "ipython",
    "version": 3
   },
   "file_extension": ".py",
   "mimetype": "text/x-python",
   "name": "python",
   "nbconvert_exporter": "python",
   "pygments_lexer": "ipython3",
   "version": "3.12.3"
  }
 },
 "nbformat": 4,
 "nbformat_minor": 2
}
