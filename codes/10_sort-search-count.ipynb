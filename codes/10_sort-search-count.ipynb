{
 "cells": [
  {
   "cell_type": "markdown",
   "metadata": {},
   "source": [
    "# Dependencies"
   ]
  },
  {
   "cell_type": "code",
   "execution_count": 14,
   "metadata": {},
   "outputs": [],
   "source": [
    "import numpy as np"
   ]
  },
  {
   "cell_type": "code",
   "execution_count": 15,
   "metadata": {},
   "outputs": [],
   "source": [
    "# prevent printing the returned object in each cell\n",
    "from IPython.core.interactiveshell import InteractiveShell\n",
    "InteractiveShell.ast_node_interactivity = 'none'"
   ]
  },
  {
   "cell_type": "markdown",
   "metadata": {},
   "source": [
    "# NumPy - Sort, Search, Count\n",
    "Doc:\n",
    "   - [numpy.org/doc/stable/reference/routines.sort.html](https://numpy.org/doc/stable/reference/routines.sort.html)"
   ]
  },
  {
   "cell_type": "markdown",
   "metadata": {},
   "source": [
    "## Sorting\n",
    "   - quick sort: [javatpoint.com/quick-sort](https://www.javatpoint.com/quick-sort)\n",
    "   - merge sort: [javatpoint.com/merge-sort](https://www.javatpoint.com/merge-sort)\n",
    "   - heap sort : [javatpoint.com/heap-sort](https://www.javatpoint.com/heap-sort)"
   ]
  },
  {
   "cell_type": "code",
   "execution_count": 16,
   "metadata": {},
   "outputs": [
    {
     "name": "stdout",
     "output_type": "stream",
     "text": [
      "arr_1d_1: [74 68 55 28 70 95 13 59 49 96]\n",
      "\n",
      "arr_2d_1:\n",
      "[[80 18 85 44]\n",
      " [56 80 70 45]\n",
      " [58 73 70 47]]\n",
      "\n",
      "--------------------------------------------------\n",
      "sort_1:\n",
      "[13 28 49 55 59 68 70 74 95 96]\n",
      "\n",
      "sort_2:\n",
      "[13 28 49 55 59 68 70 74 95 96]\n",
      "\n",
      "sort_3:\n",
      "[13 28 49 55 59 68 70 74 95 96]\n",
      "\n",
      "sort_4:\n",
      "[18 44 45 47 56 58 70 70 73 80 80 85]\n",
      "\n",
      "sort_5:\n",
      "[[56 18 70 44]\n",
      " [58 73 70 45]\n",
      " [80 80 85 47]]\n",
      "\n",
      "sort_6:\n",
      "[[18 44 80 85]\n",
      " [45 56 70 80]\n",
      " [47 58 70 73]]\n"
     ]
    }
   ],
   "source": [
    "arr_1d_1 = np.random.randint(low=1, high=99, size=(10))\n",
    "arr_2d_1 = np.random.randint(low=1, high=99, size=(3, 4))\n",
    "\n",
    "# sort\n",
    "sort_1 = np.sort(arr_1d_1)\n",
    "sort_2 = np.sort(arr_1d_1, kind='mergesort')\n",
    "sort_3 = np.sort(arr_1d_1, kind='heapsort')\n",
    "sort_4 = np.sort(arr_2d_1, axis=None)\n",
    "sort_5 = np.sort(arr_2d_1, axis=0)\n",
    "sort_6 = np.sort(arr_2d_1, axis=1)\n",
    "\n",
    "# log\n",
    "print(f\"arr_1d_1: {arr_1d_1}\", end='\\n\\n')\n",
    "print(f\"arr_2d_1:\\n{arr_2d_1}\", end='\\n\\n')\n",
    "print('-' * 50)\n",
    "print(f\"sort_1:\\n{sort_1}\", end='\\n\\n')\n",
    "print(f\"sort_2:\\n{sort_2}\", end='\\n\\n')\n",
    "print(f\"sort_3:\\n{sort_3}\", end='\\n\\n')\n",
    "print(f\"sort_4:\\n{sort_4}\", end='\\n\\n')\n",
    "print(f\"sort_5:\\n{sort_5}\", end='\\n\\n')\n",
    "print(f\"sort_6:\\n{sort_6}\")"
   ]
  },
  {
   "cell_type": "code",
   "execution_count": 17,
   "metadata": {},
   "outputs": [
    {
     "name": "stdout",
     "output_type": "stream",
     "text": [
      "arr_1d_2:\n",
      "[66 97 42 77 73 78 18 20 68 68]\n",
      "\n",
      "arr_1d_3:\n",
      "[0 1 2 3 4 5 6 7 8 9]\n",
      "\n",
      "arr_2d_2:\n",
      "[[23 30 95 69]\n",
      " [15 47 11 20]\n",
      " [27 63 97 68]]\n",
      "\n",
      "--------------------------------------------------\n",
      "argsort_1:\n",
      "[6 7 2 0 9 8 4 3 5 1]\n",
      "\n",
      "argsort_2:\n",
      "[ 6  4  7  0  8  1  5  9 11  3  2 10]\n",
      "\n",
      "argsort_3:\n",
      "[[1 0 1 1]\n",
      " [0 1 0 2]\n",
      " [2 2 2 0]]\n",
      "\n",
      "argsort_4:\n",
      "[[0 1 3 2]\n",
      " [2 0 3 1]\n",
      " [0 1 3 2]]\n",
      "\n",
      "--------------------------------------------------\n",
      "sort_1:\n",
      "[18 20 42 66 68 68 73 77 78 97]\n",
      "\n",
      "sort_2:\n",
      "[6 7 2 0 9 8 4 3 5 1]\n",
      "\n",
      "sort_3:\n",
      "[11 15 20 23 27 30 47 63 68 69 95 97]\n",
      "\n",
      "sort_4:\n",
      "[[15 30 11 20]\n",
      " [23 47 95 68]\n",
      " [27 63 97 69]]\n",
      "\n",
      "sort_5:\n",
      "[[23 30 69 95]\n",
      " [11 15 20 47]\n",
      " [27 63 68 97]]\n"
     ]
    }
   ],
   "source": [
    "arr_1d_2 = np.random.randint(low=1, high=99, size=(10))\n",
    "arr_1d_3 = np.arange(stop=10)\n",
    "arr_2d_2 = np.random.randint(low=1, high=99, size=(3, 4))\n",
    "\n",
    "# argsort\n",
    "argsort_1 = np.argsort(arr_1d_2)\n",
    "argsort_2 = np.argsort(arr_2d_2, axis=None)\n",
    "argsort_3 = np.argsort(arr_2d_2, axis=0)\n",
    "argsort_4 = np.argsort(arr_2d_2, axis=1)\n",
    "\n",
    "# sort by index\n",
    "sort_1 = arr_1d_2[argsort_1]\n",
    "sort_2 = arr_1d_3[argsort_1]\n",
    "sort_3 = arr_2d_2.flatten()[argsort_2]\n",
    "sort_4 = np.take_along_axis(arr=arr_2d_2, indices=argsort_3, axis=0)\n",
    "sort_5 = np.take_along_axis(arr=arr_2d_2, indices=argsort_4, axis=1)\n",
    "\n",
    "# log\n",
    "print(f\"arr_1d_2:\\n{arr_1d_2}\", end='\\n\\n')\n",
    "print(f\"arr_1d_3:\\n{arr_1d_3}\", end='\\n\\n')\n",
    "print(f\"arr_2d_2:\\n{arr_2d_2}\", end='\\n\\n')\n",
    "print('-' * 50)\n",
    "print(f\"argsort_1:\\n{argsort_1}\", end='\\n\\n')\n",
    "print(f\"argsort_2:\\n{argsort_2}\", end='\\n\\n')\n",
    "print(f\"argsort_3:\\n{argsort_3}\", end='\\n\\n')\n",
    "print(f\"argsort_4:\\n{argsort_4}\", end='\\n\\n')\n",
    "print('-' * 50)\n",
    "print(f\"sort_1:\\n{sort_1}\", end='\\n\\n')\n",
    "print(f\"sort_2:\\n{sort_2}\", end='\\n\\n')\n",
    "print(f\"sort_3:\\n{sort_3}\", end='\\n\\n')\n",
    "print(f\"sort_4:\\n{sort_4}\", end='\\n\\n')\n",
    "print(f\"sort_5:\\n{sort_5}\")"
   ]
  },
  {
   "cell_type": "code",
   "execution_count": 18,
   "metadata": {},
   "outputs": [
    {
     "name": "stdout",
     "output_type": "stream",
     "text": [
      "indices_1     : [3 1 2 0]\n",
      "sort_names_1  : ['David' 'Bob' 'Charlie' 'Alice']\n",
      "sort_grades_1 : [85 85 90 90]\n",
      "sort_ages_1   : [20 21 19 20]\n",
      "\n",
      "indices_2     : [2 3 0 1]\n",
      "sort_names_2  : ['Charlie' 'David' 'Alice' 'Bob']\n",
      "sort_grades_2 : [90 85 90 85]\n",
      "sort_ages_2   : [19 20 20 21]\n"
     ]
    }
   ],
   "source": [
    "names = np.array(['Alice', 'Bob', 'Charlie', 'David'])\n",
    "grades = np.array([90, 85, 90, 85])\n",
    "ages = np.array([20, 21, 19, 20])\n",
    "\n",
    "# lexsort\n",
    "indices_1 = np.lexsort((ages, grades))\n",
    "sort_names_1 = names[indices_1]\n",
    "sort_grades_1 = grades[indices_1]\n",
    "sort_ages_1 = ages[indices_1]\n",
    "\n",
    "indices_2 = np.lexsort((grades, ages))\n",
    "sort_names_2 = names[indices_2]\n",
    "sort_grades_2 = grades[indices_2]\n",
    "sort_ages_2 = ages[indices_2]\n",
    "\n",
    "# log\n",
    "print(f\"indices_1     : {indices_1}\")\n",
    "print(f\"sort_names_1  : {sort_names_1}\")\n",
    "print(f\"sort_grades_1 : {sort_grades_1}\")\n",
    "print(f\"sort_ages_1   : {sort_ages_1}\", end='\\n\\n')\n",
    "print(f\"indices_2     : {indices_2}\")\n",
    "print(f\"sort_names_2  : {sort_names_2}\")\n",
    "print(f\"sort_grades_2 : {sort_grades_2}\")\n",
    "print(f\"sort_ages_2   : {sort_ages_2}\")"
   ]
  },
  {
   "cell_type": "code",
   "execution_count": 19,
   "metadata": {},
   "outputs": [
    {
     "name": "stdout",
     "output_type": "stream",
     "text": [
      "indices_1   : [3 1 2 0]\n",
      "sort_data_1 : ['David' 'Bob' 'Charlie' 'Alice']\n",
      "\n",
      "indices_2   : [2 3 0 1]\n",
      "sort_data_2 : ['Charlie' 'David' 'Alice' 'Bob']\n"
     ]
    }
   ],
   "source": [
    "data = np.array(\n",
    "    [\n",
    "        ('Alice', 90, 20),\n",
    "        ('Bob', 85, 21),\n",
    "        ('Charlie', 90, 19),\n",
    "        ('David', 85, 20)\n",
    "    ],\n",
    "    dtype=[('name', 'U10'), ('grade', 'i4'), ('age', 'i4')]\n",
    ")\n",
    "\n",
    "# lexsort\n",
    "indices_1 = np.lexsort((data['age'], data['grade']))\n",
    "sort_data_1 = names[indices_1]\n",
    "\n",
    "indices_2 = np.lexsort((data['grade'], data['age']))\n",
    "sort_data_2 = names[indices_2]\n",
    "\n",
    "# log\n",
    "print(f\"indices_1   : {indices_1}\")\n",
    "print(f\"sort_data_1 : {sort_data_1}\", end='\\n\\n')\n",
    "print(f\"indices_2   : {indices_2}\")\n",
    "print(f\"sort_data_2 : {sort_data_2}\")"
   ]
  },
  {
   "cell_type": "code",
   "execution_count": 20,
   "metadata": {},
   "outputs": [
    {
     "name": "stdout",
     "output_type": "stream",
     "text": [
      "partition_1   : [1 1 2 3 4 5 5 6 6 7 7 9]\n",
      "argpartition_1: [ 0  8  7  4 11  1  5  6 10  3  2  9]\n",
      "partition_2   : [1 1 2 3 4 5 5 6 6 7 7 9]\n"
     ]
    }
   ],
   "source": [
    "arr_1d_4 = np.array([1, 5, 7, 7, 3, 5, 6, 2, 1, 9, 6, 4])\n",
    "\n",
    "# partition\n",
    "partition_1 = np.partition(arr_1d_4, kth=-1)\n",
    "\n",
    "# argpartition\n",
    "argpartition_1 = np.argpartition(arr_1d_4, kth=-1)\n",
    "partition_2 = arr_1d_4[argpartition_1]\n",
    "\n",
    "# log\n",
    "print(f\"partition_1   : {partition_1}\")\n",
    "print(f\"argpartition_1: {argpartition_1}\")\n",
    "print(f\"partition_2   : {partition_2}\")"
   ]
  },
  {
   "cell_type": "markdown",
   "metadata": {},
   "source": [
    "## Searching"
   ]
  },
  {
   "cell_type": "code",
   "execution_count": 21,
   "metadata": {},
   "outputs": [
    {
     "name": "stdout",
     "output_type": "stream",
     "text": [
      "arr_1d_5:\n",
      "[45 80 93 81 97 64 61  2 31 88]\n",
      "\n",
      "arr_2d_4:\n",
      "[[48 34 48 34]\n",
      " [82 82  7 86]\n",
      " [66  5 30 42]]\n",
      "--------------------------------------------------\n",
      "argmax_1: 4\n",
      "argmax_2: 4\n",
      "argmax_3: [1 1 0 1]\n",
      "argmax_4: [0 3 0]\n",
      "argmin_1: 7\n",
      "argmin_2: 7\n",
      "argmin_3: [0 2 1 0]\n",
      "argmin_4: [1 2 1]\n"
     ]
    }
   ],
   "source": [
    "arr_1d_5 = np.random.randint(low=0, high=99, size=(10))\n",
    "arr_2d_4 = np.random.randint(low=0, high=99, size=(3, 4))\n",
    "\n",
    "# argmax\n",
    "argmax_1 = np.argmax(arr_1d_5)\n",
    "argmax_2 = np.argmax(arr_1d_5)\n",
    "argmax_3 = np.argmax(arr_2d_4, axis=0)\n",
    "argmax_4 = np.argmax(arr_2d_4, axis=1)\n",
    "\n",
    "# argmin\n",
    "argmin_1 = np.argmin(arr_1d_5)\n",
    "argmin_2 = np.argmin(arr_1d_5)\n",
    "argmin_3 = np.argmin(arr_2d_4, axis=0)\n",
    "argmin_4 = np.argmin(arr_2d_4, axis=1)\n",
    "\n",
    "# log\n",
    "print(f\"arr_1d_5:\\n{arr_1d_5}\", end='\\n\\n')\n",
    "print(f\"arr_2d_4:\\n{arr_2d_4}\")\n",
    "print('-' * 50)\n",
    "print(f\"argmax_1: {argmax_1}\")\n",
    "print(f\"argmax_2: {argmax_2}\")\n",
    "print(f\"argmax_3: {argmax_3}\")\n",
    "print(f\"argmax_4: {argmax_4}\")\n",
    "print(f\"argmin_1: {argmin_1}\")\n",
    "print(f\"argmin_2: {argmin_2}\")\n",
    "print(f\"argmin_3: {argmin_3}\")\n",
    "print(f\"argmin_4: {argmin_4}\")"
   ]
  },
  {
   "cell_type": "code",
   "execution_count": 22,
   "metadata": {},
   "outputs": [
    {
     "name": "stdout",
     "output_type": "stream",
     "text": [
      "arr_1d_6:\n",
      "[56 30 34 70 67  3 18  9 84 11]\n",
      "\n",
      "arr_2d_5:\n",
      "[[28 56 95 48]\n",
      " [90 23 87 94]\n",
      " [45 41 19 85]]\n",
      "--------------------------------------------------\n",
      "where_1:\n",
      "(array([0, 3, 4, 8]),)\n",
      "\n",
      "where_2:\n",
      "[1 0 0 1 1 0 0 0 1 0]\n",
      "\n",
      "where_3:\n",
      "[-1 30 34 -1 -1  3 18  9 -1 11]\n",
      "\n",
      "where_4:\n",
      "(array([0, 0, 1, 2, 2, 2]), array([0, 3, 1, 0, 1, 2]))\n",
      "\n",
      "where_5:\n",
      "[[1 0 0 1]\n",
      " [0 1 0 0]\n",
      " [1 1 1 0]]\n",
      "\n",
      "where_6:\n",
      "[[-1 56 95 -1]\n",
      " [90 -1 87 94]\n",
      " [-1 -1 -1 85]]\n",
      "\n",
      "argwhere_1:\n",
      "[[0]\n",
      " [3]\n",
      " [4]\n",
      " [8]]\n",
      "\n",
      "argwhere_2:\n",
      "[[0 1]\n",
      " [0 2]\n",
      " [1 0]\n",
      " [1 2]\n",
      " [1 3]\n",
      " [2 3]]\n"
     ]
    }
   ],
   "source": [
    "arr_1d_6 = np.random.randint(low=0, high=99, size=(10))\n",
    "arr_2d_5 = np.random.randint(low=0, high=99, size=(3, 4))\n",
    "\n",
    "# where\n",
    "where_1 = np.where(arr_1d_6 > 50)\n",
    "where_2 = np.where(arr_1d_6 > 50, 1, 0)\n",
    "where_3 = np.where(arr_1d_6 > 50, -1, arr_1d_6)\n",
    "where_4 = np.where(arr_2d_5 < 50)\n",
    "where_5 = np.where(arr_2d_5 < 50, 1, 0)\n",
    "where_6 = np.where(arr_2d_5 < 50, -1, arr_2d_5)\n",
    "\n",
    "# argwhere\n",
    "argwhere_1 = np.argwhere(arr_1d_6 > 50)\n",
    "argwhere_2 = np.argwhere(arr_2d_5 > 50)\n",
    "\n",
    "# log\n",
    "print(f\"arr_1d_6:\\n{arr_1d_6}\", end='\\n\\n')\n",
    "print(f\"arr_2d_5:\\n{arr_2d_5}\")\n",
    "print('-' * 50)\n",
    "print(f\"where_1:\\n{where_1}\", end='\\n\\n')\n",
    "print(f\"where_2:\\n{where_2}\", end='\\n\\n')\n",
    "print(f\"where_3:\\n{where_3}\", end='\\n\\n')\n",
    "print(f\"where_4:\\n{where_4}\", end='\\n\\n')\n",
    "print(f\"where_5:\\n{where_5}\", end='\\n\\n')\n",
    "print(f\"where_6:\\n{where_6}\", end='\\n\\n')\n",
    "print(f\"argwhere_1:\\n{argwhere_1}\", end='\\n\\n')\n",
    "print(f\"argwhere_2:\\n{argwhere_2}\")"
   ]
  },
  {
   "cell_type": "code",
   "execution_count": 23,
   "metadata": {},
   "outputs": [
    {
     "name": "stdout",
     "output_type": "stream",
     "text": [
      "nonzero_1: (array([0, 1, 2, 3, 4, 5]),)\n",
      "nonzero_2: (array([1, 4, 6]),)\n",
      "nonzero_3: (array([0, 0, 0, 1, 1, 1]), array([0, 1, 2, 0, 1, 2]))\n",
      "nonzero_4: (array([0, 0, 1]), array([1, 2, 2]))\n"
     ]
    }
   ],
   "source": [
    "arr_1d_7 = np.array([5, 3, 6, 8, 2, 4, 0])\n",
    "arr_2d_6 = np.array([[5, 3, 1], [6, 4, 2]])\n",
    "\n",
    "# nonzero\n",
    "nonzero_1 = np.nonzero(arr_1d_7)\n",
    "nonzero_2 = np.nonzero(arr_1d_7 < 4)\n",
    "nonzero_3 = np.nonzero(arr_2d_6)\n",
    "nonzero_4 = np.nonzero(arr_2d_6 < 4)\n",
    "\n",
    "# log\n",
    "print(f\"nonzero_1: {nonzero_1}\")\n",
    "print(f\"nonzero_2: {nonzero_2}\")\n",
    "print(f\"nonzero_3: {nonzero_3}\")\n",
    "print(f\"nonzero_4: {nonzero_4}\")"
   ]
  },
  {
   "cell_type": "code",
   "execution_count": 24,
   "metadata": {},
   "outputs": [
    {
     "name": "stdout",
     "output_type": "stream",
     "text": [
      "searchsorted_1: 2\n",
      "searchsorted_2: 2\n",
      "searchsorted_3: 4\n"
     ]
    }
   ],
   "source": [
    "arr_1d_8 = np.array([1, 2, 5, 6])\n",
    "\n",
    "# searchsorted\n",
    "searchsorted_1 = np.searchsorted(arr_1d_8, v=3)\n",
    "searchsorted_2 = np.searchsorted(arr_1d_8, v=4)\n",
    "searchsorted_3 = np.searchsorted(arr_1d_8, v=7)\n",
    "\n",
    "# log\n",
    "print(f\"searchsorted_1: {searchsorted_1}\")\n",
    "print(f\"searchsorted_2: {searchsorted_2}\")\n",
    "print(f\"searchsorted_3: {searchsorted_3}\")"
   ]
  },
  {
   "cell_type": "code",
   "execution_count": 25,
   "metadata": {},
   "outputs": [
    {
     "name": "stdout",
     "output_type": "stream",
     "text": [
      "extract_1: [3 1 2 0 3]\n",
      "extract_2: [5 3 1 5]\n"
     ]
    }
   ],
   "source": [
    "arr_1d_9 = np.array([6, 3, 4, 7, 1, 2, 7, 9, 0, 3, 4])\n",
    "arr_2d_7 = np.array([[5, 3, 1], [2, 4, 5]])\n",
    "\n",
    "# extract\n",
    "extract_1 = np.extract(arr_1d_9 < 4, arr_1d_9)\n",
    "extract_2 = np.extract(arr_2d_7 % 2, arr_2d_7)\n",
    "\n",
    "# log\n",
    "print(f\"extract_1: {extract_1}\")\n",
    "print(f\"extract_2: {extract_2}\")"
   ]
  },
  {
   "cell_type": "markdown",
   "metadata": {},
   "source": [
    "## Counting"
   ]
  },
  {
   "cell_type": "code",
   "execution_count": 26,
   "metadata": {},
   "outputs": [
    {
     "name": "stdout",
     "output_type": "stream",
     "text": [
      "count_nonzero_1: 9\n",
      "count_nonzero_2: 5\n"
     ]
    }
   ],
   "source": [
    "arr_1d_10 = np.array([6, 3, 4, 0, 1, 2, 7, 9, 0, 3, 4])\n",
    "\n",
    "# count_nonzero\n",
    "count_nonzero_1 = np.count_nonzero(arr_1d_10)\n",
    "count_nonzero_2 = np.count_nonzero(arr_1d_10 % 2)\n",
    "\n",
    "# log\n",
    "print(f\"count_nonzero_1: {count_nonzero_1}\")\n",
    "print(f\"count_nonzero_2: {count_nonzero_2}\")"
   ]
  }
 ],
 "metadata": {
  "kernelspec": {
   "display_name": "Python 3",
   "language": "python",
   "name": "python3"
  },
  "language_info": {
   "codemirror_mode": {
    "name": "ipython",
    "version": 3
   },
   "file_extension": ".py",
   "mimetype": "text/x-python",
   "name": "python",
   "nbconvert_exporter": "python",
   "pygments_lexer": "ipython3",
   "version": "3.12.3"
  }
 },
 "nbformat": 4,
 "nbformat_minor": 2
}
