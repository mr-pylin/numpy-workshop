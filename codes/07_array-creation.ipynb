{
 "cells": [
  {
   "cell_type": "markdown",
   "metadata": {},
   "source": [
    "# Dependencies"
   ]
  },
  {
   "cell_type": "code",
   "execution_count": 1,
   "metadata": {},
   "outputs": [],
   "source": [
    "import numpy as np"
   ]
  },
  {
   "cell_type": "code",
   "execution_count": 2,
   "metadata": {},
   "outputs": [],
   "source": [
    "# prevent printing the returned object in each cell\n",
    "from IPython.core.interactiveshell import InteractiveShell\n",
    "InteractiveShell.ast_node_interactivity = 'none'"
   ]
  },
  {
   "cell_type": "markdown",
   "metadata": {},
   "source": [
    "# NumPy - Array Creation\n",
    "Docs:\n",
    "   - [numpy.org/doc/stable/reference/routines.array-creation.html](https://numpy.org/doc/stable/reference/routines.array-creation.html)"
   ]
  },
  {
   "cell_type": "markdown",
   "metadata": {},
   "source": [
    "## zeros\n",
    "   - Creates a new array filled with zeros.\n",
    "   - ```python\n",
    "     numpy.zeros(shape, dtype, ...)\n",
    "     ```"
   ]
  },
  {
   "cell_type": "code",
   "execution_count": 3,
   "metadata": {},
   "outputs": [
    {
     "name": "stdout",
     "output_type": "stream",
     "text": [
      "zeros_1 :\n",
      "[0. 0. 0. 0.]\n",
      "\n",
      "zeros_2 :\n",
      "[[0. 0. 0.]\n",
      " [0. 0. 0.]]\n",
      "\n",
      "zeros_3 :\n",
      "[[[0 0]\n",
      "  [0 0]\n",
      "  [0 0]]\n",
      "\n",
      " [[0 0]\n",
      "  [0 0]\n",
      "  [0 0]]]\n"
     ]
    }
   ],
   "source": [
    "zeros_1 = np.zeros(4)\n",
    "zeros_2 = np.zeros((2, 3))\n",
    "zeros_3 = np.zeros(shape=(2, 3, 2), dtype=np.int_)\n",
    "\n",
    "# log\n",
    "print(f\"zeros_1 :\\n{zeros_1}\", end='\\n\\n')\n",
    "print(f\"zeros_2 :\\n{zeros_2}\", end='\\n\\n')\n",
    "print(f\"zeros_3 :\\n{zeros_3}\")"
   ]
  },
  {
   "cell_type": "markdown",
   "metadata": {},
   "source": [
    "## zeros_like\n",
    "   - Creates a new array with the same shape and data type as an existing array, filled with zeros.\n",
    "   - ```python\n",
    "     numpy.zeros_like(a, dtype, shape, ...)\n",
    "     ```"
   ]
  },
  {
   "cell_type": "code",
   "execution_count": 4,
   "metadata": {},
   "outputs": [
    {
     "name": "stdout",
     "output_type": "stream",
     "text": [
      "zeros_like_1 :\n",
      "[0. 0. 0. 0.]\n",
      "\n",
      "zeros_like_2 :\n",
      "[[False False]\n",
      " [False False]]\n",
      "\n",
      "zeros_like_3 :\n",
      "[[[0 0]\n",
      "  [0 0]\n",
      "  [0 0]]\n",
      "\n",
      " [[0 0]\n",
      "  [0 0]\n",
      "  [0 0]]]\n"
     ]
    }
   ],
   "source": [
    "zeros_like_1 = np.zeros_like(zeros_1)\n",
    "zeros_like_2 = np.zeros_like(zeros_2, bool, shape=(2, 2))\n",
    "zeros_like_3 = np.zeros_like(a=zeros_3, dtype=int)\n",
    "\n",
    "# log\n",
    "print(f\"zeros_like_1 :\\n{zeros_like_1}\", end='\\n\\n')\n",
    "print(f\"zeros_like_2 :\\n{zeros_like_2}\", end='\\n\\n')\n",
    "print(f\"zeros_like_3 :\\n{zeros_like_3}\")"
   ]
  },
  {
   "cell_type": "markdown",
   "metadata": {},
   "source": [
    "## ones\n",
    "   - Creates a new array filled with ones.\n",
    "   - ```python\n",
    "     numpy.ones(shape, dtype, ...)\n",
    "     ```"
   ]
  },
  {
   "cell_type": "code",
   "execution_count": 5,
   "metadata": {},
   "outputs": [
    {
     "name": "stdout",
     "output_type": "stream",
     "text": [
      "ones_1 :\n",
      "[1. 1. 1. 1.]\n",
      "\n",
      "ones_2 :\n",
      "[[1. 1. 1.]\n",
      " [1. 1. 1.]]\n",
      "\n",
      "ones_3 :\n",
      "[[[1 1]\n",
      "  [1 1]\n",
      "  [1 1]]\n",
      "\n",
      " [[1 1]\n",
      "  [1 1]\n",
      "  [1 1]]]\n"
     ]
    }
   ],
   "source": [
    "ones_1 = np.ones(4)\n",
    "ones_2 = np.ones((2, 3))\n",
    "ones_3 = np.ones(shape=(2, 3, 2), dtype=np.int_)\n",
    "\n",
    "\n",
    "# log\n",
    "print(f\"ones_1 :\\n{ones_1}\", end='\\n\\n')\n",
    "print(f\"ones_2 :\\n{ones_2}\", end='\\n\\n')\n",
    "print(f\"ones_3 :\\n{ones_3}\")"
   ]
  },
  {
   "cell_type": "markdown",
   "metadata": {},
   "source": [
    "## ones_like\n",
    "   - Creates a new array with the same shape and data type as an existing array, filled with ones.\n",
    "   - ```python\n",
    "     numpy.ones_like(a, dtype, shape, ...)\n",
    "     ```"
   ]
  },
  {
   "cell_type": "code",
   "execution_count": 6,
   "metadata": {},
   "outputs": [
    {
     "name": "stdout",
     "output_type": "stream",
     "text": [
      "ones_like_1 :\n",
      "[1. 1. 1. 1.]\n",
      "\n",
      "ones_like_2 :\n",
      "[ True  True  True]\n",
      "\n",
      "ones_like_3 :\n",
      "[[[1 1]\n",
      "  [1 1]\n",
      "  [1 1]]\n",
      "\n",
      " [[1 1]\n",
      "  [1 1]\n",
      "  [1 1]]]\n"
     ]
    }
   ],
   "source": [
    "ones_like_1 = np.ones_like(ones_1)\n",
    "ones_like_2 = np.ones_like(ones_2, bool, shape=3)\n",
    "ones_like_3 = np.ones_like(a=ones_3, dtype=int)\n",
    "\n",
    "# log\n",
    "print(f\"ones_like_1 :\\n{ones_like_1}\", end='\\n\\n')\n",
    "print(f\"ones_like_2 :\\n{ones_like_2}\", end='\\n\\n')\n",
    "print(f\"ones_like_3 :\\n{ones_like_3}\")"
   ]
  },
  {
   "cell_type": "markdown",
   "metadata": {},
   "source": [
    "## full\n",
    "   - Creates a new array of a given shape and data type, filled with a specific value.\n",
    "   - ```python\n",
    "     numpy.full(shape, fill_value, dtype, ...)\n",
    "     ```"
   ]
  },
  {
   "cell_type": "code",
   "execution_count": 7,
   "metadata": {},
   "outputs": [
    {
     "name": "stdout",
     "output_type": "stream",
     "text": [
      "full_1 :\n",
      "[0 0 0 0]\n",
      "\n",
      "full_2 :\n",
      "[[1 1 1]\n",
      " [1 1 1]]\n",
      "\n",
      "full_3 :\n",
      "[[[2 2]\n",
      "  [2 2]\n",
      "  [2 2]]\n",
      "\n",
      " [[2 2]\n",
      "  [2 2]\n",
      "  [2 2]]]\n"
     ]
    }
   ],
   "source": [
    "full_1 = np.full(4, 0)\n",
    "full_2 = np.full((2, 3), 1)\n",
    "full_3 = np.full((2, 3, 2), fill_value=2)\n",
    "\n",
    "# log\n",
    "print(f\"full_1 :\\n{full_1}\", end='\\n\\n')\n",
    "print(f\"full_2 :\\n{full_2}\", end='\\n\\n')\n",
    "print(f\"full_3 :\\n{full_3}\")"
   ]
  },
  {
   "cell_type": "markdown",
   "metadata": {},
   "source": [
    "## full_like\n",
    "   - Creates a new array with the same shape and data type as an existing array, filled with a specific value.\n",
    "   - ```python\n",
    "     numpy.full_like(a, fill_value, dtype, shape, ...)\n",
    "     ```"
   ]
  },
  {
   "cell_type": "code",
   "execution_count": 8,
   "metadata": {},
   "outputs": [
    {
     "name": "stdout",
     "output_type": "stream",
     "text": [
      "full_like_1 :\n",
      "[2 2 2 2]\n",
      "\n",
      "full_like_2 :\n",
      "[[1 1 1]\n",
      " [1 1 1]]\n",
      "\n",
      "full_like_3 :\n",
      "[[[0. 0.]\n",
      "  [0. 0.]\n",
      "  [0. 0.]]\n",
      "\n",
      " [[0. 0.]\n",
      "  [0. 0.]\n",
      "  [0. 0.]]]\n"
     ]
    }
   ],
   "source": [
    "full_like_1 = np.full_like(full_1, 2)\n",
    "full_like_2 = np.full_like(full_2, 1)\n",
    "full_like_3 = np.full_like(full_3, 0, dtype=float)\n",
    "\n",
    "# log\n",
    "print(f\"full_like_1 :\\n{full_like_1}\", end='\\n\\n')\n",
    "print(f\"full_like_2 :\\n{full_like_2}\", end='\\n\\n')\n",
    "print(f\"full_like_3 :\\n{full_like_3}\")"
   ]
  },
  {
   "cell_type": "markdown",
   "metadata": {},
   "source": [
    "## empty\n",
    "   - Creates a new uninitialized array with a given shape and data type (fast, but contains garbage values).\n",
    "   - ```python\n",
    "     numpy.empty(shape, dtype, ...)\n",
    "     ```"
   ]
  },
  {
   "cell_type": "code",
   "execution_count": 9,
   "metadata": {},
   "outputs": [
    {
     "name": "stdout",
     "output_type": "stream",
     "text": [
      "empty_1 :\n",
      "[1. 1. 1. 1.]\n",
      "\n",
      "empty_2 :\n",
      "[[1. 1. 1.]\n",
      " [1. 1. 1.]]\n",
      "\n",
      "empty_3 :\n",
      "[[[4128860 6029375]\n",
      "  [3801155 5570652]\n",
      "  [6619251 7536754]]\n",
      "\n",
      " [[6357084 6881389]\n",
      "  [6815858 4259932]\n",
      "  [7340144 6357060]]]\n"
     ]
    }
   ],
   "source": [
    "empty_1 = np.empty(4)\n",
    "empty_2 = np.empty((2, 3))\n",
    "empty_3 = np.empty(shape=(2, 3, 2), dtype=np.int_)\n",
    "\n",
    "# log\n",
    "print(f\"empty_1 :\\n{empty_1}\", end='\\n\\n')\n",
    "print(f\"empty_2 :\\n{empty_2}\", end='\\n\\n')\n",
    "print(f\"empty_3 :\\n{empty_3}\")"
   ]
  },
  {
   "cell_type": "markdown",
   "metadata": {},
   "source": [
    "## empty_like\n",
    "   - Creates a new uninitialized array with the same shape and data type as an existing array (fast, but contains garbage values).\n",
    "   - ```python\n",
    "     numpy.zeros_like(prototype, dtype, shape, ...)\n",
    "     ```"
   ]
  },
  {
   "cell_type": "code",
   "execution_count": 10,
   "metadata": {},
   "outputs": [
    {
     "name": "stdout",
     "output_type": "stream",
     "text": [
      "empty_like_1 :\n",
      "[1. 1. 1. 1.]\n",
      "\n",
      "empty_like_2 :\n",
      "[[1. 1. 1.]\n",
      " [1. 1. 1.]]\n",
      "\n",
      "empty_like_3 :\n",
      "[[-1 -1  0]\n",
      " [ 0  0  0]]\n"
     ]
    }
   ],
   "source": [
    "empty_like_1 = np.empty_like(empty_1)\n",
    "empty_like_2 = np.empty_like(empty_2, float)\n",
    "empty_like_3 = np.empty_like(prototype=empty_3, shape=(2, 3))\n",
    "\n",
    "# log\n",
    "print(f\"empty_like_1 :\\n{empty_like_1}\", end='\\n\\n')\n",
    "print(f\"empty_like_2 :\\n{empty_like_2}\", end='\\n\\n')\n",
    "print(f\"empty_like_3 :\\n{empty_like_3}\")"
   ]
  },
  {
   "cell_type": "markdown",
   "metadata": {},
   "source": [
    "## arange\n",
    "   - Creates an array with evenly spaced values within a specified range.\n",
    "   - ```python\n",
    "     numpy.arange([start, ]stop, [step, ]...)\n",
    "     ```"
   ]
  },
  {
   "cell_type": "code",
   "execution_count": 11,
   "metadata": {},
   "outputs": [
    {
     "name": "stdout",
     "output_type": "stream",
     "text": [
      "arange_1: [0 1 2]\n",
      "arange_2: [0 1 2 3 4]\n",
      "arange_3: [2 3 4]\n",
      "arange_4: [0 2 4 6]\n",
      "arange_5: [0.  0.1 0.2 0.3 0.4 0.5 0.6 0.7 0.8 0.9]\n"
     ]
    }
   ],
   "source": [
    "arange_1 = np.arange(3)\n",
    "arange_2 = np.arange(5)\n",
    "arange_3 = np.arange(2, 5)\n",
    "arange_4 = np.arange(0, 7, 2)\n",
    "arange_5 = np.arange(0, 1, .1)\n",
    "\n",
    "# log\n",
    "print(f\"arange_1: {arange_1}\")\n",
    "print(f\"arange_2: {arange_2}\")\n",
    "print(f\"arange_3: {arange_3}\")\n",
    "print(f\"arange_4: {arange_4}\")\n",
    "print(f\"arange_5: {arange_5}\")"
   ]
  },
  {
   "cell_type": "markdown",
   "metadata": {},
   "source": [
    "## linspace\n",
    "   - Creates an array with evenly spaced values over a specified interval.\n",
    "   - ```python\n",
    "     numpy.linspace(start, stop, num, endpoint, dtype, ...)\n",
    "     ```"
   ]
  },
  {
   "cell_type": "code",
   "execution_count": 12,
   "metadata": {},
   "outputs": [
    {
     "name": "stdout",
     "output_type": "stream",
     "text": [
      "linspace_1 :\n",
      "[0. 1. 2.]\n",
      "\n",
      "linspace_2 :\n",
      "[0.   0.25 0.5  0.75 1.  ]\n",
      "\n",
      "linspace_3 :\n",
      "[0 1 2]\n",
      "\n",
      "linspace_4 :\n",
      "[[0. 3.]\n",
      " [1. 4.]\n",
      " [2. 5.]]\n",
      "\n",
      "linspace_5 :\n",
      "[[0. 1. 2.]\n",
      " [3. 4. 5.]]\n"
     ]
    }
   ],
   "source": [
    "linspace_1 = np.linspace(0, 2, 3)\n",
    "linspace_2 = np.linspace(0, 1, 5)\n",
    "linspace_3 = np.linspace(0, 2, 3, dtype=int)\n",
    "linspace_4 = np.linspace((0, 3), (2, 5), 3, axis=0)\n",
    "linspace_5 = np.linspace((0, 3), (2, 5), 3, axis=1)\n",
    "\n",
    "# log\n",
    "print(f\"linspace_1 :\\n{linspace_1}\", end='\\n\\n')\n",
    "print(f\"linspace_2 :\\n{linspace_2}\", end='\\n\\n')\n",
    "print(f\"linspace_3 :\\n{linspace_3}\", end='\\n\\n')\n",
    "print(f\"linspace_4 :\\n{linspace_4}\", end='\\n\\n')\n",
    "print(f\"linspace_5 :\\n{linspace_5}\")"
   ]
  },
  {
   "cell_type": "markdown",
   "metadata": {},
   "source": [
    "## array\n",
    "   - Creates a new array from various data sources (often creates a copy).\n",
    "   - ```python\n",
    "     numpy.array(object, dtype, copy, ...)\n",
    "     ```"
   ]
  },
  {
   "cell_type": "code",
   "execution_count": 13,
   "metadata": {},
   "outputs": [
    {
     "name": "stdout",
     "output_type": "stream",
     "text": [
      "arr_1d_1 :\n",
      "[1 2 3 4]\n",
      "\n",
      "arr_2d_1 :\n",
      "[[1 2 3]\n",
      " [4 5 6]]\n",
      "\n",
      "arr_3d_1 :\n",
      "[[[1 2]\n",
      "  [3 4]]\n",
      "\n",
      " [[5 6]\n",
      "  [7 8]]]\n"
     ]
    }
   ],
   "source": [
    "arr_1d_1 = np.array([1, 2, 3, 4])\n",
    "arr_2d_1 = np.array([[1, 2, 3], [4, 5, 6]])\n",
    "arr_3d_1 = np.array([[[1, 2], [3, 4]], [[5, 6], [7, 8]]])\n",
    "\n",
    "# log\n",
    "print(f\"arr_1d_1 :\\n{arr_1d_1}\", end='\\n\\n')\n",
    "print(f\"arr_2d_1 :\\n{arr_2d_1}\", end='\\n\\n')\n",
    "print(f\"arr_3d_1 :\\n{arr_3d_1}\")"
   ]
  },
  {
   "cell_type": "markdown",
   "metadata": {},
   "source": [
    "## asarray\n",
    "   - Creates a new array from various data sources, trying to avoid copying data if possible.\n",
    "   - ```python\n",
    "     numpy.asarray(a, dtype, ...)\n",
    "     ```"
   ]
  },
  {
   "cell_type": "code",
   "execution_count": 14,
   "metadata": {},
   "outputs": [
    {
     "name": "stdout",
     "output_type": "stream",
     "text": [
      "asarr_1d_1: [1 2 3 4]\n",
      "asarr_1d_2: [0 2 3 4]\n"
     ]
    }
   ],
   "source": [
    "list_1d_1 = [1, 2, 3, 4]\n",
    "arr_1d_2 = np.array([1, 2, 3, 4])\n",
    "\n",
    "# asarray: avoids copy if possible\n",
    "asarr_1d_1 = np.asarray(list_1d_1)\n",
    "asarr_1d_2 = np.asarray(arr_1d_2)\n",
    "\n",
    "# index assignment\n",
    "list_1d_1[0] = 0\n",
    "arr_1d_2[0] = 0\n",
    "\n",
    "# log\n",
    "print(f\"asarr_1d_1: {asarr_1d_1}\")\n",
    "print(f\"asarr_1d_2: {asarr_1d_2}\")"
   ]
  },
  {
   "cell_type": "markdown",
   "metadata": {},
   "source": [
    "## eye\n",
    "   - Creates a square identity matrix (ones on the diagonal, zeros elsewhere).\n",
    "   - ```python\n",
    "     numpy.eye(N, M, k, dtype, ...)\n",
    "     ```"
   ]
  },
  {
   "cell_type": "code",
   "execution_count": 15,
   "metadata": {},
   "outputs": [
    {
     "name": "stdout",
     "output_type": "stream",
     "text": [
      "eye_1 :\n",
      "[[1. 0. 0.]\n",
      " [0. 1. 0.]\n",
      " [0. 0. 1.]]\n",
      "\n",
      "eye_2 :\n",
      "[[1. 0. 0. 0.]\n",
      " [0. 1. 0. 0.]\n",
      " [0. 0. 1. 0.]]\n",
      "\n",
      "eye_3 :\n",
      "[[1. 0. 0.]\n",
      " [0. 1. 0.]]\n",
      "\n",
      "eye_4 :\n",
      "[[1. 0. 0.]\n",
      " [0. 1. 0.]\n",
      " [0. 0. 1.]]\n",
      "\n",
      "eye_5 :\n",
      "[[0. 1. 0.]\n",
      " [0. 0. 1.]\n",
      " [0. 0. 0.]]\n"
     ]
    }
   ],
   "source": [
    "eye_1 = np.eye(3)\n",
    "eye_2 = np.eye(3, 4)\n",
    "eye_3 = np.eye(N=2, M=3)\n",
    "eye_4 = np.eye(3, 3, 0)\n",
    "eye_5 = np.eye(3, 3, 1)\n",
    "eye_6 = np.eye(3, 3, -1)\n",
    "\n",
    "# log\n",
    "print(f\"eye_1 :\\n{eye_1}\", end='\\n\\n')\n",
    "print(f\"eye_2 :\\n{eye_2}\", end='\\n\\n')\n",
    "print(f\"eye_3 :\\n{eye_3}\", end='\\n\\n')\n",
    "print(f\"eye_4 :\\n{eye_4}\", end='\\n\\n')\n",
    "print(f\"eye_5 :\\n{eye_5}\")"
   ]
  },
  {
   "cell_type": "markdown",
   "metadata": {},
   "source": [
    "## copy\n",
    "   - Creates a copy of an existing array.\n",
    "   - ```python\n",
    "     numpy.copy(a, ...)\n",
    "     ```"
   ]
  },
  {
   "cell_type": "code",
   "execution_count": 16,
   "metadata": {},
   "outputs": [
    {
     "name": "stdout",
     "output_type": "stream",
     "text": [
      "arr_2d_2 :\n",
      "[[ 3  2  1]\n",
      " [-1  5  6]]\n",
      "\n",
      "arr_2d_3 :\n",
      "[[ 3  2  1]\n",
      " [-1  5  6]]\n",
      "\n"
     ]
    }
   ],
   "source": [
    "arr_2d_2 = np.array([[1, 2, 3], [4, 5, 6]])\n",
    "arr_2d_3 = arr_2d_2\n",
    "\n",
    "# index assignment\n",
    "arr_2d_2[1, 0] = -1\n",
    "arr_2d_3[0] = [3, 2, 1]\n",
    "\n",
    "# log\n",
    "print(f\"arr_2d_2 :\\n{arr_2d_2}\", end='\\n\\n')\n",
    "print(f\"arr_2d_3 :\\n{arr_2d_3}\", end='\\n\\n')"
   ]
  },
  {
   "cell_type": "code",
   "execution_count": 17,
   "metadata": {},
   "outputs": [
    {
     "name": "stdout",
     "output_type": "stream",
     "text": [
      "arr_2d_4 :\n",
      "[[1 2 3]\n",
      " [0 5 6]]\n",
      "\n",
      "arr_2d_5 :\n",
      "[[3 2 1]\n",
      " [4 5 6]]\n",
      "\n"
     ]
    }
   ],
   "source": [
    "arr_2d_4 = np.array([[1, 2, 3], [4, 5, 6]])\n",
    "arr_2d_5 = np.copy(arr_2d_4)\n",
    "\n",
    "# index assignment\n",
    "arr_2d_4[1, 0] = 0\n",
    "arr_2d_5[0] = [3, 2, 1]\n",
    "\n",
    "# log\n",
    "print(f\"arr_2d_4 :\\n{arr_2d_4}\", end='\\n\\n')\n",
    "print(f\"arr_2d_5 :\\n{arr_2d_5}\", end='\\n\\n')"
   ]
  }
 ],
 "metadata": {
  "kernelspec": {
   "display_name": "Python 3",
   "language": "python",
   "name": "python3"
  },
  "language_info": {
   "codemirror_mode": {
    "name": "ipython",
    "version": 3
   },
   "file_extension": ".py",
   "mimetype": "text/x-python",
   "name": "python",
   "nbconvert_exporter": "python",
   "pygments_lexer": "ipython3",
   "version": "3.12.3"
  }
 },
 "nbformat": 4,
 "nbformat_minor": 2
}
