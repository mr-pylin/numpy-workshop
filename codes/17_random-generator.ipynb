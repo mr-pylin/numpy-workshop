{
 "cells": [
  {
   "cell_type": "markdown",
   "metadata": {},
   "source": [
    "📝 **Author:** Amirhossein Heydari - 📧 **Email:** AmirhosseinHeydari78@gmail.com - 📍 **Linktree:** [linktr.ee/mr_pylin](https://linktr.ee/mr_pylin)\n",
    "\n",
    "---"
   ]
  },
  {
   "cell_type": "markdown",
   "metadata": {},
   "source": [
    "# Dependencies"
   ]
  },
  {
   "cell_type": "code",
   "execution_count": 16,
   "metadata": {},
   "outputs": [],
   "source": [
    "import numpy as np"
   ]
  },
  {
   "cell_type": "markdown",
   "metadata": {},
   "source": [
    "# NumPy - Random Generator\n",
    "📝 Doc:\n",
    "   - Random `Generator`: [numpy.org/doc/stable/reference/random/generator.html](https://numpy.org/doc/stable/reference/random/generator.html)\n",
    "   - Legacy random generation: [numpy.org/doc/stable/reference/random/legacy.html](https://numpy.org/doc/stable/reference/random/legacy.html)"
   ]
  },
  {
   "cell_type": "markdown",
   "metadata": {},
   "source": [
    "## np.random.default_rng\n",
    "\n",
    "<table style=\"margin: 0 auto;\">\n",
    "   <thead>\n",
    "      <tr>\n",
    "         <th style=\"text-align: center;\">Function</th>\n",
    "         <th style=\"text-align: center;\">Description</th>\n",
    "         <th style=\"text-align: center;\">Details</th>\n",
    "      </tr>\n",
    "   </thead>\n",
    "   <tbody>\n",
    "      <tr>\n",
    "         <td><code>np.random.default_rng</code></td>\n",
    "         <td>Construct a new Generator with the default BitGenerator (PCG64)</td>\n",
    "         <td style=\"text-align: center;\"><a href=\"https://numpy.org/doc/stable/reference/random/generator.html#numpy.random.default_rng\">link</a></td>\n",
    "      </tr>\n",
    "   </tbody>\n",
    "</table>\n",
    "\n",
    "   - Definition\n",
    "      - It is a function in NumPy that provides a new, more flexible random number generator (RNG) system introduced in NumPy 1.17\n",
    "      - It is designed to replace the older `np.random` module functions with a more modern and user-friendly interface\n",
    "   - Key Features\n",
    "      1. Modern RNG Algorithms\n",
    "         - It uses the PCG64 (Permuted Congruential Generator with 64-bit state) RNG, which is a high-quality, fast, and robust algorithm\n",
    "      1. Separate State\n",
    "         - Each instance of the RNG has its own internal state, making it easier to manage and seed different instances independently\n",
    "      1. Enhanced Flexibility\n",
    "         - The RNG instance (`Generator` object) provides a wide range of methods for generating random numbers, including integers, floats, and more complex distributions\n",
    "      1. Better Performance\n",
    "         - The new RNG is generally faster and provides better statistical properties compared to the older `np.random` methods"
   ]
  },
  {
   "cell_type": "code",
   "execution_count": 17,
   "metadata": {},
   "outputs": [
    {
     "name": "stdout",
     "output_type": "stream",
     "text": [
      "seed_seq : SeedSequence(\n",
      "    entropy=42,\n",
      ")\n",
      "state    : {'bit_generator': 'PCG64', 'state': {'state': 274674114334540486603088602300644985544, 'inc': 332724090758049132448979897138935081983}, 'has_uint32': 0, 'uinteger': 0}\n"
     ]
    }
   ],
   "source": [
    "# set the seed for reproducibility\n",
    "seed = 42\n",
    "rng = np.random.default_rng(seed)\n",
    "\n",
    "# bit_generator\n",
    "seed_seq = rng.bit_generator.seed_seq\n",
    "state = rng.bit_generator.state\n",
    "\n",
    "# log\n",
    "print(f\"seed_seq : {seed_seq}\")\n",
    "print(f\"state    : {state}\")"
   ]
  },
  {
   "cell_type": "markdown",
   "metadata": {},
   "source": [
    "## Simple random data\n",
    "\n",
    "<table style=\"margin: 0 auto;\">\n",
    "   <thead>\n",
    "      <tr>\n",
    "         <th style=\"text-align: center;\">Function</th>\n",
    "         <th style=\"text-align: center;\">Description</th>\n",
    "         <th style=\"text-align: center;\">Details</th>\n",
    "      </tr>\n",
    "   </thead>\n",
    "   <tbody>\n",
    "      <tr>\n",
    "         <td><code>np.integers</code></td>\n",
    "         <td>Return random integers from low (inclusive) to high (exclusive), or if <code>endpoint=True</code>, low (inclusive) to high (inclusive)</td>\n",
    "         <td style=\"text-align: center;\"><a href=\"https://numpy.org/doc/stable/reference/random/generated/numpy.random.Generator.integers.html\">link</a></td>\n",
    "      </tr>\n",
    "      <tr>\n",
    "         <td><code>np.random</code></td>\n",
    "         <td>Return random floats in the half-open interval <code>[0.0, 1.0)</code></td>\n",
    "         <td style=\"text-align: center;\"><a href=\"https://numpy.org/doc/stable/reference/random/generated/numpy.random.Generator.random.html\">link</a></td>\n",
    "      </tr>\n",
    "      <tr>\n",
    "         <td><code>np.choice</code></td>\n",
    "         <td>Generates a random sample from a given array</td>\n",
    "         <td style=\"text-align: center;\"><a href=\"https://numpy.org/doc/stable/reference/random/generated/numpy.random.Generator.choice.html\">link</a></td>\n",
    "      </tr>\n",
    "   </tbody>\n",
    "</table>"
   ]
  },
  {
   "cell_type": "code",
   "execution_count": 18,
   "metadata": {},
   "outputs": [
    {
     "name": "stdout",
     "output_type": "stream",
     "text": [
      "random_integers_1:\n",
      "[0 7 6 4 4]\n",
      "--------------------------------------------------\n",
      "random_integers_2:\n",
      "[[8 0 6]\n",
      " [2 0 5]]\n"
     ]
    }
   ],
   "source": [
    "# random integers : [low, high)\n",
    "random_integers_1 = rng.integers(low=0, high=10, size=5)\n",
    "random_integers_2 = rng.integers(low=0, high=10, size=(2, 3))\n",
    "\n",
    "# log\n",
    "print(f\"random_integers_1:\\n{random_integers_1}\", end=f\"\\n{'-' * 50}\\n\")\n",
    "print(f\"random_integers_2:\\n{random_integers_2}\")"
   ]
  },
  {
   "cell_type": "code",
   "execution_count": 19,
   "metadata": {},
   "outputs": [
    {
     "name": "stdout",
     "output_type": "stream",
     "text": [
      "random_floats_1:\n",
      "[0.7611397  0.78606431 0.12811363 0.45038594 0.37079802]\n",
      "--------------------------------------------------\n",
      "random_floats_2:\n",
      "[[0.92676499 0.64386512 0.82276161]\n",
      " [0.4434142  0.22723872 0.55458479]]\n"
     ]
    }
   ],
   "source": [
    "# random floats : [0.0, 1.0)\n",
    "random_floats_1 = rng.random(size=5)\n",
    "random_floats_2 = rng.random(size=(2, 3))\n",
    "\n",
    "# log\n",
    "print(f\"random_floats_1:\\n{random_floats_1}\", end=f\"\\n{'-' * 50}\\n\")\n",
    "print(f\"random_floats_2:\\n{random_floats_2}\")"
   ]
  },
  {
   "cell_type": "code",
   "execution_count": 20,
   "metadata": {},
   "outputs": [
    {
     "name": "stdout",
     "output_type": "stream",
     "text": [
      "choice_1: [9 8 1 8 8]\n",
      "choice_2: [9 8 7 2 4]\n",
      "choice_3: [2 1 1 1 1]\n",
      "choice_4: [7 5 9 8 6]\n"
     ]
    }
   ],
   "source": [
    "arr_1d_1 = np.array([1, 2, 3, 4, 5, 6, 7, 8, 9])\n",
    "\n",
    "# generate a random sample from a given array\n",
    "choice_1 = rng.choice(arr_1d_1, size=5, replace=True)\n",
    "choice_2 = rng.choice(arr_1d_1, size=5, replace=False)\n",
    "choice_3 = rng.choice(arr_1d_1, size=5, replace=True, p=[0.7, 0.1, 0.2, 0, 0, 0, 0, 0, 0])\n",
    "choice_4 = rng.choice(arr_1d_1, size=5, replace=False, shuffle=True)\n",
    "\n",
    "# log\n",
    "print(f\"choice_1: {choice_1}\")\n",
    "print(f\"choice_2: {choice_2}\")\n",
    "print(f\"choice_3: {choice_3}\")\n",
    "print(f\"choice_4: {choice_4}\")"
   ]
  },
  {
   "cell_type": "markdown",
   "metadata": {},
   "source": [
    "## Permutations\n",
    "\n",
    "<table style=\"margin: 0 auto;\">\n",
    "   <thead>\n",
    "      <tr>\n",
    "         <th style=\"text-align: center;\">Function</th>\n",
    "         <th style=\"text-align: center;\">Description</th>\n",
    "         <th style=\"text-align: center;\">Details</th>\n",
    "      </tr>\n",
    "   </thead>\n",
    "   <tbody>\n",
    "      <tr>\n",
    "         <td><code>np.shuffle</code></td>\n",
    "         <td>Modify an array or sequence in-place by shuffling its contents</td>\n",
    "         <td style=\"text-align: center;\"><a href=\"https://numpy.org/doc/stable/reference/random/generated/numpy.random.Generator.shuffle.html\">link</a></td>\n",
    "      </tr>\n",
    "      <tr>\n",
    "         <td><code>np.permutation</code></td>\n",
    "         <td>Randomly permute a sequence, or return a permuted range</td>\n",
    "         <td style=\"text-align: center;\"><a href=\"https://numpy.org/doc/stable/reference/random/generated/numpy.random.Generator.permutation.html\">link</a></td>\n",
    "      </tr>\n",
    "   </tbody>\n",
    "</table>"
   ]
  },
  {
   "cell_type": "code",
   "execution_count": 21,
   "metadata": {},
   "outputs": [
    {
     "name": "stdout",
     "output_type": "stream",
     "text": [
      "arr_1d_2:\n",
      "[4 8 7 5 9 1 6 2 3]\n",
      "--------------------------------------------------\n",
      "arr_2d_1:\n",
      "[[4 5 6]\n",
      " [1 2 5]]\n",
      "--------------------------------------------------\n",
      "arr_2d_2:\n",
      "[[1 3 2]\n",
      " [4 6 5]]\n"
     ]
    }
   ],
   "source": [
    "arr_1d_2 = np.array([1, 2, 3, 4, 5, 6, 7, 8, 9])\n",
    "arr_2d_1 = np.array([[1, 2, 5], [4, 5, 6]])\n",
    "arr_2d_2 = np.array([[1, 2, 3], [4, 5, 6]])\n",
    "\n",
    "# shuffle\n",
    "shuffle_1 = rng.shuffle(arr_1d_2)\n",
    "shuffle_2 = rng.shuffle(arr_2d_1, axis=0)\n",
    "shuffle_3 = rng.shuffle(arr_2d_2, axis=1)\n",
    "\n",
    "# log\n",
    "print(f\"arr_1d_2:\\n{arr_1d_2}\", end=f\"\\n{'-' * 50}\\n\")\n",
    "print(f\"arr_2d_1:\\n{arr_2d_1}\", end=f\"\\n{'-' * 50}\\n\")\n",
    "print(f\"arr_2d_2:\\n{arr_2d_2}\")"
   ]
  },
  {
   "cell_type": "code",
   "execution_count": 22,
   "metadata": {},
   "outputs": [
    {
     "name": "stdout",
     "output_type": "stream",
     "text": [
      "permutation_1 : [4 6 5 1 9 7 3 2 8]\n"
     ]
    }
   ],
   "source": [
    "arr_1d_4 = np.array([1, 2, 3, 4, 5, 6, 7, 8, 9])\n",
    "\n",
    "# premutation\n",
    "permutation_1 = rng.permutation(arr_1d_4)\n",
    "\n",
    "# log\n",
    "print(f\"permutation_1 : {permutation_1}\")"
   ]
  },
  {
   "cell_type": "markdown",
   "metadata": {},
   "source": [
    "### Shuffling non-NumPy sequences"
   ]
  },
  {
   "cell_type": "code",
   "execution_count": 23,
   "metadata": {},
   "outputs": [
    {
     "name": "stdout",
     "output_type": "stream",
     "text": [
      "list_1: ['B', 'D', 'A', 'C', 'E']\n"
     ]
    }
   ],
   "source": [
    "list_1 = [\"A\", \"B\", \"C\", \"D\", \"E\"]\n",
    "\n",
    "# shuffle\n",
    "rng.shuffle(list_1)  # in-place operation\n",
    "\n",
    "# log\n",
    "print(f\"list_1: {list_1}\")"
   ]
  },
  {
   "cell_type": "markdown",
   "metadata": {},
   "source": [
    "## Distributions\n",
    "\n",
    "<table style=\"margin: 0 auto;\">\n",
    "   <thead>\n",
    "      <tr>\n",
    "         <th style=\"text-align: center;\">Function</th>\n",
    "         <th style=\"text-align: center;\">Description</th>\n",
    "         <th style=\"text-align: center;\">Details</th>\n",
    "      </tr>\n",
    "   </thead>\n",
    "   <tbody>\n",
    "      <tr>\n",
    "         <td><code>np.binomial</code></td>\n",
    "         <td>Draw samples from a binomial distribution</td>\n",
    "         <td style=\"text-align: center;\"><a href=\"https://numpy.org/doc/stable/reference/random/generated/numpy.random.Generator.binomial.html\">link</a></td>\n",
    "      </tr>\n",
    "      <tr>\n",
    "         <td><code>np.chisquare</code></td>\n",
    "         <td>Draw samples from a chi-square distribution</td>\n",
    "         <td style=\"text-align: center;\"><a href=\"https://numpy.org/doc/stable/reference/random/generated/numpy.random.Generator.chisquare.html\">link</a></td>\n",
    "      </tr>\n",
    "      <tr>\n",
    "         <td><code>np.exponential</code></td>\n",
    "         <td>Draw samples from an exponential distribution</td>\n",
    "         <td style=\"text-align: center;\"><a href=\"https://numpy.org/doc/stable/reference/random/generated/numpy.random.Generator.exponential.html\">link</a></td>\n",
    "      </tr>\n",
    "      <tr>\n",
    "         <td><code>np.gamma</code></td>\n",
    "         <td>Draw samples from a Gamma distribution</td>\n",
    "         <td style=\"text-align: center;\"><a href=\"https://numpy.org/doc/stable/reference/random/generated/numpy.random.Generator.gamma.html\">link</a></td>\n",
    "      </tr>\n",
    "      <tr>\n",
    "         <td><code>np.geometric</code></td>\n",
    "         <td>Draw samples from the geometric distribution</td>\n",
    "         <td style=\"text-align: center;\"><a href=\"https://numpy.org/doc/stable/reference/random/generated/numpy.random.Generator.geometric.html\">link</a></td>\n",
    "      </tr>\n",
    "      <tr>\n",
    "         <td><code>np.normal</code></td>\n",
    "         <td>Draw random samples from a normal (Gaussian) distribution</td>\n",
    "         <td style=\"text-align: center;\"><a href=\"https://numpy.org/doc/stable/reference/random/generated/numpy.random.Generator.normal.html\">link</a></td>\n",
    "      </tr>\n",
    "      <tr>\n",
    "         <td><code>np.poisson</code></td>\n",
    "         <td>Draw samples from a Poisson distribution</td>\n",
    "         <td style=\"text-align: center;\"><a href=\"https://numpy.org/doc/stable/reference/random/generated/numpy.random.Generator.poisson.html\">link</a></td>\n",
    "      </tr>\n",
    "      <tr>\n",
    "         <td><code>np.power</code></td>\n",
    "         <td>Draws samples in [0, 1] from a power distribution with positive exponent a - 1</td>\n",
    "         <td style=\"text-align: center;\"><a href=\"https://numpy.org/doc/stable/reference/random/generated/numpy.random.Generator.power.html\">link</a></td>\n",
    "      </tr>\n",
    "      <tr>\n",
    "         <td><code>np.rayleigh</code></td>\n",
    "         <td>Draw samples from a Rayleigh distribution</td>\n",
    "         <td style=\"text-align: center;\"><a href=\"https://numpy.org/doc/stable/reference/random/generated/numpy.random.Generator.rayleigh.html\">link</a></td>\n",
    "      </tr>\n",
    "      <tr>\n",
    "         <td><code>np.standard_normal</code></td>\n",
    "         <td>Draw samples from a standard Normal distribution (mean=0, stdev=1)</td>\n",
    "         <td style=\"text-align: center;\"><a href=\"https://numpy.org/doc/stable/reference/random/generated/numpy.random.Generator.standard_normal.html\">link</a></td>\n",
    "      </tr>\n",
    "      <tr>\n",
    "         <td><code>np.uniform</code></td>\n",
    "         <td>Draw samples from a uniform distribution</td>\n",
    "         <td style=\"text-align: center;\"><a href=\"https://numpy.org/doc/stable/reference/random/generated/numpy.random.Generator.uniform.html\">link</a></td>\n",
    "      </tr>\n",
    "   </tbody>\n",
    "</table>"
   ]
  },
  {
   "cell_type": "code",
   "execution_count": 24,
   "metadata": {},
   "outputs": [
    {
     "name": "stdout",
     "output_type": "stream",
     "text": [
      "normal_samples_1: [0.2186886  0.87142878 0.22359555 0.67891356 0.06757907]\n"
     ]
    }
   ],
   "source": [
    "# normal\n",
    "normal_samples_1 = rng.normal(loc=0, scale=1, size=5)\n",
    "\n",
    "# log\n",
    "print(f\"normal_samples_1: {normal_samples_1}\")"
   ]
  },
  {
   "cell_type": "code",
   "execution_count": 25,
   "metadata": {},
   "outputs": [
    {
     "name": "stdout",
     "output_type": "stream",
     "text": [
      "uniform_samples_1: [7.86924378 6.64850857 7.05165379 7.80729031 4.58915776]\n"
     ]
    }
   ],
   "source": [
    "# uniform\n",
    "uniform_samples_1 = rng.uniform(low=0, high=10, size=5)\n",
    "\n",
    "# log\n",
    "print(f\"uniform_samples_1: {uniform_samples_1}\")"
   ]
  },
  {
   "cell_type": "code",
   "execution_count": 26,
   "metadata": {},
   "outputs": [
    {
     "name": "stdout",
     "output_type": "stream",
     "text": [
      "binomial_samples_1: [5 3 3 6 5]\n"
     ]
    }
   ],
   "source": [
    "# binomial\n",
    "binomial_samples_1 = rng.binomial(n=10, p=0.5, size=5)\n",
    "\n",
    "# log\n",
    "print(f\"binomial_samples_1: {binomial_samples_1}\")"
   ]
  },
  {
   "cell_type": "code",
   "execution_count": 27,
   "metadata": {},
   "outputs": [
    {
     "name": "stdout",
     "output_type": "stream",
     "text": [
      "exponential_samples_1: [1.50780913 5.3098828  2.10666023 1.64486584 1.04349148]\n"
     ]
    }
   ],
   "source": [
    "# exponential\n",
    "exponential_samples_1 = rng.exponential(scale=1.0, size=5)\n",
    "\n",
    "# log\n",
    "print(f\"exponential_samples_1: {exponential_samples_1}\")"
   ]
  },
  {
   "cell_type": "code",
   "execution_count": 28,
   "metadata": {},
   "outputs": [
    {
     "name": "stdout",
     "output_type": "stream",
     "text": [
      "geometric_samples_1: [1 1 1 1 1]\n"
     ]
    }
   ],
   "source": [
    "# geometric\n",
    "geometric_samples_1 = rng.geometric(p=0.5, size=5)\n",
    "\n",
    "# log\n",
    "print(f\"geometric_samples_1: {geometric_samples_1}\")"
   ]
  },
  {
   "cell_type": "code",
   "execution_count": 29,
   "metadata": {},
   "outputs": [
    {
     "name": "stdout",
     "output_type": "stream",
     "text": [
      "poisson_samples_1: [2 3 4 0 2]\n"
     ]
    }
   ],
   "source": [
    "# poisson\n",
    "poisson_samples_1 = rng.poisson(lam=3.0, size=5)\n",
    "\n",
    "# log\n",
    "print(f\"poisson_samples_1: {poisson_samples_1}\")"
   ]
  },
  {
   "cell_type": "code",
   "execution_count": 30,
   "metadata": {},
   "outputs": [
    {
     "name": "stdout",
     "output_type": "stream",
     "text": [
      "rayleigh_samples_1: [0.87878469 1.3674497  0.61199257 1.95872022 1.60745516]\n"
     ]
    }
   ],
   "source": [
    "# rayleigh\n",
    "rayleigh_samples_1 = rng.rayleigh(scale=1.0, size=5)\n",
    "\n",
    "# log\n",
    "print(f\"rayleigh_samples_1: {rayleigh_samples_1}\")"
   ]
  }
 ],
 "metadata": {
  "author_email": "AmirhosseinHeydari78@gmail.com",
  "author_github": "https://github.com/mr-pylin",
  "author_name": "Amirhossein Heydari",
  "kernelspec": {
   "display_name": "venv",
   "language": "python",
   "name": "python3"
  },
  "language_info": {
   "codemirror_mode": {
    "name": "ipython",
    "version": 3
   },
   "file_extension": ".py",
   "mimetype": "text/x-python",
   "name": "python",
   "nbconvert_exporter": "python",
   "pygments_lexer": "ipython3",
   "version": "3.12.3"
  },
  "origin_repo": "https://github.com/mr-pylin/numpy-workshop"
 },
 "nbformat": 4,
 "nbformat_minor": 2
}
