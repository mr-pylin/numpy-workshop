{
 "cells": [
  {
   "cell_type": "markdown",
   "metadata": {},
   "source": [
    "📝 **Author:** Amirhossein Heydari - 📧 **Email:** AmirhosseinHeydari78@gmail.com - 📍 **Linktree:** [linktr.ee/mr_pylin](https://linktr.ee/mr_pylin)\n",
    "\n",
    "---"
   ]
  },
  {
   "cell_type": "markdown",
   "metadata": {},
   "source": [
    "# Dependencies"
   ]
  },
  {
   "cell_type": "code",
   "execution_count": 1,
   "metadata": {},
   "outputs": [],
   "source": [
    "import numpy as np"
   ]
  },
  {
   "cell_type": "code",
   "execution_count": 2,
   "metadata": {},
   "outputs": [],
   "source": [
    "rng = np.random.default_rng(seed=42)"
   ]
  },
  {
   "cell_type": "markdown",
   "metadata": {},
   "source": [
    "# NumPy - Mathematics\n",
    "Docs:\n",
    "   - [numpy.org/doc/stable/reference/routines.math.html](https://numpy.org/doc/stable/reference/routines.math.html)"
   ]
  },
  {
   "cell_type": "markdown",
   "metadata": {},
   "source": [
    "## Trigonometric functions\n",
    "   - sin\n",
    "   - cos\n",
    "   - tan\n",
    "   - arcsin | asin\n",
    "   - arccos | acos\n",
    "   - arctan | atan\n",
    "   - rad2deg | degrees\n",
    "   - deg2rad | radians\n",
    "   - ..."
   ]
  },
  {
   "cell_type": "code",
   "execution_count": 3,
   "metadata": {},
   "outputs": [
    {
     "name": "stdout",
     "output_type": "stream",
     "text": [
      "sin_1    : [0.0000000e+00 1.0000000e+00 1.2246468e-16]\n",
      "cos_1    : [ 1.000000e+00  6.123234e-17 -1.000000e+00]\n",
      "tan_1    : [ 0.00000000e+00  1.63312394e+16 -1.22464680e-16]\n",
      "arcsin_1 : [0.00000000e+00 1.57079633e+00 1.22464680e-16]\n",
      "arccos_1 : [0.         1.57079633 3.14159265]\n",
      "arctan_1 : [ 0.00000000e+00  1.57079633e+00 -1.22464680e-16]\n"
     ]
    }
   ],
   "source": [
    "arr_1d_1 = np.array([0, np.pi / 2, np.pi])\n",
    "\n",
    "# sin\n",
    "sin_1 = np.sin(arr_1d_1)\n",
    "\n",
    "# cos\n",
    "cos_1 = np.cos(arr_1d_1)\n",
    "\n",
    "# tan\n",
    "tan_1 = np.tan(arr_1d_1)\n",
    "\n",
    "# arcsin\n",
    "arcsin_1 = np.arcsin(sin_1)\n",
    "\n",
    "# arccos\n",
    "arccos_1 = np.arccos(cos_1)\n",
    "\n",
    "# arctan\n",
    "arctan_1 = np.arctan(tan_1)\n",
    "\n",
    "# log\n",
    "print(f\"sin_1    : {sin_1}\")\n",
    "print(f\"cos_1    : {cos_1}\")\n",
    "print(f\"tan_1    : {tan_1}\")\n",
    "print(f\"arcsin_1 : {arcsin_1}\")\n",
    "print(f\"arccos_1 : {arccos_1}\")\n",
    "print(f\"arctan_1 : {arctan_1}\")"
   ]
  },
  {
   "cell_type": "code",
   "execution_count": 4,
   "metadata": {},
   "outputs": [
    {
     "name": "stdout",
     "output_type": "stream",
     "text": [
      "degrees_1 : [  0.  90. 180.]\n",
      "rad2deg_1 : [  0.  90. 180.]\n",
      "radians_1 : [0.         1.57079633 3.14159265]\n",
      "deg2rad_1 : [0.         1.57079633 3.14159265]\n"
     ]
    }
   ],
   "source": [
    "# radian to degree\n",
    "degrees_1 = np.degrees([0, np.pi / 2, np.pi])\n",
    "rad2deg_1 = np.rad2deg([0, np.pi / 2, np.pi])\n",
    "\n",
    "# degree to radian\n",
    "radians_1 = np.radians([0, 90, 180])\n",
    "deg2rad_1 = np.deg2rad([0, 90, 180])\n",
    "\n",
    "# log\n",
    "print(f\"degrees_1 : {degrees_1}\")\n",
    "print(f\"rad2deg_1 : {rad2deg_1}\")\n",
    "print(f\"radians_1 : {radians_1}\")\n",
    "print(f\"deg2rad_1 : {deg2rad_1}\")"
   ]
  },
  {
   "cell_type": "markdown",
   "metadata": {},
   "source": [
    "## Hyperbolic functions\n",
    "   - sinh\n",
    "   - cosh\n",
    "   - tanh\n",
    "   - ..."
   ]
  },
  {
   "cell_type": "code",
   "execution_count": 5,
   "metadata": {},
   "outputs": [
    {
     "name": "stdout",
     "output_type": "stream",
     "text": [
      "sinh_1    : [ 0.          2.3012989  11.54873936]\n",
      "cosh_1    : [ 1.          2.50917848 11.59195328]\n",
      "tanh_1    : [0.         0.91715234 0.99627208]\n",
      "arcsinh_1 : [0.         1.57079633 3.14159265]\n",
      "arccosh_1 : [0.         1.57079633 3.14159265]\n",
      "arctanh_1 : [0.         1.57079633 3.14159265]\n"
     ]
    }
   ],
   "source": [
    "arr_1d_2 = np.array([0, np.pi / 2, np.pi])\n",
    "\n",
    "# sinh\n",
    "sinh_1 = np.sinh(arr_1d_1)\n",
    "\n",
    "# cosh\n",
    "cosh_1 = np.cosh(arr_1d_1)\n",
    "\n",
    "# tanh\n",
    "tanh_1 = np.tanh(arr_1d_1)\n",
    "\n",
    "# arcsinh\n",
    "arcsinh_1 = np.arcsinh(sinh_1)\n",
    "\n",
    "# arccosh\n",
    "arccosh_1 = np.arccosh(cosh_1)\n",
    "\n",
    "# arctanh\n",
    "arctanh_1 = np.arctanh(tanh_1)\n",
    "\n",
    "# log\n",
    "print(f\"sinh_1    : {sinh_1}\")\n",
    "print(f\"cosh_1    : {cosh_1}\")\n",
    "print(f\"tanh_1    : {tanh_1}\")\n",
    "print(f\"arcsinh_1 : {arcsinh_1}\")\n",
    "print(f\"arccosh_1 : {arccosh_1}\")\n",
    "print(f\"arctanh_1 : {arctanh_1}\")"
   ]
  },
  {
   "cell_type": "markdown",
   "metadata": {},
   "source": [
    "## Rounding\n",
    "   - round : Evenly round to the given number of decimals\n",
    "   - rint : Round elements of the array to the nearest integer\n",
    "   - fix : Round to nearest integer towards zero\n",
    "   - floor : Return the floor of the input, element-wise\n",
    "   - ceil : Return the ceiling of the input, element-wise\n",
    "   - trunc : Return the truncated value of the input, element-wise"
   ]
  },
  {
   "cell_type": "code",
   "execution_count": 6,
   "metadata": {},
   "outputs": [
    {
     "name": "stdout",
     "output_type": "stream",
     "text": [
      "round_1  : [0.    1.571 3.142]\n",
      "rint_1   : [-2. -1.  0.  1.  2.]\n",
      "fix_1    : [-1. -1.  0.  1.  1.]\n",
      "floor_1  : [-2. -2.  0.  1.  1.]\n",
      "ceil_1   : [-1. -1.  1.  2.  2.]\n",
      "trunc_1  : [-1. -1.  0.  1.  1.]\n"
     ]
    }
   ],
   "source": [
    "arr_1d_3 = np.array([-1.9541, -1.1161, 0.5, 1.2345, 1.6664])\n",
    "\n",
    "round_1 = np.round(arr_1d_2, 3)\n",
    "rint_1 = np.rint(arr_1d_3)\n",
    "fix_1 = np.fix(arr_1d_3)\n",
    "floor_1 = np.floor(arr_1d_3)\n",
    "ceil_1 = np.ceil(arr_1d_3)\n",
    "trunc_1 = np.trunc(arr_1d_3)  # same results as np.fix\n",
    "\n",
    "# log\n",
    "print(f\"round_1  : {round_1}\")\n",
    "print(f\"rint_1   : {rint_1}\")\n",
    "print(f\"fix_1    : {fix_1}\")\n",
    "print(f\"floor_1  : {floor_1}\")\n",
    "print(f\"ceil_1   : {ceil_1}\")\n",
    "print(f\"trunc_1  : {trunc_1}\")"
   ]
  },
  {
   "cell_type": "markdown",
   "metadata": {},
   "source": [
    "## Sums, products, differences"
   ]
  },
  {
   "cell_type": "code",
   "execution_count": 7,
   "metadata": {},
   "outputs": [
    {
     "name": "stdout",
     "output_type": "stream",
     "text": [
      "sum_1 :\n",
      "10\n",
      "\n",
      "sum_2 :\n",
      "13\n",
      "\n",
      "sum_3 :\n",
      "[8 5]\n",
      "\n",
      "sum_4 :\n",
      "[7 6]\n",
      "\n",
      "cumsum_1 :\n",
      "[ 1  4  8 10]\n",
      "\n",
      "cumsum_2 :\n",
      "[ 2  7 13 13]\n",
      "\n",
      "cumsum_3 :\n",
      "[[2 5]\n",
      " [8 5]]\n",
      "\n",
      "cumsum_4 :\n",
      "[[2 7]\n",
      " [6 6]]\n"
     ]
    }
   ],
   "source": [
    "arr_1d_4 = np.array([1, 3, 4, 2])\n",
    "arr_2d_1 = np.array([[2, 5], [6, 0]])\n",
    "\n",
    "# sum\n",
    "sum_1 = np.sum(arr_1d_4)\n",
    "sum_2 = np.sum(arr_2d_1)\n",
    "sum_3 = np.sum(arr_2d_1, axis= 0)\n",
    "sum_4 = np.sum(arr_2d_1, axis= 1)\n",
    "\n",
    "# cumsum\n",
    "cumsum_1 = np.cumsum(arr_1d_4)\n",
    "cumsum_2 = np.cumsum(arr_2d_1)\n",
    "cumsum_3 = np.cumsum(arr_2d_1, axis= 0)\n",
    "cumsum_4 = np.cumsum(arr_2d_1, axis= 1)\n",
    "\n",
    "# log\n",
    "print(f\"sum_1 :\\n{sum_1}\", end='\\n\\n')\n",
    "print(f\"sum_2 :\\n{sum_2}\", end='\\n\\n')\n",
    "print(f\"sum_3 :\\n{sum_3}\", end='\\n\\n')\n",
    "print(f\"sum_4 :\\n{sum_4}\", end='\\n\\n')\n",
    "print(f\"cumsum_1 :\\n{cumsum_1}\", end='\\n\\n')\n",
    "print(f\"cumsum_2 :\\n{cumsum_2}\", end='\\n\\n')\n",
    "print(f\"cumsum_3 :\\n{cumsum_3}\", end='\\n\\n')\n",
    "print(f\"cumsum_4 :\\n{cumsum_4}\")"
   ]
  },
  {
   "cell_type": "code",
   "execution_count": 8,
   "metadata": {},
   "outputs": [
    {
     "name": "stdout",
     "output_type": "stream",
     "text": [
      "prod_1 :\n",
      "24\n",
      "\n",
      "prod_2 :\n",
      "60\n",
      "\n",
      "prod_3 :\n",
      "[12  5]\n",
      "\n",
      "prod_4 :\n",
      "[10  6]\n",
      "\n",
      "cumprod_1 :\n",
      "[ 1  3 12 24]\n",
      "\n",
      "cumprod_2 :\n",
      "[ 2 10 60 60]\n",
      "\n",
      "cumprod_3 :\n",
      "[[ 2  5]\n",
      " [12  5]]\n",
      "\n",
      "cumprod_4 :\n",
      "[[ 2 10]\n",
      " [ 6  6]]\n"
     ]
    }
   ],
   "source": [
    "arr_1d_5 = np.array([1, 3, 4, 2])\n",
    "arr_2d_2 = np.array([[2, 5], [6, 1]])\n",
    "\n",
    "# prod\n",
    "prod_1 = np.prod(arr_1d_5)\n",
    "prod_2 = np.prod(arr_2d_2)\n",
    "prod_3 = np.prod(arr_2d_2, axis= 0)\n",
    "prod_4 = np.prod(arr_2d_2, axis= 1)\n",
    "\n",
    "# cumprod\n",
    "cumprod_1 = np.cumprod(arr_1d_5)\n",
    "cumprod_2 = np.cumprod(arr_2d_2)\n",
    "cumprod_3 = np.cumprod(arr_2d_2, axis= 0)\n",
    "cumprod_4 = np.cumprod(arr_2d_2, axis= 1)\n",
    "\n",
    "# log\n",
    "print(f\"prod_1 :\\n{prod_1}\", end='\\n\\n')\n",
    "print(f\"prod_2 :\\n{prod_2}\", end='\\n\\n')\n",
    "print(f\"prod_3 :\\n{prod_3}\", end='\\n\\n')\n",
    "print(f\"prod_4 :\\n{prod_4}\", end='\\n\\n')\n",
    "print(f\"cumprod_1 :\\n{cumprod_1}\", end='\\n\\n')\n",
    "print(f\"cumprod_2 :\\n{cumprod_2}\", end='\\n\\n')\n",
    "print(f\"cumprod_3 :\\n{cumprod_3}\", end='\\n\\n')\n",
    "print(f\"cumprod_4 :\\n{cumprod_4}\")"
   ]
  },
  {
   "cell_type": "code",
   "execution_count": 9,
   "metadata": {},
   "outputs": [
    {
     "name": "stdout",
     "output_type": "stream",
     "text": [
      "diff_1:\n",
      "[ 2  1 -2 -3]\n",
      "\n",
      "diff_2:\n",
      "[[ 4 -5  1]]\n",
      "\n",
      "diff_3:\n",
      "[[ 3 -4]\n",
      " [-6  2]]\n",
      "\n",
      "ediff1d_1:\n",
      "[ 2  1 -2 -3]\n",
      "\n",
      "ediff1d_2:\n",
      "[ 3 -4  5 -6  2]\n",
      "\n",
      "ediff1d_3:\n",
      "[1 1 1 1 1 1 1]\n",
      "\n",
      "gradient_1:\n",
      "[ 2.   1.5 -0.5 -2.5 -3. ]\n",
      "\n",
      "gradient_2:\n",
      "(array([[ 4., -5.,  1.],\n",
      "       [ 4., -5.,  1.]]), array([[ 3. , -0.5, -4. ],\n",
      "       [-6. , -2. ,  2. ]]))\n",
      "\n",
      "gradient_3:\n",
      "(array([[[4., 4.],\n",
      "        [4., 4.]],\n",
      "\n",
      "       [[4., 4.],\n",
      "        [4., 4.]]]), array([[[2., 2.],\n",
      "        [2., 2.]],\n",
      "\n",
      "       [[2., 2.],\n",
      "        [2., 2.]]]), array([[[1., 1.],\n",
      "        [1., 1.]],\n",
      "\n",
      "       [[1., 1.],\n",
      "        [1., 1.]]]))\n"
     ]
    }
   ],
   "source": [
    "arr_1d_6 = np.array([1, 3, 4, 2, -1])\n",
    "arr_2d_3 = np.array([[2, 5, 1], [6, 0, 2]])\n",
    "arr_3d_1 = np.array([[[1, 2], [3, 4]], [[5, 6], [7, 8]]])\n",
    "\n",
    "\n",
    "# diff\n",
    "diff_1 = np.diff(arr_1d_6)\n",
    "diff_2 = np.diff(arr_2d_3, axis= 0)\n",
    "diff_3 = np.diff(arr_2d_3, axis= 1)\n",
    "\n",
    "# ediff1d\n",
    "ediff1d_1 = np.ediff1d(arr_1d_6)\n",
    "ediff1d_2 = np.ediff1d(arr_2d_3)\n",
    "ediff1d_3 = np.ediff1d(arr_3d_1)\n",
    "\n",
    "# gradient\n",
    "gradient_1 = np.gradient(arr_1d_6)\n",
    "gradient_2 = np.gradient(arr_2d_3)\n",
    "gradient_3 = np.gradient(arr_3d_1)\n",
    "\n",
    "# log\n",
    "print(f\"diff_1:\\n{diff_1}\", end='\\n\\n')\n",
    "print(f\"diff_2:\\n{diff_2}\", end='\\n\\n')\n",
    "print(f\"diff_3:\\n{diff_3}\", end='\\n\\n')\n",
    "print(f\"ediff1d_1:\\n{ediff1d_1}\", end='\\n\\n')\n",
    "print(f\"ediff1d_2:\\n{ediff1d_2}\", end='\\n\\n')\n",
    "print(f\"ediff1d_3:\\n{ediff1d_3}\", end='\\n\\n')\n",
    "print(f\"gradient_1:\\n{gradient_1}\", end='\\n\\n')\n",
    "print(f\"gradient_2:\\n{gradient_2}\", end='\\n\\n')\n",
    "print(f\"gradient_3:\\n{gradient_3}\")"
   ]
  },
  {
   "cell_type": "code",
   "execution_count": 10,
   "metadata": {},
   "outputs": [
    {
     "name": "stdout",
     "output_type": "stream",
     "text": [
      "cross_1: [ 3  3 -3]\n"
     ]
    }
   ],
   "source": [
    "arr_1d_7 = np.array([1, 3, 4])\n",
    "arr_1d_8 = np.array([2, 3, 5])\n",
    "\n",
    "# cross product\n",
    "cross_1 = np.cross(arr_1d_7, arr_1d_8)\n",
    "\n",
    "# log\n",
    "print(f\"cross_1: {cross_1}\")"
   ]
  },
  {
   "cell_type": "markdown",
   "metadata": {},
   "source": [
    "## Exponents and logarithms"
   ]
  },
  {
   "cell_type": "code",
   "execution_count": 11,
   "metadata": {},
   "outputs": [
    {
     "name": "stdout",
     "output_type": "stream",
     "text": [
      "exp_1  : [ 2.71828183  7.3890561  20.08553692 54.59815003]\n",
      "expm1_1: [ 1.71828183  6.3890561  19.08553692 53.59815003]\n",
      "exp2_1 : [ 2.  4.  8. 16.]\n"
     ]
    }
   ],
   "source": [
    "arr_1d_9 = np.array([1, 2, 3, 4])\n",
    "\n",
    "# exp\n",
    "exp_1 = np.exp(arr_1d_9)\n",
    "\n",
    "# expm1\n",
    "expm1_1 = np.expm1(arr_1d_9)\n",
    "\n",
    "# exp2\n",
    "exp2_1 = np.exp2(arr_1d_9)\n",
    "\n",
    "# log\n",
    "print(f\"exp_1  : {exp_1}\")\n",
    "print(f\"expm1_1: {expm1_1}\")\n",
    "print(f\"exp2_1 : {exp2_1}\")"
   ]
  },
  {
   "cell_type": "code",
   "execution_count": 12,
   "metadata": {},
   "outputs": [
    {
     "name": "stdout",
     "output_type": "stream",
     "text": [
      "log_1   : [6.90775528 7.60090246 8.00636757]\n",
      "log10_1 : [3.         3.30103    3.47712125]\n",
      "log2_1  : [ 9.96578428 10.96578428 11.55074679]\n",
      "log1p_1 : [6.90875478 7.60140233 8.00670085]\n"
     ]
    }
   ],
   "source": [
    "arr_1d_10 = np.array([1000, 2000, 3000])\n",
    "\n",
    "# log\n",
    "log_1 = np.log(arr_1d_10)\n",
    "\n",
    "# log10\n",
    "log10_1 = np.log10(arr_1d_10)\n",
    "\n",
    "# log2\n",
    "log2_1 = np.log2(arr_1d_10)\n",
    "\n",
    "# log1p\n",
    "log1p_1 = np.log1p(arr_1d_10)\n",
    "\n",
    "# log\n",
    "print(f\"log_1   : {log_1}\")\n",
    "print(f\"log10_1 : {log10_1}\")\n",
    "print(f\"log2_1  : {log2_1}\")\n",
    "print(f\"log1p_1 : {log1p_1}\")"
   ]
  },
  {
   "cell_type": "markdown",
   "metadata": {},
   "source": [
    "## Cardinal Sinus"
   ]
  },
  {
   "cell_type": "code",
   "execution_count": 13,
   "metadata": {},
   "outputs": [
    {
     "name": "stdout",
     "output_type": "stream",
     "text": [
      "sinc_1: [1.00000000e+00 3.89817183e-17 6.25283714e-18]\n"
     ]
    }
   ],
   "source": [
    "arr_1d_11 = np.array([0, 5, 100])\n",
    "\n",
    "# sinc\n",
    "sinc_1 = np.sinc(arr_1d_11)\n",
    "\n",
    "# log\n",
    "print(f\"sinc_1: {sinc_1}\")"
   ]
  },
  {
   "cell_type": "markdown",
   "metadata": {},
   "source": [
    "## Rational routines"
   ]
  },
  {
   "cell_type": "code",
   "execution_count": 14,
   "metadata": {},
   "outputs": [
    {
     "name": "stdout",
     "output_type": "stream",
     "text": [
      "lcm_1: 12\n"
     ]
    }
   ],
   "source": [
    "# lowest common multiple\n",
    "lcm_1 = np.lcm(3, 4)\n",
    "\n",
    "# log\n",
    "print(f\"lcm_1: {lcm_1}\")"
   ]
  },
  {
   "cell_type": "code",
   "execution_count": 15,
   "metadata": {},
   "outputs": [
    {
     "name": "stdout",
     "output_type": "stream",
     "text": [
      "gcd_1: 3\n"
     ]
    }
   ],
   "source": [
    "# greatest common divisor\n",
    "gcd_1 = np.gcd(48, 81)\n",
    "\n",
    "# log\n",
    "print(f\"gcd_1: {gcd_1}\")"
   ]
  },
  {
   "cell_type": "markdown",
   "metadata": {},
   "source": [
    "## Arithmetic operations"
   ]
  },
  {
   "cell_type": "code",
   "execution_count": 16,
   "metadata": {},
   "outputs": [
    {
     "name": "stdout",
     "output_type": "stream",
     "text": [
      "add_1          : [5 6 7 8]\n",
      "add_2          : [4 6 4 6]\n",
      "subtract_1     : [-3 -2 -1  0]\n",
      "subtract_2     : [-2 -2  2  2]\n",
      "multiply_1     : [ 4  8 12 16]\n",
      "multiply_2     : [3 8 3 8]\n",
      "divide_1       : [0.25 0.5  0.75 1.  ]\n",
      "divide_2       : [0.33333333 0.5        3.         2.        ]\n",
      "power_1        : [  1  16  81 256]\n",
      "power_2        : [ 1 16  3 16]\n",
      "negative_1     : [-1 -2 -3 -4]\n",
      "negative_2     : [-3 -4 -1 -2]\n",
      "floor_divide_1 : [0 0 0 1]\n",
      "floor_divide_2 : [0 0 3 2]\n",
      "remainder_1    : [1 2 3 0]\n",
      "remainder_2    : [1 2 0 0]\n",
      "divmod_1       : (array([0, 0, 0, 1]), array([1, 2, 3, 0]))\n",
      "divmod_2       : (array([0, 0, 3, 2]), array([1, 2, 0, 0]))\n"
     ]
    }
   ],
   "source": [
    "scalar = 4\n",
    "arr_1d_13 = np.array([1, 2, 3, 4])\n",
    "arr_1d_14 = np.array([3, 4, 1, 2])\n",
    "\n",
    "# add (element-wise)\n",
    "add_1 = np.add(arr_1d_13, scalar)     # arr_1d_13 + scalar\n",
    "add_2 = np.add(arr_1d_13, arr_1d_14)  # arr_1d_13 + arr_1d_14\n",
    "\n",
    "# subtract (element-wise)\n",
    "subtract_1 = np.subtract(arr_1d_13, scalar)     # arr_1d_13 - scalar\n",
    "subtract_2 = np.subtract(arr_1d_13, arr_1d_14)  # arr_1d_13 - arr_1d_14\n",
    "\n",
    "# multiply (element-wise)\n",
    "multiply_1 = np.multiply(arr_1d_13, scalar)     # arr_1d_13 * scalar\n",
    "multiply_2 = np.multiply(arr_1d_13, arr_1d_14)  # arr_1d_13 * arr_1d_14\n",
    "\n",
    "# divide (element-wise)\n",
    "divide_1 = np.divide(arr_1d_13, scalar)     # arr_1d_13 / scalar\n",
    "divide_2 = np.divide(arr_1d_13, arr_1d_14)  # arr_1d_13 / arr_1d_14\n",
    "\n",
    "# power (element-wise)\n",
    "power_1 = np.power(arr_1d_13, scalar)     # arr_1d_13 ** scalar\n",
    "power_2 = np.power(arr_1d_13, arr_1d_14)  # arr_1d_13 ** arr_1d_14\n",
    "\n",
    "# negative (element-wise)\n",
    "negative_1 = np.negative(arr_1d_13)  # -arr_1d_13\n",
    "negative_2 = np.negative(arr_1d_14)  # -arr_1d_14\n",
    "\n",
    "# floor_divide (element-wise)\n",
    "floor_divide_1 = np.floor_divide(arr_1d_13, scalar)     # arr_1d_13 // scalar\n",
    "floor_divide_2 = np.floor_divide(arr_1d_13, arr_1d_14)  # arr_1d_13 // arr_1d_14\n",
    "\n",
    "# remainder (element-wise) [equal to np.mod]\n",
    "remainder_1 = np.remainder(arr_1d_13, scalar)     # arr_1d_13 % scalar\n",
    "remainder_2 = np.remainder(arr_1d_13, arr_1d_14)  # arr_1d_13 % arr_1d_14\n",
    "\n",
    "# divmod (element-wise)\n",
    "divmod_1 = np.divmod(arr_1d_13, scalar)\n",
    "divmod_2 = np.divmod(arr_1d_13, arr_1d_14)\n",
    "\n",
    "\n",
    "# log\n",
    "print(f\"add_1          : {add_1}\")\n",
    "print(f\"add_2          : {add_2}\")\n",
    "print(f\"subtract_1     : {subtract_1}\")\n",
    "print(f\"subtract_2     : {subtract_2}\")\n",
    "print(f\"multiply_1     : {multiply_1}\")\n",
    "print(f\"multiply_2     : {multiply_2}\")\n",
    "print(f\"divide_1       : {divide_1}\")\n",
    "print(f\"divide_2       : {divide_2}\")\n",
    "print(f\"power_1        : {power_1}\")\n",
    "print(f\"power_2        : {power_2}\")\n",
    "print(f\"negative_1     : {negative_1}\")\n",
    "print(f\"negative_2     : {negative_2}\")\n",
    "print(f\"floor_divide_1 : {floor_divide_1}\")\n",
    "print(f\"floor_divide_2 : {floor_divide_2}\")\n",
    "print(f\"remainder_1    : {remainder_1}\")\n",
    "print(f\"remainder_2    : {remainder_2}\")\n",
    "print(f\"divmod_1       : {divmod_1}\")\n",
    "print(f\"divmod_2       : {divmod_2}\")"
   ]
  },
  {
   "cell_type": "markdown",
   "metadata": {},
   "source": [
    "## Handling complex numbers"
   ]
  },
  {
   "cell_type": "code",
   "execution_count": 17,
   "metadata": {},
   "outputs": [
    {
     "name": "stdout",
     "output_type": "stream",
     "text": [
      "real_1 : [ 1. -0.  2.  2.]\n",
      "imag_1 : [ 2. -1.  0. -1.]\n",
      "conj_1 : [ 1.-2.j -0.+1.j  2.-0.j  2.+1.j]\n",
      "angle_1: [ 1.10714872 -1.57079633  0.         -0.46364761]\n"
     ]
    }
   ],
   "source": [
    "arr_1d_15 = np.array([1+2j, -1j, 2, 2-1j])\n",
    "\n",
    "# real\n",
    "real_1 = np.real(arr_1d_15)\n",
    "\n",
    "# imag\n",
    "imag_1 = np.imag(arr_1d_15)\n",
    "\n",
    "# conjugate\n",
    "conj_1 = np.conjugate(arr_1d_15)\n",
    "\n",
    "# angle\n",
    "angle_1 = np.angle(arr_1d_15)\n",
    "\n",
    "# log\n",
    "print(f\"real_1 : {real_1}\")\n",
    "print(f\"imag_1 : {imag_1}\")\n",
    "print(f\"conj_1 : {conj_1}\")\n",
    "print(f\"angle_1: {angle_1}\")"
   ]
  },
  {
   "cell_type": "markdown",
   "metadata": {},
   "source": [
    "## Extrema finding"
   ]
  },
  {
   "cell_type": "code",
   "execution_count": 18,
   "metadata": {},
   "outputs": [
    {
     "name": "stdout",
     "output_type": "stream",
     "text": [
      "arr_1d_16: [0.77395605 0.43887844 0.85859792 0.69736803 0.09417735]\n",
      "arr_1d_17: [0.97562235 0.7611397  0.78606431 0.12811363 0.45038594]\n",
      "\n",
      "max_1     : 0.8585979199113825\n",
      "max_2     : 0.9756223516367559\n",
      "min_1     : 0.09417734788764953\n",
      "min_2     : 0.12811363267554587\n",
      "maximum_1 : [0.77395605 0.5        0.85859792 0.69736803 0.5       ]\n",
      "maximum_2 : [0.97562235 0.7611397  0.85859792 0.69736803 0.45038594]\n",
      "minimum_1 : [0.5        0.43887844 0.5        0.5        0.09417735]\n",
      "minimum_2 : [0.77395605 0.43887844 0.78606431 0.12811363 0.09417735]\n"
     ]
    }
   ],
   "source": [
    "arr_1d_16 = rng.random(size=5)\n",
    "arr_1d_17 = rng.random(size=5)\n",
    "\n",
    "# max\n",
    "max_1 = np.max(arr_1d_16)\n",
    "max_2 = np.max(arr_1d_17)\n",
    "\n",
    "# min\n",
    "min_1 = np.min(arr_1d_16)\n",
    "min_2 = np.min(arr_1d_17)\n",
    "\n",
    "# maximum\n",
    "maximum_1 = np.maximum(arr_1d_16, 0.5)\n",
    "maximum_2 = np.maximum(arr_1d_16, arr_1d_17)\n",
    "\n",
    "# minimum\n",
    "minimum_1 = np.minimum(arr_1d_16, 0.5)\n",
    "minimum_2 = np.minimum(arr_1d_16, arr_1d_17)\n",
    "\n",
    "# log\n",
    "print(f\"arr_1d_16: {arr_1d_16}\")\n",
    "print(f\"arr_1d_17: {arr_1d_17}\", end='\\n\\n')\n",
    "print(f\"max_1     : {max_1}\")\n",
    "print(f\"max_2     : {max_2}\")\n",
    "print(f\"min_1     : {min_1}\")\n",
    "print(f\"min_2     : {min_2}\")\n",
    "print(f\"maximum_1 : {maximum_1}\")\n",
    "print(f\"maximum_2 : {maximum_2}\")\n",
    "print(f\"minimum_1 : {minimum_1}\")\n",
    "print(f\"minimum_2 : {minimum_2}\")"
   ]
  },
  {
   "cell_type": "markdown",
   "metadata": {},
   "source": [
    "## Miscellaneous"
   ]
  },
  {
   "cell_type": "code",
   "execution_count": 19,
   "metadata": {},
   "outputs": [
    {
     "name": "stdout",
     "output_type": "stream",
     "text": [
      "sqrt_1: [11.13552873 23.10844002 15.29705854 11.09053651]\n",
      "cbrt_1: [4.98663095 8.11298025 6.16224015 4.97318983]\n"
     ]
    }
   ],
   "source": [
    "arr_1d_18 = np.array([124, 534, 234, 123])\n",
    "\n",
    "# sqrt\n",
    "sqrt_1 = np.sqrt(arr_1d_18)\n",
    "\n",
    "# cbrt\n",
    "cbrt_1 = np.cbrt(arr_1d_18)\n",
    "\n",
    "\n",
    "# log\n",
    "print(f\"sqrt_1: {sqrt_1}\")\n",
    "print(f\"cbrt_1: {cbrt_1}\")"
   ]
  },
  {
   "cell_type": "code",
   "execution_count": 20,
   "metadata": {},
   "outputs": [
    {
     "name": "stdout",
     "output_type": "stream",
     "text": [
      "arr_1d_19: [-0.12920198  0.42676499  0.14386512  0.32276161 -0.0565858 ]\n",
      "\n",
      "absolute_1: [0.12920198 0.42676499 0.14386512 0.32276161 0.0565858 ]\n",
      "sign_1    : [-1.  1.  1.  1. -1.]\n"
     ]
    }
   ],
   "source": [
    "arr_1d_19 = rng.random(size=5) - .5\n",
    "\n",
    "# absolute\n",
    "absolute_1 = np.absolute(arr_1d_19)\n",
    "\n",
    "# sign\n",
    "sign_1 = np.sign(arr_1d_19)\n",
    "\n",
    "# log\n",
    "print(f\"arr_1d_19: {arr_1d_19}\", end='\\n\\n')\n",
    "print(f\"absolute_1: {absolute_1}\")\n",
    "print(f\"sign_1    : {sign_1}\")"
   ]
  },
  {
   "cell_type": "code",
   "execution_count": 21,
   "metadata": {},
   "outputs": [
    {
     "name": "stdout",
     "output_type": "stream",
     "text": [
      "convolve_1: [0.  1.  2.5 4.  1.5]\n",
      "convolve_2: [1.  2.5 4. ]\n",
      "convolve_3: [2.5]\n"
     ]
    }
   ],
   "source": [
    "signal = np.array([1, 2, 3])\n",
    "filter = np.array([0, 1, 0.5])\n",
    "\n",
    "# convolve\n",
    "convolve_1 = np.convolve(signal, filter)                 # signal = [0, 0, 1, 2, 3, 0, 0]\n",
    "convolve_2 = np.convolve(signal, filter, mode= 'same')   # signal = [0, 1, 2, 3, 0]\n",
    "convolve_3 = np.convolve(signal, filter, mode= 'valid')  # signal = [1, 2, 3]\n",
    "\n",
    "# log\n",
    "print(f\"convolve_1: {convolve_1}\")\n",
    "print(f\"convolve_2: {convolve_2}\")\n",
    "print(f\"convolve_3: {convolve_3}\")"
   ]
  },
  {
   "cell_type": "code",
   "execution_count": 22,
   "metadata": {},
   "outputs": [
    {
     "name": "stdout",
     "output_type": "stream",
     "text": [
      "clip_1: [-2 -2  0  2  2]\n"
     ]
    }
   ],
   "source": [
    "arr_1d_20 = np.array([-5, -3, 0, 3, 5])\n",
    "\n",
    "# clip\n",
    "clip_1 = np.clip(arr_1d_20, -2, 2)\n",
    "\n",
    "# log\n",
    "print(f\"clip_1: {clip_1}\")"
   ]
  }
 ],
 "metadata": {
  "kernelspec": {
   "display_name": "Python 3",
   "language": "python",
   "name": "python3"
  },
  "language_info": {
   "codemirror_mode": {
    "name": "ipython",
    "version": 3
   },
   "file_extension": ".py",
   "mimetype": "text/x-python",
   "name": "python",
   "nbconvert_exporter": "python",
   "pygments_lexer": "ipython3",
   "version": "3.12.3"
  }
 },
 "nbformat": 4,
 "nbformat_minor": 2
}
