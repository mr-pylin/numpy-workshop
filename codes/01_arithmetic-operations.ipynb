{
 "cells": [
  {
   "cell_type": "markdown",
   "metadata": {},
   "source": [
    "# Dependencies"
   ]
  },
  {
   "cell_type": "code",
   "execution_count": 1,
   "metadata": {},
   "outputs": [],
   "source": [
    "import numpy as np"
   ]
  },
  {
   "cell_type": "markdown",
   "metadata": {},
   "source": [
    "# NumPy - Arithmetic Operations\n",
    "Doc:\n",
    "   - [numpy.org/doc/stable/reference/routines.math.html#arithmetic-operations](https://numpy.org/doc/stable/reference/routines.math.html#arithmetic-operations)"
   ]
  },
  {
   "cell_type": "markdown",
   "metadata": {},
   "source": [
    "## Array & Scalar\n",
    "Broadcasting:\n",
    "   - It allows arrays of different shapes to be used together in arithmetic operations\n",
    "   - The smaller array is “broadcast” across the larger array so that they have compatible shapes"
   ]
  },
  {
   "cell_type": "code",
   "execution_count": 2,
   "metadata": {},
   "outputs": [
    {
     "name": "stdout",
     "output_type": "stream",
     "text": [
      "aso_1 : [3 4 5 6]\n",
      "aso_2 : [0 1 2 3]\n",
      "aso_3 : [2 4 6 8]\n",
      "aso_4 : [0.5 1.  1.5 2. ]\n",
      "aso_5 : [0 1 1 2]\n",
      "aso_6 : [ 1  4  9 16]\n",
      "aso_7 : [1 0 1 0]\n"
     ]
    }
   ],
   "source": [
    "arr_1d_1 = np.array([1, 2, 3, 4])\n",
    "\n",
    "aso_1 = arr_1d_1 + 2   # np.add\n",
    "aso_2 = arr_1d_1 - 1   # np.subtract\n",
    "aso_3 = arr_1d_1 * 2   # np.multiply\n",
    "aso_4 = arr_1d_1 / 2   # np.divide\n",
    "aso_5 = arr_1d_1 // 2  # np.floor_divide\n",
    "aso_6 = arr_1d_1 ** 2  # np.power\n",
    "aso_7 = arr_1d_1 % 2   # np.mod | np.remainder\n",
    "\n",
    "# log\n",
    "for i in range(1, 8):\n",
    "    print(f\"aso_{i} : {eval(f'aso_{i}')}\", end='\\n')"
   ]
  },
  {
   "cell_type": "code",
   "execution_count": 3,
   "metadata": {},
   "outputs": [
    {
     "name": "stdout",
     "output_type": "stream",
     "text": [
      "aso_8 :\n",
      "[[3 4]\n",
      " [5 6]]\n",
      "\n",
      "aso_9 :\n",
      "[[0 1]\n",
      " [2 3]]\n",
      "\n",
      "aso_10 :\n",
      "[[2 4]\n",
      " [6 8]]\n",
      "\n",
      "aso_11 :\n",
      "[[0.5 1. ]\n",
      " [1.5 2. ]]\n",
      "\n",
      "aso_12 :\n",
      "[[0 1]\n",
      " [1 2]]\n",
      "\n",
      "aso_13 :\n",
      "[[ 1  4]\n",
      " [ 9 16]]\n",
      "\n",
      "aso_14 :\n",
      "[[1 0]\n",
      " [1 0]]\n",
      "\n"
     ]
    }
   ],
   "source": [
    "arr_2d_1 = np.array([[1, 2], [3, 4]])\n",
    "\n",
    "aso_8 = arr_2d_1 + 2\n",
    "aso_9 = arr_2d_1 - 1\n",
    "aso_10 = arr_2d_1 * 2\n",
    "aso_11 = arr_2d_1 / 2\n",
    "aso_12 = arr_2d_1 // 2\n",
    "aso_13 = arr_2d_1 ** 2\n",
    "aso_14 = arr_2d_1 % 2\n",
    "\n",
    "# log\n",
    "for i in range(8, 15):\n",
    "    print(f\"aso_{i} :\\n{eval(f'aso_{i}')}\", end='\\n\\n')"
   ]
  },
  {
   "cell_type": "markdown",
   "metadata": {},
   "source": [
    "## Array & Array\n",
    "   - Operations are element-wise"
   ]
  },
  {
   "cell_type": "code",
   "execution_count": 4,
   "metadata": {},
   "outputs": [
    {
     "name": "stdout",
     "output_type": "stream",
     "text": [
      "aao_1 : [5 3 5 7]\n",
      "aao_2 : [-3  1  1  1]\n",
      "aao_3 : [ 4  2  6 12]\n",
      "aao_4 : [0.25       2.         1.5        1.33333333]\n",
      "aao_5 : [0 2 1 1]\n",
      "aao_6 : [ 1  2  9 64]\n",
      "aao_7 : [1 0 1 1]\n"
     ]
    }
   ],
   "source": [
    "arr_1d_2 = np.array([1, 2, 3, 4])\n",
    "arr_1d_3 = np.array([4, 1, 2, 3])\n",
    "\n",
    "aao_1 = arr_1d_2 + arr_1d_3\n",
    "aao_2 = arr_1d_2 - arr_1d_3\n",
    "aao_3 = arr_1d_2 * arr_1d_3\n",
    "aao_4 = arr_1d_2 / arr_1d_3\n",
    "aao_5 = arr_1d_2 // arr_1d_3\n",
    "aao_6 = arr_1d_2 ** arr_1d_3\n",
    "aao_7 = arr_1d_2 % arr_1d_3\n",
    "\n",
    "# log\n",
    "for i in range(1, 8):\n",
    "    print(f\"aao_{i} : {eval(f'aao_{i}')}\", end=\"\\n\")"
   ]
  },
  {
   "cell_type": "code",
   "execution_count": 5,
   "metadata": {},
   "outputs": [
    {
     "name": "stdout",
     "output_type": "stream",
     "text": [
      "aao_8 :\n",
      "[[3 4]\n",
      " [6 7]]\n",
      "\n",
      "aao_9 :\n",
      "[[-1  0]\n",
      " [ 0  1]]\n",
      "\n",
      "aao_10 :\n",
      "[[ 2  4]\n",
      " [ 9 12]]\n",
      "\n",
      "aao_11 :\n",
      "[[0.5        1.        ]\n",
      " [1.         1.33333333]]\n",
      "\n",
      "aao_12 :\n",
      "[[0 1]\n",
      " [1 1]]\n",
      "\n",
      "aao_13 :\n",
      "[[ 1  4]\n",
      " [27 64]]\n",
      "\n",
      "aao_14 :\n",
      "[[1 0]\n",
      " [0 1]]\n",
      "\n"
     ]
    }
   ],
   "source": [
    "arr_2d_2 = np.array([[1, 2], [3, 4]])\n",
    "arr_2d_3 = np.array([[2, 2], [3, 3]])\n",
    "\n",
    "aao_8 = arr_2d_2 + arr_2d_3\n",
    "aao_9 = arr_2d_2 - arr_2d_3\n",
    "aao_10 = arr_2d_2 * arr_2d_3\n",
    "aao_11 = arr_2d_2 / arr_2d_3\n",
    "aao_12 = arr_2d_2 // arr_2d_3\n",
    "aao_13 = arr_2d_2 ** arr_2d_3\n",
    "aao_14 = arr_2d_2 % arr_2d_3\n",
    "\n",
    "# log\n",
    "for i in range(8, 15):\n",
    "    print(f\"aao_{i} :\\n{eval(f'aao_{i}')}\", end=\"\\n\\n\")"
   ]
  }
 ],
 "metadata": {
  "kernelspec": {
   "display_name": "Python 3",
   "language": "python",
   "name": "python3"
  },
  "language_info": {
   "codemirror_mode": {
    "name": "ipython",
    "version": 3
   },
   "file_extension": ".py",
   "mimetype": "text/x-python",
   "name": "python",
   "nbconvert_exporter": "python",
   "pygments_lexer": "ipython3",
   "version": "3.12.3"
  }
 },
 "nbformat": 4,
 "nbformat_minor": 2
}
