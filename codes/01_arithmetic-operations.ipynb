{
 "cells": [
  {
   "cell_type": "markdown",
   "metadata": {},
   "source": [
    "# Dependencies"
   ]
  },
  {
   "cell_type": "code",
   "execution_count": 1,
   "metadata": {},
   "outputs": [],
   "source": [
    "import numpy as np"
   ]
  },
  {
   "cell_type": "code",
   "execution_count": 2,
   "metadata": {},
   "outputs": [],
   "source": [
    "# prevent printing the returned object in each cell\n",
    "from IPython.core.interactiveshell import InteractiveShell\n",
    "InteractiveShell.ast_node_interactivity = 'none'"
   ]
  },
  {
   "cell_type": "markdown",
   "metadata": {},
   "source": [
    "# NumPy - Arithmetic Operations\n",
    "Doc:\n",
    "   - [numpy.org/doc/stable/reference/routines.math.html#arithmetic-operations](https://numpy.org/doc/stable/reference/routines.math.html#arithmetic-operations)"
   ]
  },
  {
   "cell_type": "markdown",
   "metadata": {},
   "source": [
    "## Array & Scalar\n",
    "Broadcasting:\n",
    "   - It allows arrays of different shapes to be used together in arithmetic operations\n",
    "   - The smaller array is “broadcast” across the larger array so that they have compatible shapes"
   ]
  },
  {
   "cell_type": "code",
   "execution_count": 7,
   "metadata": {},
   "outputs": [
    {
     "name": "stdout",
     "output_type": "stream",
     "text": [
      "aso1 : [3 4 5 6]\n",
      "aso2 : [0 1 2 3]\n",
      "aso3 : [2 4 6 8]\n",
      "aso4 : [0.5 1.  1.5 2. ]\n",
      "aso5 : [0 1 1 2]\n",
      "aso6 : [ 1  4  9 16]\n",
      "aso7 : [1 0 1 0]\n"
     ]
    }
   ],
   "source": [
    "arr_1 = np.array([1, 2, 3, 4])\n",
    "\n",
    "aso1 = arr_1 + 2\n",
    "aso2 = arr_1 - 1\n",
    "aso3 = arr_1 * 2\n",
    "aso4 = arr_1 / 2\n",
    "aso5 = arr_1 // 2\n",
    "aso6 = arr_1 ** 2\n",
    "aso7 = arr_1 % 2\n",
    "\n",
    "# log\n",
    "for i in range(1, 8):\n",
    "    print(f\"aso{i} : {eval(f'aso{i}')}\", end='\\n')"
   ]
  },
  {
   "cell_type": "code",
   "execution_count": 9,
   "metadata": {},
   "outputs": [
    {
     "name": "stdout",
     "output_type": "stream",
     "text": [
      "aso8 :\n",
      "[[3 4]\n",
      " [5 6]]\n",
      "\n",
      "aso9 :\n",
      "[[0 1]\n",
      " [2 3]]\n",
      "\n",
      "aso10 :\n",
      "[[2 4]\n",
      " [6 8]]\n",
      "\n",
      "aso11 :\n",
      "[[0.5 1. ]\n",
      " [1.5 2. ]]\n",
      "\n",
      "aso12 :\n",
      "[[0 1]\n",
      " [1 2]]\n",
      "\n",
      "aso13 :\n",
      "[[ 1  4]\n",
      " [ 9 16]]\n",
      "\n",
      "aso14 :\n",
      "[[1 0]\n",
      " [1 0]]\n",
      "\n"
     ]
    }
   ],
   "source": [
    "arr_2 = np.array([[1, 2], [3, 4]])\n",
    "\n",
    "aso8 = arr_2 + 2\n",
    "aso9 = arr_2 - 1\n",
    "aso10 = arr_2 * 2\n",
    "aso11 = arr_2 / 2\n",
    "aso12 = arr_2 // 2\n",
    "aso13 = arr_2 ** 2\n",
    "aso14 = arr_2 % 2\n",
    "\n",
    "# log\n",
    "for i in range(8, 15):\n",
    "    print(f\"aso{i} :\\n{eval(f'aso{i}')}\", end='\\n\\n')"
   ]
  },
  {
   "cell_type": "markdown",
   "metadata": {},
   "source": [
    "## Array & Array"
   ]
  },
  {
   "cell_type": "code",
   "execution_count": 12,
   "metadata": {},
   "outputs": [
    {
     "name": "stdout",
     "output_type": "stream",
     "text": [
      "aao1 : [5 3 5 7]\n",
      "aao2 : [-3  1  1  1]\n",
      "aao3 : [ 4  2  6 12]\n",
      "aao4 : [0.25       2.         1.5        1.33333333]\n",
      "aao5 : [0 2 1 1]\n",
      "aao6 : [ 1  2  9 64]\n",
      "aao7 : [1 0 1 1]\n"
     ]
    }
   ],
   "source": [
    "arr_1 = np.array([1, 2, 3, 4])\n",
    "arr_2 = np.array([4, 1, 2, 3])\n",
    "\n",
    "aao1 = arr_1 + arr_2\n",
    "aao2 = arr_1 - arr_2\n",
    "aao3 = arr_1 * arr_2\n",
    "aao4 = arr_1 / arr_2\n",
    "aao5 = arr_1 // arr_2\n",
    "aao6 = arr_1 ** arr_2\n",
    "aao7 = arr_1 % arr_2\n",
    "\n",
    "# log\n",
    "for i in range(1, 8):\n",
    "    print(f\"aao{i} : {eval(f'aao{i}')}\", end=\"\\n\")"
   ]
  },
  {
   "cell_type": "code",
   "execution_count": 13,
   "metadata": {},
   "outputs": [
    {
     "name": "stdout",
     "output_type": "stream",
     "text": [
      "aao8 :\n",
      "[[3 4]\n",
      " [6 7]]\n",
      "\n",
      "aao9 :\n",
      "[[-1  0]\n",
      " [ 0  1]]\n",
      "\n",
      "aao10 :\n",
      "[[ 2  4]\n",
      " [ 9 12]]\n",
      "\n",
      "aao11 :\n",
      "[[0.5        1.        ]\n",
      " [1.         1.33333333]]\n",
      "\n",
      "aao12 :\n",
      "[[0 1]\n",
      " [1 1]]\n",
      "\n",
      "aao13 :\n",
      "[[ 1  4]\n",
      " [27 64]]\n",
      "\n",
      "aao14 :\n",
      "[[1 0]\n",
      " [0 1]]\n",
      "\n"
     ]
    }
   ],
   "source": [
    "arr_3 = np.array([[1, 2], [3, 4]])\n",
    "arr_4 = np.array([[2, 2], [3, 3]])\n",
    "\n",
    "aao8 = arr_3 + arr_4\n",
    "aao9 = arr_3 - arr_4\n",
    "aao10 = arr_3 * arr_4\n",
    "aao11 = arr_3 / arr_4\n",
    "aao12 = arr_3 // arr_4\n",
    "aao13 = arr_3 ** arr_4\n",
    "aao14 = arr_3 % arr_4\n",
    "\n",
    "# log\n",
    "for i in range(8, 15):\n",
    "    print(f\"aao{i} :\\n{eval(f'aao{i}')}\", end=\"\\n\\n\")"
   ]
  }
 ],
 "metadata": {
  "kernelspec": {
   "display_name": "Python 3",
   "language": "python",
   "name": "python3"
  },
  "language_info": {
   "codemirror_mode": {
    "name": "ipython",
    "version": 3
   },
   "file_extension": ".py",
   "mimetype": "text/x-python",
   "name": "python",
   "nbconvert_exporter": "python",
   "pygments_lexer": "ipython3",
   "version": "3.12.3"
  }
 },
 "nbformat": 4,
 "nbformat_minor": 2
}
