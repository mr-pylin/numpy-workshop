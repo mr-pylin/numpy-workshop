{
 "cells": [
  {
   "cell_type": "markdown",
   "metadata": {},
   "source": [
    "📝 **Author:** Amirhossein Heydari - 📧 **Email:** AmirhosseinHeydari78@gmail.com - 📍 **Linktree:** [linktr.ee/mr_pylin](https://linktr.ee/mr_pylin)\n",
    "\n",
    "---"
   ]
  },
  {
   "cell_type": "markdown",
   "metadata": {},
   "source": [
    "# Dependencies"
   ]
  },
  {
   "cell_type": "code",
   "execution_count": 1,
   "metadata": {},
   "outputs": [],
   "source": [
    "import numpy as np"
   ]
  },
  {
   "cell_type": "markdown",
   "metadata": {},
   "source": [
    "# NumPy - NdArray Properties\n",
    "Docs:\n",
    "   - [numpy.org/doc/stable/reference/generated/numpy.ndarray.html](https://numpy.org/doc/stable/reference/generated/numpy.ndarray.html)"
   ]
  },
  {
   "cell_type": "code",
   "execution_count": 2,
   "metadata": {},
   "outputs": [
    {
     "name": "stdout",
     "output_type": "stream",
     "text": [
      "arr_1d_1.shape  : (7,)\n",
      "arr_1d_1.dtype  : int64\n",
      "arr_1d_1.size   : 7\n",
      "arr_1d_1.ndim   : 1\n",
      "arr_1d_1.T      : [1 2 3 4 5 6 7]\n",
      "arr_1d_1.nbytes : 56\n",
      "arr_1d_1.real   : [1 2 3 4 5 6 7]\n",
      "arr_1d_1.imag   : [0 0 0 0 0 0 0]\n"
     ]
    }
   ],
   "source": [
    "arr_1d_1 = np.array([1, 2, 3, 4, 5, 6, 7])\n",
    "\n",
    "# ndarray properties\n",
    "shape_1 = arr_1d_1.shape\n",
    "dtype_1 = arr_1d_1.dtype\n",
    "size_1 = arr_1d_1.size\n",
    "ndim_1 = arr_1d_1.ndim\n",
    "T_1 = arr_1d_1.T\n",
    "nbytes_1 = arr_1d_1.nbytes\n",
    "real_1 = arr_1d_1.real\n",
    "imag_1 = arr_1d_1.imag\n",
    "\n",
    "# log\n",
    "print(f\"arr_1d_1.shape  : {shape_1}\")\n",
    "print(f\"arr_1d_1.dtype  : {dtype_1}\")\n",
    "print(f\"arr_1d_1.size   : {size_1}\")\n",
    "print(f\"arr_1d_1.ndim   : {ndim_1}\")\n",
    "print(f\"arr_1d_1.T      : {T_1}\")\n",
    "print(f\"arr_1d_1.nbytes : {nbytes_1}\")\n",
    "print(f\"arr_1d_1.real   : {real_1}\")\n",
    "print(f\"arr_1d_1.imag   : {imag_1}\")"
   ]
  },
  {
   "cell_type": "code",
   "execution_count": 3,
   "metadata": {},
   "outputs": [
    {
     "name": "stdout",
     "output_type": "stream",
     "text": [
      "arr_2d_1.shape : (2, 4)\n",
      "arr_2d_1.dtype : int64\n",
      "arr_2d_1.size  : 8\n",
      "arr_2d_1.ndim  : 2\n",
      "arr_2d_1.T      : [[1 3]\n",
      " [4 1]\n",
      " [3 4]\n",
      " [2 2]]\n",
      "arr_2d_1.nbytes : 64\n",
      "arr_2d_1.real   : [[1 4 3 2]\n",
      " [3 1 4 2]]\n",
      "arr_2d_1.imag   : [[0 0 0 0]\n",
      " [0 0 0 0]]\n"
     ]
    }
   ],
   "source": [
    "arr_2d_1 = np.array([[1, 4, 3, 2], [3, 1, 4, 2]])\n",
    "\n",
    "# ndarray properties\n",
    "shape_2 = arr_2d_1.shape\n",
    "dtype_2 = arr_2d_1.dtype\n",
    "size_2 = arr_2d_1.size\n",
    "ndim_2 = arr_2d_1.ndim\n",
    "T_2 = arr_2d_1.T\n",
    "nbytes_2 = arr_2d_1.nbytes\n",
    "real_2 = arr_2d_1.real\n",
    "imag_2 = arr_2d_1.imag\n",
    "\n",
    "# log\n",
    "print(f\"arr_2d_1.shape : {shape_2}\")\n",
    "print(f\"arr_2d_1.dtype : {dtype_2}\")\n",
    "print(f\"arr_2d_1.size  : {size_2}\")\n",
    "print(f\"arr_2d_1.ndim  : {ndim_2}\")\n",
    "print(f\"arr_2d_1.T      : {T_2}\")\n",
    "print(f\"arr_2d_1.nbytes : {nbytes_2}\")\n",
    "print(f\"arr_2d_1.real   : {real_2}\")\n",
    "print(f\"arr_2d_1.imag   : {imag_2}\")"
   ]
  },
  {
   "cell_type": "markdown",
   "metadata": {},
   "source": [
    "# NumPy - NdArray Methods\n",
    "Docs:\n",
    "   - https://numpy.org/doc/stable/reference/generated/numpy.ndarray.html"
   ]
  },
  {
   "cell_type": "markdown",
   "metadata": {},
   "source": [
    "## min\n",
    "   - Return the minimum along a given axis.\n",
    "   - ```python\n",
    "      numpy.ndarray.min(axis, ...)\n",
    "      ```"
   ]
  },
  {
   "cell_type": "code",
   "execution_count": 4,
   "metadata": {},
   "outputs": [
    {
     "name": "stdout",
     "output_type": "stream",
     "text": [
      "min_1: 1\n",
      "min_2: [5 2 1 3]\n",
      "min_3: [1 2]\n"
     ]
    }
   ],
   "source": [
    "arr_2d_2 = np.array([[5, 7, 1, 6], [9, 2, 4, 3]])\n",
    "\n",
    "# min\n",
    "min_1 = arr_2d_2.min()\n",
    "min_2 = arr_2d_2.min(0)\n",
    "min_3 = arr_2d_2.min(1)\n",
    "\n",
    "# log\n",
    "print(f\"min_1: {min_1}\")\n",
    "print(f\"min_2: {min_2}\")\n",
    "print(f\"min_3: {min_3}\")"
   ]
  },
  {
   "cell_type": "markdown",
   "metadata": {},
   "source": [
    "## max\n",
    "   - Return the maximum along a given axis.\n",
    "   - ```python\n",
    "     numpy.ndarray.max(axis, ...)\n",
    "     ```"
   ]
  },
  {
   "cell_type": "code",
   "execution_count": 5,
   "metadata": {},
   "outputs": [
    {
     "name": "stdout",
     "output_type": "stream",
     "text": [
      "max_1: 9\n",
      "max_2: [9 7 4 6]\n",
      "max_3: [7 9]\n"
     ]
    }
   ],
   "source": [
    "arr_2d_3 = np.array([[5, 7, 1, 6], [9, 2, 4, 3]])\n",
    "\n",
    "# max\n",
    "max_1 = arr_2d_3.max(axis=None)\n",
    "max_2 = arr_2d_3.max(axis=0)\n",
    "max_3 = arr_2d_3.max(axis=1)\n",
    "\n",
    "# log\n",
    "print(f\"max_1: {max_1}\")\n",
    "print(f\"max_2: {max_2}\")\n",
    "print(f\"max_3: {max_3}\")"
   ]
  },
  {
   "cell_type": "markdown",
   "metadata": {},
   "source": [
    "## argmin\n",
    "   - Return indices of the min values along a given axis.\n",
    "   - ```python\n",
    "     numpy.ndarray.argmin(axis, ...)\n",
    "     ```"
   ]
  },
  {
   "cell_type": "code",
   "execution_count": 6,
   "metadata": {},
   "outputs": [
    {
     "name": "stdout",
     "output_type": "stream",
     "text": [
      "argmin_1: 2\n",
      "argmin_2: [0 1 0 1]\n",
      "argmin_3: [2 1]\n"
     ]
    }
   ],
   "source": [
    "arr_2d_4 = np.array([[5, 7, 1, 6], [9, 2, 4, 3]])\n",
    "\n",
    "# argmin\n",
    "argmin_1 = arr_2d_4.argmin()\n",
    "argmin_2 = arr_2d_4.argmin(0)\n",
    "argmin_3 = arr_2d_4.argmin(1)\n",
    "\n",
    "# log\n",
    "print(f\"argmin_1: {argmin_1}\")\n",
    "print(f\"argmin_2: {argmin_2}\")\n",
    "print(f\"argmin_3: {argmin_3}\")"
   ]
  },
  {
   "cell_type": "markdown",
   "metadata": {},
   "source": [
    "## argmax\n",
    "   - Return indices of the max values along a given axis.\n",
    "   - ```python\n",
    "     numpy.ndarray.argmax(axis, ...)\n",
    "     ```"
   ]
  },
  {
   "cell_type": "code",
   "execution_count": 7,
   "metadata": {},
   "outputs": [
    {
     "name": "stdout",
     "output_type": "stream",
     "text": [
      "argmax_1: 4\n",
      "argmax_2: [1 0 1 0]\n",
      "argmax_3: [1 0]\n"
     ]
    }
   ],
   "source": [
    "arr_2d_5 = np.array([[5, 7, 1, 6], [9, 2, 4, 3]])\n",
    "\n",
    "# argmax\n",
    "argmax_1 = arr_2d_5.argmax(axis=None)\n",
    "argmax_2 = arr_2d_5.argmax(axis=0)\n",
    "argmax_3 = arr_2d_5.argmax(axis=1)\n",
    "\n",
    "# log\n",
    "print(f\"argmax_1: {argmax_1}\")\n",
    "print(f\"argmax_2: {argmax_2}\")\n",
    "print(f\"argmax_3: {argmax_3}\")"
   ]
  },
  {
   "cell_type": "markdown",
   "metadata": {},
   "source": [
    "## sum\n",
    "   - Return the sum along a given axis.\n",
    "   - ```python\n",
    "     numpy.ndarray.sum(axis, ...)\n",
    "     ```"
   ]
  },
  {
   "cell_type": "code",
   "execution_count": 8,
   "metadata": {},
   "outputs": [
    {
     "name": "stdout",
     "output_type": "stream",
     "text": [
      "sum_1: 36\n",
      "sum_2: [ 6  8 10 12]\n",
      "sum_3: [10 26]\n"
     ]
    }
   ],
   "source": [
    "arr_2d_6 = np.array([[1, 2, 3, 4], [5, 6, 7, 8]])\n",
    "\n",
    "# sum\n",
    "sum_1 = arr_2d_6.sum()\n",
    "sum_2 = arr_2d_6.sum(0)\n",
    "sum_3 = arr_2d_6.sum(1)\n",
    "\n",
    "# log\n",
    "print(f\"sum_1: {sum_1}\")\n",
    "print(f\"sum_2: {sum_2}\")\n",
    "print(f\"sum_3: {sum_3}\")"
   ]
  },
  {
   "cell_type": "markdown",
   "metadata": {},
   "source": [
    "## mean\n",
    "   - Return the average along a given axis.\n",
    "   - ```python\n",
    "     numpy.ndarray.mean(axis, ...)\n",
    "     ```"
   ]
  },
  {
   "cell_type": "code",
   "execution_count": 9,
   "metadata": {},
   "outputs": [
    {
     "name": "stdout",
     "output_type": "stream",
     "text": [
      "mean_1: 4.5\n",
      "mean_2: [3. 4. 5. 6.]\n",
      "mean_3: [2.5 6.5]\n"
     ]
    }
   ],
   "source": [
    "arr_2d_7 = np.array([[1, 2, 3, 4], [5, 6, 7, 8]])\n",
    "\n",
    "# mean\n",
    "mean_1 = arr_2d_7.mean()\n",
    "mean_2 = arr_2d_7.mean(0)\n",
    "mean_3 = arr_2d_7.mean(1)\n",
    "\n",
    "# log\n",
    "print(f\"mean_1: {mean_1}\")\n",
    "print(f\"mean_2: {mean_2}\")\n",
    "print(f\"mean_3: {mean_3}\")"
   ]
  },
  {
   "cell_type": "markdown",
   "metadata": {},
   "source": [
    "## var\n",
    "   - Return the variance along a given axis.\n",
    "   - ```python\n",
    "     numpy.ndarray.var(axis, ...)\n",
    "     ```"
   ]
  },
  {
   "cell_type": "code",
   "execution_count": 10,
   "metadata": {},
   "outputs": [
    {
     "name": "stdout",
     "output_type": "stream",
     "text": [
      "var_1: 5.25\n",
      "var_2: [4. 4. 4. 4.]\n",
      "var_3: [1.25 1.25]\n"
     ]
    }
   ],
   "source": [
    "arr_2d_8 = np.array([[1, 2, 3, 4], [5, 6, 7, 8]])\n",
    "\n",
    "# variance\n",
    "var_1 = arr_2d_8.var()\n",
    "var_2 = arr_2d_8.var(0)\n",
    "var_3 = arr_2d_8.var(1)\n",
    "\n",
    "# log\n",
    "print(f\"var_1: {var_1}\")\n",
    "print(f\"var_2: {var_2}\")\n",
    "print(f\"var_3: {var_3}\")"
   ]
  },
  {
   "cell_type": "markdown",
   "metadata": {},
   "source": [
    "## std\n",
    "   - Return the standard deviation along a given axis.\n",
    "   - ```python\n",
    "     numpy.ndarray.std(axis, ...)\n",
    "     ```"
   ]
  },
  {
   "cell_type": "code",
   "execution_count": 11,
   "metadata": {},
   "outputs": [
    {
     "name": "stdout",
     "output_type": "stream",
     "text": [
      "std_1: 2.29128784747792\n",
      "std_2: [2. 2. 2. 2.]\n",
      "std_3: [1.11803399 1.11803399]\n"
     ]
    }
   ],
   "source": [
    "arr_2d_9 = np.array([[1, 2, 3, 4], [5, 6, 7, 8]])\n",
    "\n",
    "# standard deviation\n",
    "std_1 = arr_2d_9.std(axis=None)\n",
    "std_2 = arr_2d_9.std(axis=0)\n",
    "std_3 = arr_2d_9.std(axis=1)\n",
    "\n",
    "# log\n",
    "print(f\"std_1: {std_1}\")\n",
    "print(f\"std_2: {std_2}\")\n",
    "print(f\"std_3: {std_3}\")"
   ]
  },
  {
   "cell_type": "markdown",
   "metadata": {},
   "source": [
    "## reshape\n",
    "   - Returns an array in a new shape.\n",
    "   - ```python\n",
    "     numpy.ndarray.reshape(shape, ...)\n",
    "     ```"
   ]
  },
  {
   "cell_type": "code",
   "execution_count": 12,
   "metadata": {},
   "outputs": [
    {
     "name": "stdout",
     "output_type": "stream",
     "text": [
      "reshape_1 :\n",
      "[1 2 3 4 5 6 7 8]\n",
      "\n",
      "reshape_2 :\n",
      "[[[1 2]\n",
      "  [3 4]]\n",
      "\n",
      " [[5 6]\n",
      "  [7 8]]]\n",
      "\n",
      "reshape_3 :\n",
      "[[[1 2 3 4]]\n",
      "\n",
      " [[5 6 7 8]]]\n"
     ]
    }
   ],
   "source": [
    "arr_2d_10 = np.array([[1, 2, 3, 4], [5, 6, 7, 8]])\n",
    "\n",
    "# reshape\n",
    "reshape_1 = arr_2d_10.reshape((8,))\n",
    "reshape_2 = arr_2d_10.reshape((2, 2, 2))\n",
    "reshape_3 = arr_2d_10.reshape((2, 1, 4))\n",
    "# reshape_4 = arr.reshape((2, 3))\n",
    "\n",
    "# log\n",
    "print(f\"reshape_1 :\\n{reshape_1}\", end='\\n\\n')\n",
    "print(f\"reshape_2 :\\n{reshape_2}\", end='\\n\\n')\n",
    "print(f\"reshape_3 :\\n{reshape_3}\")"
   ]
  },
  {
   "cell_type": "markdown",
   "metadata": {},
   "source": [
    "## resize\n",
    "   - Resizes the original array into a new shape.\n",
    "   - ```python\n",
    "     numpy.ndarray.resize(shape, ...)\n",
    "     ```"
   ]
  },
  {
   "cell_type": "code",
   "execution_count": 13,
   "metadata": {},
   "outputs": [
    {
     "name": "stdout",
     "output_type": "stream",
     "text": [
      "arr_2d_11 :\n",
      "[1 2 3 4 5 6 7 8]\n",
      "\n",
      "arr_2d_11 :\n",
      "[[[1 2]\n",
      "  [3 4]]\n",
      "\n",
      " [[5 6]\n",
      "  [7 8]]]\n",
      "\n",
      "arr_2d_11 :\n",
      "[[1 2 3]\n",
      " [4 5 6]]\n",
      "\n",
      "arr_2d_11 :\n",
      "[[1 2]\n",
      " [3 4]]\n"
     ]
    }
   ],
   "source": [
    "arr_2d_11 = np.array([[1, 2, 3, 4], [5, 6, 7, 8]])\n",
    "\n",
    "arr_2d_11.resize((8,))\n",
    "print(f\"arr_2d_11 :\\n{arr_2d_11}\", end='\\n\\n')\n",
    "\n",
    "arr_2d_11.resize((2, 2, 2))\n",
    "print(f\"arr_2d_11 :\\n{arr_2d_11}\", end='\\n\\n')\n",
    "\n",
    "arr_2d_11.resize((2, 3))\n",
    "print(f\"arr_2d_11 :\\n{arr_2d_11}\", end='\\n\\n')\n",
    "\n",
    "arr_2d_11.resize((2, 2))\n",
    "print(f\"arr_2d_11 :\\n{arr_2d_11}\")"
   ]
  },
  {
   "cell_type": "markdown",
   "metadata": {},
   "source": [
    "## copy\n",
    "   - Return a copy of the array.\n",
    "   - ```python\n",
    "     numpy.ndarray.copy(...)\n",
    "     ```"
   ]
  },
  {
   "cell_type": "code",
   "execution_count": 14,
   "metadata": {},
   "outputs": [
    {
     "name": "stdout",
     "output_type": "stream",
     "text": [
      "arr_1d_2: [9 2 3 4]\n",
      "copy_1  : [9 2 3 4]\n",
      "copy_2  : [1 2 3 4]\n"
     ]
    }
   ],
   "source": [
    "arr_1d_2 = np.array([1, 2, 3, 4])\n",
    "\n",
    "# copy\n",
    "copy_1 = arr_1d_2\n",
    "copy_2 = arr_1d_2.copy()\n",
    "\n",
    "# index assignment\n",
    "arr_1d_2[0] = 9\n",
    "\n",
    "# log\n",
    "print(f\"arr_1d_2: {arr_1d_2}\")\n",
    "print(f\"copy_1  : {copy_1}\")\n",
    "print(f\"copy_2  : {copy_2}\")"
   ]
  },
  {
   "cell_type": "code",
   "execution_count": 15,
   "metadata": {},
   "outputs": [
    {
     "name": "stdout",
     "output_type": "stream",
     "text": [
      "arr_2d_12 :\n",
      "[[3 3]\n",
      " [4 4]]\n",
      "\n",
      "copy_3 :\n",
      "[[3 3]\n",
      " [4 4]]\n",
      "\n",
      "copy_4 :\n",
      "[[1 2]\n",
      " [3 4]]\n",
      "\n"
     ]
    }
   ],
   "source": [
    "arr_2d_12 = np.array([[1, 2], [3, 4]])\n",
    "\n",
    "# copy\n",
    "copy_3 = arr_2d_12\n",
    "copy_4 = arr_2d_12.copy()\n",
    "\n",
    "# index assignment\n",
    "arr_2d_12[0] = [3, 3]\n",
    "arr_2d_12[1, 0] = 4\n",
    "\n",
    "# log\n",
    "print(f\"arr_2d_12 :\\n{arr_2d_12}\", end='\\n\\n')\n",
    "print(f\"copy_3 :\\n{copy_3}\", end='\\n\\n')\n",
    "print(f\"copy_4 :\\n{copy_4}\", end='\\n\\n')"
   ]
  },
  {
   "cell_type": "markdown",
   "metadata": {},
   "source": [
    "## copy\n",
    "   - Return a copy of the array and cast it to a specified type.\n",
    "   - ```python\n",
    "     numpy.ndarray.astype(axis, ...)\n",
    "     ```"
   ]
  },
  {
   "cell_type": "code",
   "execution_count": 16,
   "metadata": {},
   "outputs": [
    {
     "name": "stdout",
     "output_type": "stream",
     "text": [
      "astype_1: [9. 4. 7. 0.]\n",
      "astype_2: [ True  True  True False]\n",
      "astype_3: ['9' '4' '7' '0']\n"
     ]
    }
   ],
   "source": [
    "arr_1d_3 = np.array([9, 4, 7, 0])\n",
    "\n",
    "# astype\n",
    "astype_1 = arr_1d_3.astype(float)\n",
    "astype_2 = arr_1d_3.astype(bool)\n",
    "astype_3 = arr_1d_3.astype(str)\n",
    "\n",
    "# log\n",
    "print(f\"astype_1: {astype_1}\")\n",
    "print(f\"astype_2: {astype_2}\")\n",
    "print(f\"astype_3: {astype_3}\")"
   ]
  },
  {
   "cell_type": "code",
   "execution_count": 17,
   "metadata": {},
   "outputs": [
    {
     "name": "stdout",
     "output_type": "stream",
     "text": [
      "astype_3 :\n",
      "[[4. 2. 5.]\n",
      " [7. 2. 1.]]\n",
      "\n",
      "astype_4 :\n",
      "[[ True  True  True]\n",
      " [ True  True  True]]\n",
      "\n",
      "astype_5 :\n",
      "[['4' '2' '5']\n",
      " ['7' '2' '1']]\n"
     ]
    }
   ],
   "source": [
    "arr_2d_13 = np.array([[4, 2, 5], [7, 2, 1]])\n",
    "\n",
    "# astype\n",
    "astype_3 = arr_2d_13.astype(float)\n",
    "astype_4 = arr_2d_13.astype(bool)\n",
    "astype_5 = arr_2d_13.astype(str)\n",
    "\n",
    "# log\n",
    "print(f\"astype_3 :\\n{astype_3}\", end='\\n\\n')\n",
    "print(f\"astype_4 :\\n{astype_4}\", end='\\n\\n')\n",
    "print(f\"astype_5 :\\n{astype_5}\")"
   ]
  },
  {
   "cell_type": "markdown",
   "metadata": {},
   "source": [
    "## sort\n",
    "   - Sort the original array.\n",
    "   - ```python\n",
    "     numpy.ndarray.sort(axis, ...)\n",
    "     ```"
   ]
  },
  {
   "cell_type": "code",
   "execution_count": 18,
   "metadata": {},
   "outputs": [
    {
     "name": "stdout",
     "output_type": "stream",
     "text": [
      "arr_1d_4: [1 2 3 4 5]\n"
     ]
    }
   ],
   "source": [
    "arr_1d_4 = np.array([5, 2, 4, 1, 3])\n",
    "\n",
    "# sort\n",
    "arr_1d_4.sort()\n",
    "\n",
    "# log\n",
    "print(f\"arr_1d_4: {arr_1d_4}\")"
   ]
  },
  {
   "cell_type": "code",
   "execution_count": 19,
   "metadata": {},
   "outputs": [
    {
     "name": "stdout",
     "output_type": "stream",
     "text": [
      "arr_1d_5: [1.01 1.02 1.1  1.2  1.5 ]\n"
     ]
    }
   ],
   "source": [
    "arr_1d_5 = np.array([1.1, 1.01, 1.2, 1.02, 1.5])\n",
    "\n",
    "# sort\n",
    "arr_1d_5.sort()\n",
    "\n",
    "# log\n",
    "print(f\"arr_1d_5: {arr_1d_5}\")"
   ]
  },
  {
   "cell_type": "code",
   "execution_count": 20,
   "metadata": {},
   "outputs": [
    {
     "name": "stdout",
     "output_type": "stream",
     "text": [
      "arr_2d_14 :\n",
      "[[3 1 2]\n",
      " [4 6 5]]\n"
     ]
    }
   ],
   "source": [
    "arr_2d_14 = np.array([[3, 6, 2], [4, 1, 5]])\n",
    "\n",
    "# sort\n",
    "arr_2d_14.sort(0)\n",
    "\n",
    "# log\n",
    "print(f\"arr_2d_14 :\\n{arr_2d_14}\")"
   ]
  },
  {
   "cell_type": "code",
   "execution_count": 21,
   "metadata": {},
   "outputs": [
    {
     "name": "stdout",
     "output_type": "stream",
     "text": [
      "arr_2d_15 :\n",
      "[[1 2 3]\n",
      " [4 5 6]]\n"
     ]
    }
   ],
   "source": [
    "arr_2d_15 = np.array([[3, 2, 1], [6, 5, 4]])\n",
    "\n",
    "# sort\n",
    "arr_2d_15.sort(1)\n",
    "\n",
    "# log\n",
    "print(f\"arr_2d_15 :\\n{arr_2d_15}\")"
   ]
  },
  {
   "cell_type": "markdown",
   "metadata": {},
   "source": [
    "## argsort\n",
    "   - Return the indices that would sort this array.\n",
    "   - ```python\n",
    "     numpy.ndarray.argsort(axis, ...)\n",
    "     ```"
   ]
  },
  {
   "cell_type": "code",
   "execution_count": 22,
   "metadata": {},
   "outputs": [
    {
     "name": "stdout",
     "output_type": "stream",
     "text": [
      "argsort_1          : [3 1 4 2 0]\n",
      "arr_1d_6[argsort_1]: [0 4 6 7 9]\n"
     ]
    }
   ],
   "source": [
    "arr_1d_6 = np.array([9, 4, 7, 0, 6])\n",
    "\n",
    "# argsort\n",
    "argsort_1 = arr_1d_6.argsort()\n",
    "\n",
    "# log\n",
    "print(f\"argsort_1          : {argsort_1}\")\n",
    "print(f\"arr_1d_6[argsort_1]: {arr_1d_6[argsort_1]}\")"
   ]
  },
  {
   "cell_type": "code",
   "execution_count": 23,
   "metadata": {},
   "outputs": [
    {
     "name": "stdout",
     "output_type": "stream",
     "text": [
      "argsort_2          : [1 3 0 2 4]\n",
      "arr_1d_7[argsort_2]: [1.01 1.02 1.1  1.2  1.5 ]\n"
     ]
    }
   ],
   "source": [
    "arr_1d_7 = np.array([1.1, 1.01, 1.2, 1.02, 1.5])\n",
    "\n",
    "# argsort\n",
    "argsort_2 = arr_1d_7.argsort()\n",
    "\n",
    "# log\n",
    "print(f\"argsort_2          : {argsort_2}\")\n",
    "print(f\"arr_1d_7[argsort_2]: {arr_1d_7[argsort_2]}\")"
   ]
  },
  {
   "cell_type": "code",
   "execution_count": 24,
   "metadata": {},
   "outputs": [
    {
     "name": "stdout",
     "output_type": "stream",
     "text": [
      "sort_1 :\n",
      "[[2 3 6]\n",
      " [1 4 5]]\n"
     ]
    }
   ],
   "source": [
    "arr_2d_16 = np.array([[3, 6, 2], [4, 1, 5]])\n",
    "\n",
    "# argsort for more than 1D arrays\n",
    "sort_1 = np.take_along_axis(arr_2d_16, arr_2d_16.argsort(), axis=-1)\n",
    "\n",
    "# log\n",
    "print(f\"sort_1 :\\n{sort_1}\")"
   ]
  },
  {
   "cell_type": "code",
   "execution_count": 25,
   "metadata": {},
   "outputs": [
    {
     "name": "stdout",
     "output_type": "stream",
     "text": [
      "sort_2 :\n",
      "[[1 2 3]\n",
      " [4 5 6]]\n"
     ]
    }
   ],
   "source": [
    "arr_2d_17 = np.array([[3, 2, 1], [6, 5, 4]])\n",
    "\n",
    "# argsort for more than 1D arrays\n",
    "sort_2 = np.take_along_axis(arr_2d_17, arr_2d_17.argsort(), axis=-1)\n",
    "\n",
    "# log\n",
    "print(f\"sort_2 :\\n{sort_2}\")"
   ]
  },
  {
   "cell_type": "markdown",
   "metadata": {},
   "source": [
    "## prod\n",
    "   - Return the cumulative product along a given axis.\n",
    "   - ```python\n",
    "     numpy.ndarray.prod(axis, ...)\n",
    "     ```"
   ]
  },
  {
   "cell_type": "code",
   "execution_count": 26,
   "metadata": {},
   "outputs": [
    {
     "name": "stdout",
     "output_type": "stream",
     "text": [
      "prod_1 : 24\n",
      "prod_2 : [3 8]\n",
      "prod_3 : [ 2 12]\n"
     ]
    }
   ],
   "source": [
    "arr_2d_18 = np.array([[1, 2], [3, 4]])\n",
    "\n",
    "# prod\n",
    "prod_1 = arr_2d_18.prod()\n",
    "prod_2 = arr_2d_18.prod(0)\n",
    "prod_3 = arr_2d_18.prod(1)\n",
    "\n",
    "# log\n",
    "print(f\"prod_1 : {prod_1}\")\n",
    "print(f\"prod_2 : {prod_2}\")\n",
    "print(f\"prod_3 : {prod_3}\")"
   ]
  },
  {
   "cell_type": "markdown",
   "metadata": {},
   "source": [
    "## dot\n",
    "   - Return the dot product of two arrays.\n",
    "   - ```python\n",
    "     numpy.ndarray.dot(axis, ...)\n",
    "     ```"
   ]
  },
  {
   "cell_type": "code",
   "execution_count": 27,
   "metadata": {},
   "outputs": [
    {
     "name": "stdout",
     "output_type": "stream",
     "text": [
      "dot_1 :\n",
      "30\n",
      "\n",
      "dot_2 :\n",
      "[[ 7 10]\n",
      " [15 22]]\n",
      "\n",
      "dot_3 :\n",
      "[[ 9 12 15]\n",
      " [19 26 33]]\n",
      "\n",
      "dot_3 :\n",
      "[[13 18]\n",
      " [17 24]\n",
      " [21 30]]\n",
      "\n",
      "dot_4 :\n",
      "[[14 32]\n",
      " [32 77]]\n"
     ]
    }
   ],
   "source": [
    "arr_1d_8 = np.array([1, 2, 3, 4])\n",
    "arr_2d_19 = np.array([[1, 2], [3, 4]])\n",
    "arr_2d_20 = np.array([[1, 2, 3], [4, 5, 6]])\n",
    "\n",
    "# dot\n",
    "dot_1 = arr_1d_8.dot(arr_1d_8)\n",
    "dot_2 = arr_2d_19.dot(arr_2d_19)\n",
    "dot_3 = arr_2d_19.dot(arr_2d_20)\n",
    "dot_4 = arr_2d_20.T.dot(arr_2d_19)\n",
    "dot_5 = arr_2d_20.dot(arr_2d_20.T)\n",
    "\n",
    "# log\n",
    "print(f\"dot_1 :\\n{dot_1}\", end='\\n\\n')\n",
    "print(f\"dot_2 :\\n{dot_2}\", end='\\n\\n')\n",
    "print(f\"dot_3 :\\n{dot_3}\", end='\\n\\n')\n",
    "print(f\"dot_3 :\\n{dot_4}\", end='\\n\\n')\n",
    "print(f\"dot_4 :\\n{dot_5}\")"
   ]
  },
  {
   "cell_type": "markdown",
   "metadata": {},
   "source": [
    "## round\n",
    "   - Return a rounded array with some decimals.\n",
    "   - ```python\n",
    "     numpy.ndarray.round(decimals, ...)\n",
    "     ```"
   ]
  },
  {
   "cell_type": "code",
   "execution_count": 28,
   "metadata": {},
   "outputs": [
    {
     "name": "stdout",
     "output_type": "stream",
     "text": [
      "round_1 :\n",
      "[[1. 3.]\n",
      " [3. 4.]]\n",
      "\n",
      "round_2 :\n",
      "[[1.1 2.5]\n",
      " [3.  4.2]]\n",
      "\n",
      "round_3 :\n",
      "[[1.12 2.53]\n",
      " [3.   4.2 ]]\n"
     ]
    }
   ],
   "source": [
    "arr_2d_21 = np.array([[1.124, 2.53], [3.001, 4.2]])\n",
    "\n",
    "# round\n",
    "round_1 = arr_2d_21.round()\n",
    "round_2 = arr_2d_21.round(1)\n",
    "round_3 = arr_2d_21.round(2)\n",
    "\n",
    "# log\n",
    "print(f\"round_1 :\\n{round_1}\", end='\\n\\n')\n",
    "print(f\"round_2 :\\n{round_2}\", end='\\n\\n')\n",
    "print(f\"round_3 :\\n{round_3}\")"
   ]
  },
  {
   "cell_type": "markdown",
   "metadata": {},
   "source": [
    "## flatten\n",
    "   - Return a copy of the array which is flattened.\n",
    "   - ```python\n",
    "     numpy.ndarray.flatten(axis, ...)\n",
    "     ```"
   ]
  },
  {
   "cell_type": "code",
   "execution_count": 29,
   "metadata": {},
   "outputs": [
    {
     "name": "stdout",
     "output_type": "stream",
     "text": [
      "flatten: [5 0 3 0 4 0]\n"
     ]
    }
   ],
   "source": [
    "arr_2d_22 = np.array([[1, 0, 3], [0, 4, 0]])\n",
    "\n",
    "# flatten\n",
    "flatten = arr_2d_22.flatten()\n",
    "\n",
    "# index assignment\n",
    "flatten[0] = 5\n",
    "\n",
    "# log\n",
    "print(f\"flatten: {flatten}\")"
   ]
  },
  {
   "cell_type": "markdown",
   "metadata": {},
   "source": [
    "## ravel\n",
    "   - Return a flattened view of the array.\n",
    "   - ```python\n",
    "     numpy.ndarray.ravel(axis, ...)\n",
    "     ```"
   ]
  },
  {
   "cell_type": "code",
   "execution_count": 30,
   "metadata": {},
   "outputs": [
    {
     "name": "stdout",
     "output_type": "stream",
     "text": [
      "ravel: [1 5 3 0 4 0]\n"
     ]
    }
   ],
   "source": [
    "arr_2d_23 = np.array([[1, 0, 3], [0, 4, 0]])\n",
    "\n",
    "# ravel\n",
    "ravel = arr_2d_23.ravel()\n",
    "\n",
    "# index assignment\n",
    "ravel[1] = 5\n",
    "\n",
    "# log\n",
    "print(f\"ravel: {ravel}\")"
   ]
  },
  {
   "cell_type": "markdown",
   "metadata": {},
   "source": [
    "## nonzero\n",
    "   - Return the indices of the elements that are non-zero.\n",
    "   - ```python\n",
    "     numpy.ndarray.nonzero(axis, ...)\n",
    "     ```"
   ]
  },
  {
   "cell_type": "code",
   "execution_count": 31,
   "metadata": {},
   "outputs": [
    {
     "name": "stdout",
     "output_type": "stream",
     "text": [
      "nonzero_1            : (array([0, 1, 2, 4]),)\n",
      "arr_1d_9[nonzero_1] : [1 5 2 8]\n",
      "\n",
      "nonzero_2            : (array([0, 1, 2, 4]),)\n",
      "arr_1d_9[nonzero_2] : [1 5 2 8]\n"
     ]
    }
   ],
   "source": [
    "arr_1d_9 = np.array([1, 5, 2, 0, 8, 0, 0])\n",
    "\n",
    "# nonzero\n",
    "nonzero_1 = arr_1d_9.nonzero()\n",
    "nonzero_2 = arr_1d_9.nonzero()\n",
    "\n",
    "# log\n",
    "print(f\"nonzero_1            : {nonzero_1}\")\n",
    "print(f\"arr_1d_9[nonzero_1] : {arr_1d_9[nonzero_1]}\", end='\\n\\n')\n",
    "print(f\"nonzero_2            : {nonzero_2}\")\n",
    "print(f\"arr_1d_9[nonzero_2] : {arr_1d_9[nonzero_2]}\")"
   ]
  },
  {
   "cell_type": "markdown",
   "metadata": {},
   "source": [
    "## fill\n",
    "   - Fill the array with a scalar value.\n",
    "   - ```python\n",
    "     numpy.ndarray.fill(axis, ...)\n",
    "     ```"
   ]
  },
  {
   "cell_type": "code",
   "execution_count": 32,
   "metadata": {},
   "outputs": [
    {
     "name": "stdout",
     "output_type": "stream",
     "text": [
      "arr_2d_24 :\n",
      "[[1 1 1]\n",
      " [1 1 1]]\n",
      "\n",
      "arr_2d_24 :\n",
      "[[0 0 0]\n",
      " [0 0 0]]\n"
     ]
    }
   ],
   "source": [
    "arr_2d_24 = np.array([[1, 0, 2], [3, 0, 4]])\n",
    "\n",
    "arr_2d_24.fill(1)\n",
    "print(f\"arr_2d_24 :\\n{arr_2d_24}\", end='\\n\\n')\n",
    "\n",
    "arr_2d_24.fill(0)\n",
    "print(f\"arr_2d_24 :\\n{arr_2d_24}\")"
   ]
  },
  {
   "cell_type": "markdown",
   "metadata": {},
   "source": [
    "## tolist\n",
    "   - Return the array as a deep nested python list.\n",
    "   - ```python\n",
    "     numpy.ndarray.tolist()\n",
    "     ```"
   ]
  },
  {
   "cell_type": "code",
   "execution_count": 33,
   "metadata": {},
   "outputs": [
    {
     "name": "stdout",
     "output_type": "stream",
     "text": [
      "tolist: [[13, 64, 12], [65, 23, 1]]\n"
     ]
    }
   ],
   "source": [
    "arr_2d_25 = np.array([[13, 64, 12], [65, 23, 1]])\n",
    "\n",
    "# list\n",
    "tolist = arr_2d_25.tolist()\n",
    "\n",
    "# log\n",
    "print(f\"tolist: {tolist}\")"
   ]
  },
  {
   "cell_type": "markdown",
   "metadata": {},
   "source": [
    "## put\n",
    "   - Replaces specified elements with given values.\n",
    "   - ```python\n",
    "     numpy.ndarray.put(axes)\n",
    "     ```"
   ]
  },
  {
   "cell_type": "code",
   "execution_count": 34,
   "metadata": {},
   "outputs": [
    {
     "name": "stdout",
     "output_type": "stream",
     "text": [
      "arr_2d_26 :\n",
      "[[-10  64  12]\n",
      " [ 65  -5   1]]\n"
     ]
    }
   ],
   "source": [
    "arr_2d_26 = np.array([[13, 64, 12], [65, 23, 1]])\n",
    "\n",
    "# put\n",
    "arr_2d_26.put([0, 4], [-10, -5])\n",
    "\n",
    "# log\n",
    "print(f\"arr_2d_26 :\\n{arr_2d_26}\")"
   ]
  },
  {
   "cell_type": "markdown",
   "metadata": {},
   "source": [
    "## clip\n",
    "   - Return a clipped array in the range of [min, max].\n",
    "   - ```python\n",
    "     numpy.ndarray.clip(min, max, ...)\n",
    "     ```"
   ]
  },
  {
   "cell_type": "code",
   "execution_count": 35,
   "metadata": {},
   "outputs": [
    {
     "name": "stdout",
     "output_type": "stream",
     "text": [
      "clip_1 :\n",
      "[[13 64 12]\n",
      " [65 23 10]]\n",
      "\n",
      "clip_2 :\n",
      "[[13 30 12]\n",
      " [30 23 10]]\n"
     ]
    }
   ],
   "source": [
    "arr_2d_27 = np.array([[13, 64, 12], [65, 23, 1]])\n",
    "\n",
    "# clip\n",
    "clip_1 = arr_2d_27.clip(10)\n",
    "clip_2 = arr_2d_27.clip(10, 30)\n",
    "\n",
    "# log\n",
    "print(f\"clip_1 :\\n{clip_1}\", end='\\n\\n')\n",
    "print(f\"clip_2 :\\n{clip_2}\")"
   ]
  },
  {
   "cell_type": "markdown",
   "metadata": {},
   "source": [
    "## transpose\n",
    "   - Return a view of the array with axes transposed.\n",
    "   - ```python\n",
    "     numpy.ndarray.transpose(axes)\n",
    "     ```"
   ]
  },
  {
   "cell_type": "code",
   "execution_count": 36,
   "metadata": {},
   "outputs": [
    {
     "name": "stdout",
     "output_type": "stream",
     "text": [
      "transpose_1 :\n",
      "[[13 65]\n",
      " [64 23]\n",
      " [12  1]]\n",
      "\n",
      "transpose_1 :\n",
      "[[13 65]\n",
      " [64 23]\n",
      " [12  1]]\n",
      "\n",
      "transpose_1 :\n",
      "[[13 65]\n",
      " [64 23]\n",
      " [12  1]]\n",
      "\n",
      "transpose_1 :\n",
      "[[13 65]\n",
      " [64 23]\n",
      " [12  1]]\n"
     ]
    }
   ],
   "source": [
    "arr_2d_28 = np.array([[13, 64, 12], [65, 23, 1]])\n",
    "\n",
    "# transpose\n",
    "transpose_1 = arr_2d_28.transpose([1, 0])\n",
    "transpose_2 = arr_2d_28.transpose()\n",
    "transpose_3 = arr_2d_28.T\n",
    "transpose_4 = arr_2d_28.transpose([0, 1])\n",
    "\n",
    "# log\n",
    "print(f\"transpose_1 :\\n{transpose_1}\", end='\\n\\n')\n",
    "print(f\"transpose_1 :\\n{transpose_1}\", end='\\n\\n')\n",
    "print(f\"transpose_1 :\\n{transpose_1}\", end='\\n\\n')\n",
    "print(f\"transpose_1 :\\n{transpose_1}\")"
   ]
  },
  {
   "cell_type": "markdown",
   "metadata": {},
   "source": [
    "## all\n",
    "   - Return True if all elements evaluate to True.\n",
    "   - ```python\n",
    "     numpy.ndarray.all(axis, ...)\n",
    "     ```"
   ]
  },
  {
   "cell_type": "code",
   "execution_count": 37,
   "metadata": {},
   "outputs": [
    {
     "name": "stdout",
     "output_type": "stream",
     "text": [
      "all_1: False\n",
      "all_2: False\n",
      "all_3: [False  True  True]\n",
      "all_4: [False False]\n",
      "all_5: False\n",
      "all_6: [False False  True]\n",
      "all_7: [False False]\n"
     ]
    }
   ],
   "source": [
    "arr_1d_10 = np.array([1, 0, 1, 1])\n",
    "arr_2d_29 = np.array([[0, 1, 1], [0, 1, 1]])\n",
    "arr_2d_30 = np.array([[0, 0, 1], [1, 0, 1]])\n",
    "\n",
    "# all\n",
    "all_1 = arr_1d_10.all()\n",
    "all_2 = arr_2d_29.all()\n",
    "all_3 = arr_2d_29.all(0)\n",
    "all_4 = arr_2d_29.all(1)\n",
    "all_5 = arr_2d_30.all()\n",
    "all_6 = arr_2d_30.all(0)\n",
    "all_7 = arr_2d_30.all(1)\n",
    "\n",
    "# log\n",
    "print(f\"all_1: {all_1}\")\n",
    "print(f\"all_2: {all_2}\")\n",
    "print(f\"all_3: {all_3}\")\n",
    "print(f\"all_4: {all_4}\")\n",
    "print(f\"all_5: {all_5}\")\n",
    "print(f\"all_6: {all_6}\")\n",
    "print(f\"all_7: {all_7}\")"
   ]
  },
  {
   "cell_type": "markdown",
   "metadata": {},
   "source": [
    "## any\n",
    "   - Return True if any of the elements evaluate to True.\n",
    "   - ```python\n",
    "     numpy.ndarray.any(axis, ...)\n",
    "     ```"
   ]
  },
  {
   "cell_type": "code",
   "execution_count": 38,
   "metadata": {},
   "outputs": [
    {
     "name": "stdout",
     "output_type": "stream",
     "text": [
      "any_1: True\n",
      "any_2: True\n",
      "any_3: [False  True  True]\n",
      "any_4: [ True  True]\n",
      "any_5: True\n",
      "any_6: [ True False  True]\n",
      "any_7: [ True  True]\n"
     ]
    }
   ],
   "source": [
    "arr_1d_11 = np.array([1, 0, 1, 1])\n",
    "arr_2d_31 = np.array([[0, 1, 1], [0, 1, 1]])\n",
    "arr_2d_32 = np.array([[0, 0, 1], [1, 0, 1]])\n",
    "\n",
    "# any\n",
    "any_1 = arr_1d_11.any()\n",
    "any_2 = arr_2d_31.any()\n",
    "any_3 = arr_2d_31.any(0)\n",
    "any_4 = arr_2d_31.any(1)\n",
    "any_5 = arr_2d_32.any()\n",
    "any_6 = arr_2d_32.any(0)\n",
    "any_7 = arr_2d_32.any(1)\n",
    "\n",
    "# log\n",
    "print(f\"any_1: {any_1}\")\n",
    "print(f\"any_2: {any_2}\")\n",
    "print(f\"any_3: {any_3}\")\n",
    "print(f\"any_4: {any_4}\")\n",
    "print(f\"any_5: {any_5}\")\n",
    "print(f\"any_6: {any_6}\")\n",
    "print(f\"any_7: {any_7}\")"
   ]
  }
 ],
 "metadata": {
  "kernelspec": {
   "display_name": "Python 3",
   "language": "python",
   "name": "python3"
  },
  "language_info": {
   "codemirror_mode": {
    "name": "ipython",
    "version": 3
   },
   "file_extension": ".py",
   "mimetype": "text/x-python",
   "name": "python",
   "nbconvert_exporter": "python",
   "pygments_lexer": "ipython3",
   "version": "3.12.3"
  }
 },
 "nbformat": 4,
 "nbformat_minor": 2
}
