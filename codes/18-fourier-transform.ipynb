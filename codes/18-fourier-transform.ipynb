{
 "cells": [
  {
   "cell_type": "markdown",
   "metadata": {},
   "source": [
    "📝 **Author:** Amirhossein Heydari - 📧 **Email:** <amirhosseinheydari78@gmail.com> - 📍 **Origin:** [mr-pylin/numpy-workshop](https://github.com/mr-pylin/numpy-workshop)\n",
    "\n",
    "---\n"
   ]
  },
  {
   "cell_type": "markdown",
   "metadata": {},
   "source": [
    "# Dependencies\n"
   ]
  },
  {
   "cell_type": "code",
   "execution_count": 10,
   "metadata": {},
   "outputs": [],
   "source": [
    "import numpy as np"
   ]
  },
  {
   "cell_type": "markdown",
   "metadata": {},
   "source": [
    "# NumPy - Fourier Transform\n",
    "\n",
    "📝 Doc:\n",
    "\n",
    "- Discrete Fourier Transform (`numpy.fft`): [numpy.org/doc/stable/reference/routines.fft.html](https://numpy.org/doc/stable/reference/routines.fft.html)\n"
   ]
  },
  {
   "cell_type": "markdown",
   "metadata": {},
   "source": [
    "## Standard FFTs\n",
    "\n",
    "<table style=\"margin: 0 auto;\">\n",
    "  <thead>\n",
    "    <tr>\n",
    "      <th style=\"text-align: center;\">Function</th>\n",
    "      <th style=\"text-align: center;\">Description</th>\n",
    "      <th style=\"text-align: center;\">Details</th>\n",
    "    </tr>\n",
    "  </thead>\n",
    "  <tbody>\n",
    "    <tr>\n",
    "      <td><code>np.fft.fft</code></td>\n",
    "      <td>Compute the one-dimensional discrete Fourier Transform</td>\n",
    "      <td style=\"text-align: center;\"><a href=\"https://numpy.org/doc/stable/reference/generated/numpy.fft.fft.html\">link</a></td>\n",
    "    </tr>\n",
    "    <tr>\n",
    "      <td><code>np.fft.ifft</code></td>\n",
    "      <td>Compute the one-dimensional inverse discrete Fourier Transform</td>\n",
    "      <td style=\"text-align: center;\"><a href=\"https://numpy.org/doc/stable/reference/generated/numpy.fft.ifft.html\">link</a></td>\n",
    "    </tr>\n",
    "    <tr>\n",
    "      <td><code>np.fft.fft2</code></td>\n",
    "      <td>Compute the 2-dimensional discrete Fourier Transform</td>\n",
    "      <td style=\"text-align: center;\"><a href=\"https://numpy.org/doc/stable/reference/generated/numpy.fft.fft2.html\">link</a></td>\n",
    "    </tr>\n",
    "    <tr>\n",
    "      <td><code>np.fft.ifft2</code></td>\n",
    "      <td>Compute the 2-dimensional inverse discrete Fourier Transform</td>\n",
    "      <td style=\"text-align: center;\"><a href=\"https://numpy.org/doc/stable/reference/generated/numpy.fft.ifft2.html\">link</a></td>\n",
    "    </tr>\n",
    "    <tr>\n",
    "      <td><code>np.fft.fftn</code></td>\n",
    "      <td>Compute the N-dimensional discrete Fourier Transform</td>\n",
    "      <td style=\"text-align: center;\"><a href=\"https://numpy.org/doc/stable/reference/generated/numpy.fft.fftn.html\">link</a></td>\n",
    "    </tr>\n",
    "    <tr>\n",
    "      <td><code>np.fft.ifftn</code></td>\n",
    "      <td>Compute the N-dimensional inverse discrete Fourier Transform</td>\n",
    "      <td style=\"text-align: center;\"><a href=\"https://numpy.org/doc/stable/reference/generated/numpy.fft.fftn.html\">link</a></td>\n",
    "    </tr>\n",
    "  </tbody>\n",
    "</table>\n"
   ]
  },
  {
   "cell_type": "code",
   "execution_count": 11,
   "metadata": {},
   "outputs": [
    {
     "name": "stdout",
     "output_type": "stream",
     "text": [
      "arr_1d_1    : [1 2 3]\n",
      "fft_1       : [ 6. +0.j        -1.5+0.8660254j -1.5-0.8660254j]\n",
      "ifft_1      : [1.+0.j 2.+0.j 3.+0.j]\n",
      "construct_1 : [1 2 3]\n"
     ]
    }
   ],
   "source": [
    "arr_1d_1 = np.array([1, 2, 3])\n",
    "\n",
    "# discrete fast-fourier [forward] transform [1D]\n",
    "fft_1 = np.fft.fft(arr_1d_1)\n",
    "\n",
    "# discrete fast-fourier [backward] transform [1D]\n",
    "ifft_1 = np.fft.ifft(fft_1)\n",
    "\n",
    "# clip the output\n",
    "construct_1 = ifft_1.real.clip(min=1, max=3).astype(np.int64)\n",
    "\n",
    "# log\n",
    "print(f\"arr_1d_1    : {arr_1d_1}\")\n",
    "print(f\"fft_1       : {fft_1}\")\n",
    "print(f\"ifft_1      : {ifft_1}\")\n",
    "print(f\"construct_1 : {construct_1}\")"
   ]
  },
  {
   "cell_type": "code",
   "execution_count": 16,
   "metadata": {},
   "outputs": [
    {
     "name": "stdout",
     "output_type": "stream",
     "text": [
      "arr_2d_1:\n",
      "[[1 2]\n",
      " [3 4]]\n",
      "--------------------------------------------------\n",
      "fft2_1:\n",
      "[[10.+0.j -2.+0.j]\n",
      " [-4.+0.j  0.+0.j]]\n",
      "--------------------------------------------------\n",
      "ifft2_1:\n",
      "[[1.+0.j 2.+0.j]\n",
      " [3.+0.j 4.+0.j]]\n",
      "--------------------------------------------------\n",
      "construct_2:\n",
      "[[1 2]\n",
      " [3 4]]\n"
     ]
    }
   ],
   "source": [
    "arr_2d_1 = np.array([[1, 2], [3, 4]])\n",
    "\n",
    "# discrete fast-fourier [forward] transform [2D]\n",
    "fft2_1 = np.fft.fft2(arr_2d_1)\n",
    "\n",
    "# discrete fast-fourier [backward] transform [2D]\n",
    "ifft2_1 = np.fft.ifft2(fft2_1)\n",
    "\n",
    "# clip the output\n",
    "construct_2 = ifft2_1.real.clip(min=1, max=4).astype(np.int64)\n",
    "\n",
    "# log\n",
    "print(f\"arr_2d_1:\\n{arr_2d_1}\", end=f\"\\n{'-' * 50}\\n\")\n",
    "print(f\"fft2_1:\\n{fft2_1}\", end=f\"\\n{'-' * 50}\\n\")\n",
    "print(f\"ifft2_1:\\n{ifft2_1}\", end=f\"\\n{'-' * 50}\\n\")\n",
    "print(f\"construct_2:\\n{construct_2}\")"
   ]
  },
  {
   "cell_type": "code",
   "execution_count": 13,
   "metadata": {},
   "outputs": [
    {
     "data": {
      "text/plain": [
       "<function ifftn at 0x00000289D60BF7B0>"
      ]
     },
     "execution_count": 13,
     "metadata": {},
     "output_type": "execute_result"
    }
   ],
   "source": [
    "# discrete fast-fourier [forward] transform [ND]\n",
    "np.fft.fftn\n",
    "\n",
    "# discrete fast-fourier [backward] transform [ND]\n",
    "np.fft.ifftn"
   ]
  },
  {
   "cell_type": "markdown",
   "metadata": {},
   "source": [
    "## Real FFTs\n",
    "\n",
    "- Compute the discrete Fourier Transform for real input\n",
    "\n",
    "<table style=\"margin: 0 auto;\">\n",
    "  <thead>\n",
    "    <tr>\n",
    "      <th style=\"text-align: center;\">Function</th>\n",
    "      <th style=\"text-align: center;\">Description</th>\n",
    "      <th style=\"text-align: center;\">Details</th>\n",
    "    </tr>\n",
    "  </thead>\n",
    "  <tbody>\n",
    "    <tr>\n",
    "      <td><code>np.fft.rfft</code></td>\n",
    "      <td>Compute the one-dimensional discrete Fourier Transform for real input</td>\n",
    "      <td style=\"text-align: center;\"><a href=\"https://numpy.org/doc/stable/reference/generated/numpy.fft.rfft.html\">link</a></td>\n",
    "    </tr>\n",
    "    <tr>\n",
    "      <td><code>np.fft.irfft</code></td>\n",
    "      <td>Computes the inverse of <code>rfft</code></td>\n",
    "      <td style=\"text-align: center;\"><a href=\"https://numpy.org/doc/stable/reference/generated/numpy.fft.irfft.html\">link</a></td>\n",
    "    </tr>\n",
    "    <tr>\n",
    "      <td><code>np.fft.rfft2</code></td>\n",
    "      <td>Compute the 2-dimensional FFT of a real array</td>\n",
    "      <td style=\"text-align: center;\"><a href=\"https://numpy.org/doc/stable/reference/generated/numpy.fft.rfft2.html\">link</a></td>\n",
    "    </tr>\n",
    "    <tr>\n",
    "      <td><code>np.fft.irfft2</code></td>\n",
    "      <td>Computes the inverse of <code>rfft2</code></td>\n",
    "      <td style=\"text-align: center;\"><a href=\"https://numpy.org/doc/stable/reference/generated/numpy.fft.irfft2.html\">link</a></td>\n",
    "    </tr>\n",
    "    <tr>\n",
    "      <td><code>np.fft.rfftn</code></td>\n",
    "      <td>Compute the N-dimensional discrete Fourier Transform for real input</td>\n",
    "      <td style=\"text-align: center;\"><a href=\"https://numpy.org/doc/stable/reference/generated/numpy.fft.rfftn.html\">link</a></td>\n",
    "    </tr>\n",
    "    <tr>\n",
    "      <td><code>np.fft.irfftn</code></td>\n",
    "      <td>Computes the inverse of <code>rfftn</code></td>\n",
    "      <td style=\"text-align: center;\"><a href=\"https://numpy.org/doc/stable/reference/generated/numpy.fft.irfftn.html\">link</a></td>\n",
    "    </tr>\n",
    "  </tbody>\n",
    "</table>\n"
   ]
  },
  {
   "cell_type": "code",
   "execution_count": 14,
   "metadata": {},
   "outputs": [
    {
     "data": {
      "text/plain": [
       "<function irfftn at 0x00000289D60D41F0>"
      ]
     },
     "execution_count": 14,
     "metadata": {},
     "output_type": "execute_result"
    }
   ],
   "source": [
    "# discrete fast-fourier transform [1D]\n",
    "np.fft.rfft\n",
    "np.fft.irfft\n",
    "\n",
    "# discrete fast-fourier transform [2D]\n",
    "np.fft.rfft2\n",
    "np.fft.irfft2\n",
    "\n",
    "# discrete fast-fourier transform [ND]\n",
    "np.fft.rfftn\n",
    "np.fft.irfftn"
   ]
  },
  {
   "cell_type": "markdown",
   "metadata": {},
   "source": [
    "## Helper routines\n",
    "\n",
    "<table style=\"margin: 0 auto;\">\n",
    "  <thead>\n",
    "    <tr>\n",
    "      <th style=\"text-align: center;\">Function</th>\n",
    "      <th style=\"text-align: center;\">Description</th>\n",
    "      <th style=\"text-align: center;\">Details</th>\n",
    "    </tr>\n",
    "  </thead>\n",
    "  <tbody>\n",
    "    <tr>\n",
    "      <td><code>np.fft.fftfreq</code></td>\n",
    "      <td>Return the Discrete Fourier Transform sample frequencies</td>\n",
    "      <td style=\"text-align: center;\"><a href=\"https://numpy.org/doc/stable/reference/generated/numpy.fft.fftfreq.html\">link</a></td>\n",
    "    </tr>\n",
    "    <tr>\n",
    "      <td><code>np.fft.rfftfreq</code></td>\n",
    "      <td>Return the Discrete Fourier Transform sample frequencies (for usage with rfft, irfft)</td>\n",
    "      <td style=\"text-align: center;\"><a href=\"https://numpy.org/doc/stable/reference/generated/numpy.fft.rfftfreq.html\">link</a></td>\n",
    "    </tr>\n",
    "    <tr>\n",
    "      <td><code>np.fft.fftshift</code></td>\n",
    "      <td>Shift the zero-frequency component to the center of the spectrum</td>\n",
    "      <td style=\"text-align: center;\"><a href=\"https://numpy.org/doc/stable/reference/generated/numpy.fft.fftshift.html\">link</a></td>\n",
    "    </tr>\n",
    "    <tr>\n",
    "      <td><code>np.fft.ifftshift</code></td>\n",
    "      <td>The inverse of <code>fftshift</code></td>\n",
    "      <td style=\"text-align: center;\"><a href=\"https://numpy.org/doc/stable/reference/generated/numpy.fft.ifftshift.html\">link</a></td>\n",
    "    </tr>\n",
    "  </tbody>\n",
    "</table>\n"
   ]
  },
  {
   "cell_type": "code",
   "execution_count": 15,
   "metadata": {},
   "outputs": [
    {
     "data": {
      "text/plain": [
       "<function ifftshift at 0x00000289D60D4930>"
      ]
     },
     "execution_count": 15,
     "metadata": {},
     "output_type": "execute_result"
    }
   ],
   "source": [
    "# shift the zero-frequency component to the center of the spectrum\n",
    "np.fft.fftshift\n",
    "\n",
    "# The inverse of <np.fft.fftshift>\n",
    "np.fft.ifftshift"
   ]
  }
 ],
 "metadata": {
  "author_email": "AmirhosseinHeydari78@gmail.com",
  "author_github": "https://github.com/mr-pylin",
  "author_name": "Amirhossein Heydari",
  "kernelspec": {
   "display_name": "venv",
   "language": "python",
   "name": "python3"
  },
  "language_info": {
   "codemirror_mode": {
    "name": "ipython",
    "version": 3
   },
   "file_extension": ".py",
   "mimetype": "text/x-python",
   "name": "python",
   "nbconvert_exporter": "python",
   "pygments_lexer": "ipython3",
   "version": "3.12.3"
  },
  "origin_repo": "https://github.com/mr-pylin/numpy-workshop"
 },
 "nbformat": 4,
 "nbformat_minor": 2
}
