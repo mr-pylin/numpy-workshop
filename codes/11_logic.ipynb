{
  "cells": [
    {
      "cell_type": "markdown",
      "metadata": {},
      "source": [
        "\ud83d\udcdd **Author:** Amirhossein Heydari - \ud83d\udce7 **Email:** AmirhosseinHeydari78@gmail.com - \ud83d\udccd **Linktree:** [linktr.ee/mr_pylin](https://linktr.ee/mr_pylin)\n",
        "\n",
        "---"
      ]
    },
    {
      "cell_type": "markdown",
      "metadata": {},
      "source": [
        "# Dependencies"
      ]
    },
    {
      "cell_type": "code",
      "execution_count": 1,
      "metadata": {},
      "outputs": [],
      "source": [
        "import numpy as np"
      ]
    },
    {
      "cell_type": "code",
      "execution_count": 2,
      "metadata": {},
      "outputs": [],
      "source": [
        "rng = np.random.default_rng(seed=42)"
      ]
    },
    {
      "cell_type": "markdown",
      "metadata": {},
      "source": [
        "# NumPy - Logic\n",
        "Doc:\n",
        "   - [numpy.org/doc/stable/reference/routines.logic.html](https://numpy.org/doc/stable/reference/routines.logic.html)"
      ]
    },
    {
      "cell_type": "markdown",
      "metadata": {},
      "source": [
        "## Truth value testing"
      ]
    },
    {
      "cell_type": "code",
      "execution_count": 3,
      "metadata": {},
      "outputs": [
        {
          "name": "stdout",
          "output_type": "stream",
          "text": [
            "arr_1d_1:\n",
            "[False False False False False False False False False False]\n",
            "\n",
            "arr_1d_2:\n",
            "[ True  True  True  True  True  True  True  True  True  True]\n",
            "\n",
            "arr_2d_1:\n",
            "[[False False False]\n",
            " [ True False False]]\n",
            "--------------------------------------------------\n",
            "all_1: False\n",
            "all_2: True\n",
            "all_3: False\n",
            "all_4: [False False False]\n",
            "all_5: [False False]\n",
            "any_1: False\n",
            "any_2: True\n",
            "any_3: True\n",
            "any_4: [ True False False]\n",
            "any_5: [False  True]\n"
          ]
        }
      ],
      "source": [
        "arr_1d_1 = np.zeros(shape=10, dtype=np.bool_)\n",
        "arr_1d_2 = np.ones(shape=10, dtype=np.bool_)\n",
        "arr_2d_1 = rng.integers(low=0, high=2, size=(2, 3), dtype=np.bool_)\n",
        "\n",
        "# all\n",
        "all_1 = np.all(arr_1d_1)\n",
        "all_2 = np.all(arr_1d_2)\n",
        "all_3 = np.all(arr_2d_1)\n",
        "all_4 = np.all(arr_2d_1, axis=0)\n",
        "all_5 = np.all(arr_2d_1, axis=1)\n",
        "\n",
        "# any\n",
        "any_1 = np.any(arr_1d_1)\n",
        "any_2 = np.any(arr_1d_2)\n",
        "any_3 = np.any(arr_2d_1)\n",
        "any_4 = np.any(arr_2d_1, axis=0)\n",
        "any_5 = np.any(arr_2d_1, axis=1)\n",
        "\n",
        "# log\n",
        "print(f\"arr_1d_1:\\n{arr_1d_1}\", end='\\n\\n')\n",
        "print(f\"arr_1d_2:\\n{arr_1d_2}\", end='\\n\\n')\n",
        "print(f\"arr_2d_1:\\n{arr_2d_1}\")\n",
        "print('-' * 50)\n",
        "print(f\"all_1: {all_1}\")\n",
        "print(f\"all_2: {all_2}\")\n",
        "print(f\"all_3: {all_3}\")\n",
        "print(f\"all_4: {all_4}\")\n",
        "print(f\"all_5: {all_5}\")\n",
        "print(f\"any_1: {any_1}\")\n",
        "print(f\"any_2: {any_2}\")\n",
        "print(f\"any_3: {any_3}\")\n",
        "print(f\"any_4: {any_4}\")\n",
        "print(f\"any_5: {any_5}\")"
      ]
    },
    {
      "cell_type": "markdown",
      "metadata": {},
      "source": [
        "## Array contents"
      ]
    },
    {
      "cell_type": "code",
      "execution_count": 4,
      "metadata": {},
      "outputs": [
        {
          "name": "stdout",
          "output_type": "stream",
          "text": [
            "arr_1d_3: [0.e+00 5.e+00    inf   -inf 1.e+99    inf]\n",
            "--------------------------------------------------\n",
            "isfinite_1 : [ True  True False False  True False]\n",
            "isinf_1    : [False False  True  True False  True]\n",
            "isnan_1    : [False False False False False False]\n",
            "isneginf_1 : [False False False  True False False]\n",
            "isposinf_1 : [False False  True False False  True]\n"
          ]
        }
      ],
      "source": [
        "arr_1d_3 = np.array([0, 5, np.inf, -np.inf, 1e+99, 1e+999])\n",
        "\n",
        "# isfinite\n",
        "isfinite_1 = np.isfinite(arr_1d_3)\n",
        "\n",
        "# isinf\n",
        "isinf_1 = np.isinf(arr_1d_3)\n",
        "\n",
        "# isnan\n",
        "isnan_1 = np.isnan(arr_1d_3)\n",
        "\n",
        "# isneginf\n",
        "isneginf_1 = np.isneginf(arr_1d_3)\n",
        "\n",
        "# isposinf\n",
        "isposinf_1 = np.isposinf(arr_1d_3)\n",
        "\n",
        "# log\n",
        "print(f\"arr_1d_3: {arr_1d_3}\")\n",
        "print('-' * 50)\n",
        "print(f\"isfinite_1 : {isfinite_1}\")\n",
        "print(f\"isinf_1    : {isinf_1}\")\n",
        "print(f\"isnan_1    : {isnan_1}\")\n",
        "print(f\"isneginf_1 : {isneginf_1}\")\n",
        "print(f\"isposinf_1 : {isposinf_1}\")"
      ]
    },
    {
      "cell_type": "markdown",
      "metadata": {},
      "source": [
        "## Logical operations"
      ]
    },
    {
      "cell_type": "code",
      "execution_count": 5,
      "metadata": {},
      "outputs": [
        {
          "name": "stdout",
          "output_type": "stream",
          "text": [
            "arr_1d_4: [ True False False  True False  True]\n",
            "arr_1d_5: [False  True  True  True  True False]\n",
            "--------------------------------------------------\n",
            "logical_not_1 : [False  True  True False  True False]\n",
            "logical_and_1 : [False False False  True False False]\n",
            "logical_or_1  : [ True  True  True  True  True  True]\n",
            "logical_xor_1 : [ True  True  True False  True  True]\n"
          ]
        }
      ],
      "source": [
        "arr_1d_4 = np.array([1, 0, 0, 1, 0, 1], dtype=np.bool_)\n",
        "arr_1d_5 = np.array([0, 1, 1, 1, 1, 0], dtype=np.bool_)\n",
        "\n",
        "#\n",
        "logical_not_1 = np.logical_not(arr_1d_4)\n",
        "logical_and_1 = np.logical_and(arr_1d_4, arr_1d_5)\n",
        "logical_or_1 = np.logical_or(arr_1d_4, arr_1d_5)\n",
        "logical_xor_1 = np.logical_xor(arr_1d_4, arr_1d_5)\n",
        "\n",
        "# log\n",
        "print(f\"arr_1d_4: {arr_1d_4}\")\n",
        "print(f\"arr_1d_5: {arr_1d_5}\")\n",
        "print('-' * 50)\n",
        "print(f\"logical_not_1 : {logical_not_1}\")\n",
        "print(f\"logical_and_1 : {logical_and_1}\")\n",
        "print(f\"logical_or_1  : {logical_or_1}\")\n",
        "print(f\"logical_xor_1 : {logical_xor_1}\")"
      ]
    },
    {
      "cell_type": "markdown",
      "metadata": {},
      "source": [
        "## Comparison"
      ]
    },
    {
      "cell_type": "code",
      "execution_count": 6,
      "metadata": {},
      "outputs": [
        {
          "name": "stdout",
          "output_type": "stream",
          "text": [
            "arr_1d_6 : [1. 1. 1. 1. 1. 1.]\n",
            "arr_1d_7 : [1.000104   0.99992495 0.99990594 1.0001951  1.00013022 0.99998722]\n",
            "--------------------------------------------------\n",
            "allclose_1      : False\n",
            "allclose_2      : True\n",
            "isclose_1       : [False False False False False False]\n",
            "isclose_2       : [ True  True  True  True  True  True]\n",
            "array_equal_1   : False\n",
            "array_equiv_1   : False\n",
            "greater_1       : [False  True  True False False  True]\n",
            "greater_2       : [False  True  True False False  True]\n",
            "greater_equal_1 : [False  True  True False False  True]\n",
            "greater_equal_2 : [False  True  True False False  True]\n",
            "less_1          : [ True False False  True  True False]\n",
            "less_2          : [ True False False  True  True False]\n",
            "less_equal_1    : [ True False False  True  True False]\n",
            "less_equal_2    : [ True False False  True  True False]\n",
            "equal_1         : [False False False False False False]\n",
            "equal_2         : [False False False False False False]\n",
            "not_equal_1     : [ True  True  True  True  True  True]\n",
            "not_equal_2     : [ True  True  True  True  True  True]\n"
          ]
        }
      ],
      "source": [
        "arr_1d_6 = np.ones(shape=6)\n",
        "arr_1d_7 = np.ones(shape=6) - rng.normal(loc=0, scale=0.0001, size=6)\n",
        "\n",
        "# allclose\n",
        "allclose_1 = np.allclose(arr_1d_6, arr_1d_7)\n",
        "allclose_2 = np.allclose(arr_1d_6, arr_1d_7, atol=0.001)\n",
        "\n",
        "# isclose\n",
        "isclose_1 = np.isclose(arr_1d_6, arr_1d_7)\n",
        "isclose_2 = np.isclose(arr_1d_6, arr_1d_7, atol=0.001)\n",
        "\n",
        "# array_equal\n",
        "array_equal_1 = np.array_equal(arr_1d_6, arr_1d_7)\n",
        "\n",
        "# array_equiv\n",
        "array_equiv_1 = np.array_equiv(arr_1d_6, arr_1d_7)\n",
        "\n",
        "# greater\n",
        "greater_1 = np.greater(arr_1d_6, arr_1d_7)\n",
        "greater_2 = arr_1d_6 > arr_1d_7\n",
        "\n",
        "# others\n",
        "greater_equal_1 = np.greater_equal(arr_1d_6, arr_1d_7)\n",
        "greater_equal_2 = arr_1d_6 >= arr_1d_7\n",
        "\n",
        "less_1 = np.less(arr_1d_6, arr_1d_7)\n",
        "less_2 = arr_1d_6 < arr_1d_7\n",
        "\n",
        "less_equal_1 = np.less_equal(arr_1d_6, arr_1d_7)\n",
        "less_equal_2 = arr_1d_6 <= arr_1d_7\n",
        "\n",
        "equal_1 = np.equal(arr_1d_6, arr_1d_7)\n",
        "equal_2 = arr_1d_6 == arr_1d_7\n",
        "\n",
        "not_equal_1 = np.not_equal(arr_1d_6, arr_1d_7)\n",
        "not_equal_2 = arr_1d_6 != arr_1d_7\n",
        "\n",
        "# log\n",
        "print(f\"arr_1d_6 : {arr_1d_6}\")\n",
        "print(f\"arr_1d_7 : {arr_1d_7}\")\n",
        "print('-' * 50)\n",
        "print(f\"allclose_1      : {allclose_1}\")\n",
        "print(f\"allclose_2      : {allclose_2}\")\n",
        "print(f\"isclose_1       : {isclose_1}\")\n",
        "print(f\"isclose_2       : {isclose_2}\")\n",
        "print(f\"array_equal_1   : {array_equal_1}\")\n",
        "print(f\"array_equiv_1   : {array_equiv_1}\")\n",
        "print(f\"greater_1       : {greater_1}\")\n",
        "print(f\"greater_2       : {greater_2}\")\n",
        "print(f\"greater_equal_1 : {greater_equal_1}\")\n",
        "print(f\"greater_equal_2 : {greater_equal_2}\")\n",
        "print(f\"less_1          : {less_1}\")\n",
        "print(f\"less_2          : {less_2}\")\n",
        "print(f\"less_equal_1    : {less_equal_1}\")\n",
        "print(f\"less_equal_2    : {less_equal_2}\")\n",
        "print(f\"equal_1         : {equal_1}\")\n",
        "print(f\"equal_2         : {equal_2}\")\n",
        "print(f\"not_equal_1     : {not_equal_1}\")\n",
        "print(f\"not_equal_2     : {not_equal_2}\")"
      ]
    }
  ],
  "metadata": {
    "kernelspec": {
      "display_name": "Python 3",
      "language": "python",
      "name": "python3"
    },
    "language_info": {
      "codemirror_mode": {
        "name": "ipython",
        "version": 3
      },
      "file_extension": ".py",
      "mimetype": "text/x-python",
      "name": "python",
      "nbconvert_exporter": "python",
      "pygments_lexer": "ipython3",
      "version": "3.12.3"
    },
    "author_name": "Amirhossein Heydari",
    "author_email": "AmirhosseinHeydari78@gmail.com",
    "author_github": "https://github.com/mr-pylin",
    "origin_repo": "https://github.com/mr-pylin/numpy-workshop"
  },
  "nbformat": 4,
  "nbformat_minor": 2
}