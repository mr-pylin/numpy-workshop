{
 "cells": [
  {
   "cell_type": "markdown",
   "metadata": {},
   "source": [
    "# Dependencies"
   ]
  },
  {
   "cell_type": "code",
   "execution_count": 1,
   "metadata": {},
   "outputs": [],
   "source": [
    "import numpy as np"
   ]
  },
  {
   "cell_type": "markdown",
   "metadata": {},
   "source": [
    "# NumPy - Comparative Operations\n",
    "Doc:\n",
    "   - [numpy.org/doc/stable/reference/routines.logic.html#comparison](https://numpy.org/doc/stable/reference/routines.logic.html#comparison)"
   ]
  },
  {
   "cell_type": "markdown",
   "metadata": {},
   "source": [
    "## Array & Scalar\n",
    "Broadcasting:\n",
    "   - It allows arrays of different shapes to be used together in arithmetic operations\n",
    "   - The smaller array is “broadcast” across the larger array so that they have compatible shapes"
   ]
  },
  {
   "cell_type": "code",
   "execution_count": 2,
   "metadata": {},
   "outputs": [
    {
     "name": "stdout",
     "output_type": "stream",
     "text": [
      "cso_1 : [False  True False False]\n",
      "cso_2 : [ True False  True  True]\n",
      "cso_3 : [False False  True  True]\n",
      "cso_4 : [ True False False False]\n",
      "cso_5 : [False  True  True  True]\n",
      "cso_6 : [ True  True False False]\n"
     ]
    }
   ],
   "source": [
    "arr_1d_1 = np.array([1, 2, 3, 4])\n",
    "\n",
    "cso_1 = arr_1d_1 == 2  # np.equal\n",
    "cso_2 = arr_1d_1 != 2  # np.not_equal\n",
    "cso_3 = arr_1d_1 > 2   # np.greater\n",
    "cso_4 = arr_1d_1 < 2   # np.less\n",
    "cso_5 = arr_1d_1 >= 2  # np.greater_equal\n",
    "cso_6 = arr_1d_1 <= 2  # np.less_equal\n",
    "\n",
    "# log\n",
    "for i in range(1, 7):\n",
    "    print(f\"cso_{i} : {eval(f'cso_{i}')}\", end='\\n')"
   ]
  },
  {
   "cell_type": "code",
   "execution_count": 3,
   "metadata": {},
   "outputs": [
    {
     "name": "stdout",
     "output_type": "stream",
     "text": [
      "cso_7 :\n",
      "[[False  True]\n",
      " [False False]]\n",
      "\n",
      "cso_8 :\n",
      "[[ True False]\n",
      " [ True  True]]\n",
      "\n",
      "cso_9 :\n",
      "[[False False]\n",
      " [ True  True]]\n",
      "\n",
      "cso_10 :\n",
      "[[ True False]\n",
      " [False False]]\n",
      "\n",
      "cso_11 :\n",
      "[[False  True]\n",
      " [ True  True]]\n",
      "\n",
      "cso_12 :\n",
      "[[ True  True]\n",
      " [False False]]\n",
      "\n"
     ]
    }
   ],
   "source": [
    "arr_2d_1 = np.array([[1, 2], [3, 4]])\n",
    "\n",
    "cso_7 = arr_2d_1 == 2\n",
    "cso_8 = arr_2d_1 != 2\n",
    "cso_9 = arr_2d_1 > 2\n",
    "cso_10 = arr_2d_1 < 2\n",
    "cso_11 = arr_2d_1 >= 2\n",
    "cso_12 = arr_2d_1 <= 2\n",
    "\n",
    "# log\n",
    "for i in range(7, 13):\n",
    "    print(f\"cso_{i} :\\n{eval(f'cso_{i}')}\", end='\\n\\n')"
   ]
  },
  {
   "cell_type": "markdown",
   "metadata": {},
   "source": [
    "## Array & Array"
   ]
  },
  {
   "cell_type": "code",
   "execution_count": 4,
   "metadata": {},
   "outputs": [
    {
     "name": "stdout",
     "output_type": "stream",
     "text": [
      "cao_1 : [False False False False]\n",
      "cao_2 : [ True  True  True  True]\n",
      "cao_3 : [False  True  True  True]\n",
      "cao_4 : [ True False False False]\n",
      "cao_5 : [False  True  True  True]\n",
      "cao_6 : [ True False False False]\n"
     ]
    }
   ],
   "source": [
    "arr_1d_2 = np.array([1, 2, 3, 4])\n",
    "arr_1d_3 = np.array([4, 1, 2, 3])\n",
    "\n",
    "cao_1 = arr_1d_2 == arr_1d_3\n",
    "cao_2 = arr_1d_2 != arr_1d_3\n",
    "cao_3 = arr_1d_2 > arr_1d_3\n",
    "cao_4 = arr_1d_2 < arr_1d_3\n",
    "cao_5 = arr_1d_2 >= arr_1d_3\n",
    "cao_6 = arr_1d_2 <= arr_1d_3\n",
    "\n",
    "# log\n",
    "for i in range(1, 7):\n",
    "    print(f\"cao_{i} : {eval(f'cao_{i}')}\", end='\\n')"
   ]
  },
  {
   "cell_type": "code",
   "execution_count": 5,
   "metadata": {},
   "outputs": [
    {
     "name": "stdout",
     "output_type": "stream",
     "text": [
      "cao_7 :\n",
      "[[False  True]\n",
      " [ True False]]\n",
      "\n",
      "cao_8 :\n",
      "[[ True False]\n",
      " [False  True]]\n",
      "\n",
      "cao_9 :\n",
      "[[False False]\n",
      " [False  True]]\n",
      "\n",
      "cao_10 :\n",
      "[[ True False]\n",
      " [False False]]\n",
      "\n",
      "cao_11 :\n",
      "[[False  True]\n",
      " [ True  True]]\n",
      "\n",
      "cao_12 :\n",
      "[[ True  True]\n",
      " [ True False]]\n",
      "\n"
     ]
    }
   ],
   "source": [
    "arr_2d_2 = np.array([[1, 2], [3, 4]])\n",
    "arr_2d_3 = np.array([[2, 2], [3, 3]])\n",
    "\n",
    "cao_7 = arr_2d_2 == arr_2d_3\n",
    "cao_8 = arr_2d_2 != arr_2d_3\n",
    "cao_9 = arr_2d_2 > arr_2d_3\n",
    "cao_10 = arr_2d_2 < arr_2d_3\n",
    "cao_11 = arr_2d_2 >= arr_2d_3\n",
    "cao_12 = arr_2d_2 <= arr_2d_3\n",
    "\n",
    "# log\n",
    "for i in range(7, 13):\n",
    "    print(f\"cao_{i} :\\n{eval(f'cao_{i}')}\", end='\\n\\n')"
   ]
  }
 ],
 "metadata": {
  "kernelspec": {
   "display_name": "Python 3",
   "language": "python",
   "name": "python3"
  },
  "language_info": {
   "codemirror_mode": {
    "name": "ipython",
    "version": 3
   },
   "file_extension": ".py",
   "mimetype": "text/x-python",
   "name": "python",
   "nbconvert_exporter": "python",
   "pygments_lexer": "ipython3",
   "version": "3.12.3"
  }
 },
 "nbformat": 4,
 "nbformat_minor": 2
}
