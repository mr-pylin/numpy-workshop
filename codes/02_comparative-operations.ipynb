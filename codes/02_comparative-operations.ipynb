{
 "cells": [
  {
   "cell_type": "markdown",
   "metadata": {},
   "source": [
    "# Dependencies"
   ]
  },
  {
   "cell_type": "code",
   "execution_count": 12,
   "metadata": {},
   "outputs": [],
   "source": [
    "import numpy as np"
   ]
  },
  {
   "cell_type": "code",
   "execution_count": 13,
   "metadata": {},
   "outputs": [],
   "source": [
    "# prevent printing the returned object in each cell\n",
    "from IPython.core.interactiveshell import InteractiveShell\n",
    "InteractiveShell.ast_node_interactivity = 'none'"
   ]
  },
  {
   "cell_type": "markdown",
   "metadata": {},
   "source": [
    "# NumPy - Comparative Operations\n",
    "Doc:\n",
    "   - [numpy.org/doc/stable/reference/routines.logic.html#comparison](https://numpy.org/doc/stable/reference/routines.logic.html#comparison)"
   ]
  },
  {
   "cell_type": "markdown",
   "metadata": {},
   "source": [
    "## Array & Scalar\n",
    "Broadcasting:\n",
    "   - It allows arrays of different shapes to be used together in arithmetic operations\n",
    "   - The smaller array is “broadcast” across the larger array so that they have compatible shapes"
   ]
  },
  {
   "cell_type": "code",
   "execution_count": 14,
   "metadata": {},
   "outputs": [
    {
     "name": "stdout",
     "output_type": "stream",
     "text": [
      "cso1 : [False  True False False]\n",
      "cso2 : [ True False  True  True]\n",
      "cso3 : [False False  True  True]\n",
      "cso4 : [ True False False False]\n",
      "cso5 : [False  True  True  True]\n",
      "cso6 : [ True  True False False]\n"
     ]
    }
   ],
   "source": [
    "arr_1 = np.array([1, 2, 3, 4])\n",
    "\n",
    "cso1 = arr_1 == 2\n",
    "cso2 = arr_1 != 2\n",
    "cso3 = arr_1 > 2\n",
    "cso4 = arr_1 < 2\n",
    "cso5 = arr_1 >= 2\n",
    "cso6 = arr_1 <= 2\n",
    "\n",
    "# log\n",
    "for i in range(1, 7):\n",
    "    print(f\"cso{i} : {eval(f'cso{i}')}\", end='\\n')"
   ]
  },
  {
   "cell_type": "code",
   "execution_count": 15,
   "metadata": {},
   "outputs": [
    {
     "name": "stdout",
     "output_type": "stream",
     "text": [
      "cso7 :\n",
      "[[False  True]\n",
      " [False False]]\n",
      "\n",
      "cso8 :\n",
      "[[ True False]\n",
      " [ True  True]]\n",
      "\n",
      "cso9 :\n",
      "[[False False]\n",
      " [ True  True]]\n",
      "\n",
      "cso10 :\n",
      "[[ True False]\n",
      " [False False]]\n",
      "\n",
      "cso11 :\n",
      "[[False  True]\n",
      " [ True  True]]\n",
      "\n",
      "cso12 :\n",
      "[[ True  True]\n",
      " [False False]]\n",
      "\n"
     ]
    }
   ],
   "source": [
    "arr_2 = np.array([[1, 2], [3, 4]])\n",
    "\n",
    "cso7 = arr_2 == 2\n",
    "cso8 = arr_2 != 2\n",
    "cso9 = arr_2 > 2\n",
    "cso10 = arr_2 < 2\n",
    "cso11 = arr_2 >= 2\n",
    "cso12 = arr_2 <= 2\n",
    "\n",
    "# log\n",
    "for i in range(7, 13):\n",
    "    print(f\"cso{i} :\\n{eval(f'cso{i}')}\", end='\\n\\n')"
   ]
  },
  {
   "cell_type": "markdown",
   "metadata": {},
   "source": [
    "## Array & Array"
   ]
  },
  {
   "cell_type": "code",
   "execution_count": 18,
   "metadata": {},
   "outputs": [
    {
     "name": "stdout",
     "output_type": "stream",
     "text": [
      "cao1 : [False False False False]\n",
      "cao2 : [ True  True  True  True]\n",
      "cao3 : [False  True  True  True]\n",
      "cao4 : [ True False False False]\n",
      "cao5 : [False  True  True  True]\n",
      "cao6 : [ True False False False]\n"
     ]
    }
   ],
   "source": [
    "arr_1 = np.array([1, 2, 3, 4])\n",
    "arr_2 = np.array([4, 1, 2, 3])\n",
    "\n",
    "cao1 = arr_1 == arr_2\n",
    "cao2 = arr_1 != arr_2\n",
    "cao3 = arr_1 > arr_2\n",
    "cao4 = arr_1 < arr_2\n",
    "cao5 = arr_1 >= arr_2\n",
    "cao6 = arr_1 <= arr_2\n",
    "\n",
    "# log\n",
    "for i in range(1, 7):\n",
    "    print(f\"cao{i} : {eval(f'cao{i}')}\", end='\\n')"
   ]
  },
  {
   "cell_type": "code",
   "execution_count": 20,
   "metadata": {},
   "outputs": [
    {
     "name": "stdout",
     "output_type": "stream",
     "text": [
      "cao7 :\n",
      "[[False  True]\n",
      " [ True False]]\n",
      "\n",
      "cao8 :\n",
      "[[ True False]\n",
      " [False  True]]\n",
      "\n",
      "cao9 :\n",
      "[[False False]\n",
      " [False  True]]\n",
      "\n",
      "cao10 :\n",
      "[[ True False]\n",
      " [False False]]\n",
      "\n",
      "cao11 :\n",
      "[[False  True]\n",
      " [ True  True]]\n",
      "\n",
      "cao12 :\n",
      "[[ True  True]\n",
      " [ True False]]\n",
      "\n"
     ]
    }
   ],
   "source": [
    "arr_3 = np.array([[1, 2], [3, 4]])\n",
    "arr_4 = np.array([[2, 2], [3, 3]])\n",
    "\n",
    "cao7 = arr_3 == arr_4\n",
    "cao8 = arr_3 != arr_4\n",
    "cao9 = arr_3 > arr_4\n",
    "cao10 = arr_3 < arr_4\n",
    "cao11 = arr_3 >= arr_4\n",
    "cao12 = arr_3 <= arr_4\n",
    "\n",
    "# log\n",
    "for i in range(7, 13):\n",
    "    print(f\"cao{i} :\\n{eval(f'cao{i}')}\", end='\\n\\n')"
   ]
  }
 ],
 "metadata": {
  "kernelspec": {
   "display_name": "Python 3",
   "language": "python",
   "name": "python3"
  },
  "language_info": {
   "codemirror_mode": {
    "name": "ipython",
    "version": 3
   },
   "file_extension": ".py",
   "mimetype": "text/x-python",
   "name": "python",
   "nbconvert_exporter": "python",
   "pygments_lexer": "ipython3",
   "version": "3.12.3"
  }
 },
 "nbformat": 4,
 "nbformat_minor": 2
}
