{
 "cells": [
  {
   "cell_type": "markdown",
   "metadata": {},
   "source": [
    "# Dependencies"
   ]
  },
  {
   "cell_type": "code",
   "execution_count": 31,
   "metadata": {},
   "outputs": [],
   "source": [
    "import numpy as np"
   ]
  },
  {
   "cell_type": "code",
   "execution_count": 32,
   "metadata": {},
   "outputs": [],
   "source": [
    "# prevent printing the returned object in each cell\n",
    "from IPython.core.interactiveshell import InteractiveShell\n",
    "InteractiveShell.ast_node_interactivity = 'none'"
   ]
  },
  {
   "cell_type": "markdown",
   "metadata": {},
   "source": [
    "# NumPy - Index\n",
    "Doc:\n",
    "   - [numpy.org/doc/stable/user/basics.indexing.html#basic-indexing](https://numpy.org/doc/stable/user/basics.indexing.html#basic-indexing)"
   ]
  },
  {
   "cell_type": "code",
   "execution_count": 33,
   "metadata": {},
   "outputs": [
    {
     "name": "stdout",
     "output_type": "stream",
     "text": [
      "arr_1d[0]  : 8\n",
      "arr_1d[2]  : 0\n",
      "arr_1d[4]  : 1\n",
      "arr_1d[7]  : 2\n",
      "arr_1d[-8] : 8\n",
      "arr_1d[-6] : 0\n",
      "arr_1d[-4] : 1\n",
      "arr_1d[-1] : 2\n"
     ]
    }
   ],
   "source": [
    "arr_1d = np.array([8, 9, 0, 3, 1, 6, 4, 2])\n",
    "\n",
    "idx_11 = arr_1d[0]   # 8\n",
    "idx_12 = arr_1d[2]   # 0\n",
    "idx_13 = arr_1d[4]   # 1\n",
    "idx_14 = arr_1d[7]   # 2\n",
    "idx_15 = arr_1d[-8]  # 8\n",
    "idx_16 = arr_1d[-6]  # 0\n",
    "idx_17 = arr_1d[-4]  # 1\n",
    "idx_18 = arr_1d[-1]  # 2\n",
    "\n",
    "# log\n",
    "print(f\"arr_1d[0]  : {idx_11}\")\n",
    "print(f\"arr_1d[2]  : {idx_12}\")\n",
    "print(f\"arr_1d[4]  : {idx_13}\")\n",
    "print(f\"arr_1d[7]  : {idx_14}\")\n",
    "print(f\"arr_1d[-8] : {idx_15}\")\n",
    "print(f\"arr_1d[-6] : {idx_16}\")\n",
    "print(f\"arr_1d[-4] : {idx_17}\")\n",
    "print(f\"arr_1d[-1] : {idx_18}\")"
   ]
  },
  {
   "cell_type": "code",
   "execution_count": 34,
   "metadata": {},
   "outputs": [
    {
     "name": "stdout",
     "output_type": "stream",
     "text": [
      "arr_2d[0]     : [2 3 4]\n",
      "arr_2d[1]     : [7 9 8]\n",
      "arr_2d[2]     : [6 5 0]\n",
      "arr_2d[0, 1]  : 3\n",
      "arr_2d[1, 1]  : 9\n",
      "arr_2d[-1, 0] : 6\n"
     ]
    }
   ],
   "source": [
    "arr_2d = np.array([[2, 3, 4], [7, 9, 8], [6, 5, 0]])\n",
    "\n",
    "idx_21 = arr_2d[0]      # [2 3 4]\n",
    "idx_22 = arr_2d[1]      # [7 9 8]\n",
    "idx_23 = arr_2d[2]      # [6 5 0]\n",
    "idx_24 = arr_2d[0, 1]  # 3\n",
    "idx_25 = arr_2d[1, 1]  # 9\n",
    "idx_26 = arr_2d[-1, 0]  # 6\n",
    "\n",
    "# log\n",
    "print(f\"arr_2d[0]     : {idx_21}\")\n",
    "print(f\"arr_2d[1]     : {idx_22}\")\n",
    "print(f\"arr_2d[2]     : {idx_23}\")\n",
    "print(f\"arr_2d[0, 1]  : {idx_24}\")\n",
    "print(f\"arr_2d[1, 1]  : {idx_25}\")\n",
    "print(f\"arr_2d[-1, 0] : {idx_26}\")"
   ]
  },
  {
   "cell_type": "code",
   "execution_count": 35,
   "metadata": {},
   "outputs": [
    {
     "name": "stdout",
     "output_type": "stream",
     "text": [
      "arr_3d[0] :\n",
      "[[2 3]\n",
      " [0 4]]\n",
      "\n",
      "arr_3d[-1] :\n",
      "[[7 8]\n",
      " [4 2]]\n",
      "\n",
      "arr_3d[0, 0] :\n",
      "[2 3]\n",
      "\n",
      "arr_3d[0, -1] :\n",
      "[0 4]\n",
      "\n",
      "arr_3d[-1, 1] :\n",
      "[4 2]\n",
      "\n",
      "arr_3d[0, 0, 0] :\n",
      "2\n",
      "\n",
      "arr_3d[1, 0, 1] :\n",
      "8\n",
      "\n"
     ]
    }
   ],
   "source": [
    "arr_3d = np.array([[[2, 3], [0, 4]], [[7, 8], [4, 2]]])\n",
    "\n",
    "idx31 = arr_3d[0]        # [[2 3] [0 4]]\n",
    "idx32 = arr_3d[-1]       # [[7 8] [4 2]]\n",
    "idx33 = arr_3d[0,  0]   # [2 3]\n",
    "idx34 = arr_3d[0, -1]   # [0 4]\n",
    "idx35 = arr_3d[-1,  1]   # [4 2]\n",
    "idx36 = arr_3d[0, 0, 0]  # 2\n",
    "idx37 = arr_3d[1, 0, 1]  # 8\n",
    "\n",
    "# log\n",
    "print(f\"arr_3d[0] :\\n{idx31}\", end='\\n\\n')\n",
    "print(f\"arr_3d[-1] :\\n{idx32}\", end='\\n\\n')\n",
    "print(f\"arr_3d[0, 0] :\\n{idx33}\", end='\\n\\n')\n",
    "print(f\"arr_3d[0, -1] :\\n{idx34}\", end='\\n\\n')\n",
    "print(f\"arr_3d[-1, 1] :\\n{idx35}\", end='\\n\\n')\n",
    "print(f\"arr_3d[0, 0, 0] :\\n{idx36}\", end='\\n\\n')\n",
    "print(f\"arr_3d[1, 0, 1] :\\n{idx37}\", end='\\n\\n')"
   ]
  },
  {
   "cell_type": "markdown",
   "metadata": {},
   "source": [
    "# NumPy - Slice\n",
    "Doc:\n",
    "   - [numpy.org/doc/stable/user/basics.indexing.html#slicing-and-striding](https://numpy.org/doc/stable/user/basics.indexing.html#slicing-and-striding)"
   ]
  },
  {
   "cell_type": "code",
   "execution_count": 36,
   "metadata": {},
   "outputs": [
    {
     "name": "stdout",
     "output_type": "stream",
     "text": [
      "arr_1d[0:3]    : [8 9 0]\n",
      "arr_1d[:3]     : [8 9 0]\n",
      "arr_1d[:3:]    : [8 9 0]\n",
      "arr_1d[:3:1]   : [8 9 0]\n",
      "arr_1d[0:3:1]  : [8 9 0]\n",
      "arr_1d[5:8]    : [6 4 2]\n",
      "arr_1d[5:]     : [6 4 2]\n",
      "arr_1d[5:8:]   : [6 4 2]\n",
      "arr_1d[5::]    : [6 4 2]\n",
      "arr_1d[5::1]   : [6 4 2]\n",
      "arr_1d[5:1000] : [6 4 2]\n"
     ]
    }
   ],
   "source": [
    "arr_1d = np.array([8, 9, 0, 3, 1, 6, 4, 2])\n",
    "\n",
    "slc_11 = arr_1d[0:3]      # [8 9 0]\n",
    "slc_12 = arr_1d[:3]       # [8 9 0]\n",
    "slc_13 = arr_1d[:3:]      # [8 9 0]\n",
    "slc_14 = arr_1d[:3:1]     # [8 9 0]\n",
    "slc_15 = arr_1d[0:3:1]    # [8 9 0]\n",
    "slc_16 = arr_1d[5:8]      # [6 4 2]\n",
    "slc_17 = arr_1d[5:]       # [6 4 2]\n",
    "slc_18 = arr_1d[5:8:]     # [6 4 2]\n",
    "slc_19 = arr_1d[5::]      # [6 4 2]\n",
    "slc_110 = arr_1d[5::1]    # [6 4 2]\n",
    "slc_111 = arr_1d[5:1000]  # [6 4 2]\n",
    "\n",
    "# log\n",
    "print(f\"arr_1d[0:3]    : {slc_11}\")\n",
    "print(f\"arr_1d[:3]     : {slc_12}\")\n",
    "print(f\"arr_1d[:3:]    : {slc_13}\")\n",
    "print(f\"arr_1d[:3:1]   : {slc_14}\")\n",
    "print(f\"arr_1d[0:3:1]  : {slc_15}\")\n",
    "print(f\"arr_1d[5:8]    : {slc_16}\")\n",
    "print(f\"arr_1d[5:]     : {slc_17}\")\n",
    "print(f\"arr_1d[5:8:]   : {slc_18}\")\n",
    "print(f\"arr_1d[5::]    : {slc_19}\")\n",
    "print(f\"arr_1d[5::1]   : {slc_110}\")\n",
    "print(f\"arr_1d[5:1000] : {slc_111}\")"
   ]
  },
  {
   "cell_type": "code",
   "execution_count": 37,
   "metadata": {},
   "outputs": [
    {
     "name": "stdout",
     "output_type": "stream",
     "text": [
      "arr_1d[0, 0:2] :\n",
      "[2 3]\n",
      "\n",
      "arr_1d[0, :2] :\n",
      "[2 3]\n",
      "\n",
      "arr_1d[0:2, 1:3] :\n",
      "[[3 4]\n",
      " [9 8]]\n",
      "\n",
      "arr_1d[:2, 1:] :\n",
      "[[3 4]\n",
      " [9 8]]\n",
      "\n",
      "arr_1d[0:3, 1] :\n",
      "[3 9 5]\n",
      "\n",
      "arr_1d[:3, 1] :\n",
      "[3 9 5]\n",
      "\n",
      "arr_1d[0:, 1] :\n",
      "[3 9 5]\n",
      "\n",
      "arr_1d[:, 1] :\n",
      "[3 9 5]\n"
     ]
    }
   ],
   "source": [
    "arr_2d = np.array([[2, 3, 4], [7, 9, 8], [6, 5, 0]])\n",
    "\n",
    "slc_21 = arr_2d[0, 0:2]    # [2 3]\n",
    "slc_22 = arr_2d[0, :2]     # [2 3]\n",
    "slc_23 = arr_2d[0:2, 1:3]  # [[3 4] [9 8]]\n",
    "slc_24 = arr_2d[:2, 1:]    # [[3 4] [9 8]]\n",
    "slc_25 = arr_2d[0:3, 1]    # [3 9 5]\n",
    "slc_26 = arr_2d[:3, 1]     # [3 9 5]\n",
    "slc_27 = arr_2d[0:, 1]     # [3 9 5]\n",
    "slc_28 = arr_2d[:, 1]      # [3 9 5]\n",
    "\n",
    "# log\n",
    "print(f\"arr_1d[0, 0:2] :\\n{slc_21}\", end='\\n\\n')\n",
    "print(f\"arr_1d[0, :2] :\\n{slc_22}\", end='\\n\\n')\n",
    "print(f\"arr_1d[0:2, 1:3] :\\n{slc_23}\", end='\\n\\n')\n",
    "print(f\"arr_1d[:2, 1:] :\\n{slc_24}\", end='\\n\\n')\n",
    "print(f\"arr_1d[0:3, 1] :\\n{slc_25}\", end='\\n\\n')\n",
    "print(f\"arr_1d[:3, 1] :\\n{slc_26}\", end='\\n\\n')\n",
    "print(f\"arr_1d[0:, 1] :\\n{slc_27}\", end='\\n\\n')\n",
    "print(f\"arr_1d[:, 1] :\\n{slc_28}\")"
   ]
  },
  {
   "cell_type": "code",
   "execution_count": 38,
   "metadata": {},
   "outputs": [
    {
     "name": "stdout",
     "output_type": "stream",
     "text": [
      "arr_1d[0, 0, 0:2] :\n",
      "[2 3]\n",
      "\n",
      "arr_1d[0, 0, 0:] :\n",
      "[2 3]\n",
      "\n",
      "arr_1d[0, 0, :2] :\n",
      "[2 3]\n",
      "\n",
      "arr_1d[0, 0, :] :\n",
      "[2 3]\n",
      "\n",
      "arr_1d[0, 0:2, 1] :\n",
      "[3 4]\n",
      "\n",
      "arr_1d[0, :, 1] :\n",
      "[3 4]\n",
      "\n",
      "arr_1d[0, :, :] :\n",
      "[[2 3]\n",
      " [0 4]]\n",
      "\n",
      "arr_1d[0] :\n",
      "[[2 3]\n",
      " [0 4]]\n",
      "\n",
      "arr_1d[0:2, 0, 0:2] :\n",
      "[[2 3]\n",
      " [7 8]]\n",
      "\n",
      "arr_1d[:, 0, :] :\n",
      "[[2 3]\n",
      " [7 8]]\n"
     ]
    }
   ],
   "source": [
    "arr_3d = np.array([[[2, 3], [0, 4]], [[7, 8], [4, 2]]])\n",
    "\n",
    "slc_31 = arr_3d[0, 0, 0:2]    # [2 3]\n",
    "slc_32 = arr_3d[0, 0, 0:]     # [2 3]\n",
    "slc_33 = arr_3d[0, 0, :2]     # [2 3]\n",
    "slc_34 = arr_3d[0, 0, :]      # [2 3]\n",
    "slc_35 = arr_3d[0, 0:2, 1]    # [3 4]\n",
    "slc_36 = arr_3d[0, :, 1]      # [3 4]\n",
    "slc_37 = arr_3d[0, :, :]      # [[2 3] [0 4]]  /  Same as <arr_3d[0, ...]>\n",
    "slc_38 = arr_3d[0]            # [[2 3] [0 4]]\n",
    "slc_39 = arr_3d[0:2, 0, 0:2]  # [[2 3] [7 8]]\n",
    "slc_310 = arr_3d[:, 0, :]     # [[2 3] [7 8]]\n",
    "\n",
    "# log\n",
    "print(f\"arr_1d[0, 0, 0:2] :\\n{slc_31}\", end='\\n\\n')\n",
    "print(f\"arr_1d[0, 0, 0:] :\\n{slc_32}\", end='\\n\\n')\n",
    "print(f\"arr_1d[0, 0, :2] :\\n{slc_33}\", end='\\n\\n')\n",
    "print(f\"arr_1d[0, 0, :] :\\n{slc_34}\", end='\\n\\n')\n",
    "print(f\"arr_1d[0, 0:2, 1] :\\n{slc_35}\", end='\\n\\n')\n",
    "print(f\"arr_1d[0, :, 1] :\\n{slc_36}\", end='\\n\\n')\n",
    "print(f\"arr_1d[0, :, :] :\\n{slc_37}\", end='\\n\\n')\n",
    "print(f\"arr_1d[0] :\\n{slc_38}\", end='\\n\\n')\n",
    "print(f\"arr_1d[0:2, 0, 0:2] :\\n{slc_39}\", end='\\n\\n')\n",
    "print(f\"arr_1d[:, 0, :] :\\n{slc_310}\")"
   ]
  },
  {
   "cell_type": "markdown",
   "metadata": {},
   "source": [
    "# NumPy - Mask & Filter"
   ]
  },
  {
   "cell_type": "code",
   "execution_count": 39,
   "metadata": {},
   "outputs": [],
   "source": [
    "arr1 = np.array([1, 5, 2, 4, 2])\n",
    "arr2 = np.array([[1, 2, 3], [4, 5, 6], [7, 8, 9]])"
   ]
  },
  {
   "cell_type": "code",
   "execution_count": 40,
   "metadata": {},
   "outputs": [
    {
     "name": "stdout",
     "output_type": "stream",
     "text": [
      "filtered_arr1 : [5, 4]\n",
      "filtered_arr2 : [2, 4, 6, 8]\n"
     ]
    }
   ],
   "source": [
    "# Python way\n",
    "filtered_arr1 = list(filter(lambda v: v > 2, arr1.tolist()))\n",
    "filtered_arr2 = list(filter(lambda v: v % 2 == 0, arr2.ravel().tolist()))\n",
    "\n",
    "# log\n",
    "print(f\"filtered_arr1 : {filtered_arr1}\")\n",
    "print(f\"filtered_arr2 : {filtered_arr2}\")"
   ]
  },
  {
   "cell_type": "code",
   "execution_count": 41,
   "metadata": {},
   "outputs": [
    {
     "name": "stdout",
     "output_type": "stream",
     "text": [
      "filtered_arr3 : [5 4]\n",
      "filtered_arr4 : [2 4 6 8]\n"
     ]
    }
   ],
   "source": [
    "# NumPy way\n",
    "filtered_arr3 = arr1[arr1 > 2]\n",
    "filtered_arr4 = arr2[arr2 % 2 == 0]\n",
    "\n",
    "# log\n",
    "print(f\"filtered_arr3 : {filtered_arr3}\")\n",
    "print(f\"filtered_arr4 : {filtered_arr4}\")"
   ]
  },
  {
   "cell_type": "markdown",
   "metadata": {},
   "source": [
    "# NumPy - Advanced index & Slice\n",
    "Doc:\n",
    "   - [numpy.org/doc/stable/user/basics.indexing.html#advanced-indexing](https://numpy.org/doc/stable/user/basics.indexing.html#advanced-indexing)"
   ]
  },
  {
   "cell_type": "markdown",
   "metadata": {},
   "source": [
    "## Integer array indexing"
   ]
  },
  {
   "cell_type": "code",
   "execution_count": 42,
   "metadata": {},
   "outputs": [
    {
     "name": "stdout",
     "output_type": "stream",
     "text": [
      "arr_1d[[0, 1, 2]]           : [1 2 3]\n",
      "arr_1d[np.array([0, 1, 2])] : [1 2 3]\n",
      "arr_1d[[0, 4, 7]]           : [1 5 8]\n",
      "arr_1d[[-1, -2, -3]]        : [9 8 7]\n"
     ]
    }
   ],
   "source": [
    "arr_1d = np.array([1, 2, 3, 4, 5, 6, 7, 8, 9])\n",
    "\n",
    "iai_11 = arr_1d[[0, 1, 2]]            # [1 2 3]\n",
    "iai_12 = arr_1d[np.array([0, 1, 2])]  # [1 2 3]\n",
    "iai_13 = arr_1d[[0, 4, 7]]            # [1 5 8]\n",
    "iai_14 = arr_1d[[-1, -2, -3]]         # [9 8 7]\n",
    "\n",
    "# log\n",
    "print(f\"arr_1d[[0, 1, 2]]           : {iai_11}\")\n",
    "print(f\"arr_1d[np.array([0, 1, 2])] : {iai_12}\")\n",
    "print(f\"arr_1d[[0, 4, 7]]           : {iai_13}\")\n",
    "print(f\"arr_1d[[-1, -2, -3]]        : {iai_14}\")"
   ]
  },
  {
   "cell_type": "code",
   "execution_count": 43,
   "metadata": {},
   "outputs": [
    {
     "name": "stdout",
     "output_type": "stream",
     "text": [
      "arr_2d[[0, 2]] :\n",
      "[[1 2 3]\n",
      " [7 8 9]]\n",
      "\n",
      "arr_2d[[0, 2], 0] :\n",
      "[[1 2 3]\n",
      " [7 8 9]]\n",
      "\n",
      "arr_2d[[0, 2], [1, 2]] :\n",
      "[[1 2 3]\n",
      " [7 8 9]]\n",
      "\n",
      "arr_2d[1, [0, 2]] :\n",
      "[[1 2 3]\n",
      " [7 8 9]]\n",
      "\n",
      "arr_2d[[[0, 0], [2, 2]], [[0, 2], [0, 2]]] :\n",
      "[[1 2 3]\n",
      " [7 8 9]]\n",
      "\n"
     ]
    }
   ],
   "source": [
    "arr_2d = np.array([[1, 2, 3], [4, 5, 6], [7, 8, 9]])\n",
    "\n",
    "iai_21 = arr_2d[[0, 2]]                              # [[1 2 3] [7 8 9]]\n",
    "iai_22 = arr_2d[[0, 2], 0]                           # [1 7]\n",
    "iai_23 = arr_2d[[0, 2], [1, 2]]                      # [2 9]\n",
    "iai_24 = arr_2d[1, [0, 2]]                           # [4 6]\n",
    "iai_25 = arr_2d[[[0, 0], [2, 2]], [[0, 2], [0, 2]]]  # [[1 3] [7 9]]\n",
    "\n",
    "# log\n",
    "print(f\"arr_2d[[0, 2]] :\\n{iai_21}\", end='\\n\\n')\n",
    "print(f\"arr_2d[[0, 2], 0] :\\n{iai_21}\", end='\\n\\n')\n",
    "print(f\"arr_2d[[0, 2], [1, 2]] :\\n{iai_21}\", end='\\n\\n')\n",
    "print(f\"arr_2d[1, [0, 2]] :\\n{iai_21}\", end='\\n\\n')\n",
    "print(f\"arr_2d[[[0, 0], [2, 2]], [[0, 2], [0, 2]]] :\\n{iai_21}\", end='\\n\\n')"
   ]
  },
  {
   "cell_type": "markdown",
   "metadata": {},
   "source": [
    "## Boolean array indexing"
   ]
  },
  {
   "cell_type": "code",
   "execution_count": 56,
   "metadata": {},
   "outputs": [
    {
     "name": "stdout",
     "output_type": "stream",
     "text": [
      "arr_1d[boolean_idx_1] : [2 4 6 8]\n",
      "arr_1d[boolean_idx_2] : [6 7 8 9]\n",
      "arr_1d[boolean_idx_3] : [1 2 5 6 9]\n"
     ]
    }
   ],
   "source": [
    "arr_1d = np.array([1, 2, 3, 4, 5, 6, 7, 8, 9])\n",
    "\n",
    "# boolean indexing\n",
    "boolean_idx_1 = arr_1d % 2 == 0  # [False True False True False True False True False]\n",
    "boolean_idx_2 = arr_1d > 5       # [False False False False False True True True True]\n",
    "boolean_idx_3 = [True, True, False, False, True, True, False, False, True]\n",
    "\n",
    "# indexing\n",
    "bai_11 = arr_1d[boolean_idx_1]  # [2 4 6 8]\n",
    "bai_12 = arr_1d[boolean_idx_2]  # [6 7 8 9]\n",
    "bai_13 = arr_1d[boolean_idx_3]  # [1 2 5 6 9]\n",
    "\n",
    "# log\n",
    "print(f\"arr_1d[boolean_idx_1] : {bai_11}\")\n",
    "print(f\"arr_1d[boolean_idx_2] : {bai_12}\")\n",
    "print(f\"arr_1d[boolean_idx_3] : {bai_13}\")"
   ]
  },
  {
   "cell_type": "code",
   "execution_count": 55,
   "metadata": {},
   "outputs": [
    {
     "name": "stdout",
     "output_type": "stream",
     "text": [
      "arr_2d[boolean_idx_4]                : [4 5 6 7 8 9]\n",
      "arr_2d[boolean_idx_5, boolean_idx_6] : [1 2]\n"
     ]
    }
   ],
   "source": [
    "arr_2d = np.array([[1, 2, 3], [4, 5, 6], [7, 8, 9]])\n",
    "\n",
    "# boolean indexing\n",
    "boolean_idx_4 = arr_2d > 3                   # [False False False True True True True True True]\n",
    "boolean_idx_5 = np.sum(arr_2d, axis=1) < 15  # [True False False]\n",
    "boolean_idx_6 = np.sum(arr_2d, axis=0) < 16  # [True True  False]\n",
    "\n",
    "# indexing\n",
    "bai_21 = arr_2d[boolean_idx_4]\n",
    "bai_22 = arr_2d[boolean_idx_5, boolean_idx_6]\n",
    "\n",
    "# log\n",
    "print(f\"arr_2d[boolean_idx_4]                : {bai_21}\")\n",
    "print(f\"arr_2d[boolean_idx_5, boolean_idx_6] : {bai_22}\")"
   ]
  }
 ],
 "metadata": {
  "kernelspec": {
   "display_name": "Python 3",
   "language": "python",
   "name": "python3"
  },
  "language_info": {
   "codemirror_mode": {
    "name": "ipython",
    "version": 3
   },
   "file_extension": ".py",
   "mimetype": "text/x-python",
   "name": "python",
   "nbconvert_exporter": "python",
   "pygments_lexer": "ipython3",
   "version": "3.12.3"
  }
 },
 "nbformat": 4,
 "nbformat_minor": 2
}
