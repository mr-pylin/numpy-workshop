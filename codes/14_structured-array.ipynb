{
 "cells": [
  {
   "cell_type": "markdown",
   "metadata": {},
   "source": [
    "# Dependencies"
   ]
  },
  {
   "cell_type": "code",
   "execution_count": 1,
   "metadata": {},
   "outputs": [],
   "source": [
    "import numpy as np"
   ]
  },
  {
   "cell_type": "markdown",
   "metadata": {},
   "source": [
    "# NumPy - Structured Array\n",
    "Doc:\n",
    "   - [numpy.org/doc/stable/user/basics.rec.html](https://numpy.org/doc/stable/user/basics.rec.html)"
   ]
  },
  {
   "cell_type": "markdown",
   "metadata": {},
   "source": [
    "## Creating a Simple Structured Array\n",
    "\n",
    "Data Types:\n",
    "| Code | Description                   | Size (Bytes) |\n",
    "| ---- | ----------------------------- | ------------ |\n",
    "| b    | Boolean                       | 1            |\n",
    "| i1   | Integer                       | 1            |\n",
    "| i2   | Integer                       | 2            |\n",
    "| i4   | Integer                       | 4            |\n",
    "| i8   | Integer                       | 8            |\n",
    "| u1   | Unsigned Integer              | 1            |\n",
    "| u2   | Unsigned Integer              | 2            |\n",
    "| u4   | Unsigned Integer              | 4            |\n",
    "| u8   | Unsigned Integer              | 8            |\n",
    "| f4   | Floating-Point                | 4            |\n",
    "| f8   | Floating-Point                | 8            |\n",
    "| c8   | Complex Floating-Point        | 8            |\n",
    "| c16  | Complex Floating-Point        | 16           |\n",
    "| S<n> | String (fixed-length)         | n            |\n",
    "| U<n> | Unicode String (fixed-length) | 4 * n        |\n",
    "| O    | Object (Python objects)       | Variable     |\n",
    "| M    | Date-time                     | 8            |\n",
    "| m    | Time delta                    | 8            |"
   ]
  },
  {
   "cell_type": "code",
   "execution_count": 2,
   "metadata": {},
   "outputs": [
    {
     "name": "stdout",
     "output_type": "stream",
     "text": [
      "sa_1          : [('Alice', 30) ('Bob', 25)]\n",
      "type(sa_1)    : <class 'numpy.ndarray'>\n",
      "sa_1.dtype    : [('name', '<U10'), ('age', '<i4')]\n",
      "sa_1.shape    : (2,)\n",
      "sa_1.ndim     : 1\n",
      "sa_1.nbytes   : 88\n",
      "sa_1.size     : 2\n",
      "sa_1.tolist() : [('Alice', 30), ('Bob', 25)]\n"
     ]
    }
   ],
   "source": [
    "sa_1 = np.array(\n",
    "    [('Alice', 30), ('Bob', 25)],\n",
    "    dtype=[('name', 'U10'), ('age', 'i4')]\n",
    ")\n",
    "\n",
    "# log\n",
    "print(f\"sa_1          : {sa_1}\")\n",
    "print(f\"type(sa_1)    : {type(sa_1)}\")\n",
    "print(f\"sa_1.dtype    : {sa_1.dtype}\")\n",
    "print(f\"sa_1.shape    : {sa_1.shape}\")\n",
    "print(f\"sa_1.ndim     : {sa_1.ndim}\")\n",
    "print(f\"sa_1.nbytes   : {sa_1.nbytes}\")\n",
    "print(f\"sa_1.size     : {sa_1.size}\")\n",
    "print(f\"sa_1.tolist() : {sa_1.tolist()}\")"
   ]
  },
  {
   "cell_type": "markdown",
   "metadata": {},
   "source": [
    "## Accessing Data"
   ]
  },
  {
   "cell_type": "code",
   "execution_count": 3,
   "metadata": {},
   "outputs": [
    {
     "name": "stdout",
     "output_type": "stream",
     "text": [
      "field_1: ['Alice' 'Bob']\n",
      "field_2: [30 25]\n"
     ]
    }
   ],
   "source": [
    "st_2 = np.array([('Alice', 30), ('Bob', 25)], dtype=[('name', 'U10'), ('age', 'i4')])\n",
    "\n",
    "# index\n",
    "index_1 = st_2[0]\n",
    "index_1 = st_2[1]\n",
    "\n",
    "# fields\n",
    "field_1 = st_2['name']\n",
    "field_2 = st_2['age']\n",
    "\n",
    "# log\n",
    "print(f\"field_1: {field_1}\")\n",
    "print(f\"field_2: {field_2}\")"
   ]
  },
  {
   "cell_type": "markdown",
   "metadata": {},
   "source": [
    "## Filtering Structured Arrays"
   ]
  },
  {
   "cell_type": "code",
   "execution_count": 4,
   "metadata": {},
   "outputs": [
    {
     "name": "stdout",
     "output_type": "stream",
     "text": [
      "st_4: [('Charlie', 35)]\n"
     ]
    }
   ],
   "source": [
    "st_3 = np.array([('Alice', 30), ('Bob', 25), ('Charlie', 35)], dtype=[('name', 'U10'), ('age', 'i4')])\n",
    "\n",
    "# filter\n",
    "st_4 = st_3[st_3['age'] > 30]\n",
    "\n",
    "# log\n",
    "print(f\"st_4: {st_4}\")"
   ]
  },
  {
   "cell_type": "markdown",
   "metadata": {},
   "source": [
    "## Modifying Structured Arrays"
   ]
  },
  {
   "cell_type": "code",
   "execution_count": 5,
   "metadata": {},
   "outputs": [
    {
     "name": "stdout",
     "output_type": "stream",
     "text": [
      "st_5: [('Alice', 31) ('Sarah', 25)]\n"
     ]
    }
   ],
   "source": [
    "st_5 = np.array([('Alice', 30), ('Bob', 25)], dtype=[('name', 'U10'), ('age', 'i4')])\n",
    "\n",
    "# modify\n",
    "st_5[0]['age'] = 31\n",
    "st_5[1]['name'] = \"Sarah\"\n",
    "\n",
    "# log\n",
    "print(f\"st_5: {st_5}\")"
   ]
  },
  {
   "cell_type": "markdown",
   "metadata": {},
   "source": [
    "## Combining Structured Arrays"
   ]
  },
  {
   "cell_type": "code",
   "execution_count": 6,
   "metadata": {},
   "outputs": [
    {
     "name": "stdout",
     "output_type": "stream",
     "text": [
      "st_8: [('Alice', 30) ('Bob', 25)]\n"
     ]
    }
   ],
   "source": [
    "dtype = [('name', 'U10'), ('age', 'i4')]\n",
    "st_6 = np.array([('Alice', 30)], dtype=dtype)\n",
    "st_7 = np.array([('Bob', 25)], dtype=dtype)\n",
    "\n",
    "# combine\n",
    "st_8 = np.concatenate((st_6, st_7))\n",
    "\n",
    "# log\n",
    "print(f\"st_8: {st_8}\")"
   ]
  },
  {
   "cell_type": "markdown",
   "metadata": {},
   "source": [
    "## Using Structured Arrays with NumPy Functions"
   ]
  },
  {
   "cell_type": "code",
   "execution_count": 7,
   "metadata": {},
   "outputs": [
    {
     "name": "stdout",
     "output_type": "stream",
     "text": [
      "mean_1: 27.5\n",
      "sum_1 : 55\n"
     ]
    }
   ],
   "source": [
    "dtype = [('name', 'U10'), ('age', 'i4')]\n",
    "st_9 = np.array([('Alice', 30), ('Bob', 25)], dtype=dtype)\n",
    "\n",
    "# numpy functions\n",
    "mean_1 = np.mean(st_9['age'])\n",
    "sum_1 = np.sum(st_9['age'])\n",
    "\n",
    "# log\n",
    "print(f\"mean_1: {mean_1}\")\n",
    "print(f\"sum_1 : {sum_1}\")"
   ]
  }
 ],
 "metadata": {
  "kernelspec": {
   "display_name": "Python 3",
   "language": "python",
   "name": "python3"
  },
  "language_info": {
   "codemirror_mode": {
    "name": "ipython",
    "version": 3
   },
   "file_extension": ".py",
   "mimetype": "text/x-python",
   "name": "python",
   "nbconvert_exporter": "python",
   "pygments_lexer": "ipython3",
   "version": "3.12.3"
  }
 },
 "nbformat": 4,
 "nbformat_minor": 2
}
