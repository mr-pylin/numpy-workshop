{
 "cells": [
  {
   "cell_type": "markdown",
   "metadata": {},
   "source": [
    "📝 **Author:** Amirhossein Heydari - 📧 **Email:** AmirhosseinHeydari78@gmail.com - 📍 **Linktree:** [linktr.ee/mr_pylin](https://linktr.ee/mr_pylin)\n",
    "\n",
    "---"
   ]
  },
  {
   "cell_type": "markdown",
   "metadata": {},
   "source": [
    "# Dependencies"
   ]
  },
  {
   "cell_type": "code",
   "execution_count": 40,
   "metadata": {},
   "outputs": [],
   "source": [
    "import numpy as np"
   ]
  },
  {
   "cell_type": "code",
   "execution_count": 41,
   "metadata": {},
   "outputs": [],
   "source": [
    "rng = np.random.default_rng(seed=42)"
   ]
  },
  {
   "cell_type": "markdown",
   "metadata": {},
   "source": [
    "# NumPy - Sort, Search, Count\n",
    "📝 Doc:\n",
    "   - Sorting, searching, and counting: [numpy.org/doc/stable/reference/routines.sort.html](https://numpy.org/doc/stable/reference/routines.sort.html)"
   ]
  },
  {
   "cell_type": "markdown",
   "metadata": {},
   "source": [
    "## Sorting\n",
    "\n",
    "<table style=\"margin: 0 auto;\">\n",
    "   <thead>\n",
    "      <tr>\n",
    "         <th style=\"text-align: center;\">Function</th>\n",
    "         <th style=\"text-align: center;\">Description</th>\n",
    "         <th style=\"text-align: center;\">Details</th>\n",
    "      </tr>\n",
    "   </thead>\n",
    "   <tbody>\n",
    "      <tr>\n",
    "         <td><code>np.sort</code></td>\n",
    "         <td>Return a sorted copy of an array</td>\n",
    "         <td style=\"text-align: center;\"><a href=\"https://numpy.org/doc/stable/reference/generated/numpy.sort.html\">link</a></td>\n",
    "      </tr>\n",
    "      <tr>\n",
    "         <td><code>np.lexsort</code></td>\n",
    "         <td>Perform an indirect stable sort using a sequence of keys</td>\n",
    "         <td style=\"text-align: center;\"><a href=\"https://numpy.org/doc/stable/reference/generated/numpy.lexsort.html\">link</a></td>\n",
    "      </tr>\n",
    "      <tr>\n",
    "         <td><code>np.argsort</code></td>\n",
    "         <td>Returns the indices that would sort an array</td>\n",
    "         <td style=\"text-align: center;\"><a href=\"https://numpy.org/doc/stable/reference/generated/numpy.argsort.html\">link</a></td>\n",
    "      </tr>\n",
    "      <tr>\n",
    "         <td><code>np.ndarray.sort</code></td>\n",
    "         <td>Sort an array in-place</td>\n",
    "         <td style=\"text-align: center;\"><a href=\"https://numpy.org/doc/stable/reference/generated/numpy.ndarray.sort.html\">link</a></td>\n",
    "      </tr>\n",
    "      <tr>\n",
    "         <td><code>np.partition</code></td>\n",
    "         <td>Return a partitioned copy of an array</td>\n",
    "         <td style=\"text-align: center;\"><a href=\"https://numpy.org/doc/stable/reference/generated/numpy.partition.html\">link</a></td>\n",
    "      </tr>\n",
    "      <tr>\n",
    "         <td><code>np.argpartition</code></td>\n",
    "         <td>Perform an indirect partition along the given axis using the algorithm specified by the <em>kind</em> keyword</td>\n",
    "         <td style=\"text-align: center;\"><a href=\"https://numpy.org/doc/stable/reference/generated/numpy.argpartition.html\">link</a></td>\n",
    "      </tr>\n",
    "   </tbody>\n",
    "</table>\n",
    "\n",
    "📝 Sort Details:\n",
    "   - quick sort: [javatpoint.com/quick-sort](https://www.javatpoint.com/quick-sort)\n",
    "   - merge sort: [javatpoint.com/merge-sort](https://www.javatpoint.com/merge-sort)\n",
    "   - heap sort : [javatpoint.com/heap-sort](https://www.javatpoint.com/heap-sort)"
   ]
  },
  {
   "cell_type": "code",
   "execution_count": 42,
   "metadata": {},
   "outputs": [
    {
     "name": "stdout",
     "output_type": "stream",
     "text": [
      "arr_1d_1: [ 9 76 65 44 43 85  9 69 20 10]\n",
      "--------------------------------------------------\n",
      "arr_2d_1:\n",
      "[[52 96 73 75]\n",
      " [71 78 51 13]\n",
      " [83 45 50 37]]\n",
      "--------------------------------------------------\n",
      "sort_1:\n",
      "[ 9  9 10 20 43 44 65 69 76 85]\n",
      "--------------------------------------------------\n",
      "sort_2:\n",
      "[ 9  9 10 20 43 44 65 69 76 85]\n",
      "--------------------------------------------------\n",
      "sort_3:\n",
      "[ 9  9 10 20 43 44 65 69 76 85]\n",
      "--------------------------------------------------\n",
      "sort_4:\n",
      "[13 37 45 50 51 52 71 73 75 78 83 96]\n",
      "--------------------------------------------------\n",
      "sort_5:\n",
      "[[52 45 50 13]\n",
      " [71 78 51 37]\n",
      " [83 96 73 75]]\n",
      "--------------------------------------------------\n",
      "sort_6:\n",
      "[[52 73 75 96]\n",
      " [13 51 71 78]\n",
      " [37 45 50 83]]\n"
     ]
    }
   ],
   "source": [
    "arr_1d_1 = rng.integers(low=1, high=99, size=(10))\n",
    "arr_2d_1 = rng.integers(low=1, high=99, size=(3, 4))\n",
    "\n",
    "# sort\n",
    "sort_1 = np.sort(arr_1d_1)\n",
    "sort_2 = np.sort(arr_1d_1, kind='mergesort')\n",
    "sort_3 = np.sort(arr_1d_1, kind='heapsort')\n",
    "sort_4 = np.sort(arr_2d_1, axis=None)\n",
    "sort_5 = np.sort(arr_2d_1, axis=0)\n",
    "sort_6 = np.sort(arr_2d_1, axis=1)\n",
    "\n",
    "# log\n",
    "print(f\"arr_1d_1: {arr_1d_1}\", end=f\"\\n{'-' * 50}\\n\")\n",
    "print(f\"arr_2d_1:\\n{arr_2d_1}\", end=f\"\\n{'-' * 50}\\n\")\n",
    "print(f\"sort_1:\\n{sort_1}\", end=f\"\\n{'-' * 50}\\n\")\n",
    "print(f\"sort_2:\\n{sort_2}\", end=f\"\\n{'-' * 50}\\n\")\n",
    "print(f\"sort_3:\\n{sort_3}\", end=f\"\\n{'-' * 50}\\n\")\n",
    "print(f\"sort_4:\\n{sort_4}\", end=f\"\\n{'-' * 50}\\n\")\n",
    "print(f\"sort_5:\\n{sort_5}\", end=f\"\\n{'-' * 50}\\n\")\n",
    "print(f\"sort_6:\\n{sort_6}\")"
   ]
  },
  {
   "cell_type": "code",
   "execution_count": 43,
   "metadata": {},
   "outputs": [
    {
     "name": "stdout",
     "output_type": "stream",
     "text": [
      "arr_1d_2:\n",
      "[18 91 77 64 40 81 54 44 45 23]\n",
      "--------------------------------------------------\n",
      "arr_1d_3:\n",
      "[0 1 2 3 4 5 6 7 8 9]\n",
      "--------------------------------------------------\n",
      "arr_2d_2:\n",
      "[[10 55 88  7]\n",
      " [85 82 28 62]\n",
      " [17 75 69 35]]\n",
      "--------------------------------------------------\n",
      "argsort_1:\n",
      "[0 9 4 7 8 6 3 2 5 1]\n",
      "--------------------------------------------------\n",
      "argsort_2:\n",
      "[ 3  0  8  6 11  1  7 10  9  5  4  2]\n",
      "--------------------------------------------------\n",
      "argsort_3:\n",
      "[[0 0 1 0]\n",
      " [2 2 2 2]\n",
      " [1 1 0 1]]\n",
      "--------------------------------------------------\n",
      "argsort_4:\n",
      "[[3 0 1 2]\n",
      " [2 3 1 0]\n",
      " [0 3 2 1]]\n",
      "--------------------------------------------------\n",
      "sort_1:\n",
      "[18 23 40 44 45 54 64 77 81 91]\n",
      "--------------------------------------------------\n",
      "sort_2:\n",
      "[0 9 4 7 8 6 3 2 5 1]\n",
      "--------------------------------------------------\n",
      "sort_3:\n",
      "[ 7 10 17 28 35 55 62 69 75 82 85 88]\n",
      "--------------------------------------------------\n",
      "sort_4:\n",
      "[[10 55 28  7]\n",
      " [17 75 69 35]\n",
      " [85 82 88 62]]\n",
      "--------------------------------------------------\n",
      "sort_5:\n",
      "[[ 7 10 55 88]\n",
      " [28 62 82 85]\n",
      " [17 35 69 75]]\n"
     ]
    }
   ],
   "source": [
    "arr_1d_2 = rng.integers(low=1, high=99, size=(10))\n",
    "arr_1d_3 = np.arange(stop=10)\n",
    "arr_2d_2 = rng.integers(low=1, high=99, size=(3, 4))\n",
    "\n",
    "# argsort\n",
    "argsort_1 = np.argsort(arr_1d_2)\n",
    "argsort_2 = np.argsort(arr_2d_2, axis=None)\n",
    "argsort_3 = np.argsort(arr_2d_2, axis=0)\n",
    "argsort_4 = np.argsort(arr_2d_2, axis=1)\n",
    "\n",
    "# sort by index\n",
    "sort_1 = arr_1d_2[argsort_1]\n",
    "sort_2 = arr_1d_3[argsort_1]\n",
    "sort_3 = arr_2d_2.flatten()[argsort_2]\n",
    "sort_4 = np.take_along_axis(arr=arr_2d_2, indices=argsort_3, axis=0)\n",
    "sort_5 = np.take_along_axis(arr=arr_2d_2, indices=argsort_4, axis=1)\n",
    "\n",
    "# log\n",
    "print(f\"arr_1d_2:\\n{arr_1d_2}\", end=f\"\\n{'-' * 50}\\n\")\n",
    "print(f\"arr_1d_3:\\n{arr_1d_3}\", end=f\"\\n{'-' * 50}\\n\")\n",
    "print(f\"arr_2d_2:\\n{arr_2d_2}\", end=f\"\\n{'-' * 50}\\n\")\n",
    "print(f\"argsort_1:\\n{argsort_1}\", end=f\"\\n{'-' * 50}\\n\")\n",
    "print(f\"argsort_2:\\n{argsort_2}\", end=f\"\\n{'-' * 50}\\n\")\n",
    "print(f\"argsort_3:\\n{argsort_3}\", end=f\"\\n{'-' * 50}\\n\")\n",
    "print(f\"argsort_4:\\n{argsort_4}\", end=f\"\\n{'-' * 50}\\n\")\n",
    "print(f\"sort_1:\\n{sort_1}\", end=f\"\\n{'-' * 50}\\n\")\n",
    "print(f\"sort_2:\\n{sort_2}\", end=f\"\\n{'-' * 50}\\n\")\n",
    "print(f\"sort_3:\\n{sort_3}\", end=f\"\\n{'-' * 50}\\n\")\n",
    "print(f\"sort_4:\\n{sort_4}\", end=f\"\\n{'-' * 50}\\n\")\n",
    "print(f\"sort_5:\\n{sort_5}\")"
   ]
  },
  {
   "cell_type": "code",
   "execution_count": 44,
   "metadata": {},
   "outputs": [
    {
     "name": "stdout",
     "output_type": "stream",
     "text": [
      "indices_1     : [3 1 2 0]\n",
      "sort_names_1  : ['David' 'Bob' 'Charlie' 'Alice']\n",
      "sort_grades_1 : [85 85 90 90]\n",
      "sort_ages_1   : [20 21 19 20]\n",
      "--------------------------------------------------\n",
      "indices_2     : [2 3 0 1]\n",
      "sort_names_2  : ['Charlie' 'David' 'Alice' 'Bob']\n",
      "sort_grades_2 : [90 85 90 85]\n",
      "sort_ages_2   : [19 20 20 21]\n"
     ]
    }
   ],
   "source": [
    "names = np.array(['Alice', 'Bob', 'Charlie', 'David'])\n",
    "grades = np.array([90, 85, 90, 85])\n",
    "ages = np.array([20, 21, 19, 20])\n",
    "\n",
    "# lexsort\n",
    "indices_1 = np.lexsort((ages, grades))\n",
    "sort_names_1 = names[indices_1]\n",
    "sort_grades_1 = grades[indices_1]\n",
    "sort_ages_1 = ages[indices_1]\n",
    "\n",
    "indices_2 = np.lexsort((grades, ages))\n",
    "sort_names_2 = names[indices_2]\n",
    "sort_grades_2 = grades[indices_2]\n",
    "sort_ages_2 = ages[indices_2]\n",
    "\n",
    "# log\n",
    "print(f\"indices_1     : {indices_1}\")\n",
    "print(f\"sort_names_1  : {sort_names_1}\")\n",
    "print(f\"sort_grades_1 : {sort_grades_1}\")\n",
    "print(f\"sort_ages_1   : {sort_ages_1}\", end=f\"\\n{'-' * 50}\\n\")\n",
    "print(f\"indices_2     : {indices_2}\")\n",
    "print(f\"sort_names_2  : {sort_names_2}\")\n",
    "print(f\"sort_grades_2 : {sort_grades_2}\")\n",
    "print(f\"sort_ages_2   : {sort_ages_2}\")"
   ]
  },
  {
   "cell_type": "code",
   "execution_count": 45,
   "metadata": {},
   "outputs": [
    {
     "name": "stdout",
     "output_type": "stream",
     "text": [
      "indices_1   : [3 1 2 0]\n",
      "sort_data_1 : ['David' 'Bob' 'Charlie' 'Alice']\n",
      "--------------------------------------------------\n",
      "indices_2   : [2 3 0 1]\n",
      "sort_data_2 : ['Charlie' 'David' 'Alice' 'Bob']\n"
     ]
    }
   ],
   "source": [
    "data = np.array(\n",
    "    [\n",
    "        ('Alice', 90, 20),\n",
    "        ('Bob', 85, 21),\n",
    "        ('Charlie', 90, 19),\n",
    "        ('David', 85, 20)\n",
    "    ],\n",
    "    dtype=[('name', 'U10'), ('grade', 'i4'), ('age', 'i4')]\n",
    ")\n",
    "\n",
    "# lexsort\n",
    "indices_1 = np.lexsort((data['age'], data['grade']))\n",
    "sort_data_1 = names[indices_1]\n",
    "\n",
    "indices_2 = np.lexsort((data['grade'], data['age']))\n",
    "sort_data_2 = names[indices_2]\n",
    "\n",
    "# log\n",
    "print(f\"indices_1   : {indices_1}\")\n",
    "print(f\"sort_data_1 : {sort_data_1}\", end=f\"\\n{'-' * 50}\\n\")\n",
    "print(f\"indices_2   : {indices_2}\")\n",
    "print(f\"sort_data_2 : {sort_data_2}\")"
   ]
  },
  {
   "cell_type": "code",
   "execution_count": 46,
   "metadata": {},
   "outputs": [
    {
     "name": "stdout",
     "output_type": "stream",
     "text": [
      "partition_1   : [1 1 2 3 4 5 5 6 6 7 7 9]\n",
      "argpartition_1: [ 0  8  7  4 11  1  5  6 10  3  2  9]\n",
      "partition_2   : [1 1 2 3 4 5 5 6 6 7 7 9]\n"
     ]
    }
   ],
   "source": [
    "arr_1d_4 = np.array([1, 5, 7, 7, 3, 5, 6, 2, 1, 9, 6, 4])\n",
    "\n",
    "# partition\n",
    "partition_1 = np.partition(arr_1d_4, kth=-1)\n",
    "\n",
    "# argpartition\n",
    "argpartition_1 = np.argpartition(arr_1d_4, kth=-1)\n",
    "partition_2 = arr_1d_4[argpartition_1]\n",
    "\n",
    "# log\n",
    "print(f\"partition_1   : {partition_1}\")\n",
    "print(f\"argpartition_1: {argpartition_1}\")\n",
    "print(f\"partition_2   : {partition_2}\")"
   ]
  },
  {
   "cell_type": "markdown",
   "metadata": {},
   "source": [
    "## Searching\n",
    "\n",
    "<table style=\"margin: 0 auto;\">\n",
    "   <thead>\n",
    "      <tr>\n",
    "         <th style=\"text-align: center;\">Function</th>\n",
    "         <th style=\"text-align: center;\">Description</th>\n",
    "         <th style=\"text-align: center;\">Details</th>\n",
    "      </tr>\n",
    "   </thead>\n",
    "   <tbody>\n",
    "      <tr>\n",
    "         <td><code>np.argmax</code></td>\n",
    "         <td>Returns the indices of the maximum values along an axis</td>\n",
    "         <td style=\"text-align: center;\"><a href=\"https://numpy.org/doc/stable/reference/generated/numpy.argmax.html\">link</a></td>\n",
    "      </tr>\n",
    "      <tr>\n",
    "         <td><code>np.argmin</code></td>\n",
    "         <td>Returns the indices of the minimum values along an axis</td>\n",
    "         <td style=\"text-align: center;\"><a href=\"https://numpy.org/doc/stable/reference/generated/numpy.argmin.html\">link</a></td>\n",
    "      </tr>\n",
    "      <tr>\n",
    "         <td><code>np.argwhere</code></td>\n",
    "         <td>Find the indices of array elements that are non-zero, grouped by element</td>\n",
    "         <td style=\"text-align: center;\"><a href=\"https://numpy.org/doc/stable/reference/generated/numpy.argwhere.html\">link</a></td>\n",
    "      </tr>\n",
    "      <tr>\n",
    "         <td><code>np.nonzero</code></td>\n",
    "         <td>Return the indices of the elements that are non-zero</td>\n",
    "         <td style=\"text-align: center;\"><a href=\"https://numpy.org/doc/stable/reference/generated/numpy.nonzero.html\">link</a></td>\n",
    "      </tr>\n",
    "      <tr>\n",
    "         <td><code>np.where</code></td>\n",
    "         <td>Return elements chosen from x or y depending on condition</td>\n",
    "         <td style=\"text-align: center;\"><a href=\"https://numpy.org/doc/stable/reference/generated/numpy.where.html\">link</a></td>\n",
    "      </tr>\n",
    "      <tr>\n",
    "         <td><code>np.searchsorted</code></td>\n",
    "         <td>Find indices where elements should be inserted to maintain order</td>\n",
    "         <td style=\"text-align: center;\"><a href=\"https://numpy.org/doc/stable/reference/generated/numpy.searchsorted.html\">link</a></td>\n",
    "      </tr>\n",
    "      <tr>\n",
    "         <td><code>np.extract</code></td>\n",
    "         <td>Return the elements of an array that satisfy some condition</td>\n",
    "         <td style=\"text-align: center;\"><a href=\"https://numpy.org/doc/stable/reference/generated/numpy.extract.html\">link</a></td>\n",
    "      </tr>\n",
    "   </tbody>\n",
    "</table>"
   ]
  },
  {
   "cell_type": "code",
   "execution_count": 47,
   "metadata": {},
   "outputs": [
    {
     "name": "stdout",
     "output_type": "stream",
     "text": [
      "arr_1d_5:\n",
      "[ 6 96 44 88 67 77 75 19 36 46]\n",
      "--------------------------------------------------\n",
      "arr_2d_4:\n",
      "[[49  4 54 15]\n",
      " [73 67 91 73]\n",
      " [36 95 40 32]]\n",
      "argmax_1: 1\n",
      "argmax_2: 1\n",
      "argmax_3: [1 2 1 1]\n",
      "argmax_4: [2 2 1]\n",
      "argmin_1: 0\n",
      "argmin_2: 0\n",
      "argmin_3: [2 0 2 0]\n",
      "argmin_4: [1 1 3]\n"
     ]
    }
   ],
   "source": [
    "arr_1d_5 = rng.integers(low=0, high=99, size=(10))\n",
    "arr_2d_4 = rng.integers(low=0, high=99, size=(3, 4))\n",
    "\n",
    "# argmax\n",
    "argmax_1 = np.argmax(arr_1d_5)\n",
    "argmax_2 = np.argmax(arr_1d_5)\n",
    "argmax_3 = np.argmax(arr_2d_4, axis=0)\n",
    "argmax_4 = np.argmax(arr_2d_4, axis=1)\n",
    "\n",
    "# argmin\n",
    "argmin_1 = np.argmin(arr_1d_5)\n",
    "argmin_2 = np.argmin(arr_1d_5)\n",
    "argmin_3 = np.argmin(arr_2d_4, axis=0)\n",
    "argmin_4 = np.argmin(arr_2d_4, axis=1)\n",
    "\n",
    "# log\n",
    "print(f\"arr_1d_5:\\n{arr_1d_5}\", end=f\"\\n{'-' * 50}\\n\")\n",
    "print(f\"arr_2d_4:\\n{arr_2d_4}\")\n",
    "print(f\"argmax_1: {argmax_1}\")\n",
    "print(f\"argmax_2: {argmax_2}\")\n",
    "print(f\"argmax_3: {argmax_3}\")\n",
    "print(f\"argmax_4: {argmax_4}\")\n",
    "print(f\"argmin_1: {argmin_1}\")\n",
    "print(f\"argmin_2: {argmin_2}\")\n",
    "print(f\"argmin_3: {argmin_3}\")\n",
    "print(f\"argmin_4: {argmin_4}\")"
   ]
  },
  {
   "cell_type": "code",
   "execution_count": 48,
   "metadata": {},
   "outputs": [
    {
     "name": "stdout",
     "output_type": "stream",
     "text": [
      "arr_1d_6:\n",
      "[89 36  7 46 78 18 45 12 67 47]\n",
      "--------------------------------------------------\n",
      "arr_2d_5:\n",
      "[[32 22 55 66]\n",
      " [93 43 15 82]\n",
      " [62 69  9 30]]\n",
      "where_1:\n",
      "(array([0, 4, 8]),)\n",
      "--------------------------------------------------\n",
      "where_2:\n",
      "[1 0 0 0 1 0 0 0 1 0]\n",
      "--------------------------------------------------\n",
      "where_3:\n",
      "[-1 36  7 46 -1 18 45 12 -1 47]\n",
      "--------------------------------------------------\n",
      "where_4:\n",
      "(array([0, 0, 1, 1, 2, 2]), array([0, 1, 1, 2, 2, 3]))\n",
      "--------------------------------------------------\n",
      "where_5:\n",
      "[[1 1 0 0]\n",
      " [0 1 1 0]\n",
      " [0 0 1 1]]\n",
      "--------------------------------------------------\n",
      "where_6:\n",
      "[[-1 -1 55 66]\n",
      " [93 -1 -1 82]\n",
      " [62 69 -1 -1]]\n",
      "--------------------------------------------------\n",
      "argwhere_1:\n",
      "[[0]\n",
      " [4]\n",
      " [8]]\n",
      "--------------------------------------------------\n",
      "argwhere_2:\n",
      "[[0 2]\n",
      " [0 3]\n",
      " [1 0]\n",
      " [1 3]\n",
      " [2 0]\n",
      " [2 1]]\n"
     ]
    }
   ],
   "source": [
    "arr_1d_6 = rng.integers(low=0, high=99, size=(10))\n",
    "arr_2d_5 = rng.integers(low=0, high=99, size=(3, 4))\n",
    "\n",
    "# where\n",
    "where_1 = np.where(arr_1d_6 > 50)\n",
    "where_2 = np.where(arr_1d_6 > 50, 1, 0)\n",
    "where_3 = np.where(arr_1d_6 > 50, -1, arr_1d_6)\n",
    "where_4 = np.where(arr_2d_5 < 50)\n",
    "where_5 = np.where(arr_2d_5 < 50, 1, 0)\n",
    "where_6 = np.where(arr_2d_5 < 50, -1, arr_2d_5)\n",
    "\n",
    "# argwhere\n",
    "argwhere_1 = np.argwhere(arr_1d_6 > 50)\n",
    "argwhere_2 = np.argwhere(arr_2d_5 > 50)\n",
    "\n",
    "# log\n",
    "print(f\"arr_1d_6:\\n{arr_1d_6}\", end=f\"\\n{'-' * 50}\\n\")\n",
    "print(f\"arr_2d_5:\\n{arr_2d_5}\")\n",
    "print(f\"where_1:\\n{where_1}\", end=f\"\\n{'-' * 50}\\n\")\n",
    "print(f\"where_2:\\n{where_2}\", end=f\"\\n{'-' * 50}\\n\")\n",
    "print(f\"where_3:\\n{where_3}\", end=f\"\\n{'-' * 50}\\n\")\n",
    "print(f\"where_4:\\n{where_4}\", end=f\"\\n{'-' * 50}\\n\")\n",
    "print(f\"where_5:\\n{where_5}\", end=f\"\\n{'-' * 50}\\n\")\n",
    "print(f\"where_6:\\n{where_6}\", end=f\"\\n{'-' * 50}\\n\")\n",
    "print(f\"argwhere_1:\\n{argwhere_1}\", end=f\"\\n{'-' * 50}\\n\")\n",
    "print(f\"argwhere_2:\\n{argwhere_2}\")"
   ]
  },
  {
   "cell_type": "code",
   "execution_count": 49,
   "metadata": {},
   "outputs": [
    {
     "name": "stdout",
     "output_type": "stream",
     "text": [
      "nonzero_1: (array([0, 1, 2, 3, 4, 5]),)\n",
      "nonzero_2: (array([1, 4, 6]),)\n",
      "nonzero_3: (array([0, 0, 0, 1, 1, 1]), array([0, 1, 2, 0, 1, 2]))\n",
      "nonzero_4: (array([0, 0, 1]), array([1, 2, 2]))\n"
     ]
    }
   ],
   "source": [
    "arr_1d_7 = np.array([5, 3, 6, 8, 2, 4, 0])\n",
    "arr_2d_6 = np.array([[5, 3, 1], [6, 4, 2]])\n",
    "\n",
    "# nonzero\n",
    "nonzero_1 = np.nonzero(arr_1d_7)\n",
    "nonzero_2 = np.nonzero(arr_1d_7 < 4)\n",
    "nonzero_3 = np.nonzero(arr_2d_6)\n",
    "nonzero_4 = np.nonzero(arr_2d_6 < 4)\n",
    "\n",
    "# log\n",
    "print(f\"nonzero_1: {nonzero_1}\")\n",
    "print(f\"nonzero_2: {nonzero_2}\")\n",
    "print(f\"nonzero_3: {nonzero_3}\")\n",
    "print(f\"nonzero_4: {nonzero_4}\")"
   ]
  },
  {
   "cell_type": "code",
   "execution_count": 50,
   "metadata": {},
   "outputs": [
    {
     "name": "stdout",
     "output_type": "stream",
     "text": [
      "searchsorted_1: 2\n",
      "searchsorted_2: 2\n",
      "searchsorted_3: 4\n"
     ]
    }
   ],
   "source": [
    "arr_1d_8 = np.array([1, 2, 5, 6])\n",
    "\n",
    "# searchsorted\n",
    "searchsorted_1 = np.searchsorted(arr_1d_8, v=3)\n",
    "searchsorted_2 = np.searchsorted(arr_1d_8, v=4)\n",
    "searchsorted_3 = np.searchsorted(arr_1d_8, v=7)\n",
    "\n",
    "# log\n",
    "print(f\"searchsorted_1: {searchsorted_1}\")\n",
    "print(f\"searchsorted_2: {searchsorted_2}\")\n",
    "print(f\"searchsorted_3: {searchsorted_3}\")"
   ]
  },
  {
   "cell_type": "code",
   "execution_count": 51,
   "metadata": {},
   "outputs": [
    {
     "name": "stdout",
     "output_type": "stream",
     "text": [
      "extract_1: [3 1 2 0 3]\n",
      "extract_2: [5 3 1 5]\n"
     ]
    }
   ],
   "source": [
    "arr_1d_9 = np.array([6, 3, 4, 7, 1, 2, 7, 9, 0, 3, 4])\n",
    "arr_2d_7 = np.array([[5, 3, 1], [2, 4, 5]])\n",
    "\n",
    "# extract\n",
    "extract_1 = np.extract(arr_1d_9 < 4, arr_1d_9)\n",
    "extract_2 = np.extract(arr_2d_7 % 2, arr_2d_7)\n",
    "\n",
    "# log\n",
    "print(f\"extract_1: {extract_1}\")\n",
    "print(f\"extract_2: {extract_2}\")"
   ]
  },
  {
   "cell_type": "markdown",
   "metadata": {},
   "source": [
    "## Counting\n",
    "\n",
    "<table style=\"margin: 0 auto;\">\n",
    "   <thead>\n",
    "      <tr>\n",
    "         <th style=\"text-align: center;\">Function</th>\n",
    "         <th style=\"text-align: center;\">Description</th>\n",
    "         <th style=\"text-align: center;\">Details</th>\n",
    "      </tr>\n",
    "   </thead>\n",
    "   <tbody>\n",
    "      <tr>\n",
    "         <td><code>np.count_nonzero</code></td>\n",
    "         <td>Counts the number of non-zero values in the array <code>a</code></td>\n",
    "         <td style=\"text-align: center;\"><a href=\"https://numpy.org/doc/stable/reference/generated/numpy.count_nonzero.html\">link</a></td>\n",
    "      </tr>\n",
    "   </tbody>\n",
    "</table>"
   ]
  },
  {
   "cell_type": "code",
   "execution_count": 52,
   "metadata": {},
   "outputs": [
    {
     "name": "stdout",
     "output_type": "stream",
     "text": [
      "count_nonzero_1: 9\n",
      "count_nonzero_2: 5\n"
     ]
    }
   ],
   "source": [
    "arr_1d_10 = np.array([6, 3, 4, 0, 1, 2, 7, 9, 0, 3, 4])\n",
    "\n",
    "# count_nonzero\n",
    "count_nonzero_1 = np.count_nonzero(arr_1d_10)\n",
    "count_nonzero_2 = np.count_nonzero(arr_1d_10 % 2)\n",
    "\n",
    "# log\n",
    "print(f\"count_nonzero_1: {count_nonzero_1}\")\n",
    "print(f\"count_nonzero_2: {count_nonzero_2}\")"
   ]
  }
 ],
 "metadata": {
  "author_email": "AmirhosseinHeydari78@gmail.com",
  "author_github": "https://github.com/mr-pylin",
  "author_name": "Amirhossein Heydari",
  "kernelspec": {
   "display_name": "venv",
   "language": "python",
   "name": "python3"
  },
  "language_info": {
   "codemirror_mode": {
    "name": "ipython",
    "version": 3
   },
   "file_extension": ".py",
   "mimetype": "text/x-python",
   "name": "python",
   "nbconvert_exporter": "python",
   "pygments_lexer": "ipython3",
   "version": "3.12.3"
  },
  "origin_repo": "https://github.com/mr-pylin/numpy-workshop"
 },
 "nbformat": 4,
 "nbformat_minor": 2
}
