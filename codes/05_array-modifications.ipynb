{
  "cells": [
    {
      "cell_type": "markdown",
      "metadata": {},
      "source": [
        "\ud83d\udcdd **Author:** Amirhossein Heydari - \ud83d\udce7 **Email:** AmirhosseinHeydari78@gmail.com - \ud83d\udccd **Linktree:** [linktr.ee/mr_pylin](https://linktr.ee/mr_pylin)\n",
        "\n",
        "---"
      ]
    },
    {
      "cell_type": "markdown",
      "metadata": {},
      "source": [
        "# Dependencies"
      ]
    },
    {
      "cell_type": "code",
      "execution_count": 1,
      "metadata": {},
      "outputs": [],
      "source": [
        "import numpy as np"
      ]
    },
    {
      "cell_type": "markdown",
      "metadata": {},
      "source": [
        "# NumPy - Modifications\n",
        "Doc:\n",
        "   - [numpy.org/doc/stable/reference/routines.array-manipulation.html](https://numpy.org/doc/stable/reference/routines.array-manipulation.html)"
      ]
    },
    {
      "cell_type": "markdown",
      "metadata": {},
      "source": [
        "## Update values"
      ]
    },
    {
      "cell_type": "markdown",
      "metadata": {},
      "source": [
        "### Update values by index"
      ]
    },
    {
      "cell_type": "code",
      "execution_count": 2,
      "metadata": {},
      "outputs": [
        {
          "name": "stdout",
          "output_type": "stream",
          "text": [
            "arr_1d_1 : [1 2 3 4]\n",
            "arr_1d_2 : [1 2 3 4]\n"
          ]
        }
      ],
      "source": [
        "arr_1d_1 = np.array([0, 0, 0, 0])\n",
        "arr_1d_2 = arr_1d_1  # this is not a copy of <arr>!\n",
        "\n",
        "# update values by index\n",
        "arr_1d_1[0] = 1\n",
        "arr_1d_1[-3] = 2\n",
        "arr_1d_1[2] = 3\n",
        "arr_1d_1[-1] = 4\n",
        "\n",
        "# log\n",
        "print(f\"arr_1d_1 : {arr_1d_1}\")\n",
        "print(f\"arr_1d_2 : {arr_1d_2}\")"
      ]
    },
    {
      "cell_type": "markdown",
      "metadata": {},
      "source": [
        "### Update values by slice"
      ]
    },
    {
      "cell_type": "code",
      "execution_count": 3,
      "metadata": {},
      "outputs": [],
      "source": [
        "arr_1d_3 = np.array([0, 0, 0, 0])"
      ]
    },
    {
      "cell_type": "code",
      "execution_count": 4,
      "metadata": {},
      "outputs": [
        {
          "name": "stdout",
          "output_type": "stream",
          "text": [
            "arr_1d_3 : [1 1 2 2]\n"
          ]
        }
      ],
      "source": [
        "arr_1d_3[0:2] = 1\n",
        "arr_1d_3[2:] = 2\n",
        "\n",
        "# log\n",
        "print(f\"arr_1d_3 : {arr_1d_3}\")"
      ]
    },
    {
      "cell_type": "code",
      "execution_count": 5,
      "metadata": {},
      "outputs": [
        {
          "name": "stdout",
          "output_type": "stream",
          "text": [
            "arr_1d_3 : [10 10 10 10]\n"
          ]
        }
      ],
      "source": [
        "arr_1d_3[:] = 10\n",
        "\n",
        "# log\n",
        "print(f\"arr_1d_3 : {arr_1d_3}\")"
      ]
    },
    {
      "cell_type": "code",
      "execution_count": 6,
      "metadata": {},
      "outputs": [
        {
          "name": "stdout",
          "output_type": "stream",
          "text": [
            "arr_1d_3 : [10 10  4  4]\n"
          ]
        }
      ],
      "source": [
        "arr_1d_3[2:1000] = 4\n",
        "\n",
        "# log\n",
        "print(f\"arr_1d_3 : {arr_1d_3}\")"
      ]
    },
    {
      "cell_type": "markdown",
      "metadata": {},
      "source": [
        "## numpy.append\n",
        "Appends values to the end of an array, creating a new array.\n",
        "```python\n",
        "numpy.append(arr, values, axis)\n",
        "```\n",
        "Doc:\n",
        "   - [numpy.org/doc/stable/reference/generated/numpy.append.html](https://numpy.org/doc/stable/reference/generated/numpy.append.html)"
      ]
    },
    {
      "cell_type": "code",
      "execution_count": 7,
      "metadata": {},
      "outputs": [
        {
          "name": "stdout",
          "output_type": "stream",
          "text": [
            "append_1 : [0 0 0 1]\n",
            "append_2 : [0 0 0 3 2]\n",
            "append_3 : [0 0 0 1 1 1]\n"
          ]
        }
      ],
      "source": [
        "arr_1d_4 = np.array([0, 0, 0])\n",
        "\n",
        "# append\n",
        "append_1 = np.append(arr_1d_4, 1)\n",
        "append_2 = np.append(arr_1d_4, [3, 2])\n",
        "append_3 = np.append(arr_1d_4, [1, 1, 1])\n",
        "\n",
        "# log\n",
        "print(f\"append_1 : {append_1}\")\n",
        "print(f\"append_2 : {append_2}\")\n",
        "print(f\"append_3 : {append_3}\")"
      ]
    },
    {
      "cell_type": "code",
      "execution_count": 8,
      "metadata": {},
      "outputs": [
        {
          "name": "stdout",
          "output_type": "stream",
          "text": [
            "append_4 :\n",
            "[0 0 1 1 2]\n",
            "\n",
            "append_5 :\n",
            "[0 0 1 1 2 2]\n",
            "\n",
            "append_6 :\n",
            "[[0 0]\n",
            " [1 1]\n",
            " [2 2]]\n",
            "\n",
            "append_7 :\n",
            "[[0 0 2]\n",
            " [1 1 3]]\n"
          ]
        }
      ],
      "source": [
        "arr_2d_1 = np.array([[0, 0], [1, 1]])\n",
        "\n",
        "# append\n",
        "append_4 = np.append(arr_2d_1, 2)\n",
        "append_5 = np.append(arr_2d_1, [2, 2])\n",
        "append_6 = np.append(arr_2d_1, [[2, 2]], axis=0)\n",
        "append_7 = np.append(arr_2d_1, values=[[2], [3]], axis=1)\n",
        "\n",
        "# log\n",
        "print(f\"append_4 :\\n{append_4}\", end='\\n\\n')\n",
        "print(f\"append_5 :\\n{append_5}\", end='\\n\\n')\n",
        "print(f\"append_6 :\\n{append_6}\", end='\\n\\n')\n",
        "print(f\"append_7 :\\n{append_7}\")"
      ]
    },
    {
      "cell_type": "markdown",
      "metadata": {},
      "source": [
        "## numpy.insert\n",
        "Inserts values into an array at specified indices, creating a new array.\n",
        "```python\n",
        "numpy.insert(arr, obj, values, axis)\n",
        "```\n",
        "Doc:\n",
        "   - [numpy.org/doc/stable/reference/generated/numpy.insert.html](https://numpy.org/doc/stable/reference/generated/numpy.insert.html)"
      ]
    },
    {
      "cell_type": "code",
      "execution_count": 9,
      "metadata": {},
      "outputs": [
        {
          "name": "stdout",
          "output_type": "stream",
          "text": [
            "insert_1: [5 0 0 0]\n",
            "insert_2: [0 1 1 0 0]\n",
            "insert_3: [0 0 0 1 1]\n"
          ]
        }
      ],
      "source": [
        "arr_1d_5 = np.array([0, 0, 0])\n",
        "\n",
        "# insert\n",
        "insert_1 = np.insert(arr_1d_5, 0, 5)\n",
        "insert_2 = np.insert(arr_1d_5, 1, [1, 1])\n",
        "insert_3 = np.insert(arr_1d_5, 3, [1, 1])\n",
        "\n",
        "# log\n",
        "print(f\"insert_1: {insert_1}\")\n",
        "print(f\"insert_2: {insert_2}\")\n",
        "print(f\"insert_3: {insert_3}\")"
      ]
    },
    {
      "cell_type": "code",
      "execution_count": 10,
      "metadata": {},
      "outputs": [
        {
          "name": "stdout",
          "output_type": "stream",
          "text": [
            "insert_4 :\n",
            "[2 0 0 1 1]\n",
            "\n",
            "insert_5 :\n",
            "[2 2 0 0 1 1]\n",
            "\n",
            "insert_6 :\n",
            "[0 0 1 1 2 2]\n",
            "\n",
            "insert_7 :\n",
            "[[2 2]\n",
            " [0 0]\n",
            " [1 1]]\n",
            "\n",
            "insert_8 :\n",
            "[[0 0]\n",
            " [1 1]\n",
            " [2 2]]\n",
            "\n",
            "insert_9 :\n",
            "[[2 0 0]\n",
            " [3 1 1]]\n",
            "\n",
            "insert_10 :\n",
            "[[0 0 2]\n",
            " [1 1 3]]\n"
          ]
        }
      ],
      "source": [
        "arr_2d_2 = np.array([[0, 0], [1, 1]])\n",
        "\n",
        "# insert\n",
        "insert_4 = np.insert(arr_2d_2, 0, 2)\n",
        "insert_5 = np.insert(arr_2d_2, 0, [2, 2])\n",
        "insert_6 = np.insert(arr_2d_2, obj=4, values=[2, 2])\n",
        "insert_7 = np.insert(arr_2d_2, obj=0, values=[[2, 2]], axis=0)\n",
        "insert_8 = np.insert(arr_2d_2, obj=2, values=[[2, 2]], axis=0)\n",
        "insert_9 = np.insert(arr_2d_2, obj=0, values=[[2, 3]], axis=1)\n",
        "insert_10 = np.insert(arr_2d_2, obj=2, values=[[2, 3]], axis=1)\n",
        "\n",
        "# log\n",
        "print(f\"insert_4 :\\n{insert_4}\", end='\\n\\n')\n",
        "print(f\"insert_5 :\\n{insert_5}\", end='\\n\\n')\n",
        "print(f\"insert_6 :\\n{insert_6}\", end='\\n\\n')\n",
        "print(f\"insert_7 :\\n{insert_7}\", end='\\n\\n')\n",
        "print(f\"insert_8 :\\n{insert_8}\", end='\\n\\n')\n",
        "print(f\"insert_9 :\\n{insert_9}\", end='\\n\\n')\n",
        "print(f\"insert_10 :\\n{insert_10}\")"
      ]
    },
    {
      "cell_type": "markdown",
      "metadata": {},
      "source": [
        "## numpy.concatenate\n",
        "Joins a sequence of arrays along an existing axis.\n",
        "```python\n",
        "numpy.concatenate(arrays, /, axis, ...)\n",
        "```\n",
        "Doc:\n",
        "   - [numpy.org/doc/stable/reference/generated/numpy.concatenate.html](https://numpy.org/doc/stable/reference/generated/numpy.concatenate.html)"
      ]
    },
    {
      "cell_type": "code",
      "execution_count": 11,
      "metadata": {},
      "outputs": [
        {
          "name": "stdout",
          "output_type": "stream",
          "text": [
            "concat_1 :\n",
            "[1 2 3 4 5 6]\n",
            "\n",
            "concat_2 :\n",
            "[4 5 6 1 2 3]\n",
            "\n",
            "concat_3 :\n",
            "[1 2 3 4 5 6 1 2 3]\n",
            "\n",
            "concat_4 :\n",
            "[[0 1]\n",
            " [4 5]\n",
            " [6 7]]\n",
            "\n",
            "concat_5 :\n",
            "[[4 5]\n",
            " [6 7]\n",
            " [8 9]\n",
            " [1 2]]\n",
            "\n",
            "concat_6 :\n",
            "[[4 5]\n",
            " [6 7]\n",
            " [8 9]\n",
            " [1 2]]\n",
            "\n",
            "concat_7 :\n",
            "[[4 5 8 9]\n",
            " [6 7 1 2]]\n"
          ]
        }
      ],
      "source": [
        "arr_1d_6 = np.array([1, 2, 3])\n",
        "arr_1d_7 = np.array([4, 5, 6])\n",
        "arr_2d_3 = np.array([[0, 1]])\n",
        "arr_2d_4 = np.array([[4, 5], [6, 7]])\n",
        "arr_2d_5 = np.array([[8, 9], [1, 2]])\n",
        "\n",
        "# concatenate\n",
        "concat_1 = np.concatenate((arr_1d_6, arr_1d_7))\n",
        "concat_2 = np.concatenate((arr_1d_7, arr_1d_6))\n",
        "concat_3 = np.concatenate((arr_1d_6, arr_1d_7, arr_1d_6))\n",
        "concat_4 = np.concatenate((arr_2d_3, arr_2d_4))\n",
        "concat_5 = np.concatenate((arr_2d_4, arr_2d_5))\n",
        "concat_6 = np.concatenate((arr_2d_4, arr_2d_5), axis=0)\n",
        "concat_7 = np.concatenate((arr_2d_4, arr_2d_5), axis=1)\n",
        "\n",
        "# log\n",
        "print(f\"concat_1 :\\n{concat_1}\", end='\\n\\n')\n",
        "print(f\"concat_2 :\\n{concat_2}\", end='\\n\\n')\n",
        "print(f\"concat_3 :\\n{concat_3}\", end='\\n\\n')\n",
        "print(f\"concat_4 :\\n{concat_4}\", end='\\n\\n')\n",
        "print(f\"concat_5 :\\n{concat_5}\", end='\\n\\n')\n",
        "print(f\"concat_6 :\\n{concat_6}\", end='\\n\\n')\n",
        "print(f\"concat_7 :\\n{concat_7}\")"
      ]
    },
    {
      "cell_type": "markdown",
      "metadata": {},
      "source": [
        "## numpy.hstack & numpy.vstack & numpy.dstack\n",
        "hstack:\n",
        "   - Stacks arrays horizontally (column-wise).\n",
        "   - ```python\n",
        "     numpy.hstack(tup, ...)\n",
        "     ```\n",
        "\n",
        "vstack:\n",
        "   - Stacks arrays vertically (row-wise).\n",
        "   - ```python\n",
        "     numpy.vstack(tup, ...)\n",
        "     ```\n",
        "\n",
        "dstack:\n",
        "   - Stacks arrays depth-wise (along the third axis).\n",
        "   - ```python\n",
        "     numpy.dstack(tup)\n",
        "     ```\n",
        "\n",
        "Doc:\n",
        "   - [numpy.org/doc/stable/reference/routines.array-manipulation.html#joining-arrays](https://numpy.org/doc/stable/reference/routines.array-manipulation.html#joining-arrays)"
      ]
    },
    {
      "cell_type": "code",
      "execution_count": 12,
      "metadata": {},
      "outputs": [],
      "source": [
        "arr_1d_8 = np.array([1, 2, 3])\n",
        "arr_1d_9 = np.array([4, 5, 6])\n",
        "arr_2d_6 = np.array([[4, 5], [6, 7]])\n",
        "arr_2d_7 = np.array([[8, 9], [1, 2]])"
      ]
    },
    {
      "cell_type": "code",
      "execution_count": 13,
      "metadata": {},
      "outputs": [
        {
          "name": "stdout",
          "output_type": "stream",
          "text": [
            "hstack_1:\n",
            "[1 2 3 4 5 6]\n",
            "\n",
            "hstack_2:\n",
            "[[4 5 8 9]\n",
            " [6 7 1 2]]\n"
          ]
        }
      ],
      "source": [
        "# hstack\n",
        "hstack_1 = np.hstack((arr_1d_8, arr_1d_9))\n",
        "hstack_2 = np.hstack((arr_2d_6, arr_2d_7))\n",
        "\n",
        "# log\n",
        "print(f\"hstack_1:\\n{hstack_1}\", end='\\n\\n')\n",
        "print(f\"hstack_2:\\n{hstack_2}\")"
      ]
    },
    {
      "cell_type": "code",
      "execution_count": 14,
      "metadata": {},
      "outputs": [
        {
          "name": "stdout",
          "output_type": "stream",
          "text": [
            "vstack_1:\n",
            "[[1 2 3]\n",
            " [4 5 6]]\n",
            "\n",
            "vstack_2:\n",
            "[[4 5]\n",
            " [6 7]\n",
            " [8 9]\n",
            " [1 2]]\n"
          ]
        }
      ],
      "source": [
        "# vstack\n",
        "vstack_1 = np.vstack((arr_1d_8, arr_1d_9))\n",
        "vstack_2 = np.vstack((arr_2d_6, arr_2d_7))\n",
        "\n",
        "# log\n",
        "print(f\"vstack_1:\\n{vstack_1}\", end='\\n\\n')\n",
        "print(f\"vstack_2:\\n{vstack_2}\")"
      ]
    },
    {
      "cell_type": "code",
      "execution_count": 15,
      "metadata": {},
      "outputs": [
        {
          "name": "stdout",
          "output_type": "stream",
          "text": [
            "dstack_1:\n",
            "[[[1 4]\n",
            "  [2 5]\n",
            "  [3 6]]]\n",
            "\n",
            "dstack_2:\n",
            "[[[4 8 4]\n",
            "  [5 9 5]]\n",
            "\n",
            " [[6 1 6]\n",
            "  [7 2 7]]]\n"
          ]
        }
      ],
      "source": [
        "# dstack\n",
        "dstack_1 = np.dstack((arr_1d_8, arr_1d_9))\n",
        "dstack_2 = np.dstack((arr_2d_6, arr_2d_7, arr_2d_6))\n",
        "\n",
        "# log\n",
        "print(f\"dstack_1:\\n{dstack_1}\", end='\\n\\n')\n",
        "print(f\"dstack_2:\\n{dstack_2}\")"
      ]
    },
    {
      "cell_type": "markdown",
      "metadata": {},
      "source": [
        "## numpy.delete\n",
        "Deletes specified sub-arrays from an array along a given axis.\n",
        "```python\n",
        "numpy.delete(arr, obj, axis)\n",
        "numpy.argwhere(a)\n",
        "```\n",
        "Docs:\n",
        "   - [numpy.org/doc/stable/reference/generated/numpy.delete.html](https://numpy.org/doc/stable/reference/generated/numpy.delete.html)\n",
        "   - [numpy.org/doc/stable/reference/generated/numpy.argwhere.html](https://numpy.org/doc/stable/reference/generated/numpy.argwhere.html)"
      ]
    },
    {
      "cell_type": "markdown",
      "metadata": {},
      "source": [
        "### Delete by index"
      ]
    },
    {
      "cell_type": "code",
      "execution_count": 16,
      "metadata": {},
      "outputs": [
        {
          "name": "stdout",
          "output_type": "stream",
          "text": [
            "delete_1: [2 3]\n",
            "delete_2: [1 2]\n"
          ]
        }
      ],
      "source": [
        "arr_1d_10 = np.array([1, 2, 3])\n",
        "\n",
        "# delete\n",
        "delete_1 = np.delete(arr_1d_10, 0)\n",
        "delete_2 = np.delete(arr_1d_10, obj=2)\n",
        "\n",
        "# log\n",
        "print(f\"delete_1: {delete_1}\")\n",
        "print(f\"delete_2: {delete_2}\")"
      ]
    },
    {
      "cell_type": "code",
      "execution_count": 17,
      "metadata": {},
      "outputs": [
        {
          "name": "stdout",
          "output_type": "stream",
          "text": [
            "delete_3:\n",
            "[2 3 4 5 6]\n",
            "\n",
            "delete_4:\n",
            "[1 3 4 5 6]\n",
            "\n",
            "delete_5:\n",
            "[[4 5 6]]\n",
            "\n",
            "delete_6:\n",
            "[[1 2 3]]\n",
            "\n",
            "delete_7:\n",
            "[[2 3]\n",
            " [5 6]]\n",
            "\n",
            "delete_8:\n",
            "[[1 2]\n",
            " [4 5]]\n"
          ]
        }
      ],
      "source": [
        "arr_2d_8 = np.array([[1, 2, 3], [4, 5, 6]])\n",
        "\n",
        "# delete\n",
        "delete_3 = np.delete(arr_2d_8, 0)\n",
        "delete_4 = np.delete(arr_2d_8, obj=1)\n",
        "delete_5 = np.delete(arr_2d_8, obj=0, axis=0)\n",
        "delete_6 = np.delete(arr_2d_8, obj=1, axis=0)\n",
        "delete_7 = np.delete(arr_2d_8, obj=0, axis=1)\n",
        "delete_8 = np.delete(arr_2d_8, obj=2, axis=1)\n",
        "\n",
        "# log\n",
        "print(f\"delete_3:\\n{delete_3}\", end='\\n\\n')\n",
        "print(f\"delete_4:\\n{delete_4}\", end='\\n\\n')\n",
        "print(f\"delete_5:\\n{delete_5}\", end='\\n\\n')\n",
        "print(f\"delete_6:\\n{delete_6}\", end='\\n\\n')\n",
        "print(f\"delete_7:\\n{delete_7}\", end='\\n\\n')\n",
        "print(f\"delete_8:\\n{delete_8}\")"
      ]
    },
    {
      "cell_type": "markdown",
      "metadata": {},
      "source": [
        "### Delete by value using numpy.argwhere"
      ]
    },
    {
      "cell_type": "code",
      "execution_count": 18,
      "metadata": {},
      "outputs": [],
      "source": [
        "arr_1d_11 = np.array([1, 2, 3])"
      ]
    },
    {
      "cell_type": "code",
      "execution_count": 19,
      "metadata": {},
      "outputs": [
        {
          "name": "stdout",
          "output_type": "stream",
          "text": [
            "delete_9: [1 3]\n"
          ]
        }
      ],
      "source": [
        "# find index\n",
        "idx_1 = np.argwhere(arr_1d_11 == 2)\n",
        "\n",
        "# delete\n",
        "delete_9 = np.delete(arr_1d_11, idx_1)\n",
        "\n",
        "# log\n",
        "print(f\"delete_9: {delete_9}\")"
      ]
    },
    {
      "cell_type": "code",
      "execution_count": 20,
      "metadata": {},
      "outputs": [
        {
          "name": "stdout",
          "output_type": "stream",
          "text": [
            "delete_10: [1 2]\n"
          ]
        }
      ],
      "source": [
        "# find index\n",
        "idx_2 = np.argwhere(arr_1d_11 == 3)\n",
        "\n",
        "# delete\n",
        "delete_10 = np.delete(arr_1d_11, idx_2)\n",
        "\n",
        "# log\n",
        "print(f\"delete_10: {delete_10}\")"
      ]
    },
    {
      "cell_type": "markdown",
      "metadata": {},
      "source": [
        "## numpy.reshape\n",
        "Reshapes an array without changing its data.\n",
        "```python\n",
        "numpy.reshape(a, newshape, ...)\n",
        "```\n",
        "Doc:\n",
        "   - [numpy.org/doc/stable/reference/generated/numpy.reshape.html](https://numpy.org/doc/stable/reference/generated/numpy.reshape.html)"
      ]
    },
    {
      "cell_type": "code",
      "execution_count": 21,
      "metadata": {},
      "outputs": [
        {
          "name": "stdout",
          "output_type": "stream",
          "text": [
            "reshape_1 :\n",
            "[[8 9 0 3]\n",
            " [1 6 4 2]]\n",
            "reshape_1.ndim: 2\n",
            "reshape_1.shape: (2, 4)\n",
            "\n",
            "reshape_2 :\n",
            "[[[8 9]\n",
            "  [0 3]]\n",
            "\n",
            " [[1 6]\n",
            "  [4 2]]]\n",
            "reshape_2.ndim: 3\n",
            "reshape_2.shape: (2, 2, 2)\n",
            "\n",
            "reshape_3 :\n",
            "[[8 9]\n",
            " [0 3]\n",
            " [1 6]\n",
            " [4 2]]\n",
            "reshape_3.ndim: 2\n",
            "reshape_3.shape: (4, 2)\n"
          ]
        }
      ],
      "source": [
        "arr_1d_12 = np.array([8, 9, 0, 3, 1, 6, 4, 2])\n",
        "\n",
        "# reshape\n",
        "reshape_1 = np.reshape(arr_1d_12, (2, 4))\n",
        "reshape_2 = np.reshape(arr_1d_12, (2, 2, 2))\n",
        "reshape_3 = np.reshape(arr_1d_12, newshape=(4, 2))\n",
        "\n",
        "# log\n",
        "print(f\"reshape_1 :\\n{reshape_1}\")\n",
        "print(f\"reshape_1.ndim: {reshape_1.ndim}\")\n",
        "print(f\"reshape_1.shape: {reshape_1.shape}\", end='\\n\\n')\n",
        "print(f\"reshape_2 :\\n{reshape_2}\")\n",
        "print(f\"reshape_2.ndim: {reshape_2.ndim}\")\n",
        "print(f\"reshape_2.shape: {reshape_2.shape}\", end='\\n\\n')\n",
        "print(f\"reshape_3 :\\n{reshape_3}\")\n",
        "print(f\"reshape_3.ndim: {reshape_3.ndim}\")\n",
        "print(f\"reshape_3.shape: {reshape_3.shape}\")"
      ]
    },
    {
      "cell_type": "code",
      "execution_count": 22,
      "metadata": {},
      "outputs": [
        {
          "name": "stdout",
          "output_type": "stream",
          "text": [
            "reshape_4 :\n",
            "[2 3 4 7 8 9 6 5 0]\n",
            "reshape_4.ndim: 1\n",
            "reshape_4.shape: (9,)\n",
            "\n",
            "reshape_5 :\n",
            "[[2 3 4 7 8 9 6 5 0]]\n",
            "reshape_5.ndim: 2\n",
            "reshape_5.shape: (1, 9)\n"
          ]
        }
      ],
      "source": [
        "arr_2d_9 = np.array([[2, 3, 4], [7, 8, 9], [6, 5, 0]])\n",
        "\n",
        "# reshape\n",
        "reshape_4 = np.reshape(arr_2d_9, (9))\n",
        "reshape_5 = np.reshape(arr_2d_9, (1, 9))\n",
        "\n",
        "# log\n",
        "print(f\"reshape_4 :\\n{reshape_4}\")\n",
        "print(f\"reshape_4.ndim: {reshape_4.ndim}\")\n",
        "print(f\"reshape_4.shape: {reshape_4.shape}\", end='\\n\\n')\n",
        "print(f\"reshape_5 :\\n{reshape_5}\")\n",
        "print(f\"reshape_5.ndim: {reshape_5.ndim}\")\n",
        "print(f\"reshape_5.shape: {reshape_5.shape}\")"
      ]
    },
    {
      "cell_type": "code",
      "execution_count": 23,
      "metadata": {},
      "outputs": [
        {
          "name": "stdout",
          "output_type": "stream",
          "text": [
            "reshape_6 :\n",
            "[2 3 0 4 7 4 4 2]\n",
            "reshape_6.ndim: 1\n",
            "reshape_6.shape: (8,)\n",
            "\n",
            "reshape_7 :\n",
            "[[2 3 0 4]\n",
            " [7 4 4 2]]\n",
            "reshape_7.ndim: 2\n",
            "reshape_7.shape: (2, 4)\n"
          ]
        }
      ],
      "source": [
        "arr_3d_1 = np.array([[[2, 3], [0, 4]], [[7, 4], [4, 2]]])\n",
        "\n",
        "# reshape\n",
        "reshape_6 = np.reshape(arr_3d_1, (8))\n",
        "reshape_7 = np.reshape(arr_3d_1, (2, 4))\n",
        "\n",
        "# log\n",
        "print(f\"reshape_6 :\\n{reshape_6}\")\n",
        "print(f\"reshape_6.ndim: {reshape_6.ndim}\")\n",
        "print(f\"reshape_6.shape: {reshape_6.shape}\", end='\\n\\n')\n",
        "print(f\"reshape_7 :\\n{reshape_7}\")\n",
        "print(f\"reshape_7.ndim: {reshape_7.ndim}\")\n",
        "print(f\"reshape_7.shape: {reshape_7.shape}\")"
      ]
    },
    {
      "cell_type": "markdown",
      "metadata": {},
      "source": [
        "## numpy.ravel\n",
        "Returns a contiguous flattened array.\n",
        "```python\n",
        "numpy.ravel(a, ...)\n",
        "```\n",
        "Doc:\n",
        "   - [numpy.org/doc/stable/reference/generated/numpy.ravel.html](https://numpy.org/doc/stable/reference/generated/numpy.ravel.html)"
      ]
    },
    {
      "cell_type": "code",
      "execution_count": 24,
      "metadata": {},
      "outputs": [
        {
          "name": "stdout",
          "output_type": "stream",
          "text": [
            "ravel_1 :\n",
            "[2 3 4 7 8 9 6 5 0]\n",
            "ravel_1.ndim: 1\n",
            "ravel_1.shape: (9,)\n",
            "\n",
            "ravel_2 :\n",
            "[2 7 6 3 8 5 4 9 0]\n",
            "ravel_2.ndim: 1\n",
            "ravel_2.shape: (9,)\n",
            "\n"
          ]
        }
      ],
      "source": [
        "arr_2d_10 = np.array([[2, 3, 4], [7, 8, 9], [6, 5, 0]])\n",
        "\n",
        "# ravel\n",
        "ravel_1 = np.ravel(arr_2d_10)\n",
        "ravel_2 = np.ravel(arr_2d_10, order='F')\n",
        "\n",
        "# log\n",
        "print(f\"ravel_1 :\\n{ravel_1}\")\n",
        "print(f\"ravel_1.ndim: {ravel_1.ndim}\")\n",
        "print(f\"ravel_1.shape: {ravel_1.shape}\", end='\\n\\n')\n",
        "print(f\"ravel_2 :\\n{ravel_2}\")\n",
        "print(f\"ravel_2.ndim: {ravel_2.ndim}\")\n",
        "print(f\"ravel_2.shape: {ravel_2.shape}\", end='\\n\\n')"
      ]
    },
    {
      "cell_type": "code",
      "execution_count": 25,
      "metadata": {},
      "outputs": [
        {
          "name": "stdout",
          "output_type": "stream",
          "text": [
            "ravel_3 :\n",
            "[2 3 0 4 7 4 4 2]\n",
            "ravel_3.ndim: 1\n",
            "ravel_3.shape: (8,)\n"
          ]
        }
      ],
      "source": [
        "arr_3d_2 = np.array([[[2, 3], [0, 4]], [[7, 4], [4, 2]]])\n",
        "\n",
        "# ravel\n",
        "ravel_3 = np.ravel(arr_3d_2)\n",
        "\n",
        "# log\n",
        "print(f\"ravel_3 :\\n{ravel_3}\")\n",
        "print(f\"ravel_3.ndim: {ravel_3.ndim}\")\n",
        "print(f\"ravel_3.shape: {ravel_3.shape}\")"
      ]
    },
    {
      "cell_type": "markdown",
      "metadata": {},
      "source": [
        "## numpy.swapaxes\n",
        "Interchanges two axes of an array.\n",
        "```python\n",
        "numpy.swapaxes(a, axis1, axis2)\n",
        "```\n",
        "Doc:\n",
        "   - [numpy.org/doc/stable/reference/generated/numpy.swapaxes.html](https://numpy.org/doc/stable/reference/generated/numpy.swapaxes.html)"
      ]
    },
    {
      "cell_type": "code",
      "execution_count": 26,
      "metadata": {},
      "outputs": [
        {
          "name": "stdout",
          "output_type": "stream",
          "text": [
            "swapaxes_1:\n",
            "[[1 4]\n",
            " [2 5]\n",
            " [3 6]]\n",
            "swapaxes_1.shape: (3, 2)\n"
          ]
        }
      ],
      "source": [
        "arr_2d_11 = np.array([[1, 2, 3], [4, 5, 6]])\n",
        "\n",
        "# swapaxes\n",
        "swapaxes_1 = np.swapaxes(arr_2d_11, 0, 1)\n",
        "\n",
        "# log\n",
        "print(f\"swapaxes_1:\\n{swapaxes_1}\")\n",
        "print(f\"swapaxes_1.shape: {swapaxes_1.shape}\")"
      ]
    },
    {
      "cell_type": "code",
      "execution_count": 27,
      "metadata": {},
      "outputs": [
        {
          "name": "stdout",
          "output_type": "stream",
          "text": [
            "swapaxes_2:\n",
            "[[[1 5]\n",
            "  [3 7]]\n",
            "\n",
            " [[2 6]\n",
            "  [4 8]]]\n",
            "swapaxes_2.shape: (2, 2, 2)\n",
            "\n",
            "swapaxes_3:\n",
            "[[[1 3]\n",
            "  [2 4]]\n",
            "\n",
            " [[5 7]\n",
            "  [6 8]]]\n",
            "swapaxes_3.shape: (2, 2, 2)\n",
            "\n",
            "swapaxes_4:\n",
            "[[[1 2]\n",
            "  [5 6]]\n",
            "\n",
            " [[3 4]\n",
            "  [7 8]]]\n",
            "swapaxes_4.shape: (2, 2, 2)\n"
          ]
        }
      ],
      "source": [
        "arr_3d_3 = np.array([[[1, 5], [2, 6]], [[3, 7], [4, 8]]])\n",
        "\n",
        "# swapaxes\n",
        "swapaxes_2 = np.swapaxes(arr_3d_3, 0, 1)\n",
        "swapaxes_3 = np.swapaxes(arr_3d_3, 0, 2)\n",
        "swapaxes_4 = np.swapaxes(arr_3d_3, 1, 2)\n",
        "\n",
        "# log\n",
        "print(f\"swapaxes_2:\\n{swapaxes_2}\")\n",
        "print(f\"swapaxes_2.shape: {swapaxes_2.shape}\", end='\\n\\n')\n",
        "print(f\"swapaxes_3:\\n{swapaxes_3}\")\n",
        "print(f\"swapaxes_3.shape: {swapaxes_3.shape}\", end='\\n\\n')\n",
        "print(f\"swapaxes_4:\\n{swapaxes_4}\")\n",
        "print(f\"swapaxes_4.shape: {swapaxes_4.shape}\")"
      ]
    },
    {
      "cell_type": "markdown",
      "metadata": {},
      "source": [
        "## np.newaxis\n",
        "Increases the dimensions of an array by one more dimension, when used with slicing.\n",
        "```python\n",
        "numpy.newaxis\n",
        "```\n",
        "Doc:\n",
        "   - [numpy.org/devdocs/reference/constants.html#numpy.newaxis](https://numpy.org/devdocs/reference/constants.html#numpy.newaxis)"
      ]
    },
    {
      "cell_type": "code",
      "execution_count": 28,
      "metadata": {},
      "outputs": [
        {
          "name": "stdout",
          "output_type": "stream",
          "text": [
            "newaxis_1 :\n",
            "[[1]\n",
            " [2]\n",
            " [3]]\n",
            "\n",
            "newaxis_2 :\n",
            "[[1]\n",
            " [2]\n",
            " [3]]\n",
            "\n",
            "newaxis_3 :\n",
            "[[1]\n",
            " [2]\n",
            " [3]]\n",
            "\n",
            "newaxis_4 :\n",
            "[[1]\n",
            " [2]\n",
            " [3]]\n"
          ]
        }
      ],
      "source": [
        "arr_1d_13 = np.array([1, 2, 3])\n",
        "\n",
        "# newaxis\n",
        "newaxis_1 = arr_1d_13[:,   np.newaxis]\n",
        "newaxis_2 = arr_1d_13[..., np.newaxis]\n",
        "newaxis_3 = arr_1d_13[:,   None]\n",
        "newaxis_4 = arr_1d_13[..., None]\n",
        "\n",
        "# log\n",
        "print(f\"newaxis_1 :\\n{newaxis_1}\", end='\\n\\n')\n",
        "print(f\"newaxis_2 :\\n{newaxis_2}\", end='\\n\\n')\n",
        "print(f\"newaxis_3 :\\n{newaxis_3}\", end='\\n\\n')\n",
        "print(f\"newaxis_4 :\\n{newaxis_4}\")"
      ]
    },
    {
      "cell_type": "code",
      "execution_count": 29,
      "metadata": {},
      "outputs": [
        {
          "name": "stdout",
          "output_type": "stream",
          "text": [
            "newaxis_5 :\n",
            "[[[1 2 3]]\n",
            "\n",
            " [[4 5 6]]]\n",
            "\n",
            "newaxis_6 :\n",
            "[[[1 2 3]]\n",
            "\n",
            " [[4 5 6]]]\n",
            "\n",
            "newaxis_7 :\n",
            "[[[1 2 3]]\n",
            "\n",
            " [[4 5 6]]]\n",
            "\n",
            "newaxis_8 :\n",
            "[[[1 2 3]]\n",
            "\n",
            " [[4 5 6]]]\n"
          ]
        }
      ],
      "source": [
        "arr_2d_12 = np.array([[1, 2, 3], [4, 5, 6]])\n",
        "\n",
        "# newaxis\n",
        "newaxis_5 = arr_2d_12[:, np.newaxis, :]\n",
        "newaxis_6 = arr_2d_12[..., None, :]\n",
        "newaxis_7 = arr_2d_12[..., np.newaxis, :]\n",
        "newaxis_8 = arr_2d_12[:, None, ...]\n",
        "\n",
        "# log\n",
        "print(f\"newaxis_5 :\\n{newaxis_5}\", end='\\n\\n')\n",
        "print(f\"newaxis_6 :\\n{newaxis_6}\", end='\\n\\n')\n",
        "print(f\"newaxis_7 :\\n{newaxis_7}\", end='\\n\\n')\n",
        "print(f\"newaxis_8 :\\n{newaxis_8}\")"
      ]
    },
    {
      "cell_type": "markdown",
      "metadata": {},
      "source": [
        "## numpy.expand_dims\n",
        "Expands the shape of an array by inserting a new axis at a specified position.\n",
        "```python\n",
        "numpy.expand_dims(a, axis)\n",
        "```\n",
        "Doc:\n",
        "   - [numpy.org/doc/stable/reference/generated/numpy.expand_dims.html](https://numpy.org/doc/stable/reference/generated/numpy.expand_dims.html)"
      ]
    },
    {
      "cell_type": "code",
      "execution_count": 30,
      "metadata": {},
      "outputs": [
        {
          "name": "stdout",
          "output_type": "stream",
          "text": [
            "expand_dim_1:\n",
            "[[1]\n",
            " [2]\n",
            " [3]]\n",
            "\n",
            "expand_dim_2:\n",
            "[[1 2 3]]\n"
          ]
        }
      ],
      "source": [
        "arr_1d_14 = np.array([1, 2, 3])\n",
        "\n",
        "# expand_dim\n",
        "expand_dim_1 = np.expand_dims(arr_1d_14, axis=1)\n",
        "expand_dim_2 = np.expand_dims(arr_1d_14, axis=0)\n",
        "\n",
        "# log\n",
        "print(f\"expand_dim_1:\\n{expand_dim_1}\", end='\\n\\n')\n",
        "print(f\"expand_dim_2:\\n{expand_dim_2}\")"
      ]
    },
    {
      "cell_type": "markdown",
      "metadata": {},
      "source": [
        "## numpy.squeeze\n",
        "Removes single-dimensional entries from the shape of an array.\n",
        "```python\n",
        "numpy.squeeze(a, axis)\n",
        "```\n",
        "Doc:\n",
        "   - [numpy.org/doc/stable/reference/generated/numpy.squeeze.html](https://numpy.org/doc/stable/reference/generated/numpy.squeeze.html)"
      ]
    },
    {
      "cell_type": "code",
      "execution_count": 31,
      "metadata": {},
      "outputs": [
        {
          "name": "stdout",
          "output_type": "stream",
          "text": [
            "squeeze_1: [0 1 2 3]\n"
          ]
        }
      ],
      "source": [
        "arr_3d_4 = np.array([[[0], [1], [2], [3]]])\n",
        "\n",
        "# squeeze\n",
        "squeeze_1 = np.squeeze(arr_3d_4)\n",
        "\n",
        "# log\n",
        "print(f\"squeeze_1: {squeeze_1}\")"
      ]
    },
    {
      "cell_type": "markdown",
      "metadata": {},
      "source": [
        "## numpy.tile\n",
        "Constructs a new array by repeating the input array the specified number of times.\n",
        "```python\n",
        "numpy.tile(A, reps)\n",
        "```\n",
        "Doc:\n",
        "   - [numpy.org/doc/stable/reference/generated/numpy.tile.html#numpy.tile](https://numpy.org/doc/stable/reference/generated/numpy.tile.html#numpy.tile)"
      ]
    },
    {
      "cell_type": "code",
      "execution_count": 32,
      "metadata": {},
      "outputs": [
        {
          "name": "stdout",
          "output_type": "stream",
          "text": [
            "tile_1 :\n",
            "[1 2 3 1 2 3]\n",
            "\n",
            "tile_2 :\n",
            "[[1 2 3 1 2 3]\n",
            " [1 2 3 1 2 3]\n",
            " [1 2 3 1 2 3]]\n",
            "\n",
            "tile_3 :\n",
            "[[4 2 4 2]\n",
            " [5 1 5 1]]\n",
            "\n",
            "tile_4 :\n",
            "[[4 2 4 2 4 2]\n",
            " [5 1 5 1 5 1]\n",
            " [4 2 4 2 4 2]\n",
            " [5 1 5 1 5 1]]\n"
          ]
        }
      ],
      "source": [
        "arr_1d_15 = np.array([1, 2, 3])\n",
        "arr_2d_13 = np.array([[4, 2], [5, 1]])\n",
        "\n",
        "# tile\n",
        "tile_1 = np.tile(arr_1d_15, reps=2)\n",
        "tile_2 = np.tile(arr_1d_15, (3, 2))\n",
        "tile_3 = np.tile(arr_2d_13, 2)\n",
        "tile_4 = np.tile(arr_2d_13, (2, 3))\n",
        "\n",
        "# log\n",
        "print(f\"tile_1 :\\n{tile_1}\", end='\\n\\n')\n",
        "print(f\"tile_2 :\\n{tile_2}\", end='\\n\\n')\n",
        "print(f\"tile_3 :\\n{tile_3}\", end='\\n\\n')\n",
        "print(f\"tile_4 :\\n{tile_4}\")"
      ]
    },
    {
      "cell_type": "markdown",
      "metadata": {},
      "source": [
        "## numpy.repeat\n",
        "Repeats elements of an array along a specified axis.\n",
        "```python\n",
        "numpy.repeat(a, repeats, axis)\n",
        "```\n",
        "Doc:\n",
        "   - [numpy.org/doc/stable/reference/generated/numpy.repeat.html#numpy.repeat](https://numpy.org/doc/stable/reference/generated/numpy.repeat.html#numpy.repeat)"
      ]
    },
    {
      "cell_type": "code",
      "execution_count": 33,
      "metadata": {},
      "outputs": [
        {
          "name": "stdout",
          "output_type": "stream",
          "text": [
            "repeat_1 :\n",
            "[1 1 2 2 3 3]\n",
            "\n",
            "repeat_2 :\n",
            "[4 4 2 2 5 5 1 1]\n",
            "\n",
            "repeat_3 :\n",
            "[[4 2]\n",
            " [4 2]\n",
            " [5 1]\n",
            " [5 1]]\n",
            "\n",
            "repeat_4 :\n",
            "[[4 4 4 2 2 2]\n",
            " [5 5 5 1 1 1]]\n"
          ]
        }
      ],
      "source": [
        "arr_1d_16 = np.array([1, 2, 3])\n",
        "arr_2d_13 = np.array([[4, 2], [5, 1]])\n",
        "\n",
        "# repeat\n",
        "repeat_1 = np.repeat(arr_1d_16, repeats=2)\n",
        "repeat_2 = np.repeat(arr_2d_13, 2)\n",
        "repeat_3 = np.repeat(arr_2d_13, 2, axis=0)\n",
        "repeat_4 = np.repeat(arr_2d_13, 3, axis=1)\n",
        "\n",
        "# log\n",
        "print(f\"repeat_1 :\\n{repeat_1}\", end='\\n\\n')\n",
        "print(f\"repeat_2 :\\n{repeat_2}\", end='\\n\\n')\n",
        "print(f\"repeat_3 :\\n{repeat_3}\", end='\\n\\n')\n",
        "print(f\"repeat_4 :\\n{repeat_4}\")"
      ]
    }
  ],
  "metadata": {
    "kernelspec": {
      "display_name": "Python 3",
      "language": "python",
      "name": "python3"
    },
    "language_info": {
      "codemirror_mode": {
        "name": "ipython",
        "version": 3
      },
      "file_extension": ".py",
      "mimetype": "text/x-python",
      "name": "python",
      "nbconvert_exporter": "python",
      "pygments_lexer": "ipython3",
      "version": "3.12.3"
    },
    "author_name": "Amirhossein Heydari",
    "author_email": "AmirhosseinHeydari78@gmail.com",
    "author_github": "https://github.com/mr-pylin",
    "origin_repo": "https://github.com/mr-pylin/numpy-workshop"
  },
  "nbformat": 4,
  "nbformat_minor": 2
}