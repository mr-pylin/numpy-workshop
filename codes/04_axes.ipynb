{
 "cells": [
  {
   "cell_type": "markdown",
   "metadata": {},
   "source": [
    "# Dependencies"
   ]
  },
  {
   "cell_type": "code",
   "execution_count": 1,
   "metadata": {},
   "outputs": [],
   "source": [
    "import numpy as np"
   ]
  },
  {
   "cell_type": "markdown",
   "metadata": {},
   "source": [
    "# NumPy - Axes\n",
    "Doc:\n",
    "   - [numpy.org/doc/stable/glossary.html#term-axis](https://numpy.org/doc/stable/glossary.html#term-axis)"
   ]
  },
  {
   "cell_type": "markdown",
   "metadata": {},
   "source": [
    "## 1-dimensional array"
   ]
  },
  {
   "cell_type": "code",
   "execution_count": 2,
   "metadata": {},
   "outputs": [
    {
     "name": "stdout",
     "output_type": "stream",
     "text": [
      "arr_1d_1.shape : (8,)\n",
      "arr_1d_1.ndim  : 1\n"
     ]
    }
   ],
   "source": [
    "# The 1st axis has 8 elements\n",
    "arr_1d_1 = np.array([15, 13, 20, 19, 0, 11, 18, 15])\n",
    "\n",
    "# log\n",
    "print(f\"arr_1d_1.shape : {arr_1d_1.shape}\")\n",
    "print(f\"arr_1d_1.ndim  : {arr_1d_1.ndim}\")"
   ]
  },
  {
   "cell_type": "code",
   "execution_count": 3,
   "metadata": {},
   "outputs": [
    {
     "name": "stdout",
     "output_type": "stream",
     "text": [
      "arr_1d_2.shape : (8,)\n",
      "arr_1d_2.ndim  : 1\n"
     ]
    }
   ],
   "source": [
    "# The 1st axis has 8 elements\n",
    "arr_1d_2 = np.array(\n",
    "    [\n",
    "        15, 13, 20, 19, 0, 11, 18, 15\n",
    "    ]\n",
    ")\n",
    "\n",
    "# log\n",
    "print(f\"arr_1d_2.shape : {arr_1d_2.shape}\")\n",
    "print(f\"arr_1d_2.ndim  : {arr_1d_2.ndim}\")"
   ]
  },
  {
   "cell_type": "markdown",
   "metadata": {},
   "source": [
    "## 2-dimensional array"
   ]
  },
  {
   "cell_type": "code",
   "execution_count": 4,
   "metadata": {},
   "outputs": [
    {
     "name": "stdout",
     "output_type": "stream",
     "text": [
      "arr_2d_1.shape : (3, 4)\n",
      "arr_2d_1.ndim  : 2\n"
     ]
    }
   ],
   "source": [
    "# The 1st axis has 3 elements\n",
    "# The 2nd axis has 4 elements\n",
    "arr_2d_1 = np.array([[1, 2, 3, 4], [5, 6, 7, 8], [9, 10, 11, 12]])\n",
    "\n",
    "# log\n",
    "print(f\"arr_2d_1.shape : {arr_2d_1.shape}\")\n",
    "print(f\"arr_2d_1.ndim  : {arr_2d_1.ndim}\")"
   ]
  },
  {
   "cell_type": "code",
   "execution_count": 5,
   "metadata": {},
   "outputs": [
    {
     "name": "stdout",
     "output_type": "stream",
     "text": [
      "arr_2d_2.shape : (3, 4)\n",
      "arr_2d_2.ndim  : 2\n"
     ]
    }
   ],
   "source": [
    "# The 1st axis has 3 elements\n",
    "# The 2nd axis has 4 elements\n",
    "arr_2d_2 = np.array(\n",
    "    [\n",
    "        [1, 2, 3, 4],\n",
    "        [5, 6, 7, 8],\n",
    "        [9, 10, 11, 12]\n",
    "    ]\n",
    ")\n",
    "\n",
    "# log\n",
    "print(f\"arr_2d_2.shape : {arr_2d_2.shape}\")\n",
    "print(f\"arr_2d_2.ndim  : {arr_2d_2.ndim}\")"
   ]
  },
  {
   "cell_type": "markdown",
   "metadata": {},
   "source": [
    "## 3-dimensional array"
   ]
  },
  {
   "cell_type": "code",
   "execution_count": 6,
   "metadata": {},
   "outputs": [
    {
     "name": "stdout",
     "output_type": "stream",
     "text": [
      "arr_3d_1.shape : (2, 2, 3)\n",
      "arr_3d_1.ndim  : 3\n"
     ]
    }
   ],
   "source": [
    "# The 1st axis has 2 elements\n",
    "# The 2nd axis has 2 elements\n",
    "# The 3rd axis has 3 elements\n",
    "arr_3d_1 = np.array([[[255, 129, 255], [249, 230, 115]], [[255, 79, 79], [104, 203, 248]]])\n",
    "\n",
    "# log\n",
    "print(f\"arr_3d_1.shape : {arr_3d_1.shape}\")\n",
    "print(f\"arr_3d_1.ndim  : {arr_3d_1.ndim}\")"
   ]
  },
  {
   "cell_type": "code",
   "execution_count": 7,
   "metadata": {},
   "outputs": [
    {
     "name": "stdout",
     "output_type": "stream",
     "text": [
      "arr_3d_2.shape : (2, 2, 3)\n",
      "arr_3d_2.ndim  : 3\n"
     ]
    }
   ],
   "source": [
    "# The 1st axis has 2 elements\n",
    "# The 2nd axis has 2 elements\n",
    "# The 3rd axis has 3 elements\n",
    "arr_3d_2 = np.array(\n",
    "    [\n",
    "        [\n",
    "            [255, 129, 255],\n",
    "            [249, 230, 115]\n",
    "        ],\n",
    "        [\n",
    "            [255, 79, 79],\n",
    "            [104, 203, 248]\n",
    "        ]\n",
    "    ]\n",
    ")\n",
    "\n",
    "# log\n",
    "print(f\"arr_3d_2.shape : {arr_3d_2.shape}\")\n",
    "print(f\"arr_3d_2.ndim  : {arr_3d_2.ndim}\")"
   ]
  },
  {
   "cell_type": "markdown",
   "metadata": {},
   "source": [
    "## 4-dimensional array"
   ]
  },
  {
   "cell_type": "code",
   "execution_count": 8,
   "metadata": {},
   "outputs": [
    {
     "name": "stdout",
     "output_type": "stream",
     "text": [
      "arr_4d_1.shape : (2, 2, 2, 2)\n",
      "arr_4d_1.ndim  : 4\n"
     ]
    }
   ],
   "source": [
    "# The 1st axis has 2 elements\n",
    "# The 2nd axis has 2 elements\n",
    "# The 3rd axis has 2 elements\n",
    "# The 4th axis has 2 elements\n",
    "arr_4d_1 = np.array([[[[1, 2], [3, 4]], [[5, 6], [7, 8]]], [[[9, 10], [11, 12]], [[13, 14], [15, 16]]]])\n",
    "\n",
    "# log\n",
    "print(f\"arr_4d_1.shape : {arr_4d_1.shape}\")\n",
    "print(f\"arr_4d_1.ndim  : {arr_4d_1.ndim}\")"
   ]
  },
  {
   "cell_type": "code",
   "execution_count": 9,
   "metadata": {},
   "outputs": [
    {
     "name": "stdout",
     "output_type": "stream",
     "text": [
      "arr_4d_2.shape : (2, 2, 2, 2)\n",
      "arr_4d_2.ndim  : 4\n"
     ]
    }
   ],
   "source": [
    "# The 1st axis has 2 elements\n",
    "# The 2nd axis has 2 elements\n",
    "# The 3rd axis has 2 elements\n",
    "# The 4th axis has 2 elements\n",
    "arr_4d_2 = np.array(\n",
    "    [\n",
    "        [\n",
    "            [\n",
    "                [1, 2],\n",
    "                [3, 4]\n",
    "            ],\n",
    "            [\n",
    "                [5, 6],\n",
    "                [7, 8]\n",
    "            ]\n",
    "        ],\n",
    "        [\n",
    "            [\n",
    "                [9, 10],\n",
    "                [11, 12]\n",
    "            ],\n",
    "            [\n",
    "                [13, 14],\n",
    "                [15, 16]\n",
    "            ]\n",
    "        ]\n",
    "    ]\n",
    ")\n",
    "\n",
    "# log\n",
    "print(f\"arr_4d_2.shape : {arr_4d_2.shape}\")\n",
    "print(f\"arr_4d_2.ndim  : {arr_4d_2.ndim}\")"
   ]
  },
  {
   "cell_type": "markdown",
   "metadata": {},
   "source": [
    "## Operations on different axes"
   ]
  },
  {
   "cell_type": "code",
   "execution_count": 10,
   "metadata": {},
   "outputs": [
    {
     "name": "stdout",
     "output_type": "stream",
     "text": [
      "arr_3d_3.sum():\n",
      "2201\n",
      "\n",
      "arr_3d_3.sum(axis=0):\n",
      "[[510 208 334]\n",
      " [353 433 363]]\n",
      "\n",
      "arr_3d_3.sum(axis=1):\n",
      "[[504 359 370]\n",
      " [359 282 327]]\n",
      "\n",
      "arr_3d_3.sum(axis=2):\n",
      "[[639 594]\n",
      " [413 555]]\n"
     ]
    }
   ],
   "source": [
    "arr_3d_3 = np.array([[[255, 129, 255], [249, 230, 115]], [[255, 79, 79], [104, 203, 248]]])\n",
    "\n",
    "# np.array(\n",
    "#     [\n",
    "#         [\n",
    "#             [255, 129, 255],\n",
    "#             [249, 230, 115]\n",
    "#         ],\n",
    "#         [\n",
    "#             [255, 79, 79],\n",
    "#             [104, 203, 248]\n",
    "#         ]\n",
    "#     ]\n",
    "# )\n",
    "\n",
    "# sum\n",
    "sres_1 = arr_3d_3.sum()  # arr_3d_3.sum(axis=None)\n",
    "sres_2 = arr_3d_3.sum(axis=0)\n",
    "sres_3 = arr_3d_3.sum(axis=1)\n",
    "sres_4 = arr_3d_3.sum(axis=2)\n",
    "\n",
    "# log\n",
    "print(f\"arr_3d_3.sum():\\n{sres_1}\", end='\\n\\n')\n",
    "print(f\"arr_3d_3.sum(axis=0):\\n{sres_2}\", end='\\n\\n')\n",
    "print(f\"arr_3d_3.sum(axis=1):\\n{sres_3}\", end='\\n\\n')\n",
    "print(f\"arr_3d_3.sum(axis=2):\\n{sres_4}\")"
   ]
  }
 ],
 "metadata": {
  "kernelspec": {
   "display_name": "Python 3",
   "language": "python",
   "name": "python3"
  },
  "language_info": {
   "codemirror_mode": {
    "name": "ipython",
    "version": 3
   },
   "file_extension": ".py",
   "mimetype": "text/x-python",
   "name": "python",
   "nbconvert_exporter": "python",
   "pygments_lexer": "ipython3",
   "version": "3.12.3"
  }
 },
 "nbformat": 4,
 "nbformat_minor": 2
}
