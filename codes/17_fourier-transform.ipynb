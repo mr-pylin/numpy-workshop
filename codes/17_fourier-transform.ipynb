{
  "cells": [
    {
      "cell_type": "markdown",
      "metadata": {},
      "source": [
        "\ud83d\udcdd **Author:** Amirhossein Heydari - \ud83d\udce7 **Email:** AmirhosseinHeydari78@gmail.com - \ud83d\udccd **Linktree:** [linktr.ee/mr_pylin](https://linktr.ee/mr_pylin)\n",
        "\n",
        "---"
      ]
    },
    {
      "cell_type": "markdown",
      "metadata": {},
      "source": [
        "# Dependencies"
      ]
    },
    {
      "cell_type": "code",
      "execution_count": 1,
      "metadata": {},
      "outputs": [],
      "source": [
        "import numpy as np"
      ]
    },
    {
      "cell_type": "markdown",
      "metadata": {},
      "source": [
        "# NumPy - Fourier Transform\n",
        "Doc:\n",
        "   - [numpy.org/doc/stable/reference/routines.fft.html](https://numpy.org/doc/stable/reference/routines.fft.html)"
      ]
    },
    {
      "cell_type": "markdown",
      "metadata": {},
      "source": [
        "## Standard FFTs"
      ]
    },
    {
      "cell_type": "code",
      "execution_count": 2,
      "metadata": {},
      "outputs": [
        {
          "name": "stdout",
          "output_type": "stream",
          "text": [
            "arr_1d_1    : [1 2 3]\n",
            "fft_1       : [ 6. +0.j        -1.5+0.8660254j -1.5-0.8660254j]\n",
            "ifft_1      : [1.+0.j 2.+0.j 3.+0.j]\n",
            "construct_1 : [1 2 3]\n"
          ]
        }
      ],
      "source": [
        "arr_1d_1 = np.array([1, 2, 3])\n",
        "\n",
        "# discrete fast-fourier [forward] transform [1D]\n",
        "fft_1 = np.fft.fft(arr_1d_1)\n",
        "\n",
        "# discrete fast-fourier [backward] transform [1D]\n",
        "ifft_1 = np.fft.ifft(fft_1)\n",
        "\n",
        "# clip the output\n",
        "construct_1 = ifft_1.real.clip(min=1, max=3).astype(np.int64)\n",
        "\n",
        "# log\n",
        "print(f\"arr_1d_1    : {arr_1d_1}\")\n",
        "print(f\"fft_1       : {fft_1}\")\n",
        "print(f\"ifft_1      : {ifft_1}\")\n",
        "print(f\"construct_1 : {construct_1}\")"
      ]
    },
    {
      "cell_type": "code",
      "execution_count": 3,
      "metadata": {},
      "outputs": [
        {
          "name": "stdout",
          "output_type": "stream",
          "text": [
            "arr_2d_1 :\n",
            "[[1 2]\n",
            " [3 4]]\n",
            "\n",
            "fft2_1 :\n",
            "[[10.+0.j -2.+0.j]\n",
            " [-4.+0.j  0.+0.j]]\n",
            "\n",
            "ifft2_1 :\n",
            "[[1.+0.j 2.+0.j]\n",
            " [3.+0.j 4.+0.j]]\n",
            "\n",
            "construct_2 :\n",
            "[[1 2]\n",
            " [3 4]]\n"
          ]
        }
      ],
      "source": [
        "arr_2d_1 = np.array([[1, 2], [3, 4]])\n",
        "\n",
        "# discrete fast-fourier [forward] transform [2D]\n",
        "fft2_1 = np.fft.fft2(arr_2d_1)\n",
        "\n",
        "# discrete fast-fourier [backward] transform [2D]\n",
        "ifft2_1 = np.fft.ifft2(fft2_1)\n",
        "\n",
        "# clip the output\n",
        "construct_2 = ifft2_1.real.clip(min=1, max=4).astype(np.int64)\n",
        "\n",
        "# log\n",
        "print(f\"arr_2d_1 :\\n{arr_2d_1}\\n\")\n",
        "print(f\"fft2_1 :\\n{fft2_1}\\n\")\n",
        "print(f\"ifft2_1 :\\n{ifft2_1}\\n\")\n",
        "print(f\"construct_2 :\\n{construct_2}\")"
      ]
    },
    {
      "cell_type": "code",
      "execution_count": 4,
      "metadata": {},
      "outputs": [
        {
          "data": {
            "text/plain": [
              "<function ifftn at 0x0000028E7FB62BB0>"
            ]
          },
          "execution_count": 4,
          "metadata": {},
          "output_type": "execute_result"
        }
      ],
      "source": [
        "# discrete fast-fourier [forward] transform [ND]\n",
        "np.fft.fftn\n",
        "\n",
        "# discrete fast-fourier [backward] transform [ND]\n",
        "np.fft.ifftn"
      ]
    },
    {
      "cell_type": "markdown",
      "metadata": {},
      "source": [
        "## Real FFTs\n",
        "   - Compute the discrete Fourier Transform for real input"
      ]
    },
    {
      "cell_type": "code",
      "execution_count": 5,
      "metadata": {},
      "outputs": [
        {
          "data": {
            "text/plain": [
              "<function irfftn at 0x0000028E7FB63430>"
            ]
          },
          "execution_count": 5,
          "metadata": {},
          "output_type": "execute_result"
        }
      ],
      "source": [
        "# discrete fast-fourier transform [1D]\n",
        "np.fft.rfft\n",
        "np.fft.irfft\n",
        "\n",
        "# discrete fast-fourier transform [2D]\n",
        "np.fft.rfft2\n",
        "np.fft.irfft2\n",
        "\n",
        "# discrete fast-fourier transform [ND]\n",
        "np.fft.rfftn\n",
        "np.fft.irfftn"
      ]
    },
    {
      "cell_type": "markdown",
      "metadata": {},
      "source": [
        "## Helper routines"
      ]
    },
    {
      "cell_type": "code",
      "execution_count": 6,
      "metadata": {},
      "outputs": [
        {
          "data": {
            "text/plain": [
              "<function ifftshift at 0x0000028E7FB63AF0>"
            ]
          },
          "execution_count": 6,
          "metadata": {},
          "output_type": "execute_result"
        }
      ],
      "source": [
        "# shift the zero-frequency component to the center of the spectrum\n",
        "np.fft.fftshift\n",
        "\n",
        "# The inverse of <np.fft.fftshift>\n",
        "np.fft.ifftshift"
      ]
    }
  ],
  "metadata": {
    "kernelspec": {
      "display_name": "Python 3",
      "language": "python",
      "name": "python3"
    },
    "language_info": {
      "codemirror_mode": {
        "name": "ipython",
        "version": 3
      },
      "file_extension": ".py",
      "mimetype": "text/x-python",
      "name": "python",
      "nbconvert_exporter": "python",
      "pygments_lexer": "ipython3",
      "version": "3.12.3"
    },
    "author_name": "Amirhossein Heydari",
    "author_email": "AmirhosseinHeydari78@gmail.com",
    "author_github": "https://github.com/mr-pylin",
    "origin_repo": "https://github.com/mr-pylin/numpy-workshop"
  },
  "nbformat": 4,
  "nbformat_minor": 2
}